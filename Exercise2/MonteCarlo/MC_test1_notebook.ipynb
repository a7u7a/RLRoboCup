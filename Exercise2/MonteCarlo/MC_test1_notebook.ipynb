{
 "cells": [
  {
   "cell_type": "markdown",
   "metadata": {},
   "source": [
    "### Notebook with test implementations for Exercise 2 Montecarlo Control"
   ]
  },
  {
   "cell_type": "markdown",
   "metadata": {},
   "source": [
    "Repo: https://github.com/a7u7a/RLRoboCup"
   ]
  },
  {
   "cell_type": "code",
   "execution_count": 1,
   "metadata": {},
   "outputs": [],
   "source": [
    "from collections import defaultdict\n",
    "import numpy as np"
   ]
  },
  {
   "cell_type": "code",
   "execution_count": null,
   "metadata": {},
   "outputs": [],
   "source": [
    "# dict, where KEY= tuple state, action and VALUE= cumulative reward"
   ]
  },
  {
   "cell_type": "code",
   "execution_count": 732,
   "metadata": {},
   "outputs": [],
   "source": [
    "possibleActions = ['DRIBBLE_UP', 'DRIBBLE_DOWN', 'DRIBBLE_LEFT', 'DRIBBLE_RIGHT', 'KICK']"
   ]
  },
  {
   "cell_type": "code",
   "execution_count": 733,
   "metadata": {},
   "outputs": [
    {
     "data": {
      "text/plain": [
       "'DRIBBLE_LEFT'"
      ]
     },
     "execution_count": 733,
     "metadata": {},
     "output_type": "execute_result"
    }
   ],
   "source": [
    "np.random.choice(possibleActions, 1)[0]"
   ]
  },
  {
   "cell_type": "code",
   "execution_count": 455,
   "metadata": {},
   "outputs": [
    {
     "name": "stdout",
     "output_type": "stream",
     "text": [
      "{(((1, 2), (2, 2)), 'KICK'): [[0]], (((0, 2), (2, 2)), 'DRIBBLE_UP'): [[3, 5, 0, 1, 3, 0]], (((0, 2), (2, 2)), 'DRIBBLE_RIGHT'): [[0, 1, 3, 0]], (((0, 2), (2, 2)), 'DRIBBLE_LEFT'): [[5, 0, 1, 3, 0]], (((0, 3), (2, 2)), 'KICK'): [[0, 3, 5, 0, 1, 3, 0]], (((1, 2), (2, 2)), 'DRIBBLE_DOWN'): [[1, 3, 0]], (((0, 4), (2, 2)), 'KICK'): [[3, 0]]}\n"
     ]
    }
   ],
   "source": [
    "for item in episodeStateActions.keys():\n",
    "  #  print('key: ',item)\n",
    " #   print('value: ',episodeStateActions[item][0])\n",
    "#    print('reward: ',sum(rewards[episodeStateActions[item][0]:]))\n",
    "    # Go to rewards and \n",
    "    if item not in returns.keys():\n",
    "        # add to dict\n",
    "        returns[item] = [rewards[episodeStateActions[item][0]:]]\n",
    "    else:\n",
    "        # append to list in dict entry\n",
    "        returns[item] += [rewards[episodeStateActions[item][0]:]]\n",
    "    \n",
    "print(returns)\n"
   ]
  },
  {
   "cell_type": "code",
   "execution_count": 497,
   "metadata": {},
   "outputs": [
    {
     "name": "stdout",
     "output_type": "stream",
     "text": [
      "{(((1, 2), (2, 2)), 'KICK'): 0.0, (((0, 2), (2, 2)), 'DRIBBLE_UP'): 2.0, (((0, 2), (2, 2)), 'DRIBBLE_RIGHT'): 1.0, (((0, 2), (2, 2)), 'DRIBBLE_LEFT'): 1.8, (((0, 3), (2, 2)), 'KICK'): 1.7142857142857142, (((1, 2), (2, 2)), 'DRIBBLE_DOWN'): 1.3333333333333333, (((0, 4), (2, 2)), 'KICK'): 1.5}\n"
     ]
    }
   ],
   "source": [
    "# test \n",
    "# \n",
    "# use keys in S,A to find first occurrence time(step) index\n",
    "# use index as slicer to average rewards since timestep\n",
    "# then append to Q as entry on dict where KEY= State action pair, VALUE= value\n",
    "\n",
    "Q = {}\n",
    "\n",
    "for item in episodeStateActions.keys():\n",
    "#    print(item)\n",
    "    Q[item] = np.average(rewards[episodeStateActions[item][0]:])\n",
    "    \n",
    "print(Q)\n"
   ]
  },
  {
   "cell_type": "code",
   "execution_count": 564,
   "metadata": {},
   "outputs": [
    {
     "name": "stdout",
     "output_type": "stream",
     "text": [
      "KICK\n"
     ]
    },
    {
     "data": {
      "text/plain": [
       "{(((1, 3), (2, 2)), 'DRIBBLE_DOWN'): 0.0,\n",
       " (((1, 3), (2, 2)), 'DRIBBLE_LEFT'): 0.0,\n",
       " (((1, 3), (2, 2)), 'KICK'): 1.0}"
      ]
     },
     "execution_count": 564,
     "metadata": {},
     "output_type": "execute_result"
    }
   ],
   "source": [
    "import operator\n",
    "\n",
    "# Find action with highest Q value given state\n",
    "\n",
    "Q= {(((1, 2), (2, 2)), 'DRIBBLE_RIGHT'): -0.4, (((0, 2), (2, 2)), 'KICK'): 1.0, (((0, 2), (2, 2)), 'DRIBBLE_DOWN'): 0.0, (((1, 2), (2, 2)), 'DRIBBLE_LEFT'): 0.0, (((0, 4), (2, 2)), 'DRIBBLE_UP'): 0.0, (((1, 4), (2, 2)), 'DRIBBLE_DOWN'): 0.0, (((1, 2), (2, 2)), 'DRIBBLE_DOWN'): 0.0, (((0, 4), (2, 2)), 'DRIBBLE_LEFT'): 0.0, (((0, 2), (2, 2)), 'DRIBBLE_RIGHT'): 0.0, (((1, 1), (2, 2)), 'KICK'): 0.0, (((1, 3), (2, 2)), 'DRIBBLE_DOWN'): 0.0, (((0, 3), (2, 2)), 'DRIBBLE_DOWN'): 0.0, (((0, 5), (2, 2)), 'DRIBBLE_UP'): 0.0, (((1, 1), (2, 2)), 'DRIBBLE_DOWN'): 0.0, (((0, 1), (2, 2)), 'DRIBBLE_RIGHT'): 0.0, (((0, 5), (2, 2)), 'DRIBBLE_LEFT'): 0.0, (((0, 1), (2, 2)), 'DRIBBLE_UP'): 0.0, (((1, 3), (2, 2)), 'KICK'): 1.0, (((0, 3), (2, 2)), 'KICK'): 0.0, (((0, 3), (2, 2)), 'DRIBBLE_RIGHT'): 0.0, (((0, 0), (2, 2)), 'KICK'): 0.0, (((1, 2), (2, 2)), 'KICK'): 0.0, (((0, 0), (2, 2)), 'DRIBBLE_UP'): 0.0, (((1, 3), (2, 2)), 'DRIBBLE_LEFT'): 0.0, (((0, 0), (2, 2)), 'DRIBBLE_DOWN'): 0.0, (((1, 2), (2, 2)), 'DRIBBLE_UP'): 0.0, (((0, 2), (2, 2)), 'DRIBBLE_UP'): 0.0, (((2, 2), (2, 2)), 'DRIBBLE_DOWN'): 0.0, (((0, 4), (2, 2)), 'KICK'): 0.0, (((0, 3), (2, 2)), 'DRIBBLE_UP'): 0.0, (((0, 4), (2, 2)), 'DRIBBLE_DOWN'): 0.0, (((0, 1), (2, 2)), 'KICK'): 0.0, (((0, 5), (2, 2)), 'DRIBBLE_RIGHT'): 0.0, (((1, 5), (2, 2)), 'KICK'): 0.0, (((0, 2), (2, 2)), 'DRIBBLE_LEFT'): 0.0}\n",
    "pair = (((1, 3), (2, 2)), 'KICK')\n",
    "\n",
    "# make subdict 'S' with all same S as in 'pair'\n",
    "S = {}\n",
    "for item in Q:\n",
    "    if item[0] == pair[0]:\n",
    "        S[item] = Q[item]\n",
    "\n",
    "# Get item of max value from dict\n",
    "Action = max(S.items(), key=operator.itemgetter(1))[0][1]\n",
    "print(Action)\n",
    "S\n",
    "# Get only Action, which should be the optimal one\n",
    "#action = stateAction[1]\n",
    "\n"
   ]
  },
  {
   "cell_type": "code",
   "execution_count": 799,
   "metadata": {},
   "outputs": [],
   "source": [
    "Q = {(0,((3, 5), (2, 2)), 'DRIBBLE_UP'): 0.03221830985915493, (1,((1, 0), (2, 2)), 'DRIBBLE_LEFT'): 0.024875621890547265, (2,((1, 1), (2, 2)), 'DRIBBLE_RIGHT'): 0.032416208104052026, (3,((3, 1), (2, 2)), 'KICK'): 0.03391203703703704, (4,((4, 3), (2, 2)), 'KICK'): 1.0, (5,((3, 5), (2, 2)), 'DRIBBLE_SOUTH'): 0.04221830985915493,(5,((3, 5), (2, 2)), 'DRIBBLE_east'): 0.07721830985915493}"
   ]
  },
  {
   "cell_type": "code",
   "execution_count": 800,
   "metadata": {},
   "outputs": [
    {
     "data": {
      "text/plain": [
       "{(0, ((3, 5), (2, 2)), 'DRIBBLE_UP'): 0.03221830985915493,\n",
       " (1, ((1, 0), (2, 2)), 'DRIBBLE_LEFT'): 0.024875621890547265,\n",
       " (2, ((1, 1), (2, 2)), 'DRIBBLE_RIGHT'): 0.032416208104052026,\n",
       " (3, ((3, 1), (2, 2)), 'KICK'): 0.03391203703703704,\n",
       " (4, ((4, 3), (2, 2)), 'KICK'): 1.0,\n",
       " (5, ((3, 5), (2, 2)), 'DRIBBLE_SOUTH'): 0.04221830985915493,\n",
       " (5, ((3, 5), (2, 2)), 'DRIBBLE_east'): 0.07721830985915493}"
      ]
     },
     "execution_count": 800,
     "metadata": {},
     "output_type": "execute_result"
    }
   ],
   "source": [
    "Q"
   ]
  },
  {
   "cell_type": "code",
   "execution_count": 805,
   "metadata": {},
   "outputs": [],
   "source": [
    "pair = (5, ((3, 5), (2, 2)), 'DRIBBLE_UP')"
   ]
  },
  {
   "cell_type": "code",
   "execution_count": 806,
   "metadata": {},
   "outputs": [
    {
     "data": {
      "text/plain": [
       "(5, ((3, 5), (2, 2)))"
      ]
     },
     "execution_count": 806,
     "metadata": {},
     "output_type": "execute_result"
    }
   ],
   "source": [
    "pair[0:2]"
   ]
  },
  {
   "cell_type": "code",
   "execution_count": 807,
   "metadata": {},
   "outputs": [],
   "source": [
    "# timeStep, state, action, value\n",
    "# find all entries with same timestep and state as current pair\n",
    "# for every item in Q:\n",
    "# if item timestep, state == \n",
    "\n",
    "S = defaultdict(float)\n",
    "for item in Q:\n",
    "    if item[0:2] == pair[0:2]:\n",
    "        S[item] = Q[item]"
   ]
  },
  {
   "cell_type": "code",
   "execution_count": 974,
   "metadata": {},
   "outputs": [],
   "source": [
    "Q = {(4, ((1, 0), (2, 2)), 'DRIBBLE_UP'): 0.0, (3, ((0, 3), (2, 2)), 'DRIBBLE_LEFT'): 0.0, (6, ((3, 3), (2, 2)), 'DRIBBLE_RIGHT'): 0.0, (5, ((2, 5), (2, 2)), 'DRIBBLE_LEFT'): 0.0, (11, ((0, 0), (2, 2)), 'KICK'): 0.0, (3, ((0, 4), (2, 2)), 'DRIBBLE_LEFT'): 0.0, (16, ((0, 1), (2, 2)), 'KICK'): 0.0, (15, ((2, 0), (2, 2)), 'DRIBBLE_RIGHT'): 0.0, (4, ((1, 5), (2, 2)), 'KICK'): 0.0, (1, ((0, 2), (2, 2)), 'DRIBBLE_LEFT'): 0.0, (5, ((0, 5), (2, 2)), 'KICK'): 0.0, (2, ((0, 0), (2, 2)), 'DRIBBLE_UP'): 0.0, (2, ((1, 1), (2, 2)), 'DRIBBLE_LEFT'): 0.0, (13, ((2, 3), (2, 2)), 'DRIBBLE_DOWN'): 0.0, (9, ((4, 4), (2, 2)), 'DRIBBLE_UP'): 0.0, (2, ((2, 2), (2, 2)), 'DRIBBLE_DOWN'): 0.0, (17, ((0, 2), (2, 2)), 'DRIBBLE_RIGHT'): 0.0, (3, ((2, 1), (2, 2)), 'KICK'): 1.0, (1, ((0, 1), (2, 2)), 'DRIBBLE_LEFT'): 0.0, (23, ((1, 3), (2, 2)), 'DRIBBLE_LEFT'): 0.0, (5, ((1, 2), (2, 2)), 'DRIBBLE_LEFT'): 0.0, (12, ((1, 2), (2, 2)), 'DRIBBLE_UP'): 0.0, (6, ((2, 0), (2, 2)), 'DRIBBLE_LEFT'): 0.0, (3, ((1, 1), (2, 2)), 'KICK'): 0.0, (12, ((2, 2), (2, 2)), 'KICK'): 0.0, (8, ((0, 2), (2, 2)), 'DRIBBLE_RIGHT'): 0.0, (8, ((1, 1), (2, 2)), 'DRIBBLE_UP'): 0.0, (13, ((0, 5), (2, 2)), 'DRIBBLE_LEFT'): 0.0, (8, ((0, 5), (2, 2)), 'KICK'): 1.0, (3, ((1, 4), (2, 2)), 'DRIBBLE_UP'): 0.0, (2, ((1, 3), (2, 2)), 'DRIBBLE_LEFT'): 0.0, (2, ((1, 3), (2, 2)), 'DRIBBLE_DOWN'): 0.0, (6, ((1, 1), (2, 2)), 'DRIBBLE_DOWN'): 0.0, (12, ((4, 4), (2, 2)), 'DRIBBLE_UP'): 0.0, (4, ((0, 4), (2, 2)), 'DRIBBLE_UP'): 0.0, (6, ((1, 3), (2, 2)), 'DRIBBLE_DOWN'): 0.0, (9, ((1, 1), (2, 2)), 'DRIBBLE_LEFT'): 0.0, (14, ((0, 4), (2, 2)), 'DRIBBLE_UP'): 0.0, (5, ((1, 5), (2, 2)), 'KICK'): 0.0, (9, ((0, 0), (2, 2)), 'DRIBBLE_DOWN'): 0.0, (10, ((2, 2), (2, 2)), 'DRIBBLE_UP'): 0.0, (15, ((0, 3), (2, 2)), 'DRIBBLE_UP'): 0.0, (9, ((1, 4), (2, 2)), 'DRIBBLE_RIGHT'): 0.0, (12, ((0, 0), (2, 2)), 'DRIBBLE_LEFT'): 0.0, (5, ((2, 0), (2, 2)), 'DRIBBLE_DOWN'): 0.0, (6, ((2, 4), (2, 2)), 'DRIBBLE_LEFT'): 0.0, (18, ((0, 3), (2, 2)), 'DRIBBLE_LEFT'): 0.0, (6, ((1, 3), (2, 2)), 'DRIBBLE_LEFT'): 0.0, (8, ((0, 3), (2, 2)), 'DRIBBLE_RIGHT'): 0.0, (2, ((0, 4), (2, 2)), 'DRIBBLE_RIGHT'): 0.0, (12, ((0, 4), (2, 2)), 'DRIBBLE_UP'): 0.0, (4, ((1, 0), (2, 2)), 'KICK'): 0.0, (5, ((2, 1), (2, 2)), 'DRIBBLE_DOWN'): -0.4, (9, ((0, 2), (2, 2)), 'KICK'): 0.0, (13, ((0, 0), (2, 2)), 'KICK'): 0.0, (4, ((3, 3), (2, 2)), 'DRIBBLE_RIGHT'): 0.0, (15, ((0, 0), (2, 2)), 'KICK'): 0.0, (10, ((3, 0), (2, 2)), 'KICK'): 0.5, (7, ((0, 5), (2, 2)), 'DRIBBLE_DOWN'): 0.0, (9, ((0, 1), (2, 2)), 'DRIBBLE_RIGHT'): 0.0, (7, ((1, 2), (2, 2)), 'DRIBBLE_LEFT'): 0.0, (5, ((1, 1), (2, 2)), 'DRIBBLE_UP'): 0.0, (7, ((2, 1), (2, 2)), 'DRIBBLE_DOWN'): -0.4, (3, ((0, 1), (2, 2)), 'DRIBBLE_LEFT'): 0.0, (8, ((0, 4), (2, 2)), 'DRIBBLE_LEFT'): 0.0, (6, ((1, 1), (2, 2)), 'DRIBBLE_UP'): 0.0, (2, ((0, 4), (2, 2)), 'DRIBBLE_LEFT'): 0.0, (2, ((0, 4), (2, 2)), 'DRIBBLE_DOWN'): 0.0, (6, ((0, 1), (2, 2)), 'KICK'): 0.0, (6, ((4, 1), (2, 2)), 'DRIBBLE_DOWN'): 0.0, (12, ((1, 3), (2, 2)), 'DRIBBLE_LEFT'): 0.0, (8, ((0, 0), (2, 2)), 'DRIBBLE_UP'): 0.0, (10, ((0, 2), (2, 2)), 'DRIBBLE_LEFT'): 0.0, (7, ((1, 4), (2, 2)), 'DRIBBLE_LEFT'): 0.0, (13, ((0, 0), (2, 2)), 'DRIBBLE_UP'): 0.0, (10, ((1, 1), (2, 2)), 'DRIBBLE_LEFT'): 0.0, (12, ((1, 0), (2, 2)), 'DRIBBLE_LEFT'): 0.0, (4, ((0, 3), (2, 2)), 'KICK'): 0.0, (8, ((1, 5), (2, 2)), 'DRIBBLE_RIGHT'): 0.0, (6, ((3, 1), (2, 2)), 'DRIBBLE_LEFT'): 0.0, (1, ((0, 1), (2, 2)), 'DRIBBLE_RIGHT'): 0.0, (15, ((2, 1), (2, 2)), 'KICK'): 0.0, (20, ((1, 2), (2, 2)), 'DRIBBLE_LEFT'): 0.0, (4, ((1, 3), (2, 2)), 'KICK'): 0.3333333333333333, (4, ((2, 2), (2, 2)), 'DRIBBLE_UP'): 0.0, (3, ((1, 0), (2, 2)), 'DRIBBLE_UP'): 0.0, (6, ((1, 1), (2, 2)), 'KICK'): 0.0, (4, ((2, 4), (2, 2)), 'DRIBBLE_RIGHT'): 0.0, (4, ((3, 1), (2, 2)), 'DRIBBLE_LEFT'): 0.0, (3, ((3, 2), (2, 2)), 'DRIBBLE_UP'): 0.0, (7, ((1, 5), (2, 2)), 'DRIBBLE_RIGHT'): 0.0, (3, ((1, 3), (2, 2)), 'DRIBBLE_DOWN'): 0.0, (3, ((0, 3), (2, 2)), 'KICK'): 0.2, (10, ((0, 4), (2, 2)), 'DRIBBLE_UP'): 0.0, (2, ((0, 2), (2, 2)), 'KICK'): 0.19444444444444445, (7, ((0, 4), (2, 2)), 'DRIBBLE_DOWN'): 0.0, (4, ((0, 2), (2, 2)), 'DRIBBLE_DOWN'): 0.0, (6, ((1, 2), (2, 2)), 'DRIBBLE_LEFT'): 0.0, (8, ((4, 4), (2, 2)), 'DRIBBLE_RIGHT'): 0.0, (9, ((0, 0), (2, 2)), 'DRIBBLE_UP'): 0.0, (3, ((0, 2), (2, 2)), 'KICK'): 0.0, (0, ((0, 2), (2, 2)), 'DRIBBLE_RIGHT'): 0.0, (13, ((0, 3), (2, 2)), 'DRIBBLE_LEFT'): 0.0, (6, ((2, 2), (2, 2)), 'DRIBBLE_DOWN'): 0.0, (4, ((0, 3), (2, 2)), 'DRIBBLE_RIGHT'): 0.0, (2, ((2, 2), (2, 2)), 'DRIBBLE_RIGHT'): 0.0, (5, ((2, 0), (2, 2)), 'KICK'): 0.3333333333333333, (2, ((0, 0), (2, 2)), 'KICK'): 0.0, (12, ((0, 4), (2, 2)), 'DRIBBLE_DOWN'): 0.0, (4, ((0, 0), (2, 2)), 'KICK'): 0.0, (11, ((0, 0), (2, 2)), 'DRIBBLE_DOWN'): 0.0, (10, ((1, 5), (2, 2)), 'DRIBBLE_RIGHT'): 0.0, (4, ((1, 4), (2, 2)), 'KICK'): 0.0, (6, ((2, 1), (2, 2)), 'KICK'): 0.0, (2, ((0, 3), (2, 2)), 'DRIBBLE_LEFT'): 0.0, (2, ((2, 2), (2, 2)), 'DRIBBLE_LEFT'): 0.0, (2, ((0, 2), (2, 2)), 'DRIBBLE_LEFT'): 0.0, (4, ((1, 1), (2, 2)), 'DRIBBLE_LEFT'): 0.0, (15, ((0, 4), (2, 2)), 'KICK'): 0.0, (3, ((0, 1), (2, 2)), 'KICK'): 0.0, (10, ((2, 4), (2, 2)), 'DRIBBLE_UP'): 0.0, (7, ((4, 3), (2, 2)), 'DRIBBLE_DOWN'): 0.0, (9, ((0, 1), (2, 2)), 'DRIBBLE_LEFT'): 0.0, (9, ((0, 3), (2, 2)), 'KICK'): 0.0, (8, ((1, 0), (2, 2)), 'DRIBBLE_RIGHT'): 0.0, (10, ((0, 1), (2, 2)), 'DRIBBLE_UP'): 0.0, (3, ((1, 1), (2, 2)), 'DRIBBLE_DOWN'): 0.0, (18, ((4, 1), (2, 2)), 'DRIBBLE_DOWN'): 0.0, (8, ((0, 1), (2, 2)), 'DRIBBLE_UP'): 0.0, (3, ((1, 1), (2, 2)), 'DRIBBLE_UP'): 0.0, (5, ((0, 4), (2, 2)), 'DRIBBLE_LEFT'): 0.0, (2, ((0, 1), (2, 2)), 'DRIBBLE_DOWN'): 0.0, (8, ((2, 3), (2, 2)), 'DRIBBLE_DOWN'): 0.0, (0, ((0, 2), (2, 2)), 'DRIBBLE_LEFT'): 0.0, (6, ((0, 0), (2, 2)), 'DRIBBLE_UP'): 0.0, (3, ((0, 1), (2, 2)), 'DRIBBLE_DOWN'): 0.0, (6, ((2, 0), (2, 2)), 'DRIBBLE_DOWN'): 0.0, (2, ((0, 1), (2, 2)), 'DRIBBLE_UP'): 0.0, (11, ((1, 1), (2, 2)), 'DRIBBLE_DOWN'): 0.0, (5, ((2, 1), (2, 2)), 'DRIBBLE_UP'): 0.0, (3, ((0, 0), (2, 2)), 'DRIBBLE_LEFT'): 0.0, (4, ((2, 1), (2, 2)), 'DRIBBLE_UP'): 0.0, (7, ((0, 1), (2, 2)), 'DRIBBLE_UP'): 0.0, (11, ((0, 3), (2, 2)), 'DRIBBLE_RIGHT'): 0.0, (3, ((1, 2), (2, 2)), 'DRIBBLE_LEFT'): 0.0, (3, ((1, 2), (2, 2)), 'DRIBBLE_DOWN'): 0.0, (1, ((0, 3), (2, 2)), 'DRIBBLE_LEFT'): 0.0, (8, ((2, 4), (2, 2)), 'DRIBBLE_DOWN'): 0.0, (24, ((0, 4), (2, 2)), 'DRIBBLE_UP'): 0.0, (6, ((0, 4), (2, 2)), 'DRIBBLE_LEFT'): 0.0, (4, ((2, 4), (2, 2)), 'DRIBBLE_DOWN'): 0.0, (6, ((3, 3), (2, 2)), 'DRIBBLE_UP'): 0.0, (12, ((2, 4), (2, 2)), 'DRIBBLE_UP'): 0.0, (4, ((1, 2), (2, 2)), 'DRIBBLE_DOWN'): 0.0, (7, ((1, 3), (2, 2)), 'KICK'): 1.0, (10, ((2, 2), (2, 2)), 'KICK'): 1.0, (13, ((4, 3), (2, 2)), 'DRIBBLE_UP'): 0.0, (8, ((0, 3), (2, 2)), 'KICK'): 0.3333333333333333, (6, ((0, 4), (2, 2)), 'DRIBBLE_DOWN'): 0.0, (4, ((1, 2), (2, 2)), 'DRIBBLE_UP'): -0.2, (21, ((0, 2), (2, 2)), 'DRIBBLE_DOWN'): 0.0, (9, ((0, 5), (2, 2)), 'DRIBBLE_RIGHT'): 0.0, (9, ((0, 2), (2, 2)), 'DRIBBLE_RIGHT'): 0.0, (6, ((3, 5), (2, 2)), 'DRIBBLE_LEFT'): 0.0, (2, ((0, 1), (2, 2)), 'DRIBBLE_LEFT'): 0.0, (4, ((3, 1), (2, 2)), 'DRIBBLE_RIGHT'): 0.0, (2, ((1, 2), (2, 2)), 'DRIBBLE_LEFT'): -0.13333333333333333, (3, ((1, 2), (2, 2)), 'DRIBBLE_RIGHT'): -0.4000000000000001, (2, ((1, 2), (2, 2)), 'DRIBBLE_DOWN'): 0.0, (7, ((2, 1), (2, 2)), 'KICK'): 0.0, (8, ((2, 1), (2, 2)), 'KICK'): 0.0, (5, ((0, 3), (2, 2)), 'DRIBBLE_LEFT'): 0.0, (13, ((0, 0), (2, 2)), 'DRIBBLE_LEFT'): 0.0, (3, ((2, 2), (2, 2)), 'DRIBBLE_LEFT'): 0.0, (12, ((1, 1), (2, 2)), 'KICK'): 0.0, (14, ((2, 2), (2, 2)), 'DRIBBLE_DOWN'): 0.0, (9, ((0, 2), (2, 2)), 'DRIBBLE_LEFT'): 0.0, (11, ((1, 4), (2, 2)), 'DRIBBLE_DOWN'): 0.0, (1, ((0, 1), (2, 2)), 'KICK'): 0.0851063829787234, (14, ((0, 5), (2, 2)), 'KICK'): 0.0, (0, ((0, 2), (2, 2)), 'DRIBBLE_UP'): 0.0, (5, ((0, 0), (2, 2)), 'DRIBBLE_DOWN'): 0.0, (2, ((1, 1), (2, 2)), 'KICK'): 0.1875, (7, ((0, 0), (2, 2)), 'DRIBBLE_DOWN'): 0.0, (5, ((0, 5), (2, 2)), 'DRIBBLE_LEFT'): 0.0, (6, ((0, 1), (2, 2)), 'DRIBBLE_LEFT'): 0.0, (3, ((2, 3), (2, 2)), 'DRIBBLE_RIGHT'): -0.2, (6, ((0, 1), (2, 2)), 'DRIBBLE_DOWN'): 0.0, (2, ((0, 1), (2, 2)), 'DRIBBLE_RIGHT'): 0.0, (7, ((1, 0), (2, 2)), 'DRIBBLE_DOWN'): 0.0, (6, ((0, 3), (2, 2)), 'DRIBBLE_DOWN'): 0.0, (3, ((0, 2), (2, 2)), 'DRIBBLE_RIGHT'): 0.0, (6, ((0, 1), (2, 2)), 'DRIBBLE_UP'): 0.0, (4, ((1, 0), (2, 2)), 'DRIBBLE_RIGHT'): 0.0, (1, ((0, 3), (2, 2)), 'DRIBBLE_RIGHT'): 0.0, (9, ((0, 5), (2, 2)), 'DRIBBLE_LEFT'): 0.0, (4, ((1, 1), (2, 2)), 'DRIBBLE_RIGHT'): 0.0, (2, ((1, 3), (2, 2)), 'KICK'): 0.2696629213483146, (5, ((2, 2), (2, 2)), 'DRIBBLE_DOWN'): 0.0, (25, ((0, 3), (2, 2)), 'DRIBBLE_RIGHT'): 0.0, (4, ((0, 5), (2, 2)), 'KICK'): 0.0, (9, ((0, 4), (2, 2)), 'DRIBBLE_LEFT'): 0.0, (2, ((1, 1), (2, 2)), 'DRIBBLE_RIGHT'): 0.0, (4, ((1, 1), (2, 2)), 'DRIBBLE_UP'): 0.0, (13, ((1, 1), (2, 2)), 'DRIBBLE_UP'): 0.0, (11, ((0, 2), (2, 2)), 'DRIBBLE_DOWN'): 0.0, (8, ((0, 3), (2, 2)), 'DRIBBLE_UP'): 0.0, (3, ((1, 3), (2, 2)), 'KICK'): 0.0, (1, ((1, 2), (2, 2)), 'KICK'): 0.1651376146788991, (8, ((0, 2), (2, 2)), 'DRIBBLE_LEFT'): 0.0, (4, ((0, 2), (2, 2)), 'DRIBBLE_LEFT'): 0.0, (16, ((3, 0), (2, 2)), 'DRIBBLE_RIGHT'): 0.0, (5, ((4, 3), (2, 2)), 'KICK'): 1.0, (11, ((0, 0), (2, 2)), 'DRIBBLE_RIGHT'): 0.0, (6, ((2, 2), (2, 2)), 'KICK'): 0.0, (6, ((1, 0), (2, 2)), 'KICK'): 0.0, (7, ((2, 0), (2, 2)), 'DRIBBLE_LEFT'): 0.0, (13, ((2, 3), (2, 2)), 'DRIBBLE_UP'): -0.4000000000000001, (5, ((2, 5), (2, 2)), 'DRIBBLE_RIGHT'): 0.0, (1, ((0, 2), (2, 2)), 'KICK'): 0.14814814814814814, (7, ((3, 4), (2, 2)), 'DRIBBLE_DOWN'): 0.0, (11, ((0, 4), (2, 2)), 'DRIBBLE_LEFT'): 0.0, (3, ((0, 4), (2, 2)), 'KICK'): 0.0, (9, ((2, 4), (2, 2)), 'KICK'): 1.0, (1, ((1, 2), (2, 2)), 'DRIBBLE_RIGHT'): -0.29473684210526324, (4, ((1, 0), (2, 2)), 'DRIBBLE_LEFT'): 0.0, (16, ((0, 2), (2, 2)), 'KICK'): 0.0, (10, ((0, 1), (2, 2)), 'DRIBBLE_RIGHT'): 0.0, (2, ((0, 3), (2, 2)), 'DRIBBLE_UP'): 0.0, (2, ((0, 0), (2, 2)), 'DRIBBLE_DOWN'): 0.0, (10, ((0, 4), (2, 2)), 'DRIBBLE_LEFT'): 0.0, (8, ((3, 5), (2, 2)), 'DRIBBLE_UP'): 0.0, (6, ((1, 5), (2, 2)), 'DRIBBLE_DOWN'): 0.0, (5, ((1, 4), (2, 2)), 'DRIBBLE_LEFT'): 0.0, (2, ((1, 2), (2, 2)), 'DRIBBLE_UP'): 0.0, (14, ((0, 3), (2, 2)), 'DRIBBLE_DOWN'): 0.0, (5, ((1, 4), (2, 2)), 'DRIBBLE_UP'): 0.0, (8, ((0, 4), (2, 2)), 'DRIBBLE_UP'): 0.0, (3, ((1, 0), (2, 2)), 'DRIBBLE_LEFT'): 0.0, (1, ((0, 1), (2, 2)), 'DRIBBLE_UP'): 0.0, (8, ((2, 2), (2, 2)), 'DRIBBLE_LEFT'): 0.0, (4, ((1, 5), (2, 2)), 'DRIBBLE_LEFT'): 0.0, (11, ((2, 5), (2, 2)), 'DRIBBLE_UP'): 0.0, (1, ((0, 1), (2, 2)), 'DRIBBLE_DOWN'): 0.0, (1, ((0, 2), (2, 2)), 'DRIBBLE_UP'): 0.0, (13, ((1, 1), (2, 2)), 'DRIBBLE_RIGHT'): 0.0, (3, ((0, 5), (2, 2)), 'DRIBBLE_RIGHT'): 0.0, (5, ((0, 2), (2, 2)), 'DRIBBLE_DOWN'): 0.0, (0, ((0, 2), (2, 2)), 'DRIBBLE_DOWN'): 0.0, (5, ((0, 0), (2, 2)), 'KICK'): 0.0, (7, ((2, 3), (2, 2)), 'DRIBBLE_LEFT'): 0.0, (5, ((1, 0), (2, 2)), 'DRIBBLE_DOWN'): 0.0, (5, ((0, 2), (2, 2)), 'DRIBBLE_UP'): 0.0, (10, ((4, 3), (2, 2)), 'DRIBBLE_RIGHT'): 0.0, (3, ((1, 2), (2, 2)), 'DRIBBLE_UP'): 0.0, (14, ((0, 2), (2, 2)), 'DRIBBLE_UP'): 0.0, (2, ((2, 2), (2, 2)), 'DRIBBLE_UP'): 0.0, (4, ((1, 3), (2, 2)), 'DRIBBLE_DOWN'): 0.0, (4, ((0, 1), (2, 2)), 'DRIBBLE_UP'): 0.0, (11, ((0, 5), (2, 2)), 'DRIBBLE_UP'): 0.0, (4, ((2, 3), (2, 2)), 'KICK'): 0.0, (3, ((0, 1), (2, 2)), 'DRIBBLE_RIGHT'): 0.0, (10, ((0, 0), (2, 2)), 'DRIBBLE_UP'): 0.0, (10, ((0, 0), (2, 2)), 'DRIBBLE_DOWN'): 0.0, (11, ((3, 4), (2, 2)), 'DRIBBLE_LEFT'): 0.0, (4, ((1, 2), (2, 2)), 'DRIBBLE_LEFT'): 0.0, (8, ((0, 1), (2, 2)), 'DRIBBLE_LEFT'): 0.0, (3, ((0, 3), (2, 2)), 'DRIBBLE_DOWN'): 0.0, (13, ((1, 4), (2, 2)), 'KICK'): 0.0, (1, ((1, 2), (2, 2)), 'DRIBBLE_UP'): -0.05, (5, ((3, 2), (2, 2)), 'KICK'): 1.0, (11, ((4, 3), (2, 2)), 'DRIBBLE_DOWN'): 0.0, (5, ((1, 1), (2, 2)), 'KICK'): 0.0, (10, ((2, 4), (2, 2)), 'DRIBBLE_DOWN'): 0.0, (3, ((1, 2), (2, 2)), 'KICK'): 0.0, (3, ((1, 0), (2, 2)), 'DRIBBLE_RIGHT'): 0.0, (9, ((1, 0), (2, 2)), 'DRIBBLE_DOWN'): 0.0, (3, ((2, 3), (2, 2)), 'KICK'): 0.0, (5, ((1, 3), (2, 2)), 'KICK'): 0.6666666666666666, (20, ((1, 3), (2, 2)), 'DRIBBLE_DOWN'): 0.0, (11, ((0, 3), (2, 2)), 'DRIBBLE_DOWN'): 0.0, (6, ((0, 4), (2, 2)), 'KICK'): 0.0, (8, ((1, 3), (2, 2)), 'DRIBBLE_UP'): 0.0, (6, ((1, 2), (2, 2)), 'DRIBBLE_UP'): 0.0, (8, ((0, 1), (2, 2)), 'DRIBBLE_DOWN'): 0.0, (5, ((2, 1), (2, 2)), 'DRIBBLE_LEFT'): 0.0, (16, ((3, 3), (2, 2)), 'KICK'): 1.0, (7, ((0, 3), (2, 2)), 'KICK'): 0.0, (8, ((0, 1), (2, 2)), 'DRIBBLE_RIGHT'): 0.0, (9, ((1, 4), (2, 2)), 'DRIBBLE_DOWN'): 0.0, (9, ((2, 0), (2, 2)), 'DRIBBLE_RIGHT'): 0.0, (3, ((2, 1), (2, 2)), 'DRIBBLE_UP'): 0.0, (12, ((3, 3), (2, 2)), 'DRIBBLE_LEFT'): 0.0, (6, ((0, 5), (2, 2)), 'KICK'): 0.0, (6, ((2, 4), (2, 2)), 'DRIBBLE_DOWN'): 0.0, (14, ((2, 1), (2, 2)), 'DRIBBLE_LEFT'): 0.0, (2, ((1, 2), (2, 2)), 'KICK'): 0.0, (21, ((1, 4), (2, 2)), 'DRIBBLE_RIGHT'): 0.0, (5, ((0, 1), (2, 2)), 'DRIBBLE_RIGHT'): 0.0, (2, ((1, 1), (2, 2)), 'DRIBBLE_UP'): 0.0, (11, ((0, 1), (2, 2)), 'DRIBBLE_RIGHT'): 0.0, (4, ((1, 4), (2, 2)), 'DRIBBLE_UP'): 0.0, (11, ((0, 2), (2, 2)), 'KICK'): 0.0, (4, ((0, 4), (2, 2)), 'DRIBBLE_DOWN'): 0.0, (24, ((1, 4), (2, 2)), 'KICK'): 1.0, (4, ((0, 4), (2, 2)), 'DRIBBLE_LEFT'): 0.0, (3, ((0, 0), (2, 2)), 'DRIBBLE_DOWN'): 0.0, (2, ((1, 3), (2, 2)), 'DRIBBLE_RIGHT'): 0.0, (4, ((1, 1), (2, 2)), 'KICK'): 0.0, (17, ((4, 0), (2, 2)), 'DRIBBLE_DOWN'): 0.0, (6, ((1, 0), (2, 2)), 'DRIBBLE_RIGHT'): 0.0, (10, ((1, 2), (2, 2)), 'KICK'): 0.0, (4, ((1, 3), (2, 2)), 'DRIBBLE_RIGHT'): 0.0, (7, ((1, 4), (2, 2)), 'DRIBBLE_UP'): 0.0, (8, ((3, 5), (2, 2)), 'KICK'): 0.0, (6, ((0, 4), (2, 2)), 'DRIBBLE_UP'): 0.0, (16, ((0, 3), (2, 2)), 'DRIBBLE_UP'): 0.0, (0, ((0, 2), (2, 2)), 'KICK'): 0.10640758732361785, (2, ((0, 3), (2, 2)), 'KICK'): 0.17647058823529413, (5, ((1, 0), (2, 2)), 'DRIBBLE_RIGHT'): 0.0, (7, ((1, 1), (2, 2)), 'DRIBBLE_LEFT'): 0.0, (2, ((0, 4), (2, 2)), 'DRIBBLE_UP'): 0.0, (7, ((0, 3), (2, 2)), 'DRIBBLE_UP'): 0.0, (14, ((4, 2), (2, 2)), 'DRIBBLE_DOWN'): 0.0, (8, ((1, 3), (2, 2)), 'DRIBBLE_DOWN'): 0.0, (5, ((2, 3), (2, 2)), 'DRIBBLE_RIGHT'): 0.0, (6, ((0, 3), (2, 2)), 'KICK'): 0.0, (3, ((0, 3), (2, 2)), 'DRIBBLE_RIGHT'): 0.0, (5, ((0, 4), (2, 2)), 'KICK'): 0.0, (3, ((3, 2), (2, 2)), 'KICK'): 1.0, (7, ((1, 4), (2, 2)), 'DRIBBLE_DOWN'): 0.0, (4, ((1, 1), (2, 2)), 'DRIBBLE_DOWN'): 0.0, (12, ((1, 5), (2, 2)), 'DRIBBLE_UP'): 0.0, (9, ((0, 1), (2, 2)), 'KICK'): 0.0, (9, ((1, 2), (2, 2)), 'DRIBBLE_RIGHT'): -0.4, (1, ((0, 3), (2, 2)), 'KICK'): 0.0, (2, ((0, 0), (2, 2)), 'DRIBBLE_RIGHT'): 0.0, (2, ((1, 3), (2, 2)), 'DRIBBLE_UP'): 0.0, (7, ((2, 5), (2, 2)), 'DRIBBLE_RIGHT'): 0.0, (2, ((0, 2), (2, 2)), 'DRIBBLE_UP'): 0.0, (1, ((1, 2), (2, 2)), 'DRIBBLE_DOWN'): -0.03076923076923077, (4, ((0, 0), (2, 2)), 'DRIBBLE_RIGHT'): 0.0, (5, ((1, 1), (2, 2)), 'DRIBBLE_DOWN'): 0.0, (19, ((4, 2), (2, 2)), 'DRIBBLE_RIGHT'): 0.0, (9, ((1, 2), (2, 2)), 'DRIBBLE_LEFT'): 0.0, (10, ((1, 2), (2, 2)), 'DRIBBLE_LEFT'): 0.0, (14, ((0, 3), (2, 2)), 'DRIBBLE_LEFT'): 0.0, (3, ((0, 5), (2, 2)), 'DRIBBLE_DOWN'): 0.0, (3, ((0, 1), (2, 2)), 'DRIBBLE_UP'): 0.0, (5, ((3, 4), (2, 2)), 'DRIBBLE_RIGHT'): 0.0, (1, ((0, 2), (2, 2)), 'DRIBBLE_DOWN'): 0.0, (4, ((0, 0), (2, 2)), 'DRIBBLE_LEFT'): 0.0, (5, ((0, 2), (2, 2)), 'DRIBBLE_RIGHT'): 0.0, (14, ((1, 0), (2, 2)), 'DRIBBLE_RIGHT'): 0.0, (2, ((0, 0), (2, 2)), 'DRIBBLE_LEFT'): 0.0, (2, ((0, 2), (2, 2)), 'DRIBBLE_RIGHT'): 0.0, (15, ((1, 1), (2, 2)), 'DRIBBLE_LEFT'): 0.0, (12, ((3, 5), (2, 2)), 'KICK'): 1.0, (12, ((0, 3), (2, 2)), 'KICK'): 1.0, (17, ((0, 4), (2, 2)), 'DRIBBLE_UP'): 0.0, (18, ((1, 2), (2, 2)), 'DRIBBLE_DOWN'): -0.4, (3, ((1, 0), (2, 2)), 'DRIBBLE_DOWN'): 0.0, (2, ((2, 2), (2, 2)), 'KICK'): 0.2857142857142857, (2, ((1, 1), (2, 2)), 'DRIBBLE_DOWN'): 0.0, (19, ((0, 3), (2, 2)), 'DRIBBLE_DOWN'): 0.0, (19, ((2, 2), (2, 2)), 'DRIBBLE_LEFT'): 0.0, (8, ((1, 1), (2, 2)), 'DRIBBLE_LEFT'): 0.0, (5, ((0, 2), (2, 2)), 'KICK'): 0.0, (6, ((1, 1), (2, 2)), 'DRIBBLE_LEFT'): 0.0, (15, ((0, 3), (2, 2)), 'DRIBBLE_LEFT'): 0.0, (4, ((0, 1), (2, 2)), 'DRIBBLE_DOWN'): 0.0, (6, ((0, 3), (2, 2)), 'DRIBBLE_UP'): 0.0, (22, ((0, 3), (2, 2)), 'DRIBBLE_RIGHT'): 0.0, (20, ((4, 2), (2, 2)), 'KICK'): 1.0, (14, ((2, 4), (2, 2)), 'KICK'): 0.0, (7, ((2, 5), (2, 2)), 'DRIBBLE_UP'): 0.0, (11, ((0, 3), (2, 2)), 'KICK'): 0.0, (4, ((1, 3), (2, 2)), 'DRIBBLE_LEFT'): 0.0, (6, ((1, 2), (2, 2)), 'DRIBBLE_RIGHT'): -0.4, (5, ((1, 2), (2, 2)), 'DRIBBLE_DOWN'): 0.0, (6, ((0, 3), (2, 2)), 'DRIBBLE_LEFT'): 0.0, (5, ((1, 3), (2, 2)), 'DRIBBLE_UP'): 0.0, (5, ((0, 0), (2, 2)), 'DRIBBLE_RIGHT'): 0.0, (3, ((1, 4), (2, 2)), 'DRIBBLE_LEFT'): 0.0, (2, ((0, 3), (2, 2)), 'DRIBBLE_DOWN'): 0.0, (7, ((3, 2), (2, 2)), 'KICK'): 0.5, (11, ((2, 1), (2, 2)), 'DRIBBLE_DOWN'): -0.4, (4, ((0, 1), (2, 2)), 'KICK'): 0.125, (22, ((2, 4), (2, 2)), 'DRIBBLE_LEFT'): 0.0, (7, ((1, 1), (2, 2)), 'KICK'): 0.0, (14, ((0, 0), (2, 2)), 'DRIBBLE_UP'): 0.0, (8, ((2, 4), (2, 2)), 'DRIBBLE_LEFT'): 0.0, (6, ((1, 2), (2, 2)), 'KICK'): 0.0, (1, ((0, 3), (2, 2)), 'DRIBBLE_DOWN'): 0.0, (7, ((2, 2), (2, 2)), 'DRIBBLE_DOWN'): 0.0, (13, ((0, 2), (2, 2)), 'DRIBBLE_LEFT'): 0.0, (2, ((1, 2), (2, 2)), 'DRIBBLE_RIGHT'): -0.4, (5, ((0, 3), (2, 2)), 'DRIBBLE_DOWN'): 0.0, (4, ((1, 0), (2, 2)), 'DRIBBLE_DOWN'): 0.0, (3, ((2, 3), (2, 2)), 'DRIBBLE_DOWN'): 0.0, (4, ((1, 3), (2, 2)), 'DRIBBLE_UP'): 0.0, (5, ((0, 3), (2, 2)), 'DRIBBLE_RIGHT'): 0.0, (10, ((1, 2), (2, 2)), 'DRIBBLE_UP'): 0.0, (3, ((1, 4), (2, 2)), 'DRIBBLE_RIGHT'): 0.0, (3, ((0, 2), (2, 2)), 'DRIBBLE_DOWN'): 0.0, (15, ((2, 3), (2, 2)), 'DRIBBLE_RIGHT'): 0.0, (9, ((0, 5), (2, 2)), 'KICK'): 0.0, (6, ((0, 1), (2, 2)), 'DRIBBLE_RIGHT'): 0.0, (5, ((2, 1), (2, 2)), 'KICK'): 0.3333333333333333, (26, ((1, 3), (2, 2)), 'KICK'): 0.0, (11, ((2, 3), (2, 2)), 'DRIBBLE_LEFT'): 0.0, (7, ((2, 2), (2, 2)), 'DRIBBLE_RIGHT'): 0.0, (3, ((0, 3), (2, 2)), 'DRIBBLE_UP'): 0.0, (3, ((2, 3), (2, 2)), 'DRIBBLE_LEFT'): 0.0, (3, ((1, 1), (2, 2)), 'DRIBBLE_RIGHT'): 0.0, (10, ((0, 2), (2, 2)), 'DRIBBLE_DOWN'): 0.0, (8, ((0, 4), (2, 2)), 'DRIBBLE_DOWN'): 0.0, (10, ((0, 5), (2, 2)), 'DRIBBLE_LEFT'): 0.0, (4, ((0, 2), (2, 2)), 'DRIBBLE_RIGHT'): 0.0, (7, ((0, 2), (2, 2)), 'DRIBBLE_UP'): 0.0, (15, ((4, 3), (2, 2)), 'KICK'): 1.0, (5, ((1, 2), (2, 2)), 'DRIBBLE_UP'): 0.0, (12, ((0, 1), (2, 2)), 'DRIBBLE_UP'): 0.0, (9, ((2, 5), (2, 2)), 'DRIBBLE_UP'): 0.0, (23, ((1, 4), (2, 2)), 'DRIBBLE_LEFT'): 0.0, (5, ((0, 0), (2, 2)), 'DRIBBLE_LEFT'): 0.0, (6, ((2, 3), (2, 2)), 'DRIBBLE_UP'): -0.4, (7, ((1, 4), (2, 2)), 'DRIBBLE_RIGHT'): 0.0, (8, ((2, 5), (2, 2)), 'KICK'): 0.0, (5, ((2, 1), (2, 2)), 'DRIBBLE_RIGHT'): 0.0, (7, ((0, 4), (2, 2)), 'DRIBBLE_UP'): 0.0, (10, ((2, 4), (2, 2)), 'DRIBBLE_LEFT'): 0.0, (4, ((0, 0), (2, 2)), 'DRIBBLE_UP'): 0.0, (2, ((0, 3), (2, 2)), 'DRIBBLE_RIGHT'): 0.0, (9, ((3, 4), (2, 2)), 'DRIBBLE_DOWN'): 0.0, (7, ((4, 2), (2, 2)), 'DRIBBLE_LEFT'): 0.0, (8, ((0, 0), (2, 2)), 'KICK'): 0.3333333333333333, (1, ((0, 3), (2, 2)), 'DRIBBLE_UP'): 0.0, (5, ((0, 5), (2, 2)), 'DRIBBLE_DOWN'): 0.0, (8, ((2, 2), (2, 2)), 'DRIBBLE_RIGHT'): 0.0, (4, ((0, 3), (2, 2)), 'DRIBBLE_LEFT'): 0.0, (9, ((1, 3), (2, 2)), 'DRIBBLE_UP'): 0.0, (2, ((0, 1), (2, 2)), 'KICK'): 0.0, (3, ((0, 0), (2, 2)), 'DRIBBLE_RIGHT'): 0.0, (14, ((2, 2), (2, 2)), 'DRIBBLE_UP'): 0.0, (7, ((0, 0), (2, 2)), 'DRIBBLE_LEFT'): 0.0, (10, ((3, 5), (2, 2)), 'DRIBBLE_UP'): 0.0, (4, ((2, 0), (2, 2)), 'KICK'): 0.3333333333333333, (8, ((3, 2), (2, 2)), 'KICK'): 0.0, (2, ((0, 2), (2, 2)), 'DRIBBLE_DOWN'): 0.0, (7, ((0, 2), (2, 2)), 'DRIBBLE_RIGHT'): 0.0, (4, ((0, 2), (2, 2)), 'KICK'): 0.0, (6, ((0, 2), (2, 2)), 'DRIBBLE_UP'): 0.0, (13, ((1, 4), (2, 2)), 'DRIBBLE_LEFT'): 0.0, (7, ((0, 4), (2, 2)), 'DRIBBLE_LEFT'): 0.0, (16, ((0, 3), (2, 2)), 'DRIBBLE_DOWN'): 0.0, (1, ((1, 2), (2, 2)), 'DRIBBLE_LEFT'): 0.0, (5, ((1, 1), (2, 2)), 'DRIBBLE_LEFT'): 0.0, (9, ((3, 2), (2, 2)), 'DRIBBLE_LEFT'): -0.4, (1, ((0, 2), (2, 2)), 'DRIBBLE_RIGHT'): 0.0, (7, ((0, 2), (2, 2)), 'DRIBBLE_LEFT'): 0.0, (4, ((1, 5), (2, 2)), 'DRIBBLE_RIGHT'): 0.0, (4, ((0, 1), (2, 2)), 'DRIBBLE_RIGHT'): 0.0, (8, ((0, 5), (2, 2)), 'DRIBBLE_DOWN'): 0.0, (7, ((1, 0), (2, 2)), 'DRIBBLE_UP'): 0.0, (5, ((1, 4), (2, 2)), 'DRIBBLE_RIGHT'): 0.0, (3, ((0, 2), (2, 2)), 'DRIBBLE_UP'): 0.0, (4, ((2, 2), (2, 2)), 'DRIBBLE_RIGHT'): 0.0, (5, ((4, 1), (2, 2)), 'DRIBBLE_RIGHT'): 0.0}"
   ]
  },
  {
   "cell_type": "code",
   "execution_count": 975,
   "metadata": {},
   "outputs": [
    {
     "ename": "TypeError",
     "evalue": "'str' object is not callable",
     "output_type": "error",
     "traceback": [
      "\u001b[0;31m---------------------------------------------------------------------------\u001b[0m",
      "\u001b[0;31mTypeError\u001b[0m                                 Traceback (most recent call last)",
      "\u001b[0;32m<ipython-input-975-f44d59964aac>\u001b[0m in \u001b[0;36m<module>\u001b[0;34m()\u001b[0m\n\u001b[0;32m----> 1\u001b[0;31m \u001b[0mmax\u001b[0m\u001b[0;34m(\u001b[0m\u001b[0mQ\u001b[0m\u001b[0;34m.\u001b[0m\u001b[0mitems\u001b[0m\u001b[0;34m(\u001b[0m\u001b[0;34m)\u001b[0m\u001b[0;34m,\u001b[0m \u001b[0mkey\u001b[0m\u001b[0;34m=\u001b[0m\u001b[0moperator\u001b[0m\u001b[0;34m.\u001b[0m\u001b[0mitemgetter\u001b[0m\u001b[0;34m(\u001b[0m\u001b[0;36m1\u001b[0m\u001b[0;34m)\u001b[0m\u001b[0;34m)\u001b[0m\u001b[0;34m[\u001b[0m\u001b[0;36m0\u001b[0m\u001b[0;34m]\u001b[0m\u001b[0;34m[\u001b[0m\u001b[0;36m2\u001b[0m\u001b[0;34m]\u001b[0m\u001b[0;34m\u001b[0m\u001b[0m\n\u001b[0m",
      "\u001b[0;31mTypeError\u001b[0m: 'str' object is not callable"
     ]
    }
   ],
   "source": [
    "max(Q.items(), key=operator.itemgetter(1))[0][2]"
   ]
  },
  {
   "cell_type": "code",
   "execution_count": null,
   "metadata": {},
   "outputs": [],
   "source": [
    "S = defaultdict(float)\n",
    "for item in self.Q:\n",
    "    if item[0] == self.pair[0]:\n",
    "        S[item] = self.Q[item]\n",
    "optimalAction = max(S.items(), key=operator.itemgetter(1))[0][1]\n",
    "else:\n",
    "# if Q empty, act randomly\n",
    "optimalAction = np.random.choice(self.possibleActions, 1)[0]"
   ]
  },
  {
   "cell_type": "code",
   "execution_count": 815,
   "metadata": {},
   "outputs": [],
   "source": [
    "value = 0.554\n",
    "episodeNum = 0\n",
    "completeQ = (episodeNum, [value])"
   ]
  },
  {
   "cell_type": "code",
   "execution_count": 816,
   "metadata": {},
   "outputs": [
    {
     "data": {
      "text/plain": [
       "(0, [0.554])"
      ]
     },
     "execution_count": 816,
     "metadata": {},
     "output_type": "execute_result"
    }
   ],
   "source": [
    "completeQ"
   ]
  },
  {
   "cell_type": "code",
   "execution_count": 820,
   "metadata": {},
   "outputs": [],
   "source": [
    "completeQ[1].append(15)"
   ]
  },
  {
   "cell_type": "code",
   "execution_count": 821,
   "metadata": {},
   "outputs": [
    {
     "data": {
      "text/plain": [
       "(0, [0.554, 15])"
      ]
     },
     "execution_count": 821,
     "metadata": {},
     "output_type": "execute_result"
    }
   ],
   "source": [
    "completeQ"
   ]
  },
  {
   "cell_type": "code",
   "execution_count": 858,
   "metadata": {},
   "outputs": [],
   "source": [
    "Q = {(4, ((0, 3), (2, 2)), 'KICK'): 0.0, (1, ((0, 3), (2, 2)), 'KICK'): 0.0, (2, ((0, 3), (2, 2)), 'DRIBBLE_UP'): 0.0, (0, ((0, 2), (2, 2)), 'DRIBBLE_DOWN'): 0.0, (3, ((1, 2), (2, 2)), 'DRIBBLE_RIGHT'): 0.0, (3, ((0, 2), (2, 2)), 'DRIBBLE_DOWN'): 0.0, (0, ((0, 2), (2, 2)), 'KICK'): 0.0, (0, ((0, 2), (2, 2)), 'DRIBBLE_LEFT'): 0.0, (0, ((0, 2), (2, 2)), 'DRIBBLE_RIGHT'): 0.0, (2, ((0, 2), (2, 2)), 'DRIBBLE_RIGHT'): 0.0, (1, ((0, 2), (2, 2)), 'DRIBBLE_RIGHT'): 0.0}"
   ]
  },
  {
   "cell_type": "code",
   "execution_count": 859,
   "metadata": {},
   "outputs": [],
   "source": [
    "timeState = (3, ((1, 2), (2, 2)))"
   ]
  },
  {
   "cell_type": "code",
   "execution_count": 860,
   "metadata": {},
   "outputs": [
    {
     "data": {
      "text/plain": [
       "(3, ((1, 2), (2, 2)))"
      ]
     },
     "execution_count": 860,
     "metadata": {},
     "output_type": "execute_result"
    }
   ],
   "source": [
    "timeState"
   ]
  },
  {
   "cell_type": "code",
   "execution_count": 861,
   "metadata": {},
   "outputs": [
    {
     "data": {
      "text/plain": [
       "{(3, ((1, 2), (2, 2)), 'DRIBBLE_RIGHT'): 0.0}"
      ]
     },
     "execution_count": 861,
     "metadata": {},
     "output_type": "execute_result"
    }
   ],
   "source": [
    "S = {}\n",
    "for item in Q:\n",
    "    if item[0:2] == timeState:\n",
    "        S[item] = Q[item]\n",
    "S"
   ]
  },
  {
   "cell_type": "code",
   "execution_count": 852,
   "metadata": {},
   "outputs": [
    {
     "data": {
      "text/plain": [
       "defaultdict(float,\n",
       "            {(5, ((3, 5), (2, 2)), 'DRIBBLE_SOUTH'): 0.04221830985915493,\n",
       "             (5, ((3, 5), (2, 2)), 'DRIBBLE_east'): 0.07721830985915493,\n",
       "             (67, ((0, 2), (2, 2)), 'DRIBBLE_RIGHT'): 0.0})"
      ]
     },
     "execution_count": 852,
     "metadata": {},
     "output_type": "execute_result"
    }
   ],
   "source": [
    "S"
   ]
  },
  {
   "cell_type": "code",
   "execution_count": 867,
   "metadata": {},
   "outputs": [],
   "source": [
    "Q = {(6, ((1, 3), (2, 2)), 'DRIBBLE_RIGHT'): 0.0, (2, ((0, 3), (2, 2)), 'DRIBBLE_RIGHT'): 0.0, (2, ((0, 4), (2, 2)), 'KICK'): 0.0, (3, ((0, 2), (2, 2)), 'DRIBBLE_RIGHT'): 0.0, (14, ((1, 0), (2, 2)), 'DRIBBLE_UP'): 0.0, (8, ((2, 0), (2, 2)), 'DRIBBLE_DOWN'): 0.0, (1, ((0, 1), (2, 2)), 'DRIBBLE_LEFT'): 0.0, (5, ((0, 3), (2, 2)), 'DRIBBLE_LEFT'): 0.0, (4, ((1, 1), (2, 2)), 'DRIBBLE_LEFT'): 0.0, (5, ((2, 2), (2, 2)), 'DRIBBLE_DOWN'): 0.0, (3, ((1, 1), (2, 2)), 'DRIBBLE_LEFT'): 0.0, (6, ((2, 4), (2, 2)), 'KICK'): 0.0, (5, ((3, 2), (2, 2)), 'DRIBBLE_UP'): 0.0, (3, ((2, 2), (2, 2)), 'KICK'): 0.0, (5, ((1, 1), (2, 2)), 'DRIBBLE_UP'): 0.0, (2, ((1, 3), (2, 2)), 'KICK'): 1.0, (18, ((3, 2), (2, 2)), 'KICK'): 1.0, (5, ((2, 5), (2, 2)), 'DRIBBLE_UP'): 0.0, (2, ((0, 3), (2, 2)), 'DRIBBLE_LEFT'): 0.0, (3, ((0, 4), (2, 2)), 'DRIBBLE_UP'): 0.0, (3, ((2, 3), (2, 2)), 'DRIBBLE_UP'): -0.8, (14, ((0, 4), (2, 2)), 'KICK'): 0.0, (2, ((1, 1), (2, 2)), 'KICK'): 0.0, (3, ((1, 4), (2, 2)), 'DRIBBLE_RIGHT'): 0.0, (17, ((1, 2), (2, 2)), 'DRIBBLE_DOWN'): 0.0, (6, ((1, 2), (2, 2)), 'KICK'): 0.0, (4, ((0, 1), (2, 2)), 'DRIBBLE_LEFT'): 0.0, (3, ((0, 1), (2, 2)), 'DRIBBLE_DOWN'): 0.0, (4, ((0, 0), (2, 2)), 'DRIBBLE_LEFT'): 0.0, (7, ((0, 3), (2, 2)), 'DRIBBLE_UP'): 0.0, (3, ((1, 3), (2, 2)), 'DRIBBLE_RIGHT'): 0.0, (7, ((1, 1), (2, 2)), 'DRIBBLE_DOWN'): 0.0, (4, ((0, 3), (2, 2)), 'DRIBBLE_RIGHT'): 0.0, (7, ((0, 2), (2, 2)), 'DRIBBLE_UP'): 0.0, (10, ((0, 2), (2, 2)), 'DRIBBLE_UP'): 0.0, (11, ((3, 5), (2, 2)), 'KICK'): 0.0, (12, ((0, 0), (2, 2)), 'DRIBBLE_LEFT'): 0.0, (18, ((1, 3), (2, 2)), 'KICK'): 0.0, (3, ((0, 0), (2, 2)), 'DRIBBLE_UP'): 0.0, (13, ((1, 4), (2, 2)), 'DRIBBLE_LEFT'): 0.0, (4, ((2, 1), (2, 2)), 'DRIBBLE_DOWN'): -0.4, (6, ((1, 1), (2, 2)), 'KICK'): 0.0, (5, ((0, 0), (2, 2)), 'DRIBBLE_UP'): 0.0, (3, ((0, 3), (2, 2)), 'DRIBBLE_LEFT'): 0.0, (9, ((1, 2), (2, 2)), 'KICK'): 0.0, (2, ((0, 0), (2, 2)), 'KICK'): 1.0, (1, ((1, 2), (2, 2)), 'KICK'): 9.0, (4, ((0, 1), (2, 2)), 'DRIBBLE_UP'): 0.0, (5, ((1, 0), (2, 2)), 'DRIBBLE_LEFT'): 0.0, (3, ((1, 1), (2, 2)), 'DRIBBLE_DOWN'): 0.0, (7, ((2, 3), (2, 2)), 'DRIBBLE_RIGHT'): 0.0, (2, ((0, 3), (2, 2)), 'DRIBBLE_UP'): 0.0, (5, ((2, 2), (2, 2)), 'DRIBBLE_UP'): 0.0, (4, ((1, 3), (2, 2)), 'DRIBBLE_LEFT'): 0.0, (2, ((0, 2), (2, 2)), 'DRIBBLE_DOWN'): 0.0, (8, ((3, 1), (2, 2)), 'DRIBBLE_RIGHT'): 0.0, (6, ((0, 3), (2, 2)), 'DRIBBLE_UP'): 0.0, (8, ((2, 2), (2, 2)), 'DRIBBLE_RIGHT'): 0.0, (9, ((1, 5), (2, 2)), 'DRIBBLE_UP'): 0.0, (5, ((0, 2), (2, 2)), 'KICK'): 0.0, (11, ((2, 2), (2, 2)), 'DRIBBLE_UP'): 0.0, (15, ((1, 0), (2, 2)), 'DRIBBLE_LEFT'): 0.0, (6, ((0, 0), (2, 2)), 'DRIBBLE_DOWN'): 0.0, (14, ((1, 2), (2, 2)), 'DRIBBLE_LEFT'): 0.0, (3, ((1, 2), (2, 2)), 'DRIBBLE_UP'): 0.0, (10, ((1, 1), (2, 2)), 'DRIBBLE_RIGHT'): 0.0, (1, ((0, 3), (2, 2)), 'DRIBBLE_UP'): 0.0, (5, ((1, 3), (2, 2)), 'DRIBBLE_UP'): 0.0, (3, ((0, 4), (2, 2)), 'DRIBBLE_RIGHT'): 0.0, (8, ((2, 0), (2, 2)), 'DRIBBLE_RIGHT'): 0.0, (9, ((2, 5), (2, 2)), 'DRIBBLE_DOWN'): 0.0, (2, ((0, 4), (2, 2)), 'DRIBBLE_RIGHT'): 0.0, (5, ((0, 1), (2, 2)), 'KICK'): 0.0, (3, ((2, 2), (2, 2)), 'DRIBBLE_LEFT'): 0.0, (2, ((1, 2), (2, 2)), 'DRIBBLE_UP'): 0.0, (14, ((1, 4), (2, 2)), 'DRIBBLE_LEFT'): 0.0, (1, ((0, 3), (2, 2)), 'DRIBBLE_DOWN'): 0.0, (16, ((1, 1), (2, 2)), 'DRIBBLE_RIGHT'): 0.0, (9, ((1, 5), (2, 2)), 'KICK'): 0.0, (4, ((1, 0), (2, 2)), 'KICK'): 0.0, (2, ((0, 1), (2, 2)), 'DRIBBLE_DOWN'): 0.0, (3, ((1, 0), (2, 2)), 'DRIBBLE_DOWN'): 0.0, (15, ((4, 2), (2, 2)), 'DRIBBLE_DOWN'): 0.0, (2, ((2, 2), (2, 2)), 'DRIBBLE_UP'): 0.0, (5, ((0, 2), (2, 2)), 'DRIBBLE_UP'): 0.0, (0, ((0, 2), (2, 2)), 'DRIBBLE_UP'): 0.0, (3, ((1, 4), (2, 2)), 'DRIBBLE_DOWN'): 0.0, (9, ((1, 0), (2, 2)), 'DRIBBLE_DOWN'): 0.0, (13, ((0, 0), (2, 2)), 'DRIBBLE_RIGHT'): 0.0, (2, ((1, 3), (2, 2)), 'DRIBBLE_LEFT'): 0.0, (2, ((1, 2), (2, 2)), 'KICK'): 2.0, (16, ((2, 0), (2, 2)), 'DRIBBLE_UP'): 0.0, (5, ((0, 4), (2, 2)), 'DRIBBLE_UP'): 0.0, (12, ((0, 3), (2, 2)), 'DRIBBLE_UP'): 0.0, (3, ((1, 4), (2, 2)), 'KICK'): 0.0, (5, ((0, 3), (2, 2)), 'DRIBBLE_DOWN'): 0.0, (7, ((2, 4), (2, 2)), 'DRIBBLE_DOWN'): 0.0, (4, ((2, 2), (2, 2)), 'DRIBBLE_DOWN'): 0.0, (10, ((2, 0), (2, 2)), 'DRIBBLE_LEFT'): 0.0, (5, ((2, 1), (2, 2)), 'DRIBBLE_RIGHT'): 0.0, (6, ((0, 1), (2, 2)), 'KICK'): 0.0, (7, ((1, 4), (2, 2)), 'DRIBBLE_UP'): 0.0, (2, ((1, 3), (2, 2)), 'DRIBBLE_RIGHT'): 0.0, (7, ((0, 1), (2, 2)), 'DRIBBLE_RIGHT'): 0.0, (2, ((1, 2), (2, 2)), 'DRIBBLE_DOWN'): 0.0, (20, ((1, 2), (2, 2)), 'DRIBBLE_LEFT'): 0.0, (7, ((1, 1), (2, 2)), 'DRIBBLE_RIGHT'): 0.0, (16, ((0, 3), (2, 2)), 'DRIBBLE_UP'): 0.0, (14, ((2, 0), (2, 2)), 'DRIBBLE_DOWN'): 0.0, (6, ((0, 4), (2, 2)), 'DRIBBLE_LEFT'): 0.0, (9, ((4, 1), (2, 2)), 'DRIBBLE_RIGHT'): 0.0, (5, ((2, 3), (2, 2)), 'KICK'): 1.0, (8, ((1, 1), (2, 2)), 'DRIBBLE_DOWN'): 0.0, (18, ((0, 2), (2, 2)), 'DRIBBLE_DOWN'): 0.0, (3, ((0, 3), (2, 2)), 'KICK'): 1.0, (9, ((0, 3), (2, 2)), 'DRIBBLE_DOWN'): 0.0, (4, ((0, 2), (2, 2)), 'KICK'): 0.0, (6, ((0, 4), (2, 2)), 'DRIBBLE_RIGHT'): 0.0, (4, ((1, 4), (2, 2)), 'DRIBBLE_LEFT'): 0.0, (6, ((1, 2), (2, 2)), 'DRIBBLE_DOWN'): 0.0, (2, ((0, 3), (2, 2)), 'KICK'): 1.0, (6, ((1, 0), (2, 2)), 'DRIBBLE_UP'): 0.0, (13, ((4, 2), (2, 2)), 'DRIBBLE_DOWN'): 0.0, (3, ((1, 1), (2, 2)), 'DRIBBLE_RIGHT'): 0.0, (15, ((0, 2), (2, 2)), 'DRIBBLE_DOWN'): 0.0, (4, ((0, 0), (2, 2)), 'KICK'): 0.0, (0, ((0, 2), (2, 2)), 'DRIBBLE_RIGHT'): 0.0, (9, ((0, 2), (2, 2)), 'DRIBBLE_RIGHT'): 0.0, (4, ((2, 3), (2, 2)), 'DRIBBLE_DOWN'): -0.4, (1, ((0, 1), (2, 2)), 'DRIBBLE_UP'): 0.0, (9, ((1, 5), (2, 2)), 'DRIBBLE_LEFT'): 0.0, (18, ((2, 0), (2, 2)), 'DRIBBLE_UP'): 0.0, (14, ((1, 0), (2, 2)), 'KICK'): 0.0, (10, ((2, 5), (2, 2)), 'DRIBBLE_RIGHT'): 0.0, (8, ((1, 2), (2, 2)), 'DRIBBLE_UP'): 0.0, (9, ((3, 2), (2, 2)), 'DRIBBLE_RIGHT'): 0.0, (2, ((0, 2), (2, 2)), 'KICK'): 2.0, (21, ((0, 0), (2, 2)), 'KICK'): 0.0, (13, ((4, 0), (2, 2)), 'DRIBBLE_LEFT'): 0.0, (13, ((1, 0), (2, 2)), 'DRIBBLE_RIGHT'): 0.0, (4, ((1, 2), (2, 2)), 'DRIBBLE_RIGHT'): -0.8, (5, ((0, 2), (2, 2)), 'DRIBBLE_DOWN'): 0.0, (17, ((4, 2), (2, 2)), 'DRIBBLE_LEFT'): 0.0, (10, ((1, 0), (2, 2)), 'DRIBBLE_LEFT'): 0.0, (10, ((1, 1), (2, 2)), 'DRIBBLE_LEFT'): 0.0, (12, ((4, 1), (2, 2)), 'DRIBBLE_UP'): 0.0, (3, ((0, 3), (2, 2)), 'DRIBBLE_RIGHT'): 0.0, (2, ((0, 1), (2, 2)), 'DRIBBLE_RIGHT'): 0.0, (12, ((4, 0), (2, 2)), 'DRIBBLE_LEFT'): 0.0, (5, ((1, 0), (2, 2)), 'DRIBBLE_RIGHT'): 0.0, (2, ((2, 2), (2, 2)), 'DRIBBLE_LEFT'): 0.0, (8, ((2, 2), (2, 2)), 'DRIBBLE_LEFT'): 0.0, (15, ((0, 4), (2, 2)), 'DRIBBLE_LEFT'): 0.0, (4, ((1, 3), (2, 2)), 'DRIBBLE_RIGHT'): 0.0, (6, ((2, 2), (2, 2)), 'DRIBBLE_LEFT'): 0.0, (9, ((3, 1), (2, 2)), 'DRIBBLE_RIGHT'): 0.0, (6, ((1, 4), (2, 2)), 'KICK'): 0.0, (8, ((0, 2), (2, 2)), 'DRIBBLE_DOWN'): 0.0, (1, ((0, 2), (2, 2)), 'DRIBBLE_DOWN'): 0.0, (7, ((0, 4), (2, 2)), 'DRIBBLE_RIGHT'): 0.0, (11, ((4, 1), (2, 2)), 'DRIBBLE_UP'): 0.0, (5, ((1, 5), (2, 2)), 'DRIBBLE_RIGHT'): 0.0, (16, ((2, 2), (2, 2)), 'DRIBBLE_LEFT'): 0.0, (11, ((3, 0), (2, 2)), 'DRIBBLE_RIGHT'): 0.0, (6, ((0, 1), (2, 2)), 'DRIBBLE_RIGHT'): 0.0, (12, ((3, 4), (2, 2)), 'DRIBBLE_LEFT'): 0.0, (12, ((0, 4), (2, 2)), 'DRIBBLE_UP'): 0.0, (8, ((1, 5), (2, 2)), 'DRIBBLE_DOWN'): 0.0, (10, ((4, 2), (2, 2)), 'DRIBBLE_UP'): 0.0, (11, ((0, 5), (2, 2)), 'DRIBBLE_UP'): 0.0, (3, ((2, 1), (2, 2)), 'DRIBBLE_DOWN'): -0.4, (6, ((0, 3), (2, 2)), 'DRIBBLE_RIGHT'): 0.0, (12, ((0, 0), (2, 2)), 'DRIBBLE_RIGHT'): 0.0, (11, ((3, 1), (2, 2)), 'KICK'): 0.0, (19, ((2, 0), (2, 2)), 'DRIBBLE_LEFT'): 0.0, (9, ((3, 0), (2, 2)), 'DRIBBLE_LEFT'): 0.0, (5, ((2, 2), (2, 2)), 'KICK'): 0.0, (9, ((2, 2), (2, 2)), 'DRIBBLE_DOWN'): 0.0, (1, ((0, 3), (2, 2)), 'DRIBBLE_LEFT'): 0.0, (4, ((1, 5), (2, 2)), 'DRIBBLE_UP'): 0.0, (5, ((0, 3), (2, 2)), 'KICK'): 0.0, (2, ((1, 3), (2, 2)), 'DRIBBLE_DOWN'): 0.0, (4, ((0, 0), (2, 2)), 'DRIBBLE_RIGHT'): 0.0, (8, ((0, 1), (2, 2)), 'DRIBBLE_DOWN'): 0.0, (14, ((3, 0), (2, 2)), 'KICK'): 0.0, (3, ((1, 4), (2, 2)), 'DRIBBLE_LEFT'): 0.0, (4, ((1, 1), (2, 2)), 'DRIBBLE_RIGHT'): 0.0, (2, ((1, 1), (2, 2)), 'DRIBBLE_RIGHT'): 0.0, (7, ((0, 2), (2, 2)), 'DRIBBLE_LEFT'): 0.0, (8, ((0, 0), (2, 2)), 'DRIBBLE_UP'): 0.0, (7, ((1, 3), (2, 2)), 'DRIBBLE_RIGHT'): 0.0, (2, ((0, 2), (2, 2)), 'DRIBBLE_RIGHT'): 0.0, (5, ((1, 4), (2, 2)), 'DRIBBLE_UP'): 0.0, (2, ((0, 1), (2, 2)), 'DRIBBLE_UP'): 0.0, (6, ((2, 5), (2, 2)), 'DRIBBLE_UP'): 0.0, (2, ((0, 4), (2, 2)), 'DRIBBLE_DOWN'): 0.0, (13, ((2, 4), (2, 2)), 'DRIBBLE_LEFT'): 0.0, (1, ((0, 1), (2, 2)), 'DRIBBLE_RIGHT'): 0.0, (1, ((0, 2), (2, 2)), 'DRIBBLE_LEFT'): 0.0, (5, ((4, 1), (2, 2)), 'KICK'): 0.0, (5, ((2, 3), (2, 2)), 'DRIBBLE_LEFT'): 0.0, (14, ((3, 2), (2, 2)), 'DRIBBLE_RIGHT'): 0.0, (21, ((0, 2), (2, 2)), 'KICK'): 0.0, (4, ((1, 4), (2, 2)), 'DRIBBLE_DOWN'): 0.0, (8, ((0, 2), (2, 2)), 'DRIBBLE_UP'): 0.0, (10, ((1, 4), (2, 2)), 'DRIBBLE_RIGHT'): 0.0, (6, ((0, 1), (2, 2)), 'DRIBBLE_LEFT'): 0.0, (9, ((0, 1), (2, 2)), 'KICK'): 1.0, (3, ((1, 2), (2, 2)), 'DRIBBLE_RIGHT'): -1.2000000000000002, (9, ((1, 1), (2, 2)), 'KICK'): 0.0, (4, ((1, 2), (2, 2)), 'DRIBBLE_UP'): 0.0, (8, ((2, 3), (2, 2)), 'DRIBBLE_RIGHT'): 0.0, (8, ((2, 3), (2, 2)), 'KICK'): 0.0, (4, ((3, 1), (2, 2)), 'DRIBBLE_RIGHT'): 0.0, (7, ((1, 0), (2, 2)), 'KICK'): 0.0, (3, ((0, 0), (2, 2)), 'KICK'): 0.0, (5, ((1, 1), (2, 2)), 'DRIBBLE_DOWN'): 0.0, (5, ((0, 0), (2, 2)), 'DRIBBLE_RIGHT'): 0.0, (1, ((1, 2), (2, 2)), 'DRIBBLE_RIGHT'): -2.0, (2, ((1, 2), (2, 2)), 'DRIBBLE_RIGHT'): -1.2000000000000002, (2, ((0, 0), (2, 2)), 'DRIBBLE_RIGHT'): 0.0, (6, ((0, 2), (2, 2)), 'DRIBBLE_LEFT'): 0.0, (4, ((2, 2), (2, 2)), 'DRIBBLE_UP'): 0.0, (5, ((0, 0), (2, 2)), 'KICK'): 2.0, (8, ((0, 2), (2, 2)), 'DRIBBLE_LEFT'): 0.0, (2, ((0, 2), (2, 2)), 'DRIBBLE_LEFT'): 0.0, (1, ((0, 2), (2, 2)), 'KICK'): 0.0, (6, ((2, 1), (2, 2)), 'KICK'): 0.0, (1, ((0, 2), (2, 2)), 'DRIBBLE_RIGHT'): 0.0, (17, ((2, 0), (2, 2)), 'DRIBBLE_UP'): 0.0, (4, ((0, 1), (2, 2)), 'DRIBBLE_DOWN'): 0.0, (4, ((2, 2), (2, 2)), 'KICK'): 0.0, (10, ((1, 4), (2, 2)), 'DRIBBLE_UP'): 0.0, (3, ((2, 1), (2, 2)), 'DRIBBLE_RIGHT'): 0.0, (19, ((0, 2), (2, 2)), 'DRIBBLE_RIGHT'): 0.0, (4, ((0, 3), (2, 2)), 'DRIBBLE_LEFT'): 0.0, (7, ((2, 3), (2, 2)), 'DRIBBLE_DOWN'): -0.4, (15, ((2, 1), (2, 2)), 'DRIBBLE_LEFT'): 0.0, (4, ((0, 2), (2, 2)), 'DRIBBLE_DOWN'): 0.0, (2, ((2, 2), (2, 2)), 'KICK'): 3.0, (2, ((0, 1), (2, 2)), 'DRIBBLE_LEFT'): 0.0, (13, ((1, 3), (2, 2)), 'DRIBBLE_UP'): 0.0, (6, ((0, 0), (2, 2)), 'DRIBBLE_LEFT'): 0.0, (6, ((3, 1), (2, 2)), 'DRIBBLE_LEFT'): 0.0, (3, ((1, 0), (2, 2)), 'KICK'): 0.0, (14, ((1, 0), (2, 2)), 'DRIBBLE_LEFT'): 0.0, (16, ((4, 3), (2, 2)), 'DRIBBLE_LEFT'): 0.0, (4, ((1, 5), (2, 2)), 'DRIBBLE_LEFT'): 0.0, (10, ((0, 4), (2, 2)), 'KICK'): 0.0, (13, ((2, 1), (2, 2)), 'DRIBBLE_LEFT'): 0.0, (8, ((2, 4), (2, 2)), 'DRIBBLE_UP'): 0.0, (12, ((2, 0), (2, 2)), 'DRIBBLE_DOWN'): 0.0, (7, ((2, 1), (2, 2)), 'DRIBBLE_RIGHT'): -0.4, (3, ((0, 4), (2, 2)), 'KICK'): 0.0, (0, ((0, 2), (2, 2)), 'DRIBBLE_LEFT'): 0.0, (2, ((0, 3), (2, 2)), 'DRIBBLE_DOWN'): 0.0, (0, ((0, 2), (2, 2)), 'DRIBBLE_DOWN'): 0.0, (14, ((1, 1), (2, 2)), 'DRIBBLE_RIGHT'): 0.0, (3, ((0, 2), (2, 2)), 'DRIBBLE_DOWN'): 0.0, (3, ((0, 2), (2, 2)), 'DRIBBLE_UP'): 0.0, (13, ((2, 0), (2, 2)), 'DRIBBLE_LEFT'): 0.0, (3, ((0, 3), (2, 2)), 'DRIBBLE_DOWN'): 0.0, (2, ((0, 0), (2, 2)), 'DRIBBLE_UP'): 0.0, (4, ((1, 1), (2, 2)), 'DRIBBLE_DOWN'): 0.0, (1, ((0, 1), (2, 2)), 'DRIBBLE_DOWN'): 0.0, (4, ((2, 2), (2, 2)), 'DRIBBLE_RIGHT'): 0.0, (8, ((2, 1), (2, 2)), 'DRIBBLE_LEFT'): 0.0, (4, ((1, 2), (2, 2)), 'DRIBBLE_LEFT'): 0.0, (6, ((2, 0), (2, 2)), 'DRIBBLE_DOWN'): 0.0, (10, ((4, 1), (2, 2)), 'DRIBBLE_LEFT'): 0.0, (7, ((0, 0), (2, 2)), 'KICK'): 0.0, (4, ((0, 5), (2, 2)), 'DRIBBLE_DOWN'): 0.0, (6, ((1, 2), (2, 2)), 'DRIBBLE_UP'): 0.0, (6, ((1, 0), (2, 2)), 'DRIBBLE_DOWN'): 0.0, (5, ((1, 3), (2, 2)), 'DRIBBLE_LEFT'): 0.0, (7, ((1, 2), (2, 2)), 'KICK'): 0.0, (7, ((1, 0), (2, 2)), 'DRIBBLE_DOWN'): 0.0, (3, ((0, 1), (2, 2)), 'DRIBBLE_RIGHT'): 0.0, (5, ((1, 0), (2, 2)), 'DRIBBLE_DOWN'): 0.0, (4, ((0, 3), (2, 2)), 'DRIBBLE_UP'): 0.0, (17, ((0, 2), (2, 2)), 'DRIBBLE_LEFT'): 0.0, (1, ((1, 2), (2, 2)), 'DRIBBLE_LEFT'): 0.0, (3, ((1, 2), (2, 2)), 'DRIBBLE_DOWN'): 0.0, (3, ((2, 3), (2, 2)), 'DRIBBLE_LEFT'): 0.0, (6, ((0, 3), (2, 2)), 'DRIBBLE_LEFT'): 0.0, (11, ((0, 1), (2, 2)), 'DRIBBLE_UP'): 0.0, (11, ((1, 3), (2, 2)), 'DRIBBLE_LEFT'): 0.0, (5, ((2, 2), (2, 2)), 'DRIBBLE_LEFT'): 0.0, (10, ((2, 1), (2, 2)), 'DRIBBLE_DOWN'): -0.4, (3, ((0, 0), (2, 2)), 'DRIBBLE_LEFT'): 0.0, (3, ((1, 2), (2, 2)), 'KICK'): 0.0, (8, ((2, 1), (2, 2)), 'DRIBBLE_DOWN'): -0.4, (17, ((2, 1), (2, 2)), 'DRIBBLE_DOWN'): -0.4, (3, ((0, 3), (2, 2)), 'DRIBBLE_UP'): 0.0, (4, ((0, 2), (2, 2)), 'DRIBBLE_RIGHT'): 0.0, (2, ((0, 2), (2, 2)), 'DRIBBLE_UP'): 0.0, (7, ((1, 4), (2, 2)), 'DRIBBLE_DOWN'): 0.0, (11, ((2, 1), (2, 2)), 'KICK'): 0.0, (7, ((1, 3), (2, 2)), 'KICK'): 0.0, (3, ((0, 1), (2, 2)), 'DRIBBLE_LEFT'): 0.0, (3, ((1, 0), (2, 2)), 'DRIBBLE_LEFT'): 0.0, (3, ((2, 2), (2, 2)), 'DRIBBLE_RIGHT'): 0.0, (5, ((0, 0), (2, 2)), 'DRIBBLE_LEFT'): 0.0, (20, ((1, 0), (2, 2)), 'DRIBBLE_LEFT'): 0.0, (1, ((0, 1), (2, 2)), 'KICK'): 0.0, (7, ((0, 0), (2, 2)), 'DRIBBLE_DOWN'): 0.0, (15, ((0, 0), (2, 2)), 'KICK'): 0.0, (6, ((1, 3), (2, 2)), 'KICK'): 0.0, (7, ((1, 3), (2, 2)), 'DRIBBLE_UP'): 0.0, (2, ((0, 1), (2, 2)), 'KICK'): 0.0, (4, ((0, 0), (2, 2)), 'DRIBBLE_UP'): 0.0, (18, ((2, 2), (2, 2)), 'KICK'): 0.0, (8, ((0, 1), (2, 2)), 'DRIBBLE_RIGHT'): 0.0, (3, ((0, 2), (2, 2)), 'KICK'): 0.0, (16, ((0, 4), (2, 2)), 'DRIBBLE_UP'): 0.0, (6, ((0, 0), (2, 2)), 'DRIBBLE_RIGHT'): 0.0, (1, ((0, 3), (2, 2)), 'KICK'): 3.0, (4, ((1, 2), (2, 2)), 'KICK'): 1.0, (8, ((1, 2), (2, 2)), 'DRIBBLE_RIGHT'): -0.4, (9, ((1, 2), (2, 2)), 'DRIBBLE_UP'): 0.0, (7, ((2, 1), (2, 2)), 'DRIBBLE_UP'): 0.0, (2, ((0, 4), (2, 2)), 'DRIBBLE_UP'): 0.0, (5, ((0, 3), (2, 2)), 'DRIBBLE_RIGHT'): 0.0, (5, ((1, 2), (2, 2)), 'DRIBBLE_RIGHT'): -0.8, (3, ((0, 1), (2, 2)), 'DRIBBLE_UP'): 0.0, (0, ((0, 2), (2, 2)), 'KICK'): 15.0, (5, ((1, 2), (2, 2)), 'KICK'): 0.0, (4, ((0, 3), (2, 2)), 'KICK'): 0.0, (5, ((0, 4), (2, 2)), 'DRIBBLE_RIGHT'): 0.0, (12, ((2, 1), (2, 2)), 'DRIBBLE_UP'): 0.0, (8, ((0, 2), (2, 2)), 'DRIBBLE_RIGHT'): 0.0, (7, ((1, 2), (2, 2)), 'DRIBBLE_LEFT'): 0.0, (3, ((1, 1), (2, 2)), 'KICK'): 0.0, (9, ((2, 1), (2, 2)), 'DRIBBLE_LEFT'): 0.0, (9, ((1, 5), (2, 2)), 'DRIBBLE_DOWN'): 0.0, (2, ((1, 3), (2, 2)), 'DRIBBLE_UP'): 0.0, (1, ((1, 2), (2, 2)), 'DRIBBLE_DOWN'): 0.0, (4, ((0, 5), (2, 2)), 'DRIBBLE_UP'): 0.0, (9, ((0, 0), (2, 2)), 'DRIBBLE_RIGHT'): 0.0, (8, ((1, 4), (2, 2)), 'DRIBBLE_DOWN'): 0.0, (8, ((1, 1), (2, 2)), 'DRIBBLE_LEFT'): 0.0, (2, ((1, 1), (2, 2)), 'DRIBBLE_LEFT'): 0.0, (10, ((1, 1), (2, 2)), 'KICK'): 0.0, (6, ((0, 2), (2, 2)), 'KICK'): 0.0, (1, ((1, 2), (2, 2)), 'DRIBBLE_UP'): -0.4, (6, ((0, 3), (2, 2)), 'DRIBBLE_DOWN'): 0.0, (2, ((0, 0), (2, 2)), 'DRIBBLE_DOWN'): 0.0, (3, ((0, 5), (2, 2)), 'DRIBBLE_LEFT'): 0.0, (8, ((2, 5), (2, 2)), 'DRIBBLE_LEFT'): 0.0, (4, ((0, 0), (2, 2)), 'DRIBBLE_DOWN'): 0.0, (10, ((2, 3), (2, 2)), 'DRIBBLE_UP'): -0.8, (2, ((0, 0), (2, 2)), 'DRIBBLE_LEFT'): 0.0, (1, ((0, 2), (2, 2)), 'DRIBBLE_UP'): 0.0, (11, ((2, 4), (2, 2)), 'DRIBBLE_RIGHT'): 0.0, (9, ((3, 3), (2, 2)), 'DRIBBLE_DOWN'): 0.0, (2, ((1, 1), (2, 2)), 'DRIBBLE_DOWN'): 0.0, (8, ((1, 3), (2, 2)), 'DRIBBLE_LEFT'): 0.0, (17, ((0, 3), (2, 2)), 'DRIBBLE_RIGHT'): 0.0, (5, ((0, 1), (2, 2)), 'DRIBBLE_UP'): 0.0, (15, ((2, 1), (2, 2)), 'DRIBBLE_DOWN'): -0.4, (7, ((0, 3), (2, 2)), 'KICK'): 0.0, (3, ((0, 0), (2, 2)), 'DRIBBLE_DOWN'): 0.0, (3, ((1, 3), (2, 2)), 'DRIBBLE_LEFT'): 0.0, (3, ((0, 1), (2, 2)), 'KICK'): 1.0, (5, ((0, 1), (2, 2)), 'DRIBBLE_DOWN'): 0.0, (4, ((0, 4), (2, 2)), 'DRIBBLE_UP'): 0.0, (2, ((1, 1), (2, 2)), 'DRIBBLE_UP'): 0.0, (3, ((1, 2), (2, 2)), 'DRIBBLE_LEFT'): -0.4, (8, ((1, 1), (2, 2)), 'DRIBBLE_UP'): 0.0, (10, ((4, 0), (2, 2)), 'KICK'): 0.0, (6, ((2, 3), (2, 2)), 'DRIBBLE_RIGHT'): 0.0, (11, ((1, 0), (2, 2)), 'DRIBBLE_DOWN'): 0.0, (3, ((0, 2), (2, 2)), 'DRIBBLE_LEFT'): 0.0, (10, ((0, 5), (2, 2)), 'DRIBBLE_DOWN'): 0.0, (1, ((0, 3), (2, 2)), 'DRIBBLE_RIGHT'): 0.0, (5, ((1, 3), (2, 2)), 'DRIBBLE_DOWN'): 0.0, (9, ((2, 2), (2, 2)), 'DRIBBLE_UP'): 0.0}"
   ]
  },
  {
   "cell_type": "code",
   "execution_count": 868,
   "metadata": {},
   "outputs": [],
   "source": [
    "timeState = (18, ((0, 2), (2, 2)))"
   ]
  },
  {
   "cell_type": "code",
   "execution_count": 869,
   "metadata": {},
   "outputs": [
    {
     "data": {
      "text/plain": [
       "{(18, ((0, 2), (2, 2)), 'DRIBBLE_DOWN'): 0.0}"
      ]
     },
     "execution_count": 869,
     "metadata": {},
     "output_type": "execute_result"
    }
   ],
   "source": [
    "S = {}\n",
    "for item in Q:\n",
    "    if item[0:2] == timeState:\n",
    "        S[item] = Q[item]\n",
    "S"
   ]
  },
  {
   "cell_type": "code",
   "execution_count": 908,
   "metadata": {},
   "outputs": [],
   "source": [
    "# Apply discount factor to previous rewards\n",
    "discountFactor = 0.9\n",
    "hello['g'] = [x * discountFactor for x in hello['g']]"
   ]
  },
  {
   "cell_type": "code",
   "execution_count": 963,
   "metadata": {},
   "outputs": [],
   "source": [
    "Q = defaultdict(float)\n",
    "episodeStateAction = defaultdict(list)\n",
    "episodeStateAction = {(1, ((1, 3), (2, 2)), 'DRIBBLE_RIGHT'): [0.0,1.5,5.1,8.5],\n",
    "                      (2, ((0, 3), (2, 2)), 'DRIBBLE_RIGHT'): [3.5,5.6,7.5,9.1],\n",
    "                      (3, ((0, 4),(2, 2)), 'KICK'): [1.4,5.6,0.6,8.8],\n",
    "                      (4, ((0, 2), (2, 2)), 'DRIBBLE_RIGHT'): [8.3,6.1,3.3,4.8],\n",
    "                      (5, ((1, 0), (2, 2)), 'DRIBBLE_UP'): [1.6,3.8,7.0,0.1]}"
   ]
  },
  {
   "cell_type": "code",
   "execution_count": 964,
   "metadata": {},
   "outputs": [
    {
     "data": {
      "text/plain": [
       "defaultdict(list,\n",
       "            {(1, ((1, 3), (2, 2)), 'DRIBBLE_RIGHT'): [0.0, 1.5, 5.1, 8.5],\n",
       "             (2, ((0, 3), (2, 2)), 'DRIBBLE_RIGHT'): [3.5, 5.6, 7.5, 9.1],\n",
       "             (3, ((0, 4), (2, 2)), 'KICK'): [1.4, 5.6, 0.6, 8.8],\n",
       "             (4, ((0, 2), (2, 2)), 'DRIBBLE_RIGHT'): [8.3, 6.1, 3.3, 4.8],\n",
       "             (5, ((1, 0), (2, 2)), 'DRIBBLE_UP'): [1.6, 3.8, 7.0, 0.1]})"
      ]
     },
     "execution_count": 964,
     "metadata": {},
     "output_type": "execute_result"
    }
   ],
   "source": [
    "# Take 'episodeStateAction' list values and append to returnsStateAction\n",
    "returnsStateAction = defaultdict(list)\n",
    "for item in episodeStateAction:\n",
    "    returnsStateAction[item] += episodeStateAction[item]\n",
    "returnsStateAction"
   ]
  },
  {
   "cell_type": "code",
   "execution_count": 965,
   "metadata": {},
   "outputs": [
    {
     "data": {
      "text/plain": [
       "defaultdict(float,\n",
       "            {(1, ((1, 3), (2, 2)), 'DRIBBLE_RIGHT'): 3.775,\n",
       "             (2, ((0, 3), (2, 2)), 'DRIBBLE_RIGHT'): 6.425000000000001,\n",
       "             (3, ((0, 4), (2, 2)), 'KICK'): 4.1,\n",
       "             (4, ((0, 2), (2, 2)), 'DRIBBLE_RIGHT'): 5.625,\n",
       "             (5, ((1, 0), (2, 2)), 'DRIBBLE_UP'): 3.125})"
      ]
     },
     "execution_count": 965,
     "metadata": {},
     "output_type": "execute_result"
    }
   ],
   "source": [
    "# Take 'returnsStateAction' list of values, average values and add to Q\n",
    "valuesList = defaultdict(int)\n",
    "\n",
    "for item in returnsStateAction:\n",
    "    value = np.average(returnsStateAction[item])\n",
    "    Q[item] = value\n",
    "    valuesList[item[0]] = value\n",
    "Q"
   ]
  },
  {
   "cell_type": "code",
   "execution_count": 966,
   "metadata": {},
   "outputs": [
    {
     "data": {
      "text/plain": [
       "defaultdict(int, {1: 3.775, 2: 6.425000000000001, 3: 4.1, 4: 5.625, 5: 3.125})"
      ]
     },
     "execution_count": 966,
     "metadata": {},
     "output_type": "execute_result"
    }
   ],
   "source": [
    "valuesList"
   ]
  },
  {
   "cell_type": "code",
   "execution_count": 973,
   "metadata": {},
   "outputs": [
    {
     "data": {
      "text/plain": [
       "[3.775, 6.425000000000001, 4.1, 5.625, 3.125]"
      ]
     },
     "execution_count": 973,
     "metadata": {},
     "output_type": "execute_result"
    }
   ],
   "source": [
    "completeQ = list(valuesList.values())\n",
    "completeQ"
   ]
  },
  {
   "cell_type": "code",
   "execution_count": 5,
   "metadata": {},
   "outputs": [],
   "source": [
    "p = False"
   ]
  },
  {
   "cell_type": "code",
   "execution_count": 6,
   "metadata": {},
   "outputs": [],
   "source": [
    "if p:print('hello')"
   ]
  },
  {
   "cell_type": "code",
   "execution_count": null,
   "metadata": {},
   "outputs": [],
   "source": []
  }
 ],
 "metadata": {
  "kernelspec": {
   "display_name": "Python 3",
   "language": "python",
   "name": "python3"
  },
  "language_info": {
   "codemirror_mode": {
    "name": "ipython",
    "version": 3
   },
   "file_extension": ".py",
   "mimetype": "text/x-python",
   "name": "python",
   "nbconvert_exporter": "python",
   "pygments_lexer": "ipython3",
   "version": "3.5.4"
  }
 },
 "nbformat": 4,
 "nbformat_minor": 2
}
