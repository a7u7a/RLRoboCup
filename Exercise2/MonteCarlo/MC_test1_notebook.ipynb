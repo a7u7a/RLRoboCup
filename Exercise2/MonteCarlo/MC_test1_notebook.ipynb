{
 "cells": [
  {
   "cell_type": "markdown",
   "metadata": {},
   "source": [
    "### Notebook with test implementations for Exercise 2 Montecarlo Control"
   ]
  },
  {
   "cell_type": "markdown",
   "metadata": {},
   "source": [
    "Repo: https://github.com/a7u7a/RLRoboCup"
   ]
  },
  {
   "cell_type": "code",
   "execution_count": 1,
   "metadata": {},
   "outputs": [],
   "source": [
    "from collections import defaultdict\n",
    "import numpy as np"
   ]
  },
  {
   "cell_type": "code",
   "execution_count": null,
   "metadata": {},
   "outputs": [],
   "source": [
    "# dict, where KEY= tuple state, action and VALUE= cumulative reward"
   ]
  },
  {
   "cell_type": "code",
   "execution_count": 732,
   "metadata": {},
   "outputs": [],
   "source": [
    "possibleActions = ['DRIBBLE_UP', 'DRIBBLE_DOWN', 'DRIBBLE_LEFT', 'DRIBBLE_RIGHT', 'KICK']"
   ]
  },
  {
   "cell_type": "code",
   "execution_count": 733,
   "metadata": {},
   "outputs": [
    {
     "data": {
      "text/plain": [
       "'DRIBBLE_LEFT'"
      ]
     },
     "execution_count": 733,
     "metadata": {},
     "output_type": "execute_result"
    }
   ],
   "source": [
    "np.random.choice(possibleActions, 1)[0]"
   ]
  },
  {
   "cell_type": "code",
   "execution_count": 455,
   "metadata": {},
   "outputs": [
    {
     "name": "stdout",
     "output_type": "stream",
     "text": [
      "{(((1, 2), (2, 2)), 'KICK'): [[0]], (((0, 2), (2, 2)), 'DRIBBLE_UP'): [[3, 5, 0, 1, 3, 0]], (((0, 2), (2, 2)), 'DRIBBLE_RIGHT'): [[0, 1, 3, 0]], (((0, 2), (2, 2)), 'DRIBBLE_LEFT'): [[5, 0, 1, 3, 0]], (((0, 3), (2, 2)), 'KICK'): [[0, 3, 5, 0, 1, 3, 0]], (((1, 2), (2, 2)), 'DRIBBLE_DOWN'): [[1, 3, 0]], (((0, 4), (2, 2)), 'KICK'): [[3, 0]]}\n"
     ]
    }
   ],
   "source": [
    "for item in episodeStateActions.keys():\n",
    "  #  print('key: ',item)\n",
    " #   print('value: ',episodeStateActions[item][0])\n",
    "#    print('reward: ',sum(rewards[episodeStateActions[item][0]:]))\n",
    "    # Go to rewards and \n",
    "    if item not in returns.keys():\n",
    "        # add to dict\n",
    "        returns[item] = [rewards[episodeStateActions[item][0]:]]\n",
    "    else:\n",
    "        # append to list in dict entry\n",
    "        returns[item] += [rewards[episodeStateActions[item][0]:]]\n",
    "    \n",
    "print(returns)\n"
   ]
  },
  {
   "cell_type": "code",
   "execution_count": 497,
   "metadata": {},
   "outputs": [
    {
     "name": "stdout",
     "output_type": "stream",
     "text": [
      "{(((1, 2), (2, 2)), 'KICK'): 0.0, (((0, 2), (2, 2)), 'DRIBBLE_UP'): 2.0, (((0, 2), (2, 2)), 'DRIBBLE_RIGHT'): 1.0, (((0, 2), (2, 2)), 'DRIBBLE_LEFT'): 1.8, (((0, 3), (2, 2)), 'KICK'): 1.7142857142857142, (((1, 2), (2, 2)), 'DRIBBLE_DOWN'): 1.3333333333333333, (((0, 4), (2, 2)), 'KICK'): 1.5}\n"
     ]
    }
   ],
   "source": [
    "# test \n",
    "# \n",
    "# use keys in S,A to find first occurrence time(step) index\n",
    "# use index as slicer to average rewards since timestep\n",
    "# then append to Q as entry on dict where KEY= State action pair, VALUE= value\n",
    "\n",
    "Q = {}\n",
    "\n",
    "for item in episodeStateActions.keys():\n",
    "#    print(item)\n",
    "    Q[item] = np.average(rewards[episodeStateActions[item][0]:])\n",
    "    \n",
    "print(Q)\n"
   ]
  },
  {
   "cell_type": "code",
   "execution_count": 564,
   "metadata": {},
   "outputs": [
    {
     "name": "stdout",
     "output_type": "stream",
     "text": [
      "KICK\n"
     ]
    },
    {
     "data": {
      "text/plain": [
       "{(((1, 3), (2, 2)), 'DRIBBLE_DOWN'): 0.0,\n",
       " (((1, 3), (2, 2)), 'DRIBBLE_LEFT'): 0.0,\n",
       " (((1, 3), (2, 2)), 'KICK'): 1.0}"
      ]
     },
     "execution_count": 564,
     "metadata": {},
     "output_type": "execute_result"
    }
   ],
   "source": [
    "import operator\n",
    "\n",
    "# Find action with highest Q value given state\n",
    "\n",
    "Q= {(((1, 2), (2, 2)), 'DRIBBLE_RIGHT'): -0.4, (((0, 2), (2, 2)), 'KICK'): 1.0, (((0, 2), (2, 2)), 'DRIBBLE_DOWN'): 0.0, (((1, 2), (2, 2)), 'DRIBBLE_LEFT'): 0.0, (((0, 4), (2, 2)), 'DRIBBLE_UP'): 0.0, (((1, 4), (2, 2)), 'DRIBBLE_DOWN'): 0.0, (((1, 2), (2, 2)), 'DRIBBLE_DOWN'): 0.0, (((0, 4), (2, 2)), 'DRIBBLE_LEFT'): 0.0, (((0, 2), (2, 2)), 'DRIBBLE_RIGHT'): 0.0, (((1, 1), (2, 2)), 'KICK'): 0.0, (((1, 3), (2, 2)), 'DRIBBLE_DOWN'): 0.0, (((0, 3), (2, 2)), 'DRIBBLE_DOWN'): 0.0, (((0, 5), (2, 2)), 'DRIBBLE_UP'): 0.0, (((1, 1), (2, 2)), 'DRIBBLE_DOWN'): 0.0, (((0, 1), (2, 2)), 'DRIBBLE_RIGHT'): 0.0, (((0, 5), (2, 2)), 'DRIBBLE_LEFT'): 0.0, (((0, 1), (2, 2)), 'DRIBBLE_UP'): 0.0, (((1, 3), (2, 2)), 'KICK'): 1.0, (((0, 3), (2, 2)), 'KICK'): 0.0, (((0, 3), (2, 2)), 'DRIBBLE_RIGHT'): 0.0, (((0, 0), (2, 2)), 'KICK'): 0.0, (((1, 2), (2, 2)), 'KICK'): 0.0, (((0, 0), (2, 2)), 'DRIBBLE_UP'): 0.0, (((1, 3), (2, 2)), 'DRIBBLE_LEFT'): 0.0, (((0, 0), (2, 2)), 'DRIBBLE_DOWN'): 0.0, (((1, 2), (2, 2)), 'DRIBBLE_UP'): 0.0, (((0, 2), (2, 2)), 'DRIBBLE_UP'): 0.0, (((2, 2), (2, 2)), 'DRIBBLE_DOWN'): 0.0, (((0, 4), (2, 2)), 'KICK'): 0.0, (((0, 3), (2, 2)), 'DRIBBLE_UP'): 0.0, (((0, 4), (2, 2)), 'DRIBBLE_DOWN'): 0.0, (((0, 1), (2, 2)), 'KICK'): 0.0, (((0, 5), (2, 2)), 'DRIBBLE_RIGHT'): 0.0, (((1, 5), (2, 2)), 'KICK'): 0.0, (((0, 2), (2, 2)), 'DRIBBLE_LEFT'): 0.0}\n",
    "pair = (((1, 3), (2, 2)), 'KICK')\n",
    "\n",
    "# make subdict 'S' with all same S as in 'pair'\n",
    "S = {}\n",
    "for item in Q:\n",
    "    if item[0] == pair[0]:\n",
    "        S[item] = Q[item]\n",
    "\n",
    "# Get item of max value from dict\n",
    "Action = max(S.items(), key=operator.itemgetter(1))[0][1]\n",
    "print(Action)\n",
    "S\n",
    "# Get only Action, which should be the optimal one\n",
    "#action = stateAction[1]\n",
    "\n"
   ]
  },
  {
   "cell_type": "code",
   "execution_count": 739,
   "metadata": {},
   "outputs": [],
   "source": [
    "Q = {(((2, 3), (2, 2)), 'DRIBBLE_UP'): 0.005172413793103447, (((0, 4), (2, 2)), 'DRIBBLE_LEFT'): 0.011910669975186106, (((3, 1), (2, 2)), 'DRIBBLE_RIGHT'): 0.023880597014925373, (((3, 0), (2, 2)), 'DRIBBLE_RIGHT'): 0.023880597014925373, (((2, 3), (2, 2)), 'DRIBBLE_LEFT'): 0.010280373831775701, (((4, 1), (2, 2)), 'DRIBBLE_RIGHT'): 0.022857142857142857, (((0, 3), (2, 2)), 'DRIBBLE_DOWN'): 0.013069306930693069, (((2, 3), (2, 2)), 'DRIBBLE_DOWN'): 0.01090909090909091, (((1, 2), (2, 2)), 'DRIBBLE_UP'): 0.01288782816229117, (((0, 1), (2, 2)), 'DRIBBLE_DOWN'): 0.014028056112224449, (((0, 3), (2, 2)), 'DRIBBLE_UP'): 0.014141414141414142, (((0, 1), (2, 2)), 'DRIBBLE_UP'): 0.01388286334056399, (((1, 4), (2, 2)), 'DRIBBLE_RIGHT'): 0.013389121338912133, (((2, 3), (2, 2)), 'DRIBBLE_RIGHT'): 0.0073846153846153844, (((4, 5), (2, 2)), 'DRIBBLE_UP'): 0.013389121338912133, (((1, 0), (2, 2)), 'KICK'): 0.01027190332326284, (((2, 4), (2, 2)), 'DRIBBLE_RIGHT'): 0.013389121338912133, (((1, 0), (2, 2)), 'DRIBBLE_LEFT'): 0.01388286334056399, (((3, 1), (2, 2)), 'KICK'): 0.014028056112224449, (((1, 4), (2, 2)), 'KICK'): 0.010059171597633138, (((3, 1), (2, 2)), 'DRIBBLE_LEFT'): 0.01875, (((1, 1), (2, 2)), 'DRIBBLE_LEFT'): 0.014765100671140941, (((2, 3), (2, 2)), 'KICK'): 0.007407407407407407, (((0, 3), (2, 2)), 'DRIBBLE_RIGHT'): 0.012552301255230125, (((0, 2), (2, 2)), 'DRIBBLE_DOWN'): 0.013333333333333332, (((4, 1), (2, 2)), 'DRIBBLE_LEFT'): 0.023880597014925373, (((0, 4), (2, 2)), 'DRIBBLE_DOWN'): 0.013617021276595743, (((3, 4), (2, 2)), 'KICK'): 0.010461538461538463, (((1, 3), (2, 2)), 'KICK'): 0.014004376367614878, (((0, 2), (2, 2)), 'DRIBBLE_UP'): 0.013226452905811623, (((1, 3), (2, 2)), 'DRIBBLE_LEFT'): 0.010280373831775701, (((1, 0), (2, 2)), 'DRIBBLE_DOWN'): 0.013842482100238663, (((1, 1), (2, 2)), 'KICK'): 0.008540925266903915, (((1, 2), (2, 2)), 'DRIBBLE_DOWN'): 0.01312910284463895, (((1, 0), (2, 2)), 'DRIBBLE_UP'): 0.007843137254901962, (((2, 5), (2, 2)), 'DRIBBLE_RIGHT'): 0.013389121338912133, (((0, 0), (2, 2)), 'DRIBBLE_RIGHT'): 0.00703125, (((2, 4), (2, 2)), 'DRIBBLE_DOWN'): 0.009782608695652175, (((3, 2), (2, 2)), 'DRIBBLE_DOWN'): 0.007407407407407407, (((2, 2), (2, 2)), 'KICK'): 0.014314928425357873, (((0, 3), (2, 2)), 'KICK'): 0.014159292035398228, (((1, 1), (2, 2)), 'DRIBBLE_RIGHT'): 0.014028056112224449, (((0, 3), (2, 2)), 'DRIBBLE_LEFT'): 0.012616822429906542, (((2, 0), (2, 2)), 'DRIBBLE_DOWN'): 0.00988372093023256, (((0, 5), (2, 2)), 'DRIBBLE_LEFT'): 0.00782608695652174, (((0, 2), (2, 2)), 'DRIBBLE_LEFT'): 0.013226452905811625, (((1, 4), (2, 2)), 'DRIBBLE_UP'): 0.009137055837563452, (((1, 3), (2, 2)), 'DRIBBLE_UP'): 0.012213740458015269, (((1, 2), (2, 2)), 'DRIBBLE_RIGHT'): 0.014314928425357873, (((2, 2), (2, 2)), 'DRIBBLE_LEFT'): 0.00755813953488372, (((3, 4), (2, 2)), 'DRIBBLE_DOWN'): 0.01090909090909091, (((0, 0), (2, 2)), 'KICK'): 0.01388286334056399, (((1, 1), (2, 2)), 'DRIBBLE_UP'): 0.01388286334056399, (((1, 5), (2, 2)), 'DRIBBLE_LEFT'): 0.007756232686980609, (((0, 0), (2, 2)), 'DRIBBLE_LEFT'): 0.010106382978723403, (((0, 5), (2, 2)), 'DRIBBLE_DOWN'): 0.013617021276595743, (((3, 3), (2, 2)), 'DRIBBLE_UP'): 0.007407407407407407, (((0, 2), (2, 2)), 'KICK'): 0.014141414141414142, (((3, 5), (2, 2)), 'DRIBBLE_DOWN'): 0.01090909090909091, (((2, 5), (2, 2)), 'DRIBBLE_UP'): 0.009782608695652175, (((4, 3), (2, 2)), 'DRIBBLE_UP'): 0.013389121338912133, (((0, 5), (2, 2)), 'DRIBBLE_RIGHT'): 0.007407407407407407, (((0, 2), (2, 2)), 'DRIBBLE_RIGHT'): 0.01306930693069307, (((3, 5), (2, 2)), 'DRIBBLE_LEFT'): 0.013389121338912133, (((1, 3), (2, 2)), 'DRIBBLE_RIGHT'): 0.009782608695652175, (((1, 2), (2, 2)), 'KICK'): 0.006578947368421052, (((4, 0), (2, 2)), 'KICK'): 0.008955223880597015, (((2, 1), (2, 2)), 'DRIBBLE_LEFT'): 0.014028056112224449, (((1, 2), (2, 2)), 'DRIBBLE_LEFT'): 0.00988372093023256, (((0, 0), (2, 2)), 'DRIBBLE_DOWN'): 0.007531380753138075, (((2, 2), (2, 2)), 'DRIBBLE_UP'): 0.01139240506329114, (((0, 5), (2, 2)), 'KICK'): 0.007756232686980609, (((2, 1), (2, 2)), 'DRIBBLE_UP'): 0.008670520231213872, (((1, 5), (2, 2)), 'DRIBBLE_RIGHT'): 0.007407407407407407, (((2, 2), (2, 2)), 'DRIBBLE_DOWN'): 0.012616822429906542, (((3, 3), (2, 2)), 'DRIBBLE_LEFT'): 0.0073846153846153844, (((0, 1), (2, 2)), 'DRIBBLE_RIGHT'): 0.015132924335378321, (((0, 5), (2, 2)), 'DRIBBLE_UP'): 0.013617021276595743, (((2, 4), (2, 2)), 'DRIBBLE_UP'): 0.007407407407407407, (((1, 5), (2, 2)), 'KICK'): 0.004347826086956522, (((0, 4), (2, 2)), 'DRIBBLE_RIGHT'): 0.010059171597633138, (((4, 0), (2, 2)), 'DRIBBLE_DOWN'): 0.023880597014925373, (((4, 2), (2, 2)), 'KICK'): 0.015481171548117154, (((1, 1), (2, 2)), 'DRIBBLE_DOWN'): 0.013551401869158878, (((1, 4), (2, 2)), 'DRIBBLE_DOWN'): 0.007756232686980609, (((3, 4), (2, 2)), 'DRIBBLE_LEFT'): 0.009782608695652175, (((0, 4), (2, 2)), 'KICK'): 0.013861386138613862, (((2, 5), (2, 2)), 'KICK'): 0.01090909090909091, (((4, 4), (2, 2)), 'DRIBBLE_UP'): 0.013389121338912133, (((4, 1), (2, 2)), 'DRIBBLE_UP'): 0.008955223880597015, (((2, 5), (2, 2)), 'DRIBBLE_LEFT'): 0.004347826086956522, (((0, 1), (2, 2)), 'KICK'): 0.012605042016806723, (((0, 1), (2, 2)), 'DRIBBLE_LEFT'): 0.014314928425357873, (((1, 3), (2, 2)), 'DRIBBLE_DOWN'): 0.013389121338912133, (((2, 1), (2, 2)), 'KICK'): 0.015602836879432626, (((3, 3), (2, 2)), 'DRIBBLE_DOWN'): 0.00967741935483871, (((0, 4), (2, 2)), 'DRIBBLE_UP'): 0.013617021276595743, (((4, 3), (2, 2)), 'DRIBBLE_LEFT'): 0.009782608695652175, (((0, 0), (2, 2)), 'DRIBBLE_UP'): 0.010106382978723403, (((2, 0), (2, 2)), 'DRIBBLE_RIGHT'): 0.023880597014925373}"
   ]
  }
 ],
 "metadata": {
  "kernelspec": {
   "display_name": "Python 3",
   "language": "python",
   "name": "python3"
  },
  "language_info": {
   "codemirror_mode": {
    "name": "ipython",
    "version": 3
   },
   "file_extension": ".py",
   "mimetype": "text/x-python",
   "name": "python",
   "nbconvert_exporter": "python",
   "pygments_lexer": "ipython3",
   "version": "3.5.4"
  }
 },
 "nbformat": 4,
 "nbformat_minor": 2
}
