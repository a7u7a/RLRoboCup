{
 "cells": [
  {
   "cell_type": "code",
   "execution_count": 1,
   "metadata": {},
   "outputs": [],
   "source": [
    "from collections import defaultdict\n",
    "import numpy as np"
   ]
  },
  {
   "cell_type": "code",
   "execution_count": 562,
   "metadata": {},
   "outputs": [
    {
     "data": {
      "text/plain": [
       "defaultdict(float, {})"
      ]
     },
     "execution_count": 562,
     "metadata": {},
     "output_type": "execute_result"
    }
   ],
   "source": [
    "hello = defaultdict(float)\n",
    "hello"
   ]
  },
  {
   "cell_type": "code",
   "execution_count": 21,
   "metadata": {},
   "outputs": [
    {
     "data": {
      "text/plain": [
       "defaultdict(float, {0: 0.1, 1: 0.1, 5: 1.0, 8: 0.1})"
      ]
     },
     "execution_count": 21,
     "metadata": {},
     "output_type": "execute_result"
    }
   ],
   "source": [
    "hello[5] += 0.7\n",
    "hello"
   ]
  },
  {
   "cell_type": "code",
   "execution_count": 13,
   "metadata": {},
   "outputs": [
    {
     "ename": "TypeError",
     "evalue": "'int' object is not iterable",
     "output_type": "error",
     "traceback": [
      "\u001b[0;31m---------------------------------------------------------------------------\u001b[0m",
      "\u001b[0;31mTypeError\u001b[0m                                 Traceback (most recent call last)",
      "\u001b[0;32m<ipython-input-13-2c1cc98a2f10>\u001b[0m in \u001b[0;36m<module>\u001b[0;34m()\u001b[0m\n\u001b[1;32m      1\u001b[0m \u001b[0md\u001b[0m \u001b[0;34m=\u001b[0m \u001b[0mdefaultdict\u001b[0m\u001b[0;34m(\u001b[0m\u001b[0mfloat\u001b[0m\u001b[0;34m)\u001b[0m\u001b[0;34m\u001b[0m\u001b[0m\n\u001b[0;32m----> 2\u001b[0;31m \u001b[0;32mfor\u001b[0m \u001b[0mk\u001b[0m\u001b[0;34m,\u001b[0m \u001b[0mv\u001b[0m \u001b[0;32min\u001b[0m \u001b[0mrange\u001b[0m\u001b[0;34m(\u001b[0m\u001b[0;36m10\u001b[0m\u001b[0;34m)\u001b[0m\u001b[0;34m:\u001b[0m\u001b[0;34m\u001b[0m\u001b[0m\n\u001b[0m\u001b[1;32m      3\u001b[0m     \u001b[0md\u001b[0m\u001b[0;34m[\u001b[0m\u001b[0mk\u001b[0m\u001b[0;34m]\u001b[0m\u001b[0;34m.\u001b[0m\u001b[0mappend\u001b[0m\u001b[0;34m(\u001b[0m\u001b[0mv\u001b[0m\u001b[0;34m)\u001b[0m\u001b[0;34m\u001b[0m\u001b[0m\n\u001b[1;32m      4\u001b[0m \u001b[0mprint\u001b[0m\u001b[0;34m(\u001b[0m\u001b[0md\u001b[0m\u001b[0;34m)\u001b[0m\u001b[0;34m\u001b[0m\u001b[0m\n",
      "\u001b[0;31mTypeError\u001b[0m: 'int' object is not iterable"
     ]
    }
   ],
   "source": [
    "d = defaultdict(float)\n",
    "for k, v in range(10):\n",
    "    d[k].append(v)\n",
    "print(d)"
   ]
  },
  {
   "cell_type": "code",
   "execution_count": 36,
   "metadata": {},
   "outputs": [
    {
     "data": {
      "text/plain": [
       "{(0, 1): 0.76}"
      ]
     },
     "execution_count": 36,
     "metadata": {},
     "output_type": "execute_result"
    }
   ],
   "source": [
    "# Could be used to work with state, action pairs\n",
    "hola = {(0,1):0.76}\n",
    "hola"
   ]
  },
  {
   "cell_type": "code",
   "execution_count": 300,
   "metadata": {},
   "outputs": [],
   "source": [
    "hola = {}"
   ]
  },
  {
   "cell_type": "code",
   "execution_count": 302,
   "metadata": {},
   "outputs": [
    {
     "data": {
      "text/plain": [
       "dict"
      ]
     },
     "execution_count": 302,
     "metadata": {},
     "output_type": "execute_result"
    }
   ],
   "source": [
    "type(hola)"
   ]
  },
  {
   "cell_type": "code",
   "execution_count": 307,
   "metadata": {},
   "outputs": [],
   "source": [
    "\n",
    "# to check if state, action pair exist in dict\n",
    "state = (0,7)\n",
    "if state not in hola.keys():\n",
    "    hola[state]=0.1"
   ]
  },
  {
   "cell_type": "code",
   "execution_count": 348,
   "metadata": {},
   "outputs": [],
   "source": [
    "reward = 1\n",
    "state = (0,2)\n",
    "action = 'KICK'\n",
    "pair = (state,action)"
   ]
  },
  {
   "cell_type": "code",
   "execution_count": 353,
   "metadata": {},
   "outputs": [
    {
     "data": {
      "text/plain": [
       "tuple"
      ]
     },
     "execution_count": 353,
     "metadata": {},
     "output_type": "execute_result"
    }
   ],
   "source": [
    "type(pair)"
   ]
  },
  {
   "cell_type": "code",
   "execution_count": 354,
   "metadata": {},
   "outputs": [
    {
     "data": {
      "text/plain": [
       "[0, 1, 2]"
      ]
     },
     "execution_count": 354,
     "metadata": {},
     "output_type": "execute_result"
    }
   ],
   "source": [
    "hello = [0,1,2]\n",
    "hello"
   ]
  },
  {
   "cell_type": "code",
   "execution_count": 355,
   "metadata": {},
   "outputs": [
    {
     "data": {
      "text/plain": [
       "(0, 1, 2)"
      ]
     },
     "execution_count": 355,
     "metadata": {},
     "output_type": "execute_result"
    }
   ],
   "source": [
    "tuple(hello)"
   ]
  },
  {
   "cell_type": "code",
   "execution_count": 351,
   "metadata": {},
   "outputs": [],
   "source": [
    "if pair not in G.keys():\n",
    "    # add pair to G and reward as list\n",
    "    G[pair] = [reward]\n",
    "else:\n",
    "    G[pair] += [reward]"
   ]
  },
  {
   "cell_type": "code",
   "execution_count": 352,
   "metadata": {},
   "outputs": [
    {
     "data": {
      "text/plain": [
       "{((0, 2), 'KICK'): [1], ((0, 7), 'KICK'): [0.5, 0.8, 0.9]}"
      ]
     },
     "execution_count": 352,
     "metadata": {},
     "output_type": "execute_result"
    }
   ],
   "source": [
    "G"
   ]
  },
  {
   "cell_type": "code",
   "execution_count": 350,
   "metadata": {},
   "outputs": [
    {
     "data": {
      "text/plain": [
       "{((0, 7), 'KICK'): [0.5, 0.8, 0.9]}"
      ]
     },
     "execution_count": 350,
     "metadata": {},
     "output_type": "execute_result"
    }
   ],
   "source": [
    "# G = dict, where KEY= tuple state, action and VALUE= list of rewards \n",
    "G = {((0,7),'KICK'):[0.5,0.8,0.9]}\n",
    "G"
   ]
  },
  {
   "cell_type": "code",
   "execution_count": 343,
   "metadata": {},
   "outputs": [
    {
     "data": {
      "text/plain": [
       "{((0, 7), 'KICK'): [0.5, 0.8, 0.9, 0.588, 0.588, 0.588]}"
      ]
     },
     "execution_count": 343,
     "metadata": {},
     "output_type": "execute_result"
    }
   ],
   "source": [
    "G[(0,7),'KICK']+=[0.588]\n",
    "G"
   ]
  },
  {
   "cell_type": "code",
   "execution_count": 356,
   "metadata": {},
   "outputs": [
    {
     "data": {
      "text/plain": [
       "{((0, 2), 'KICK'): [1], ((0, 7), 'KICK'): [0.5, 0.8, 0.9]}"
      ]
     },
     "execution_count": 356,
     "metadata": {},
     "output_type": "execute_result"
    }
   ],
   "source": [
    "G"
   ]
  },
  {
   "cell_type": "code",
   "execution_count": 359,
   "metadata": {},
   "outputs": [
    {
     "ename": "SyntaxError",
     "evalue": "invalid syntax (<ipython-input-359-dc0e21609876>, line 1)",
     "output_type": "error",
     "traceback": [
      "\u001b[0;36m  File \u001b[0;32m\"<ipython-input-359-dc0e21609876>\"\u001b[0;36m, line \u001b[0;32m1\u001b[0m\n\u001b[0;31m    G[]+=10\u001b[0m\n\u001b[0m      ^\u001b[0m\n\u001b[0;31mSyntaxError\u001b[0m\u001b[0;31m:\u001b[0m invalid syntax\n"
     ]
    }
   ],
   "source": [
    "G+=10"
   ]
  },
  {
   "cell_type": "code",
   "execution_count": null,
   "metadata": {},
   "outputs": [],
   "source": [
    "# dict, where KEY= tuple state, action and VALUE= cumulative reward"
   ]
  },
  {
   "cell_type": "code",
   "execution_count": 37,
   "metadata": {},
   "outputs": [],
   "source": [
    "possibleActions = ['DRIBBLE_UP', 'DRIBBLE_DOWN', 'DRIBBLE_LEFT', 'DRIBBLE_RIGHT', 'KICK']"
   ]
  },
  {
   "cell_type": "code",
   "execution_count": 298,
   "metadata": {},
   "outputs": [],
   "source": [
    "nonGreedy = (epsilon/len(possibleActions))"
   ]
  },
  {
   "cell_type": "code",
   "execution_count": 299,
   "metadata": {},
   "outputs": [
    {
     "data": {
      "text/plain": [
       "float"
      ]
     },
     "execution_count": 299,
     "metadata": {},
     "output_type": "execute_result"
    }
   ],
   "source": [
    "type(nonGreedy)"
   ]
  },
  {
   "cell_type": "code",
   "execution_count": 294,
   "metadata": {},
   "outputs": [
    {
     "data": {
      "text/plain": [
       "'DRIBBLE_RIGHT'"
      ]
     },
     "execution_count": 294,
     "metadata": {},
     "output_type": "execute_result"
    }
   ],
   "source": [
    "np.random.choice(possibleActions, 1)[0]"
   ]
  },
  {
   "cell_type": "code",
   "execution_count": 278,
   "metadata": {},
   "outputs": [
    {
     "name": "stdout",
     "output_type": "stream",
     "text": [
      "Greedy:  0.2\n",
      "nonGreedy:  0.2\n",
      "Optimal action\n",
      "[0.75603971]\n"
     ]
    }
   ],
   "source": [
    "epsilon = 1\n",
    "greedy = (1-epsilon)+(epsilon/len(possibleActions))\n",
    "print('Greedy: ', greedy)\n",
    "nonGreedy = (epsilon/len(possibleActions))\n",
    "print('nonGreedy: ', nonGreedy)\n",
    "\n",
    "p = np.random.uniform(0,1,1)\n",
    "if p > nonGreedy:\n",
    "    print('Optimal action')\n",
    "else:\n",
    "    print('Random action')\n",
    "print(p)"
   ]
  },
  {
   "cell_type": "code",
   "execution_count": null,
   "metadata": {},
   "outputs": [],
   "source": [
    "pair = (tuple(self.currentState), self.actionTaken)\n",
    "\t\t# Check if state-action pair already exists in G\n",
    "\t\tif pair not in self.G.keys():\n",
    "\t\t\tself.G[pair] = [self.reward]\n",
    "\t\telse:\n",
    "\t\t\tself.G[pair] += [self.reward]"
   ]
  },
  {
   "cell_type": "code",
   "execution_count": 475,
   "metadata": {},
   "outputs": [],
   "source": [
    "stuff = {}"
   ]
  },
  {
   "cell_type": "code",
   "execution_count": 476,
   "metadata": {},
   "outputs": [],
   "source": [
    "stuff['duh'] = [1]"
   ]
  },
  {
   "cell_type": "code",
   "execution_count": 477,
   "metadata": {},
   "outputs": [
    {
     "data": {
      "text/plain": [
       "{'duh': [1]}"
      ]
     },
     "execution_count": 477,
     "metadata": {},
     "output_type": "execute_result"
    }
   ],
   "source": [
    "stuff"
   ]
  },
  {
   "cell_type": "code",
   "execution_count": 363,
   "metadata": {},
   "outputs": [],
   "source": [
    "hello = [0,1,3]"
   ]
  },
  {
   "cell_type": "code",
   "execution_count": 365,
   "metadata": {},
   "outputs": [],
   "source": [
    "hello += [1]"
   ]
  },
  {
   "cell_type": "code",
   "execution_count": 366,
   "metadata": {},
   "outputs": [
    {
     "data": {
      "text/plain": [
       "[0, 1, 3, 1]"
      ]
     },
     "execution_count": 366,
     "metadata": {},
     "output_type": "execute_result"
    }
   ],
   "source": [
    "hello"
   ]
  },
  {
   "cell_type": "code",
   "execution_count": 472,
   "metadata": {},
   "outputs": [],
   "source": [
    "returns = {}"
   ]
  },
  {
   "cell_type": "code",
   "execution_count": 473,
   "metadata": {},
   "outputs": [],
   "source": [
    "episodeStateActions={(((0, 3), (2, 2)), 'KICK'): [0],\n",
    "(((0, 2), (2, 2)), 'DRIBBLE_UP'): [1],\n",
    "(((0, 2), (2, 2)), 'DRIBBLE_LEFT'): [2],\n",
    "(((0, 2), (2, 2)), 'DRIBBLE_RIGHT'): [3],\n",
    "(((1, 2), (2, 2)), 'DRIBBLE_DOWN'): [4],\n",
    "(((0, 4), (2, 2)), 'KICK'): [5],\n",
    "(((1, 2), (2, 2)), 'KICK'): [6]}"
   ]
  },
  {
   "cell_type": "code",
   "execution_count": 474,
   "metadata": {},
   "outputs": [
    {
     "name": "stdout",
     "output_type": "stream",
     "text": [
      "12\n"
     ]
    }
   ],
   "source": [
    "rewards = [0,3,5,0,1,3,0]\n",
    "print(sum(rewards))"
   ]
  },
  {
   "cell_type": "code",
   "execution_count": 455,
   "metadata": {},
   "outputs": [
    {
     "name": "stdout",
     "output_type": "stream",
     "text": [
      "{(((1, 2), (2, 2)), 'KICK'): [[0]], (((0, 2), (2, 2)), 'DRIBBLE_UP'): [[3, 5, 0, 1, 3, 0]], (((0, 2), (2, 2)), 'DRIBBLE_RIGHT'): [[0, 1, 3, 0]], (((0, 2), (2, 2)), 'DRIBBLE_LEFT'): [[5, 0, 1, 3, 0]], (((0, 3), (2, 2)), 'KICK'): [[0, 3, 5, 0, 1, 3, 0]], (((1, 2), (2, 2)), 'DRIBBLE_DOWN'): [[1, 3, 0]], (((0, 4), (2, 2)), 'KICK'): [[3, 0]]}\n"
     ]
    }
   ],
   "source": [
    "for item in episodeStateActions.keys():\n",
    "  #  print('key: ',item)\n",
    " #   print('value: ',episodeStateActions[item][0])\n",
    "#    print('reward: ',sum(rewards[episodeStateActions[item][0]:]))\n",
    "    # Go to rewards and \n",
    "    if item not in returns.keys():\n",
    "        # add to dict\n",
    "        returns[item] = [rewards[episodeStateActions[item][0]:]]\n",
    "    else:\n",
    "        # append to list in dict entry\n",
    "        returns[item] += [rewards[episodeStateActions[item][0]:]]\n",
    "    \n",
    "print(returns)\n"
   ]
  },
  {
   "cell_type": "code",
   "execution_count": 461,
   "metadata": {},
   "outputs": [
    {
     "data": {
      "text/plain": [
       "dict"
      ]
     },
     "execution_count": 461,
     "metadata": {},
     "output_type": "execute_result"
    }
   ],
   "source": [
    "type(returns)"
   ]
  },
  {
   "cell_type": "code",
   "execution_count": 471,
   "metadata": {},
   "outputs": [
    {
     "name": "stdout",
     "output_type": "stream",
     "text": [
      "0.0\n",
      "2.0\n",
      "1.0\n",
      "1.8\n",
      "1.7142857142857142\n",
      "1.3333333333333333\n",
      "1.5\n"
     ]
    }
   ],
   "source": [
    "for item in returns.keys():\n",
    "    Q = np.average(returns[item][0]))"
   ]
  },
  {
   "cell_type": "code",
   "execution_count": 486,
   "metadata": {},
   "outputs": [],
   "source": [
    "Q = {}"
   ]
  },
  {
   "cell_type": "code",
   "execution_count": 497,
   "metadata": {},
   "outputs": [
    {
     "name": "stdout",
     "output_type": "stream",
     "text": [
      "{(((1, 2), (2, 2)), 'KICK'): 0.0, (((0, 2), (2, 2)), 'DRIBBLE_UP'): 2.0, (((0, 2), (2, 2)), 'DRIBBLE_RIGHT'): 1.0, (((0, 2), (2, 2)), 'DRIBBLE_LEFT'): 1.8, (((0, 3), (2, 2)), 'KICK'): 1.7142857142857142, (((1, 2), (2, 2)), 'DRIBBLE_DOWN'): 1.3333333333333333, (((0, 4), (2, 2)), 'KICK'): 1.5}\n"
     ]
    }
   ],
   "source": [
    "# test \n",
    "# \n",
    "# use keys in S,A to find first occurrence time(step) index\n",
    "# use index as slicer to average rewards since timestep\n",
    "# then append to Q as entry on dict where KEY= State action pair, VALUE= value\n",
    "\n",
    "for item in episodeStateActions.keys():\n",
    "#    print(item)\n",
    "    Q[item] = np.average(rewards[episodeStateActions[item][0]:])\n",
    "    \n",
    "print(Q)\n"
   ]
  },
  {
   "cell_type": "code",
   "execution_count": 488,
   "metadata": {},
   "outputs": [
    {
     "data": {
      "text/plain": [
       "1.0"
      ]
     },
     "execution_count": 488,
     "metadata": {},
     "output_type": "execute_result"
    }
   ],
   "source": [
    "hello = [0, 1, 3, 0]\n",
    "np.average(hello)"
   ]
  },
  {
   "cell_type": "code",
   "execution_count": 503,
   "metadata": {},
   "outputs": [
    {
     "data": {
      "text/plain": [
       "3"
      ]
     },
     "execution_count": 503,
     "metadata": {},
     "output_type": "execute_result"
    }
   ],
   "source": [
    "hello = {'one':3}\n",
    "hello['one']"
   ]
  },
  {
   "cell_type": "code",
   "execution_count": 494,
   "metadata": {},
   "outputs": [],
   "source": [
    "hello += [0]"
   ]
  },
  {
   "cell_type": "code",
   "execution_count": 495,
   "metadata": {},
   "outputs": [
    {
     "data": {
      "text/plain": [
       "[0]"
      ]
     },
     "execution_count": 495,
     "metadata": {},
     "output_type": "execute_result"
    }
   ],
   "source": [
    "hello"
   ]
  },
  {
   "cell_type": "code",
   "execution_count": 504,
   "metadata": {},
   "outputs": [
    {
     "ename": "SyntaxError",
     "evalue": "invalid syntax (<ipython-input-504-cf5b9d1dfa01>, line 1)",
     "output_type": "error",
     "traceback": [
      "\u001b[0;36m  File \u001b[0;32m\"<ipython-input-504-cf5b9d1dfa01>\"\u001b[0;36m, line \u001b[0;32m1\u001b[0m\n\u001b[0;31m    use state to find best action given\u001b[0m\n\u001b[0m            ^\u001b[0m\n\u001b[0;31mSyntaxError\u001b[0m\u001b[0;31m:\u001b[0m invalid syntax\n"
     ]
    }
   ],
   "source": [
    "use state to find best action given "
   ]
  },
  {
   "cell_type": "code",
   "execution_count": 506,
   "metadata": {},
   "outputs": [],
   "source": [
    "bb = [0,1,2]"
   ]
  },
  {
   "cell_type": "code",
   "execution_count": 507,
   "metadata": {},
   "outputs": [],
   "source": [
    "w = 'hello'"
   ]
  },
  {
   "cell_type": "code",
   "execution_count": 508,
   "metadata": {},
   "outputs": [],
   "source": [
    "pair = (bb,w)"
   ]
  },
  {
   "cell_type": "code",
   "execution_count": 509,
   "metadata": {},
   "outputs": [
    {
     "data": {
      "text/plain": [
       "tuple"
      ]
     },
     "execution_count": 509,
     "metadata": {},
     "output_type": "execute_result"
    }
   ],
   "source": [
    "type(pair)"
   ]
  },
  {
   "cell_type": "code",
   "execution_count": 510,
   "metadata": {},
   "outputs": [],
   "source": [
    "Q= {(((1, 2), (2, 2)), 'DRIBBLE_RIGHT'): -0.4, (((0, 2), (2, 2)), 'KICK'): 1.0, (((0, 2), (2, 2)), 'DRIBBLE_DOWN'): 0.0, (((1, 2), (2, 2)), 'DRIBBLE_LEFT'): 0.0, (((0, 4), (2, 2)), 'DRIBBLE_UP'): 0.0, (((1, 4), (2, 2)), 'DRIBBLE_DOWN'): 0.0, (((1, 2), (2, 2)), 'DRIBBLE_DOWN'): 0.0, (((0, 4), (2, 2)), 'DRIBBLE_LEFT'): 0.0, (((0, 2), (2, 2)), 'DRIBBLE_RIGHT'): 0.0, (((1, 1), (2, 2)), 'KICK'): 0.0, (((1, 3), (2, 2)), 'DRIBBLE_DOWN'): 0.0, (((0, 3), (2, 2)), 'DRIBBLE_DOWN'): 0.0, (((0, 5), (2, 2)), 'DRIBBLE_UP'): 0.0, (((1, 1), (2, 2)), 'DRIBBLE_DOWN'): 0.0, (((0, 1), (2, 2)), 'DRIBBLE_RIGHT'): 0.0, (((0, 5), (2, 2)), 'DRIBBLE_LEFT'): 0.0, (((0, 1), (2, 2)), 'DRIBBLE_UP'): 0.0, (((1, 3), (2, 2)), 'KICK'): 1.0, (((0, 3), (2, 2)), 'KICK'): 0.0, (((0, 3), (2, 2)), 'DRIBBLE_RIGHT'): 0.0, (((0, 0), (2, 2)), 'KICK'): 0.0, (((1, 2), (2, 2)), 'KICK'): 0.0, (((0, 0), (2, 2)), 'DRIBBLE_UP'): 0.0, (((1, 3), (2, 2)), 'DRIBBLE_LEFT'): 0.0, (((0, 0), (2, 2)), 'DRIBBLE_DOWN'): 0.0, (((1, 2), (2, 2)), 'DRIBBLE_UP'): 0.0, (((0, 2), (2, 2)), 'DRIBBLE_UP'): 0.0, (((2, 2), (2, 2)), 'DRIBBLE_DOWN'): 0.0, (((0, 4), (2, 2)), 'KICK'): 0.0, (((0, 3), (2, 2)), 'DRIBBLE_UP'): 0.0, (((0, 4), (2, 2)), 'DRIBBLE_DOWN'): 0.0, (((0, 1), (2, 2)), 'KICK'): 0.0, (((0, 5), (2, 2)), 'DRIBBLE_RIGHT'): 0.0, (((1, 5), (2, 2)), 'KICK'): 0.0, (((0, 2), (2, 2)), 'DRIBBLE_LEFT'): 0.0}"
   ]
  },
  {
   "cell_type": "code",
   "execution_count": 547,
   "metadata": {},
   "outputs": [],
   "source": [
    "pair = (((1, 3), (2, 2)), 'KICK')"
   ]
  },
  {
   "cell_type": "code",
   "execution_count": 564,
   "metadata": {},
   "outputs": [
    {
     "name": "stdout",
     "output_type": "stream",
     "text": [
      "KICK\n"
     ]
    },
    {
     "data": {
      "text/plain": [
       "{(((1, 3), (2, 2)), 'DRIBBLE_DOWN'): 0.0,\n",
       " (((1, 3), (2, 2)), 'DRIBBLE_LEFT'): 0.0,\n",
       " (((1, 3), (2, 2)), 'KICK'): 1.0}"
      ]
     },
     "execution_count": 564,
     "metadata": {},
     "output_type": "execute_result"
    }
   ],
   "source": [
    "import operator\n",
    "\n",
    "# Find action with highest Q value given state\n",
    "\n",
    "Q= {(((1, 2), (2, 2)), 'DRIBBLE_RIGHT'): -0.4, (((0, 2), (2, 2)), 'KICK'): 1.0, (((0, 2), (2, 2)), 'DRIBBLE_DOWN'): 0.0, (((1, 2), (2, 2)), 'DRIBBLE_LEFT'): 0.0, (((0, 4), (2, 2)), 'DRIBBLE_UP'): 0.0, (((1, 4), (2, 2)), 'DRIBBLE_DOWN'): 0.0, (((1, 2), (2, 2)), 'DRIBBLE_DOWN'): 0.0, (((0, 4), (2, 2)), 'DRIBBLE_LEFT'): 0.0, (((0, 2), (2, 2)), 'DRIBBLE_RIGHT'): 0.0, (((1, 1), (2, 2)), 'KICK'): 0.0, (((1, 3), (2, 2)), 'DRIBBLE_DOWN'): 0.0, (((0, 3), (2, 2)), 'DRIBBLE_DOWN'): 0.0, (((0, 5), (2, 2)), 'DRIBBLE_UP'): 0.0, (((1, 1), (2, 2)), 'DRIBBLE_DOWN'): 0.0, (((0, 1), (2, 2)), 'DRIBBLE_RIGHT'): 0.0, (((0, 5), (2, 2)), 'DRIBBLE_LEFT'): 0.0, (((0, 1), (2, 2)), 'DRIBBLE_UP'): 0.0, (((1, 3), (2, 2)), 'KICK'): 1.0, (((0, 3), (2, 2)), 'KICK'): 0.0, (((0, 3), (2, 2)), 'DRIBBLE_RIGHT'): 0.0, (((0, 0), (2, 2)), 'KICK'): 0.0, (((1, 2), (2, 2)), 'KICK'): 0.0, (((0, 0), (2, 2)), 'DRIBBLE_UP'): 0.0, (((1, 3), (2, 2)), 'DRIBBLE_LEFT'): 0.0, (((0, 0), (2, 2)), 'DRIBBLE_DOWN'): 0.0, (((1, 2), (2, 2)), 'DRIBBLE_UP'): 0.0, (((0, 2), (2, 2)), 'DRIBBLE_UP'): 0.0, (((2, 2), (2, 2)), 'DRIBBLE_DOWN'): 0.0, (((0, 4), (2, 2)), 'KICK'): 0.0, (((0, 3), (2, 2)), 'DRIBBLE_UP'): 0.0, (((0, 4), (2, 2)), 'DRIBBLE_DOWN'): 0.0, (((0, 1), (2, 2)), 'KICK'): 0.0, (((0, 5), (2, 2)), 'DRIBBLE_RIGHT'): 0.0, (((1, 5), (2, 2)), 'KICK'): 0.0, (((0, 2), (2, 2)), 'DRIBBLE_LEFT'): 0.0}\n",
    "pair = (((1, 3), (2, 2)), 'KICK')\n",
    "\n",
    "# make subdict 'S' with all same S as in 'pair'\n",
    "S = {}\n",
    "for item in Q:\n",
    "    if item[0] == pair[0]:\n",
    "        S[item] = Q[item]\n",
    "\n",
    "# Get item of max value from dict\n",
    "Action = max(S.items(), key=operator.itemgetter(1))[0][1]\n",
    "print(Action)\n",
    "S\n",
    "# Get only Action, which should be the optimal one\n",
    "#action = stateAction[1]\n",
    "\n"
   ]
  },
  {
   "cell_type": "code",
   "execution_count": null,
   "metadata": {},
   "outputs": [],
   "source": [
    "# find max"
   ]
  },
  {
   "cell_type": "code",
   "execution_count": 553,
   "metadata": {},
   "outputs": [
    {
     "data": {
      "text/plain": [
       "(((1, 3), (2, 2)), 'KICK')"
      ]
     },
     "execution_count": 553,
     "metadata": {},
     "output_type": "execute_result"
    }
   ],
   "source": [
    "\n",
    "\n",
    "max(S.items(), key=operator.itemgetter(1))[0]"
   ]
  },
  {
   "cell_type": "code",
   "execution_count": 568,
   "metadata": {},
   "outputs": [
    {
     "name": "stdout",
     "output_type": "stream",
     "text": [
      "hello\n"
     ]
    }
   ],
   "source": [
    "episodeStateActions={(((0, 3), (2, 2)), 'KICK'): [0],\n",
    "(((0, 2), (2, 2)), 'DRIBBLE_UP'): [1],\n",
    "(((0, 2), (2, 2)), 'DRIBBLE_LEFT'): [2],\n",
    "(((0, 2), (2, 2)), 'DRIBBLE_RIGHT'): [3],\n",
    "(((1, 2), (2, 2)), 'DRIBBLE_DOWN'): [4],\n",
    "(((0, 4), (2, 2)), 'KICK'): [5],\n",
    "(((1, 2), (2, 2)), 'KICK'): [6]}\n",
    "\n",
    "pair = ((((1, 2), (2, 2)), 'PADDLE'))\n",
    "\n",
    "if pair not in episodeStateActions.keys():\n",
    "    print('hello')"
   ]
  },
  {
   "cell_type": "code",
   "execution_count": 570,
   "metadata": {},
   "outputs": [
    {
     "data": {
      "text/plain": [
       "tuple"
      ]
     },
     "execution_count": 570,
     "metadata": {},
     "output_type": "execute_result"
    }
   ],
   "source": [
    "type(pair[0])"
   ]
  },
  {
   "cell_type": "code",
   "execution_count": 606,
   "metadata": {},
   "outputs": [],
   "source": [
    "hello = {(3, 0): 1,(3, 3): 2,(6, 1): 5}"
   ]
  },
  {
   "cell_type": "code",
   "execution_count": 609,
   "metadata": {},
   "outputs": [],
   "source": [
    "hello[(3,0)]= hello[(3,0)]+1"
   ]
  },
  {
   "cell_type": "code",
   "execution_count": 610,
   "metadata": {},
   "outputs": [
    {
     "data": {
      "text/plain": [
       "{(3, 0): 2, (3, 3): 2, (6, 1): 5}"
      ]
     },
     "execution_count": 610,
     "metadata": {},
     "output_type": "execute_result"
    }
   ],
   "source": [
    "hello"
   ]
  },
  {
   "cell_type": "code",
   "execution_count": 694,
   "metadata": {},
   "outputs": [],
   "source": [
    "values={(((2, 2), (2, 2)), 'DRIBBLE_UP'): 0.0, (((2, 2), (2, 2)), 'DRIBBLE_UP'): 1.0,(((2, 2), (2, 2)), 'DRIBBLE_UP'): 1.0,  (((2, 1), (2, 2)), 'DRIBBLE_LEFT'): 0.0, (((0, 2), (2, 2)), 'DRIBBLE_LEFT'): 0.0, (((0, 0), (2, 2)), 'DRIBBLE_DOWN'): 0.0, (((0, 4), (2, 2)), 'DRIBBLE_RIGHT'): 0.0, (((0, 0), (2, 2)), 'DRIBBLE_UP'): 0.0, (((3, 2), (2, 2)), 'DRIBBLE_LEFT'): -0.4, (((2, 4), (2, 2)), 'KICK'): 0.0, (((2, 4), (2, 2)), 'DRIBBLE_DOWN'): 0.0, (((1, 3), (2, 2)), 'KICK'): 0.0, (((2, 1), (2, 2)), 'KICK'): 0.0, (((3, 4), (2, 2)), 'KICK'): 0.0, (((2, 2), (2, 2)), 'DRIBBLE_DOWN'): 0.0, (((1, 1), (2, 2)), 'DRIBBLE_RIGHT'): 0.0, (((2, 1), (2, 2)), 'DRIBBLE_UP'): -0.4, (((1, 2), (2, 2)), 'DRIBBLE_UP'): 0.0, (((0, 1), (2, 2)), 'DRIBBLE_LEFT'): 0.0, (((1, 4), (2, 2)), 'DRIBBLE_DOWN'): 0.0, (((4, 2), (2, 2)), 'KICK'): 1.0, (((0, 3), (2, 2)), 'DRIBBLE_LEFT'): 0.0, (((0, 5), (2, 2)), 'DRIBBLE_DOWN'): 0.0, (((1, 5), (2, 2)), 'DRIBBLE_UP'): 0.0, (((3, 1), (2, 2)), 'DRIBBLE_RIGHT'): 0.0, (((2, 0), (2, 2)), 'DRIBBLE_RIGHT'): 0.0, (((3, 0), (2, 2)), 'DRIBBLE_RIGHT'): 0.0, (((4, 0), (2, 2)), 'DRIBBLE_DOWN'): 0.0, (((4, 1), (2, 2)), 'DRIBBLE_RIGHT'): 0.0, (((1, 3), (2, 2)), 'DRIBBLE_DOWN'): 0.0, (((3, 3), (2, 2)), 'KICK'): 1.0, (((1, 1), (2, 2)), 'KICK'): 0.0, (((1, 3), (2, 2)), 'DRIBBLE_RIGHT'): 0.0, (((0, 5), (2, 2)), 'KICK'): 0.0, (((0, 0), (2, 2)), 'KICK'): 0.0, (((2, 3), (2, 2)), 'DRIBBLE_RIGHT'): 0.0, (((1, 4), (2, 2)), 'KICK'): 0.0, (((2, 3), (2, 2)), 'DRIBBLE_LEFT'): 0.0, (((2, 2), (2, 2)), 'KICK'): 0.0, (((3, 2), (2, 2)), 'DRIBBLE_UP'): 0.0, (((3, 3), (2, 2)), 'DRIBBLE_LEFT'): 0.0, (((0, 2), (2, 2)), 'DRIBBLE_RIGHT'): 0.0, (((1, 4), (2, 2)), 'DRIBBLE_UP'): 0.0, (((0, 1), (2, 2)), 'DRIBBLE_UP'): 0.0, (((0, 4), (2, 2)), 'DRIBBLE_LEFT'): 0.0, (((2, 3), (2, 2)), 'DRIBBLE_UP'): 0.0, (((3, 3), (2, 2)), 'DRIBBLE_UP'): 0.0, (((3, 0), (2, 2)), 'DRIBBLE_LEFT'): 0.0, (((1, 2), (2, 2)), 'KICK'): 0.0, (((3, 1), (2, 2)), 'KICK'): 0.0, (((0, 4), (2, 2)), 'DRIBBLE_UP'): 0.0, (((1, 0), (2, 2)), 'KICK'): 0.0, (((1, 5), (2, 2)), 'DRIBBLE_LEFT'): 0.0, (((2, 2), (2, 2)), 'DRIBBLE_RIGHT'): 0.0, (((4, 1), (2, 2)), 'KICK'): 1.0, (((1, 3), (2, 2)), 'DRIBBLE_LEFT'): 0.0, (((0, 2), (2, 2)), 'KICK'): 0.0, (((0, 2), (2, 2)), 'DRIBBLE_DOWN'): 0.0, (((2, 5), (2, 2)), 'KICK'): 0.0, (((0, 0), (2, 2)), 'DRIBBLE_RIGHT'): 0.0, (((3, 2), (2, 2)), 'KICK'): 1.0, (((0, 3), (2, 2)), 'DRIBBLE_DOWN'): 0.0, (((2, 1), (2, 2)), 'DRIBBLE_RIGHT'): 0.0, (((0, 1), (2, 2)), 'DRIBBLE_DOWN'): 0.0, (((3, 2), (2, 2)), 'DRIBBLE_RIGHT'): 0.0, (((1, 0), (2, 2)), 'DRIBBLE_UP'): 0.0, (((4, 0), (2, 2)), 'DRIBBLE_LEFT'): 0.0, (((0, 4), (2, 2)), 'DRIBBLE_DOWN'): 0.0, (((2, 1), (2, 2)), 'DRIBBLE_DOWN'): -0.4, (((2, 0), (2, 2)), 'DRIBBLE_LEFT'): 0.0, (((4, 2), (2, 2)), 'DRIBBLE_UP'): 0.0, (((1, 1), (2, 2)), 'DRIBBLE_UP'): 0.0, (((2, 3), (2, 2)), 'DRIBBLE_DOWN'): 0.0, (((1, 2), (2, 2)), 'DRIBBLE_RIGHT'): -0.4, (((4, 1), (2, 2)), 'DRIBBLE_UP'): 0.0, (((2, 0), (2, 2)), 'KICK'): 0.0, (((0, 1), (2, 2)), 'KICK'): 0.0, (((1, 0), (2, 2)), 'DRIBBLE_RIGHT'): 0.0, (((0, 3), (2, 2)), 'KICK'): 0.0, (((1, 1), (2, 2)), 'DRIBBLE_LEFT'): 0.0, (((1, 3), (2, 2)), 'DRIBBLE_UP'): 0.0, (((0, 0), (2, 2)), 'DRIBBLE_LEFT'): 0.0, (((1, 1), (2, 2)), 'DRIBBLE_DOWN'): 0.0, (((4, 0), (2, 2)), 'DRIBBLE_RIGHT'): 0.0, (((2, 0), (2, 2)), 'DRIBBLE_DOWN'): 0.0, (((2, 3), (2, 2)), 'KICK'): 0.0, (((0, 5), (2, 2)), 'DRIBBLE_RIGHT'): 0.0, (((1, 0), (2, 2)), 'DRIBBLE_DOWN'): 0.0, (((1, 4), (2, 2)), 'DRIBBLE_RIGHT'): 0.0, (((1, 2), (2, 2)), 'DRIBBLE_DOWN'): 0.0, (((0, 4), (2, 2)), 'KICK'): 0.0, (((2, 5), (2, 2)), 'DRIBBLE_UP'): 0.0, (((4, 0), (2, 2)), 'DRIBBLE_UP'): 0.0, (((0, 3), (2, 2)), 'DRIBBLE_UP'): 0.0, (((1, 4), (2, 2)), 'DRIBBLE_LEFT'): 0.0, (((1, 2), (2, 2)), 'DRIBBLE_LEFT'): 0.0, (((2, 2), (2, 2)), 'DRIBBLE_LEFT'): 0.0, (((0, 5), (2, 2)), 'DRIBBLE_UP'): 0.0, (((3, 0), (2, 2)), 'KICK'): 0.0, (((0, 2), (2, 2)), 'DRIBBLE_UP'): 0.0, (((1, 0), (2, 2)), 'DRIBBLE_LEFT'): 0.0, (((0, 1), (2, 2)), 'DRIBBLE_RIGHT'): 0.0, (((1, 5), (2, 2)), 'KICK'): 0.0, (((0, 3), (2, 2)), 'DRIBBLE_RIGHT'): 0.0}"
   ]
  },
  {
   "cell_type": "code",
   "execution_count": 642,
   "metadata": {},
   "outputs": [],
   "source": [
    "values = defaultdict(float)"
   ]
  },
  {
   "cell_type": "code",
   "execution_count": 687,
   "metadata": {},
   "outputs": [
    {
     "data": {
      "text/plain": [
       "list"
      ]
     },
     "execution_count": 687,
     "metadata": {},
     "output_type": "execute_result"
    }
   ],
   "source": [
    "type(vals[0, 0])"
   ]
  },
  {
   "cell_type": "code",
   "execution_count": 695,
   "metadata": {},
   "outputs": [
    {
     "name": "stdout",
     "output_type": "stream",
     "text": [
      "{(1, 2): 0, (3, 2): 0, (0, 0): 0, (3, 0): 0, (2, 2): 0, (1, 4): 0, (1, 3): 0, (2, 3): 0, (2, 1): 0, (1, 0): 0, (4, 2): 0, (2, 5): 0, (0, 3): 0, (4, 0): 0, (0, 1): 0, (0, 2): 0, (3, 3): 0, (2, 0): 0, (3, 4): 0, (3, 1): 0, (2, 4): 0, (1, 5): 0, (0, 4): 0, (0, 5): 0, (4, 1): 0, (1, 1): 0}\n"
     ]
    },
    {
     "data": {
      "text/plain": [
       "{(0, 0): 0.0,\n",
       " (0, 1): 0.0,\n",
       " (0, 2): 0.0,\n",
       " (0, 3): 0.0,\n",
       " (0, 4): 0.0,\n",
       " (0, 5): 0.0,\n",
       " (1, 0): 0.0,\n",
       " (1, 1): 0.0,\n",
       " (1, 2): -0.4,\n",
       " (1, 3): 0.0,\n",
       " (1, 4): 0.0,\n",
       " (1, 5): 0.0,\n",
       " (2, 0): 0.0,\n",
       " (2, 1): -0.8,\n",
       " (2, 2): 1.0,\n",
       " (2, 3): 0.0,\n",
       " (2, 4): 0.0,\n",
       " (2, 5): 0.0,\n",
       " (3, 0): 0.0,\n",
       " (3, 1): 0.0,\n",
       " (3, 2): 0.6,\n",
       " (3, 3): 1.0,\n",
       " (3, 4): 0.0,\n",
       " (4, 0): 0.0,\n",
       " (4, 1): 1.0,\n",
       " (4, 2): 1.0}"
      ]
     },
     "execution_count": 695,
     "metadata": {},
     "output_type": "execute_result"
    }
   ],
   "source": [
    "vals = {}\n",
    "for item in values.keys():\n",
    "    vals[item[0][0]] = 0\n",
    "#    print(vals[item[0][0]])\n",
    "#    print('item: ', item[0][0])\n",
    "#    print(vals[item[0][0]])\n",
    "#    print('values: ',values[item])\n",
    "#    nuevo = values[item]\n",
    "#    vals[item[0]]\n",
    "print(vals)\n",
    "for item in values.keys():\n",
    "    vals[item[0][0]] = vals[item[0][0]] + values[item]\n",
    "\n",
    "vals"
   ]
  },
  {
   "cell_type": "code",
   "execution_count": 659,
   "metadata": {},
   "outputs": [
    {
     "data": {
      "text/plain": [
       "{(0, 0): 0.0,\n",
       " (0, 1): 0.0,\n",
       " (0, 2): 0.0,\n",
       " (0, 3): 0.0,\n",
       " (0, 4): 0.0,\n",
       " (0, 5): 0.0,\n",
       " (1, 0): 0.0,\n",
       " (1, 1): 0.0,\n",
       " (1, 2): 0.0,\n",
       " (1, 3): 0.0,\n",
       " (1, 4): 0.0,\n",
       " (1, 5): 0.0,\n",
       " (2, 0): 0.0,\n",
       " (2, 1): -0.4,\n",
       " (2, 2): 0.0,\n",
       " (2, 3): 0.0,\n",
       " (2, 4): 0.0,\n",
       " (2, 5): 0.0,\n",
       " (3, 0): 0.0,\n",
       " (3, 1): 0.0,\n",
       " (3, 2): 0.0,\n",
       " (3, 3): 0.0,\n",
       " (3, 4): 0.0,\n",
       " (4, 0): 0.0,\n",
       " (4, 1): 0.0,\n",
       " (4, 2): 1.0}"
      ]
     },
     "execution_count": 659,
     "metadata": {},
     "output_type": "execute_result"
    }
   ],
   "source": [
    "vals = {}\n",
    "\n",
    "for item in values.keys():\n",
    "#    print(values[item]+values[item])\n",
    "#    hello = vals[item[0][0]]\n",
    "    vals[item[0][0]] = values[item]\n",
    "#    vals[item[0][0]] = vals[item[0][0]] + values[item]\n",
    "#    print('l')\n",
    "#    print(item[0][0])\n",
    "\n",
    "    \n",
    "vals\n",
    "    "
   ]
  },
  {
   "cell_type": "code",
   "execution_count": 588,
   "metadata": {},
   "outputs": [
    {
     "ename": "KeyError",
     "evalue": "(0, 0)",
     "output_type": "error",
     "traceback": [
      "\u001b[0;31m---------------------------------------------------------------------------\u001b[0m",
      "\u001b[0;31mKeyError\u001b[0m                                  Traceback (most recent call last)",
      "\u001b[0;32m<ipython-input-588-dbed059f2c4c>\u001b[0m in \u001b[0;36m<module>\u001b[0;34m()\u001b[0m\n\u001b[1;32m      2\u001b[0m \u001b[0;32mfor\u001b[0m \u001b[0my\u001b[0m \u001b[0;32min\u001b[0m \u001b[0mrange\u001b[0m\u001b[0;34m(\u001b[0m\u001b[0mdata\u001b[0m\u001b[0;34m.\u001b[0m\u001b[0mshape\u001b[0m\u001b[0;34m[\u001b[0m\u001b[0;36m0\u001b[0m\u001b[0;34m]\u001b[0m\u001b[0;34m)\u001b[0m\u001b[0;34m:\u001b[0m\u001b[0;34m\u001b[0m\u001b[0m\n\u001b[1;32m      3\u001b[0m     \u001b[0;32mfor\u001b[0m \u001b[0mx\u001b[0m \u001b[0;32min\u001b[0m \u001b[0mrange\u001b[0m\u001b[0;34m(\u001b[0m\u001b[0mdata\u001b[0m\u001b[0;34m.\u001b[0m\u001b[0mshape\u001b[0m\u001b[0;34m[\u001b[0m\u001b[0;36m1\u001b[0m\u001b[0;34m]\u001b[0m\u001b[0;34m)\u001b[0m\u001b[0;34m:\u001b[0m\u001b[0;34m\u001b[0m\u001b[0m\n\u001b[0;32m----> 4\u001b[0;31m         \u001b[0mdata\u001b[0m\u001b[0;34m[\u001b[0m\u001b[0my\u001b[0m\u001b[0;34m]\u001b[0m\u001b[0;34m[\u001b[0m\u001b[0mx\u001b[0m\u001b[0;34m]\u001b[0m \u001b[0;34m=\u001b[0m \u001b[0mvalues\u001b[0m\u001b[0;34m[\u001b[0m\u001b[0;34m(\u001b[0m\u001b[0mx\u001b[0m\u001b[0;34m,\u001b[0m\u001b[0my\u001b[0m\u001b[0;34m)\u001b[0m\u001b[0;34m]\u001b[0m\u001b[0;34m\u001b[0m\u001b[0m\n\u001b[0m\u001b[1;32m      5\u001b[0m         \u001b[0mprint\u001b[0m\u001b[0;34m(\u001b[0m\u001b[0mdata\u001b[0m\u001b[0;34m)\u001b[0m\u001b[0;34m\u001b[0m\u001b[0m\n",
      "\u001b[0;31mKeyError\u001b[0m: (0, 0)"
     ]
    }
   ],
   "source": [
    "data = np.zeros((5,6))\n",
    "for y in range(data.shape[0]):\n",
    "    for x in range(data.shape[1]):\n",
    "        data[y][x] = values[(x,y)]\n",
    "        print(data)"
   ]
  },
  {
   "cell_type": "code",
   "execution_count": 586,
   "metadata": {},
   "outputs": [],
   "source": [
    "data = np.zeros((5,6))"
   ]
  },
  {
   "cell_type": "code",
   "execution_count": null,
   "metadata": {},
   "outputs": [],
   "source": [
    "plt.figure(figsize = (12, 4))\n",
    "    plt.subplot(1, 2, 1)\n",
    "    plt.title('Value')\n",
    "    for y in range(data.shape[0]):\n",
    "        for x in range(data.shape[1]):\n",
    "            data[y][x] = values[(x,y)]\n",
    "            plt.text(x + 0.5, y + 0.5, '%.4f' % data[y, x], horizontalalignment='center',verticalalignment='center',)\n",
    "    \n",
    "heatmap = plt.pcolor(data)\n",
    "plt.gca().invert_yaxis()\n",
    "plt.colorbar(heatmap)\n",
    "\n",
    "heatmap = plt.pcolor(data)\n",
    "plt.gca().invert_yaxis()\n",
    "plt.colorbar(heatmap)\n",
    "plt.savefig(str(iterno) + '.png')"
   ]
  },
  {
   "cell_type": "code",
   "execution_count": 700,
   "metadata": {},
   "outputs": [],
   "source": [
    "hello = [1,2,3]"
   ]
  },
  {
   "cell_type": "code",
   "execution_count": 701,
   "metadata": {},
   "outputs": [],
   "source": [
    "hello += [1]"
   ]
  },
  {
   "cell_type": "code",
   "execution_count": 702,
   "metadata": {},
   "outputs": [
    {
     "data": {
      "text/plain": [
       "[1, 2, 3, 1]"
      ]
     },
     "execution_count": 702,
     "metadata": {},
     "output_type": "execute_result"
    }
   ],
   "source": [
    "hello"
   ]
  },
  {
   "cell_type": "code",
   "execution_count": 704,
   "metadata": {},
   "outputs": [
    {
     "data": {
      "text/plain": [
       "dict_items([((((3, 0), (2, 2)), 'DRIBBLE_RIGHT'), 0.0), ((((1, 4), (2, 2)), 'DRIBBLE_DOWN'), 0.0), ((((3, 2), (2, 2)), 'KICK'), 1.0), ((((3, 1), (2, 2)), 'DRIBBLE_RIGHT'), 0.0), ((((0, 2), (2, 2)), 'DRIBBLE_RIGHT'), 0.0), ((((2, 0), (2, 2)), 'DRIBBLE_RIGHT'), 0.0), ((((0, 4), (2, 2)), 'DRIBBLE_UP'), 0.0), ((((0, 0), (2, 2)), 'DRIBBLE_LEFT'), 0.0), ((((3, 2), (2, 2)), 'DRIBBLE_LEFT'), -0.4), ((((0, 4), (2, 2)), 'DRIBBLE_DOWN'), 0.0), ((((0, 2), (2, 2)), 'DRIBBLE_LEFT'), 0.0), ((((0, 1), (2, 2)), 'DRIBBLE_UP'), 0.0), ((((1, 3), (2, 2)), 'DRIBBLE_RIGHT'), 0.0), ((((2, 4), (2, 2)), 'KICK'), 0.0), ((((1, 5), (2, 2)), 'DRIBBLE_UP'), 0.0), ((((2, 5), (2, 2)), 'DRIBBLE_UP'), 0.0), ((((1, 1), (2, 2)), 'DRIBBLE_DOWN'), 0.0), ((((1, 2), (2, 2)), 'DRIBBLE_DOWN'), 0.0), ((((3, 4), (2, 2)), 'KICK'), 0.0), ((((1, 4), (2, 2)), 'KICK'), 0.0), ((((2, 5), (2, 2)), 'KICK'), 0.0), ((((2, 3), (2, 2)), 'DRIBBLE_DOWN'), 0.0), ((((4, 1), (2, 2)), 'DRIBBLE_RIGHT'), 0.0), ((((2, 3), (2, 2)), 'DRIBBLE_LEFT'), 0.0), ((((0, 2), (2, 2)), 'DRIBBLE_UP'), 0.0), ((((0, 4), (2, 2)), 'KICK'), 0.0), ((((0, 4), (2, 2)), 'DRIBBLE_LEFT'), 0.0), ((((0, 5), (2, 2)), 'DRIBBLE_UP'), 0.0), ((((0, 4), (2, 2)), 'DRIBBLE_RIGHT'), 0.0), ((((4, 0), (2, 2)), 'DRIBBLE_UP'), 0.0), ((((1, 3), (2, 2)), 'DRIBBLE_LEFT'), 0.0), ((((1, 1), (2, 2)), 'DRIBBLE_RIGHT'), 0.0), ((((1, 4), (2, 2)), 'DRIBBLE_LEFT'), 0.0), ((((1, 2), (2, 2)), 'DRIBBLE_RIGHT'), -0.4), ((((1, 3), (2, 2)), 'KICK'), 0.0), ((((3, 3), (2, 2)), 'KICK'), 1.0), ((((1, 1), (2, 2)), 'DRIBBLE_LEFT'), 0.0), ((((4, 1), (2, 2)), 'KICK'), 1.0), ((((1, 2), (2, 2)), 'DRIBBLE_UP'), 0.0), ((((0, 3), (2, 2)), 'DRIBBLE_UP'), 0.0), ((((2, 0), (2, 2)), 'DRIBBLE_DOWN'), 0.0), ((((0, 0), (2, 2)), 'KICK'), 0.0), ((((0, 2), (2, 2)), 'DRIBBLE_DOWN'), 0.0), ((((0, 5), (2, 2)), 'DRIBBLE_RIGHT'), 0.0), ((((0, 1), (2, 2)), 'DRIBBLE_LEFT'), 0.0), ((((2, 1), (2, 2)), 'KICK'), 0.0), ((((3, 0), (2, 2)), 'KICK'), 0.0), ((((3, 1), (2, 2)), 'KICK'), 0.0), ((((0, 3), (2, 2)), 'DRIBBLE_RIGHT'), 0.0), ((((1, 1), (2, 2)), 'DRIBBLE_UP'), 0.0), ((((2, 1), (2, 2)), 'DRIBBLE_LEFT'), 0.0), ((((1, 3), (2, 2)), 'DRIBBLE_DOWN'), 0.0), ((((2, 0), (2, 2)), 'DRIBBLE_LEFT'), 0.0), ((((4, 0), (2, 2)), 'DRIBBLE_DOWN'), 0.0), ((((0, 0), (2, 2)), 'DRIBBLE_UP'), 0.0), ((((0, 5), (2, 2)), 'KICK'), 0.0), ((((3, 3), (2, 2)), 'DRIBBLE_UP'), 0.0), ((((0, 5), (2, 2)), 'DRIBBLE_DOWN'), 0.0), ((((2, 2), (2, 2)), 'DRIBBLE_UP'), 1.0), ((((2, 2), (2, 2)), 'DRIBBLE_DOWN'), 0.0), ((((0, 3), (2, 2)), 'DRIBBLE_DOWN'), 0.0), ((((3, 2), (2, 2)), 'DRIBBLE_RIGHT'), 0.0), ((((1, 0), (2, 2)), 'DRIBBLE_LEFT'), 0.0), ((((0, 2), (2, 2)), 'KICK'), 0.0), ((((2, 1), (2, 2)), 'DRIBBLE_RIGHT'), 0.0), ((((4, 0), (2, 2)), 'DRIBBLE_RIGHT'), 0.0), ((((3, 3), (2, 2)), 'DRIBBLE_LEFT'), 0.0), ((((0, 1), (2, 2)), 'DRIBBLE_DOWN'), 0.0), ((((1, 2), (2, 2)), 'DRIBBLE_LEFT'), 0.0), ((((0, 3), (2, 2)), 'KICK'), 0.0), ((((2, 3), (2, 2)), 'KICK'), 0.0), ((((0, 1), (2, 2)), 'KICK'), 0.0), ((((1, 0), (2, 2)), 'DRIBBLE_RIGHT'), 0.0), ((((2, 3), (2, 2)), 'DRIBBLE_UP'), 0.0), ((((2, 2), (2, 2)), 'DRIBBLE_RIGHT'), 0.0), ((((0, 0), (2, 2)), 'DRIBBLE_DOWN'), 0.0), ((((2, 2), (2, 2)), 'KICK'), 0.0), ((((1, 4), (2, 2)), 'DRIBBLE_UP'), 0.0), ((((1, 3), (2, 2)), 'DRIBBLE_UP'), 0.0), ((((2, 1), (2, 2)), 'DRIBBLE_DOWN'), -0.4), ((((1, 4), (2, 2)), 'DRIBBLE_RIGHT'), 0.0), ((((2, 0), (2, 2)), 'KICK'), 0.0), ((((4, 1), (2, 2)), 'DRIBBLE_UP'), 0.0), ((((0, 1), (2, 2)), 'DRIBBLE_RIGHT'), 0.0), ((((1, 5), (2, 2)), 'DRIBBLE_LEFT'), 0.0), ((((4, 2), (2, 2)), 'DRIBBLE_UP'), 0.0), ((((0, 0), (2, 2)), 'DRIBBLE_RIGHT'), 0.0), ((((1, 1), (2, 2)), 'KICK'), 0.0), ((((2, 2), (2, 2)), 'DRIBBLE_LEFT'), 0.0), ((((1, 0), (2, 2)), 'DRIBBLE_UP'), 0.0), ((((4, 2), (2, 2)), 'KICK'), 1.0), ((((2, 4), (2, 2)), 'DRIBBLE_DOWN'), 0.0), ((((2, 3), (2, 2)), 'DRIBBLE_RIGHT'), 0.0), ((((4, 0), (2, 2)), 'DRIBBLE_LEFT'), 0.0), ((((1, 0), (2, 2)), 'KICK'), 0.0), ((((0, 3), (2, 2)), 'DRIBBLE_LEFT'), 0.0), ((((3, 0), (2, 2)), 'DRIBBLE_LEFT'), 0.0), ((((1, 2), (2, 2)), 'KICK'), 0.0), ((((1, 5), (2, 2)), 'KICK'), 0.0), ((((3, 2), (2, 2)), 'DRIBBLE_UP'), 0.0), ((((2, 1), (2, 2)), 'DRIBBLE_UP'), -0.4), ((((1, 0), (2, 2)), 'DRIBBLE_DOWN'), 0.0)])"
      ]
     },
     "execution_count": 704,
     "metadata": {},
     "output_type": "execute_result"
    }
   ],
   "source": [
    "values.items()"
   ]
  },
  {
   "cell_type": "code",
   "execution_count": 706,
   "metadata": {},
   "outputs": [
    {
     "data": {
      "text/plain": [
       "'KICK'"
      ]
     },
     "execution_count": 706,
     "metadata": {},
     "output_type": "execute_result"
    }
   ],
   "source": [
    "optimalAction = max(values.items(), key=operator.itemgetter(1))[0][1]\n",
    "optimalAction"
   ]
  },
  {
   "cell_type": "code",
   "execution_count": 707,
   "metadata": {},
   "outputs": [
    {
     "ename": "ValueError",
     "evalue": "max() arg is an empty sequence",
     "output_type": "error",
     "traceback": [
      "\u001b[0;31m---------------------------------------------------------------------------\u001b[0m",
      "\u001b[0;31mValueError\u001b[0m                                Traceback (most recent call last)",
      "\u001b[0;32m<ipython-input-707-a830261e2c9e>\u001b[0m in \u001b[0;36m<module>\u001b[0;34m()\u001b[0m\n\u001b[1;32m      1\u001b[0m \u001b[0mvalues\u001b[0m \u001b[0;34m=\u001b[0m \u001b[0;34m{\u001b[0m\u001b[0;34m}\u001b[0m\u001b[0;34m\u001b[0m\u001b[0m\n\u001b[0;32m----> 2\u001b[0;31m \u001b[0moptimalAction\u001b[0m \u001b[0;34m=\u001b[0m \u001b[0mmax\u001b[0m\u001b[0;34m(\u001b[0m\u001b[0mvalues\u001b[0m\u001b[0;34m.\u001b[0m\u001b[0mitems\u001b[0m\u001b[0;34m(\u001b[0m\u001b[0;34m)\u001b[0m\u001b[0;34m,\u001b[0m \u001b[0mkey\u001b[0m\u001b[0;34m=\u001b[0m\u001b[0moperator\u001b[0m\u001b[0;34m.\u001b[0m\u001b[0mitemgetter\u001b[0m\u001b[0;34m(\u001b[0m\u001b[0;36m1\u001b[0m\u001b[0;34m)\u001b[0m\u001b[0;34m)\u001b[0m\u001b[0;34m[\u001b[0m\u001b[0;36m0\u001b[0m\u001b[0;34m]\u001b[0m\u001b[0;34m[\u001b[0m\u001b[0;36m1\u001b[0m\u001b[0;34m]\u001b[0m\u001b[0;34m\u001b[0m\u001b[0m\n\u001b[0m",
      "\u001b[0;31mValueError\u001b[0m: max() arg is an empty sequence"
     ]
    }
   ],
   "source": [
    "values = {}\n",
    "optimalAction = max(values.items(), key=operator.itemgetter(1))[0][1]"
   ]
  },
  {
   "cell_type": "code",
   "execution_count": 710,
   "metadata": {},
   "outputs": [
    {
     "data": {
      "text/plain": [
       "{(0, 0): 0,\n",
       " (0, 1): 0,\n",
       " (0, 2): 0,\n",
       " (0, 3): 0,\n",
       " (0, 4): 0,\n",
       " (0, 5): 0,\n",
       " (1, 0): 0,\n",
       " (1, 1): 0,\n",
       " (1, 2): 0,\n",
       " (1, 3): 0,\n",
       " (1, 4): 0,\n",
       " (1, 5): 0,\n",
       " (2, 0): 0,\n",
       " (2, 1): 0,\n",
       " (2, 2): 0,\n",
       " (2, 3): 0,\n",
       " (2, 4): 0,\n",
       " (2, 5): 0,\n",
       " (3, 0): 0,\n",
       " (3, 1): 0,\n",
       " (3, 2): 0,\n",
       " (3, 3): 0,\n",
       " (3, 4): 0,\n",
       " (3, 5): 0,\n",
       " (4, 0): 0,\n",
       " (4, 1): 0,\n",
       " (4, 2): 0,\n",
       " (4, 3): 0,\n",
       " (4, 4): 0,\n",
       " (4, 5): 0}"
      ]
     },
     "execution_count": 710,
     "metadata": {},
     "output_type": "execute_result"
    }
   ],
   "source": [
    "h = 6\n",
    "w = 5\n",
    "possibleActions = ['DRIBBLE_UP','DRIBBLE_DOWN','DRIBBLE_LEFT','DRIBBLE_RIGHT','KICK']\n",
    "values = {}\n",
    "for y in range(h):\n",
    "    for x in range(w):\n",
    "        for a in \n",
    "        \n",
    "        values[(x,y)] = 0\n",
    "values"
   ]
  },
  {
   "cell_type": "code",
   "execution_count": 719,
   "metadata": {},
   "outputs": [
    {
     "name": "stdout",
     "output_type": "stream",
     "text": [
      "empty\n"
     ]
    }
   ],
   "source": [
    "hello = defaultdict(float)\n",
    "if hello:\n",
    "    print('notempty')\n",
    "else:\n",
    "    print('empty')"
   ]
  },
  {
   "cell_type": "code",
   "execution_count": 718,
   "metadata": {},
   "outputs": [],
   "source": [
    "S = defaultdict(float)"
   ]
  },
  {
   "cell_type": "code",
   "execution_count": 716,
   "metadata": {},
   "outputs": [
    {
     "data": {
      "text/plain": [
       "0.0"
      ]
     },
     "execution_count": 716,
     "metadata": {},
     "output_type": "execute_result"
    }
   ],
   "source": [
    "S[(((1, 2), (2, 2)), 'DRIBBLE_RIGHT')]"
   ]
  },
  {
   "cell_type": "code",
   "execution_count": 717,
   "metadata": {},
   "outputs": [
    {
     "data": {
      "text/plain": [
       "defaultdict(float, {(((1, 2), (2, 2)), 'DRIBBLE_RIGHT'): 0.0})"
      ]
     },
     "execution_count": 717,
     "metadata": {},
     "output_type": "execute_result"
    }
   ],
   "source": [
    "S"
   ]
  },
  {
   "cell_type": "code",
   "execution_count": 727,
   "metadata": {},
   "outputs": [
    {
     "data": {
      "text/plain": [
       "'DRIBBLE_DOWN'"
      ]
     },
     "execution_count": 727,
     "metadata": {},
     "output_type": "execute_result"
    }
   ],
   "source": [
    "possibleActions = ['DRIBBLE_UP','DRIBBLE_DOWN','DRIBBLE_LEFT','DRIBBLE_RIGHT','KICK']\n",
    "np.random.choice(possibleActions, 1)[0]"
   ]
  },
  {
   "cell_type": "code",
   "execution_count": null,
   "metadata": {},
   "outputs": [],
   "source": []
  }
 ],
 "metadata": {
  "kernelspec": {
   "display_name": "Python 3",
   "language": "python",
   "name": "python3"
  },
  "language_info": {
   "codemirror_mode": {
    "name": "ipython",
    "version": 3
   },
   "file_extension": ".py",
   "mimetype": "text/x-python",
   "name": "python",
   "nbconvert_exporter": "python",
   "pygments_lexer": "ipython3",
   "version": "3.5.4"
  }
 },
 "nbformat": 4,
 "nbformat_minor": 2
}
