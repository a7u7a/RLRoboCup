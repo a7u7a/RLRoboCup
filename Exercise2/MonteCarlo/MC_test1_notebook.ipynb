{
 "cells": [
  {
   "cell_type": "markdown",
   "metadata": {},
   "source": [
    "### Notebook with test implementations for Exercise 2 Montecarlo Control"
   ]
  },
  {
   "cell_type": "markdown",
   "metadata": {},
   "source": [
    "Repo: https://github.com/a7u7a/RLRoboCup"
   ]
  },
  {
   "cell_type": "code",
   "execution_count": 1,
   "metadata": {},
   "outputs": [],
   "source": [
    "from collections import defaultdict\n",
    "import numpy as np"
   ]
  },
  {
   "cell_type": "code",
   "execution_count": null,
   "metadata": {},
   "outputs": [],
   "source": [
    "# dict, where KEY= tuple state, action and VALUE= cumulative reward"
   ]
  },
  {
   "cell_type": "code",
   "execution_count": 732,
   "metadata": {},
   "outputs": [],
   "source": [
    "possibleActions = ['DRIBBLE_UP', 'DRIBBLE_DOWN', 'DRIBBLE_LEFT', 'DRIBBLE_RIGHT', 'KICK']"
   ]
  },
  {
   "cell_type": "code",
   "execution_count": 733,
   "metadata": {},
   "outputs": [
    {
     "data": {
      "text/plain": [
       "'DRIBBLE_LEFT'"
      ]
     },
     "execution_count": 733,
     "metadata": {},
     "output_type": "execute_result"
    }
   ],
   "source": [
    "np.random.choice(possibleActions, 1)[0]"
   ]
  },
  {
   "cell_type": "code",
   "execution_count": 455,
   "metadata": {},
   "outputs": [
    {
     "name": "stdout",
     "output_type": "stream",
     "text": [
      "{(((1, 2), (2, 2)), 'KICK'): [[0]], (((0, 2), (2, 2)), 'DRIBBLE_UP'): [[3, 5, 0, 1, 3, 0]], (((0, 2), (2, 2)), 'DRIBBLE_RIGHT'): [[0, 1, 3, 0]], (((0, 2), (2, 2)), 'DRIBBLE_LEFT'): [[5, 0, 1, 3, 0]], (((0, 3), (2, 2)), 'KICK'): [[0, 3, 5, 0, 1, 3, 0]], (((1, 2), (2, 2)), 'DRIBBLE_DOWN'): [[1, 3, 0]], (((0, 4), (2, 2)), 'KICK'): [[3, 0]]}\n"
     ]
    }
   ],
   "source": [
    "for item in episodeStateActions.keys():\n",
    "  #  print('key: ',item)\n",
    " #   print('value: ',episodeStateActions[item][0])\n",
    "#    print('reward: ',sum(rewards[episodeStateActions[item][0]:]))\n",
    "    # Go to rewards and \n",
    "    if item not in returns.keys():\n",
    "        # add to dict\n",
    "        returns[item] = [rewards[episodeStateActions[item][0]:]]\n",
    "    else:\n",
    "        # append to list in dict entry\n",
    "        returns[item] += [rewards[episodeStateActions[item][0]:]]\n",
    "    \n",
    "print(returns)\n"
   ]
  },
  {
   "cell_type": "code",
   "execution_count": 497,
   "metadata": {},
   "outputs": [
    {
     "name": "stdout",
     "output_type": "stream",
     "text": [
      "{(((1, 2), (2, 2)), 'KICK'): 0.0, (((0, 2), (2, 2)), 'DRIBBLE_UP'): 2.0, (((0, 2), (2, 2)), 'DRIBBLE_RIGHT'): 1.0, (((0, 2), (2, 2)), 'DRIBBLE_LEFT'): 1.8, (((0, 3), (2, 2)), 'KICK'): 1.7142857142857142, (((1, 2), (2, 2)), 'DRIBBLE_DOWN'): 1.3333333333333333, (((0, 4), (2, 2)), 'KICK'): 1.5}\n"
     ]
    }
   ],
   "source": [
    "# test \n",
    "# \n",
    "# use keys in S,A to find first occurrence time(step) index\n",
    "# use index as slicer to average rewards since timestep\n",
    "# then append to Q as entry on dict where KEY= State action pair, VALUE= value\n",
    "\n",
    "Q = {}\n",
    "\n",
    "for item in episodeStateActions.keys():\n",
    "#    print(item)\n",
    "    Q[item] = np.average(rewards[episodeStateActions[item][0]:])\n",
    "    \n",
    "print(Q)\n"
   ]
  },
  {
   "cell_type": "code",
   "execution_count": 564,
   "metadata": {},
   "outputs": [
    {
     "name": "stdout",
     "output_type": "stream",
     "text": [
      "KICK\n"
     ]
    },
    {
     "data": {
      "text/plain": [
       "{(((1, 3), (2, 2)), 'DRIBBLE_DOWN'): 0.0,\n",
       " (((1, 3), (2, 2)), 'DRIBBLE_LEFT'): 0.0,\n",
       " (((1, 3), (2, 2)), 'KICK'): 1.0}"
      ]
     },
     "execution_count": 564,
     "metadata": {},
     "output_type": "execute_result"
    }
   ],
   "source": [
    "import operator\n",
    "\n",
    "# Find action with highest Q value given state\n",
    "\n",
    "Q= {(((1, 2), (2, 2)), 'DRIBBLE_RIGHT'): -0.4, (((0, 2), (2, 2)), 'KICK'): 1.0, (((0, 2), (2, 2)), 'DRIBBLE_DOWN'): 0.0, (((1, 2), (2, 2)), 'DRIBBLE_LEFT'): 0.0, (((0, 4), (2, 2)), 'DRIBBLE_UP'): 0.0, (((1, 4), (2, 2)), 'DRIBBLE_DOWN'): 0.0, (((1, 2), (2, 2)), 'DRIBBLE_DOWN'): 0.0, (((0, 4), (2, 2)), 'DRIBBLE_LEFT'): 0.0, (((0, 2), (2, 2)), 'DRIBBLE_RIGHT'): 0.0, (((1, 1), (2, 2)), 'KICK'): 0.0, (((1, 3), (2, 2)), 'DRIBBLE_DOWN'): 0.0, (((0, 3), (2, 2)), 'DRIBBLE_DOWN'): 0.0, (((0, 5), (2, 2)), 'DRIBBLE_UP'): 0.0, (((1, 1), (2, 2)), 'DRIBBLE_DOWN'): 0.0, (((0, 1), (2, 2)), 'DRIBBLE_RIGHT'): 0.0, (((0, 5), (2, 2)), 'DRIBBLE_LEFT'): 0.0, (((0, 1), (2, 2)), 'DRIBBLE_UP'): 0.0, (((1, 3), (2, 2)), 'KICK'): 1.0, (((0, 3), (2, 2)), 'KICK'): 0.0, (((0, 3), (2, 2)), 'DRIBBLE_RIGHT'): 0.0, (((0, 0), (2, 2)), 'KICK'): 0.0, (((1, 2), (2, 2)), 'KICK'): 0.0, (((0, 0), (2, 2)), 'DRIBBLE_UP'): 0.0, (((1, 3), (2, 2)), 'DRIBBLE_LEFT'): 0.0, (((0, 0), (2, 2)), 'DRIBBLE_DOWN'): 0.0, (((1, 2), (2, 2)), 'DRIBBLE_UP'): 0.0, (((0, 2), (2, 2)), 'DRIBBLE_UP'): 0.0, (((2, 2), (2, 2)), 'DRIBBLE_DOWN'): 0.0, (((0, 4), (2, 2)), 'KICK'): 0.0, (((0, 3), (2, 2)), 'DRIBBLE_UP'): 0.0, (((0, 4), (2, 2)), 'DRIBBLE_DOWN'): 0.0, (((0, 1), (2, 2)), 'KICK'): 0.0, (((0, 5), (2, 2)), 'DRIBBLE_RIGHT'): 0.0, (((1, 5), (2, 2)), 'KICK'): 0.0, (((0, 2), (2, 2)), 'DRIBBLE_LEFT'): 0.0}\n",
    "pair = (((1, 3), (2, 2)), 'KICK')\n",
    "\n",
    "# make subdict 'S' with all same S as in 'pair'\n",
    "S = {}\n",
    "for item in Q:\n",
    "    if item[0] == pair[0]:\n",
    "        S[item] = Q[item]\n",
    "\n",
    "# Get item of max value from dict\n",
    "Action = max(S.items(), key=operator.itemgetter(1))[0][1]\n",
    "print(Action)\n",
    "S\n",
    "# Get only Action, which should be the optimal one\n",
    "#action = stateAction[1]\n",
    "\n"
   ]
  },
  {
   "cell_type": "code",
   "execution_count": 799,
   "metadata": {},
   "outputs": [],
   "source": [
    "Q = {(0,((3, 5), (2, 2)), 'DRIBBLE_UP'): 0.03221830985915493, (1,((1, 0), (2, 2)), 'DRIBBLE_LEFT'): 0.024875621890547265, (2,((1, 1), (2, 2)), 'DRIBBLE_RIGHT'): 0.032416208104052026, (3,((3, 1), (2, 2)), 'KICK'): 0.03391203703703704, (4,((4, 3), (2, 2)), 'KICK'): 1.0, (5,((3, 5), (2, 2)), 'DRIBBLE_SOUTH'): 0.04221830985915493,(5,((3, 5), (2, 2)), 'DRIBBLE_east'): 0.07721830985915493}"
   ]
  },
  {
   "cell_type": "code",
   "execution_count": 800,
   "metadata": {},
   "outputs": [
    {
     "data": {
      "text/plain": [
       "{(0, ((3, 5), (2, 2)), 'DRIBBLE_UP'): 0.03221830985915493,\n",
       " (1, ((1, 0), (2, 2)), 'DRIBBLE_LEFT'): 0.024875621890547265,\n",
       " (2, ((1, 1), (2, 2)), 'DRIBBLE_RIGHT'): 0.032416208104052026,\n",
       " (3, ((3, 1), (2, 2)), 'KICK'): 0.03391203703703704,\n",
       " (4, ((4, 3), (2, 2)), 'KICK'): 1.0,\n",
       " (5, ((3, 5), (2, 2)), 'DRIBBLE_SOUTH'): 0.04221830985915493,\n",
       " (5, ((3, 5), (2, 2)), 'DRIBBLE_east'): 0.07721830985915493}"
      ]
     },
     "execution_count": 800,
     "metadata": {},
     "output_type": "execute_result"
    }
   ],
   "source": [
    "Q"
   ]
  },
  {
   "cell_type": "code",
   "execution_count": 805,
   "metadata": {},
   "outputs": [],
   "source": [
    "pair = (5, ((3, 5), (2, 2)), 'DRIBBLE_UP')"
   ]
  },
  {
   "cell_type": "code",
   "execution_count": 806,
   "metadata": {},
   "outputs": [
    {
     "data": {
      "text/plain": [
       "(5, ((3, 5), (2, 2)))"
      ]
     },
     "execution_count": 806,
     "metadata": {},
     "output_type": "execute_result"
    }
   ],
   "source": [
    "pair[0:2]"
   ]
  },
  {
   "cell_type": "code",
   "execution_count": 807,
   "metadata": {},
   "outputs": [],
   "source": [
    "# timeStep, state, action, value\n",
    "# find all entries with same timestep and state as current pair\n",
    "# for every item in Q:\n",
    "# if item timestep, state == \n",
    "\n",
    "S = defaultdict(float)\n",
    "for item in Q:\n",
    "    if item[0:2] == pair[0:2]:\n",
    "        S[item] = Q[item]"
   ]
  },
  {
   "cell_type": "code",
   "execution_count": 808,
   "metadata": {},
   "outputs": [
    {
     "data": {
      "text/plain": [
       "defaultdict(float,\n",
       "            {(5, ((3, 5), (2, 2)), 'DRIBBLE_SOUTH'): 0.04221830985915493,\n",
       "             (5, ((3, 5), (2, 2)), 'DRIBBLE_east'): 0.07721830985915493})"
      ]
     },
     "execution_count": 808,
     "metadata": {},
     "output_type": "execute_result"
    }
   ],
   "source": [
    "S"
   ]
  },
  {
   "cell_type": "code",
   "execution_count": 811,
   "metadata": {},
   "outputs": [
    {
     "data": {
      "text/plain": [
       "'DRIBBLE_east'"
      ]
     },
     "execution_count": 811,
     "metadata": {},
     "output_type": "execute_result"
    }
   ],
   "source": [
    "max(S.items(), key=operator.itemgetter(1))[0][2]"
   ]
  },
  {
   "cell_type": "code",
   "execution_count": null,
   "metadata": {},
   "outputs": [],
   "source": [
    "S = defaultdict(float)\n",
    "for item in self.Q:\n",
    "    if item[0] == self.pair[0]:\n",
    "        S[item] = self.Q[item]\n",
    "optimalAction = max(S.items(), key=operator.itemgetter(1))[0][1]\n",
    "else:\n",
    "# if Q empty, act randomly\n",
    "optimalAction = np.random.choice(self.possibleActions, 1)[0]"
   ]
  },
  {
   "cell_type": "code",
   "execution_count": 815,
   "metadata": {},
   "outputs": [],
   "source": [
    "value = 0.554\n",
    "episodeNum = 0\n",
    "completeQ = (episodeNum, [value])"
   ]
  },
  {
   "cell_type": "code",
   "execution_count": 816,
   "metadata": {},
   "outputs": [
    {
     "data": {
      "text/plain": [
       "(0, [0.554])"
      ]
     },
     "execution_count": 816,
     "metadata": {},
     "output_type": "execute_result"
    }
   ],
   "source": [
    "completeQ"
   ]
  },
  {
   "cell_type": "code",
   "execution_count": 820,
   "metadata": {},
   "outputs": [],
   "source": [
    "completeQ[1].append(15)"
   ]
  },
  {
   "cell_type": "code",
   "execution_count": 821,
   "metadata": {},
   "outputs": [
    {
     "data": {
      "text/plain": [
       "(0, [0.554, 15])"
      ]
     },
     "execution_count": 821,
     "metadata": {},
     "output_type": "execute_result"
    }
   ],
   "source": [
    "completeQ"
   ]
  },
  {
   "cell_type": "code",
   "execution_count": 858,
   "metadata": {},
   "outputs": [],
   "source": [
    "Q = {(4, ((0, 3), (2, 2)), 'KICK'): 0.0, (1, ((0, 3), (2, 2)), 'KICK'): 0.0, (2, ((0, 3), (2, 2)), 'DRIBBLE_UP'): 0.0, (0, ((0, 2), (2, 2)), 'DRIBBLE_DOWN'): 0.0, (3, ((1, 2), (2, 2)), 'DRIBBLE_RIGHT'): 0.0, (3, ((0, 2), (2, 2)), 'DRIBBLE_DOWN'): 0.0, (0, ((0, 2), (2, 2)), 'KICK'): 0.0, (0, ((0, 2), (2, 2)), 'DRIBBLE_LEFT'): 0.0, (0, ((0, 2), (2, 2)), 'DRIBBLE_RIGHT'): 0.0, (2, ((0, 2), (2, 2)), 'DRIBBLE_RIGHT'): 0.0, (1, ((0, 2), (2, 2)), 'DRIBBLE_RIGHT'): 0.0}"
   ]
  },
  {
   "cell_type": "code",
   "execution_count": 859,
   "metadata": {},
   "outputs": [],
   "source": [
    "timeState = (3, ((1, 2), (2, 2)))"
   ]
  },
  {
   "cell_type": "code",
   "execution_count": 860,
   "metadata": {},
   "outputs": [
    {
     "data": {
      "text/plain": [
       "(3, ((1, 2), (2, 2)))"
      ]
     },
     "execution_count": 860,
     "metadata": {},
     "output_type": "execute_result"
    }
   ],
   "source": [
    "timeState"
   ]
  },
  {
   "cell_type": "code",
   "execution_count": 861,
   "metadata": {},
   "outputs": [
    {
     "data": {
      "text/plain": [
       "{(3, ((1, 2), (2, 2)), 'DRIBBLE_RIGHT'): 0.0}"
      ]
     },
     "execution_count": 861,
     "metadata": {},
     "output_type": "execute_result"
    }
   ],
   "source": [
    "S = {}\n",
    "for item in Q:\n",
    "    if item[0:2] == timeState:\n",
    "        S[item] = Q[item]\n",
    "S"
   ]
  },
  {
   "cell_type": "code",
   "execution_count": 852,
   "metadata": {},
   "outputs": [
    {
     "data": {
      "text/plain": [
       "defaultdict(float,\n",
       "            {(5, ((3, 5), (2, 2)), 'DRIBBLE_SOUTH'): 0.04221830985915493,\n",
       "             (5, ((3, 5), (2, 2)), 'DRIBBLE_east'): 0.07721830985915493,\n",
       "             (67, ((0, 2), (2, 2)), 'DRIBBLE_RIGHT'): 0.0})"
      ]
     },
     "execution_count": 852,
     "metadata": {},
     "output_type": "execute_result"
    }
   ],
   "source": [
    "S"
   ]
  },
  {
   "cell_type": "code",
   "execution_count": null,
   "metadata": {},
   "outputs": [],
   "source": []
  }
 ],
 "metadata": {
  "kernelspec": {
   "display_name": "Python 3",
   "language": "python",
   "name": "python3"
  },
  "language_info": {
   "codemirror_mode": {
    "name": "ipython",
    "version": 3
   },
   "file_extension": ".py",
   "mimetype": "text/x-python",
   "name": "python",
   "nbconvert_exporter": "python",
   "pygments_lexer": "ipython3",
   "version": "3.5.4"
  }
 },
 "nbformat": 4,
 "nbformat_minor": 2
}
