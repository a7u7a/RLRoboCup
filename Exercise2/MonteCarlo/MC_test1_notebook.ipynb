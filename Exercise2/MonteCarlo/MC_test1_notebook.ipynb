{
 "cells": [
  {
   "cell_type": "markdown",
   "metadata": {},
   "source": [
    "### Notebook with test implementations for Exercise 2 Montecarlo Control"
   ]
  },
  {
   "cell_type": "markdown",
   "metadata": {},
   "source": [
    "Repo: https://github.com/a7u7a/RLRoboCup"
   ]
  },
  {
   "cell_type": "code",
   "execution_count": 1,
   "metadata": {},
   "outputs": [],
   "source": [
    "from collections import defaultdict\n",
    "import numpy as np"
   ]
  },
  {
   "cell_type": "code",
   "execution_count": null,
   "metadata": {},
   "outputs": [],
   "source": [
    "# dict, where KEY= tuple state, action and VALUE= cumulative reward"
   ]
  },
  {
   "cell_type": "code",
   "execution_count": 732,
   "metadata": {},
   "outputs": [],
   "source": [
    "possibleActions = ['DRIBBLE_UP', 'DRIBBLE_DOWN', 'DRIBBLE_LEFT', 'DRIBBLE_RIGHT', 'KICK']"
   ]
  },
  {
   "cell_type": "code",
   "execution_count": 733,
   "metadata": {},
   "outputs": [
    {
     "data": {
      "text/plain": [
       "'DRIBBLE_LEFT'"
      ]
     },
     "execution_count": 733,
     "metadata": {},
     "output_type": "execute_result"
    }
   ],
   "source": [
    "np.random.choice(possibleActions, 1)[0]"
   ]
  },
  {
   "cell_type": "code",
   "execution_count": 455,
   "metadata": {},
   "outputs": [
    {
     "name": "stdout",
     "output_type": "stream",
     "text": [
      "{(((1, 2), (2, 2)), 'KICK'): [[0]], (((0, 2), (2, 2)), 'DRIBBLE_UP'): [[3, 5, 0, 1, 3, 0]], (((0, 2), (2, 2)), 'DRIBBLE_RIGHT'): [[0, 1, 3, 0]], (((0, 2), (2, 2)), 'DRIBBLE_LEFT'): [[5, 0, 1, 3, 0]], (((0, 3), (2, 2)), 'KICK'): [[0, 3, 5, 0, 1, 3, 0]], (((1, 2), (2, 2)), 'DRIBBLE_DOWN'): [[1, 3, 0]], (((0, 4), (2, 2)), 'KICK'): [[3, 0]]}\n"
     ]
    }
   ],
   "source": [
    "for item in episodeStateActions.keys():\n",
    "  #  print('key: ',item)\n",
    " #   print('value: ',episodeStateActions[item][0])\n",
    "#    print('reward: ',sum(rewards[episodeStateActions[item][0]:]))\n",
    "    # Go to rewards and \n",
    "    if item not in returns.keys():\n",
    "        # add to dict\n",
    "        returns[item] = [rewards[episodeStateActions[item][0]:]]\n",
    "    else:\n",
    "        # append to list in dict entry\n",
    "        returns[item] += [rewards[episodeStateActions[item][0]:]]\n",
    "    \n",
    "print(returns)\n"
   ]
  },
  {
   "cell_type": "code",
   "execution_count": 497,
   "metadata": {},
   "outputs": [
    {
     "name": "stdout",
     "output_type": "stream",
     "text": [
      "{(((1, 2), (2, 2)), 'KICK'): 0.0, (((0, 2), (2, 2)), 'DRIBBLE_UP'): 2.0, (((0, 2), (2, 2)), 'DRIBBLE_RIGHT'): 1.0, (((0, 2), (2, 2)), 'DRIBBLE_LEFT'): 1.8, (((0, 3), (2, 2)), 'KICK'): 1.7142857142857142, (((1, 2), (2, 2)), 'DRIBBLE_DOWN'): 1.3333333333333333, (((0, 4), (2, 2)), 'KICK'): 1.5}\n"
     ]
    }
   ],
   "source": [
    "# test \n",
    "# \n",
    "# use keys in S,A to find first occurrence time(step) index\n",
    "# use index as slicer to average rewards since timestep\n",
    "# then append to Q as entry on dict where KEY= State action pair, VALUE= value\n",
    "\n",
    "Q = {}\n",
    "\n",
    "for item in episodeStateActions.keys():\n",
    "#    print(item)\n",
    "    Q[item] = np.average(rewards[episodeStateActions[item][0]:])\n",
    "    \n",
    "print(Q)\n"
   ]
  },
  {
   "cell_type": "code",
   "execution_count": 564,
   "metadata": {},
   "outputs": [
    {
     "name": "stdout",
     "output_type": "stream",
     "text": [
      "KICK\n"
     ]
    },
    {
     "data": {
      "text/plain": [
       "{(((1, 3), (2, 2)), 'DRIBBLE_DOWN'): 0.0,\n",
       " (((1, 3), (2, 2)), 'DRIBBLE_LEFT'): 0.0,\n",
       " (((1, 3), (2, 2)), 'KICK'): 1.0}"
      ]
     },
     "execution_count": 564,
     "metadata": {},
     "output_type": "execute_result"
    }
   ],
   "source": [
    "import operator\n",
    "\n",
    "# Find action with highest Q value given state\n",
    "\n",
    "Q= {(((1, 2), (2, 2)), 'DRIBBLE_RIGHT'): -0.4, (((0, 2), (2, 2)), 'KICK'): 1.0, (((0, 2), (2, 2)), 'DRIBBLE_DOWN'): 0.0, (((1, 2), (2, 2)), 'DRIBBLE_LEFT'): 0.0, (((0, 4), (2, 2)), 'DRIBBLE_UP'): 0.0, (((1, 4), (2, 2)), 'DRIBBLE_DOWN'): 0.0, (((1, 2), (2, 2)), 'DRIBBLE_DOWN'): 0.0, (((0, 4), (2, 2)), 'DRIBBLE_LEFT'): 0.0, (((0, 2), (2, 2)), 'DRIBBLE_RIGHT'): 0.0, (((1, 1), (2, 2)), 'KICK'): 0.0, (((1, 3), (2, 2)), 'DRIBBLE_DOWN'): 0.0, (((0, 3), (2, 2)), 'DRIBBLE_DOWN'): 0.0, (((0, 5), (2, 2)), 'DRIBBLE_UP'): 0.0, (((1, 1), (2, 2)), 'DRIBBLE_DOWN'): 0.0, (((0, 1), (2, 2)), 'DRIBBLE_RIGHT'): 0.0, (((0, 5), (2, 2)), 'DRIBBLE_LEFT'): 0.0, (((0, 1), (2, 2)), 'DRIBBLE_UP'): 0.0, (((1, 3), (2, 2)), 'KICK'): 1.0, (((0, 3), (2, 2)), 'KICK'): 0.0, (((0, 3), (2, 2)), 'DRIBBLE_RIGHT'): 0.0, (((0, 0), (2, 2)), 'KICK'): 0.0, (((1, 2), (2, 2)), 'KICK'): 0.0, (((0, 0), (2, 2)), 'DRIBBLE_UP'): 0.0, (((1, 3), (2, 2)), 'DRIBBLE_LEFT'): 0.0, (((0, 0), (2, 2)), 'DRIBBLE_DOWN'): 0.0, (((1, 2), (2, 2)), 'DRIBBLE_UP'): 0.0, (((0, 2), (2, 2)), 'DRIBBLE_UP'): 0.0, (((2, 2), (2, 2)), 'DRIBBLE_DOWN'): 0.0, (((0, 4), (2, 2)), 'KICK'): 0.0, (((0, 3), (2, 2)), 'DRIBBLE_UP'): 0.0, (((0, 4), (2, 2)), 'DRIBBLE_DOWN'): 0.0, (((0, 1), (2, 2)), 'KICK'): 0.0, (((0, 5), (2, 2)), 'DRIBBLE_RIGHT'): 0.0, (((1, 5), (2, 2)), 'KICK'): 0.0, (((0, 2), (2, 2)), 'DRIBBLE_LEFT'): 0.0}\n",
    "pair = (((1, 3), (2, 2)), 'KICK')\n",
    "\n",
    "# make subdict 'S' with all same S as in 'pair'\n",
    "S = {}\n",
    "for item in Q:\n",
    "    if item[0] == pair[0]:\n",
    "        S[item] = Q[item]\n",
    "\n",
    "# Get item of max value from dict\n",
    "Action = max(S.items(), key=operator.itemgetter(1))[0][1]\n",
    "print(Action)\n",
    "S\n",
    "# Get only Action, which should be the optimal one\n",
    "#action = stateAction[1]\n",
    "\n"
   ]
  },
  {
   "cell_type": "code",
   "execution_count": 799,
   "metadata": {},
   "outputs": [],
   "source": [
    "Q = {(0,((3, 5), (2, 2)), 'DRIBBLE_UP'): 0.03221830985915493, (1,((1, 0), (2, 2)), 'DRIBBLE_LEFT'): 0.024875621890547265, (2,((1, 1), (2, 2)), 'DRIBBLE_RIGHT'): 0.032416208104052026, (3,((3, 1), (2, 2)), 'KICK'): 0.03391203703703704, (4,((4, 3), (2, 2)), 'KICK'): 1.0, (5,((3, 5), (2, 2)), 'DRIBBLE_SOUTH'): 0.04221830985915493,(5,((3, 5), (2, 2)), 'DRIBBLE_east'): 0.07721830985915493}"
   ]
  },
  {
   "cell_type": "code",
   "execution_count": 800,
   "metadata": {},
   "outputs": [
    {
     "data": {
      "text/plain": [
       "{(0, ((3, 5), (2, 2)), 'DRIBBLE_UP'): 0.03221830985915493,\n",
       " (1, ((1, 0), (2, 2)), 'DRIBBLE_LEFT'): 0.024875621890547265,\n",
       " (2, ((1, 1), (2, 2)), 'DRIBBLE_RIGHT'): 0.032416208104052026,\n",
       " (3, ((3, 1), (2, 2)), 'KICK'): 0.03391203703703704,\n",
       " (4, ((4, 3), (2, 2)), 'KICK'): 1.0,\n",
       " (5, ((3, 5), (2, 2)), 'DRIBBLE_SOUTH'): 0.04221830985915493,\n",
       " (5, ((3, 5), (2, 2)), 'DRIBBLE_east'): 0.07721830985915493}"
      ]
     },
     "execution_count": 800,
     "metadata": {},
     "output_type": "execute_result"
    }
   ],
   "source": [
    "Q"
   ]
  },
  {
   "cell_type": "code",
   "execution_count": 805,
   "metadata": {},
   "outputs": [],
   "source": [
    "pair = (5, ((3, 5), (2, 2)), 'DRIBBLE_UP')"
   ]
  },
  {
   "cell_type": "code",
   "execution_count": 806,
   "metadata": {},
   "outputs": [
    {
     "data": {
      "text/plain": [
       "(5, ((3, 5), (2, 2)))"
      ]
     },
     "execution_count": 806,
     "metadata": {},
     "output_type": "execute_result"
    }
   ],
   "source": [
    "pair[0:2]"
   ]
  },
  {
   "cell_type": "code",
   "execution_count": 807,
   "metadata": {},
   "outputs": [],
   "source": [
    "# timeStep, state, action, value\n",
    "# find all entries with same timestep and state as current pair\n",
    "# for every item in Q:\n",
    "# if item timestep, state == \n",
    "\n",
    "S = defaultdict(float)\n",
    "for item in Q:\n",
    "    if item[0:2] == pair[0:2]:\n",
    "        S[item] = Q[item]"
   ]
  },
  {
   "cell_type": "code",
   "execution_count": 808,
   "metadata": {},
   "outputs": [
    {
     "data": {
      "text/plain": [
       "defaultdict(float,\n",
       "            {(5, ((3, 5), (2, 2)), 'DRIBBLE_SOUTH'): 0.04221830985915493,\n",
       "             (5, ((3, 5), (2, 2)), 'DRIBBLE_east'): 0.07721830985915493})"
      ]
     },
     "execution_count": 808,
     "metadata": {},
     "output_type": "execute_result"
    }
   ],
   "source": [
    "S"
   ]
  },
  {
   "cell_type": "code",
   "execution_count": 811,
   "metadata": {},
   "outputs": [
    {
     "data": {
      "text/plain": [
       "'DRIBBLE_east'"
      ]
     },
     "execution_count": 811,
     "metadata": {},
     "output_type": "execute_result"
    }
   ],
   "source": [
    "max(S.items(), key=operator.itemgetter(1))[0][2]"
   ]
  },
  {
   "cell_type": "code",
   "execution_count": null,
   "metadata": {},
   "outputs": [],
   "source": [
    "S = defaultdict(float)\n",
    "for item in self.Q:\n",
    "    if item[0] == self.pair[0]:\n",
    "        S[item] = self.Q[item]\n",
    "optimalAction = max(S.items(), key=operator.itemgetter(1))[0][1]\n",
    "else:\n",
    "# if Q empty, act randomly\n",
    "optimalAction = np.random.choice(self.possibleActions, 1)[0]"
   ]
  },
  {
   "cell_type": "code",
   "execution_count": 815,
   "metadata": {},
   "outputs": [],
   "source": [
    "value = 0.554\n",
    "episodeNum = 0\n",
    "completeQ = (episodeNum, [value])"
   ]
  },
  {
   "cell_type": "code",
   "execution_count": 816,
   "metadata": {},
   "outputs": [
    {
     "data": {
      "text/plain": [
       "(0, [0.554])"
      ]
     },
     "execution_count": 816,
     "metadata": {},
     "output_type": "execute_result"
    }
   ],
   "source": [
    "completeQ"
   ]
  },
  {
   "cell_type": "code",
   "execution_count": 820,
   "metadata": {},
   "outputs": [],
   "source": [
    "completeQ[1].append(15)"
   ]
  },
  {
   "cell_type": "code",
   "execution_count": 821,
   "metadata": {},
   "outputs": [
    {
     "data": {
      "text/plain": [
       "(0, [0.554, 15])"
      ]
     },
     "execution_count": 821,
     "metadata": {},
     "output_type": "execute_result"
    }
   ],
   "source": [
    "completeQ"
   ]
  },
  {
   "cell_type": "code",
   "execution_count": 836,
   "metadata": {},
   "outputs": [],
   "source": [
    "Q = {(67, ((0, 2), (2, 2)), 'DRIBBLE_RIGHT'): 0.0, (366, ((0, 1), (2, 2)), 'DRIBBLE_LEFT'): 0.0, (54, ((0, 2), (2, 2)), 'DRIBBLE_UP'): 0.0, (43, ((0, 1), (2, 2)), 'DRIBBLE_RIGHT'): 0.0, (287, ((0, 1), (2, 2)), 'DRIBBLE_UP'): 0.0, (198, ((0, 2), (2, 2)), 'DRIBBLE_LEFT'): 0.0, (359, ((1, 2), (2, 2)), 'DRIBBLE_RIGHT'): -0.4, (29, ((1, 2), (2, 2)), 'DRIBBLE_RIGHT'): -0.4, (312, ((1, 1), (2, 2)), 'DRIBBLE_UP'): 0.0, (348, ((1, 1), (2, 2)), 'KICK'): 0.0, (249, ((0, 5), (2, 2)), 'DRIBBLE_DOWN'): 0.0, (244, ((0, 5), (2, 2)), 'DRIBBLE_DOWN'): 0.0, (212, ((0, 2), (2, 2)), 'DRIBBLE_RIGHT'): 0.0, (405, ((0, 3), (2, 2)), 'DRIBBLE_LEFT'): 0.0, (420, ((0, 0), (2, 2)), 'DRIBBLE_DOWN'): 0.0, (178, ((0, 3), (2, 2)), 'DRIBBLE_LEFT'): 0.0, (479, ((1, 3), (2, 2)), 'DRIBBLE_DOWN'): 0.0, (1, ((0, 2), (2, 2)), 'DRIBBLE_RIGHT'): 0.0, (317, ((0, 3), (2, 2)), 'DRIBBLE_DOWN'): 0.0, (556, ((0, 2), (2, 2)), 'KICK'): 0.0, (423, ((1, 1), (2, 2)), 'DRIBBLE_RIGHT'): 0.0, (318, ((0, 4), (2, 2)), 'DRIBBLE_DOWN'): 0.0, (505, ((2, 2), (2, 2)), 'DRIBBLE_RIGHT'): 0.0, (209, ((0, 2), (2, 2)), 'DRIBBLE_LEFT'): 0.0, (470, ((2, 0), (2, 2)), 'DRIBBLE_UP'): 0.0, (483, ((2, 4), (2, 2)), 'DRIBBLE_LEFT'): 0.0, (199, ((0, 2), (2, 2)), 'DRIBBLE_DOWN'): 0.0, (521, ((1, 3), (2, 2)), 'DRIBBLE_UP'): 0.0, (197, ((0, 3), (2, 2)), 'KICK'): 1.0, (453, ((2, 1), (2, 2)), 'DRIBBLE_RIGHT'): 0.0, (382, ((0, 2), (2, 2)), 'KICK'): 0.0, (42, ((0, 2), (2, 2)), 'DRIBBLE_RIGHT'): 0.0, (380, ((2, 1), (2, 2)), 'KICK'): 1.0, (378, ((2, 1), (2, 2)), 'DRIBBLE_UP'): 0.0, (149, ((0, 2), (2, 2)), 'DRIBBLE_LEFT'): 0.0, (161, ((0, 2), (2, 2)), 'DRIBBLE_RIGHT'): 0.0, (379, ((2, 0), (2, 2)), 'DRIBBLE_DOWN'): 0.0, (373, ((0, 2), (2, 2)), 'DRIBBLE_RIGHT'): 0.0, (431, ((1, 1), (2, 2)), 'KICK'): 0.0, (314, ((1, 1), (2, 2)), 'DRIBBLE_LEFT'): 0.0, (273, ((1, 1), (2, 2)), 'DRIBBLE_DOWN'): 0.0, (256, ((0, 2), (2, 2)), 'DRIBBLE_DOWN'): 0.0, (152, ((0, 1), (2, 2)), 'DRIBBLE_LEFT'): 0.0, (300, ((0, 2), (2, 2)), 'DRIBBLE_RIGHT'): 0.0, (463, ((0, 2), (2, 2)), 'KICK'): 0.0, (376, ((2, 1), (2, 2)), 'DRIBBLE_DOWN'): 0.0, (136, ((0, 2), (2, 2)), 'DRIBBLE_LEFT'): 0.0, (546, ((1, 5), (2, 2)), 'DRIBBLE_RIGHT'): 0.0, (185, ((0, 2), (2, 2)), 'DRIBBLE_RIGHT'): 0.0, (276, ((0, 2), (2, 2)), 'DRIBBLE_RIGHT'): 0.0, (535, ((0, 3), (2, 2)), 'KICK'): 0.0, (208, ((0, 2), (2, 2)), 'KICK'): 0.0, (547, ((0, 5), (2, 2)), 'DRIBBLE_DOWN'): 0.0, (295, ((1, 0), (2, 2)), 'DRIBBLE_DOWN'): 0.0, (363, ((0, 2), (2, 2)), 'DRIBBLE_LEFT'): 0.0, (207, ((0, 2), (2, 2)), 'KICK'): 0.0, (114, ((0, 5), (2, 2)), 'DRIBBLE_RIGHT'): 0.0, (187, ((1, 3), (2, 2)), 'DRIBBLE_DOWN'): 0.0, (202, ((0, 5), (2, 2)), 'KICK'): 1.0, (336, ((0, 1), (2, 2)), 'KICK'): 0.0, (488, ((0, 2), (2, 2)), 'DRIBBLE_UP'): 0.0, (51, ((0, 2), (2, 2)), 'DRIBBLE_LEFT'): 0.0, (265, ((0, 2), (2, 2)), 'DRIBBLE_UP'): 0.0, (66, ((1, 1), (2, 2)), 'DRIBBLE_LEFT'): 0.0, (436, ((0, 2), (2, 2)), 'DRIBBLE_RIGHT'): 0.0, (529, ((2, 5), (2, 2)), 'DRIBBLE_DOWN'): 0.0, (487, ((3, 3), (2, 2)), 'KICK'): 1.0, (47, ((2, 1), (2, 2)), 'DRIBBLE_LEFT'): 0.0, (364, ((0, 2), (2, 2)), 'KICK'): 0.0, (156, ((1, 3), (2, 2)), 'DRIBBLE_LEFT'): 0.0, (497, ((1, 4), (2, 2)), 'DRIBBLE_DOWN'): 0.0, (201, ((0, 4), (2, 2)), 'DRIBBLE_DOWN'): 0.0, (164, ((2, 1), (2, 2)), 'KICK'): 1.0, (500, ((0, 1), (2, 2)), 'DRIBBLE_DOWN'): 0.0, (478, ((1, 2), (2, 2)), 'DRIBBLE_DOWN'): 0.0, (399, ((0, 3), (2, 2)), 'DRIBBLE_LEFT'): 0.0, (316, ((0, 2), (2, 2)), 'DRIBBLE_DOWN'): 0.0, (384, ((1, 2), (2, 2)), 'DRIBBLE_DOWN'): 0.0, (451, ((2, 1), (2, 2)), 'DRIBBLE_DOWN'): -0.4, (543, ((0, 5), (2, 2)), 'DRIBBLE_DOWN'): 0.0, (71, ((0, 2), (2, 2)), 'KICK'): 0.0, (516, ((0, 2), (2, 2)), 'DRIBBLE_RIGHT'): 0.0, (345, ((1, 2), (2, 2)), 'KICK'): 0.0, (220, ((2, 2), (2, 2)), 'DRIBBLE_DOWN'): 0.0, (60, ((2, 1), (2, 2)), 'DRIBBLE_RIGHT'): 0.0, (63, ((0, 2), (2, 2)), 'DRIBBLE_LEFT'): 0.0, (469, ((2, 1), (2, 2)), 'DRIBBLE_UP'): 0.0, (127, ((1, 2), (2, 2)), 'DRIBBLE_LEFT'): 0.0, (537, ((0, 2), (2, 2)), 'DRIBBLE_RIGHT'): 0.0, (383, ((0, 2), (2, 2)), 'DRIBBLE_LEFT'): 0.0, (83, ((0, 4), (2, 2)), 'DRIBBLE_DOWN'): 0.0, (35, ((2, 3), (2, 2)), 'DRIBBLE_LEFT'): 0.0, (285, ((0, 2), (2, 2)), 'DRIBBLE_LEFT'): 0.0, (327, ((1, 2), (2, 2)), 'KICK'): 0.0, (462, ((0, 2), (2, 2)), 'KICK'): 1.0, (527, ((2, 5), (2, 2)), 'DRIBBLE_DOWN'): 0.0, (408, ((1, 3), (2, 2)), 'DRIBBLE_LEFT'): 0.0, (32, ((0, 2), (2, 2)), 'DRIBBLE_DOWN'): 0.0, (252, ((0, 5), (2, 2)), 'DRIBBLE_LEFT'): 0.0, (339, ((0, 3), (2, 2)), 'DRIBBLE_DOWN'): 0.0, (477, ((0, 2), (2, 2)), 'DRIBBLE_RIGHT'): 0.0, (392, ((0, 4), (2, 2)), 'DRIBBLE_RIGHT'): 0.0, (370, ((0, 2), (2, 2)), 'KICK'): 0.0, (464, ((0, 2), (2, 2)), 'DRIBBLE_RIGHT'): 0.0, (303, ((0, 3), (2, 2)), 'KICK'): 0.0, (369, ((0, 3), (2, 2)), 'KICK'): 0.0, (274, ((1, 2), (2, 2)), 'DRIBBLE_LEFT'): 0.0, (407, ((0, 3), (2, 2)), 'DRIBBLE_RIGHT'): 0.0, (242, ((1, 4), (2, 2)), 'DRIBBLE_LEFT'): 0.0, (268, ((0, 1), (2, 2)), 'DRIBBLE_DOWN'): 0.0, (239, ((0, 4), (2, 2)), 'DRIBBLE_UP'): 0.0, (332, ((0, 0), (2, 2)), 'DRIBBLE_UP'): 0.0, (519, ((0, 2), (2, 2)), 'DRIBBLE_LEFT'): 0.0, (398, ((0, 2), (2, 2)), 'DRIBBLE_DOWN'): 0.0, (264, ((0, 2), (2, 2)), 'KICK'): 0.0, (440, ((2, 2), (2, 2)), 'DRIBBLE_DOWN'): 0.0, (147, ((0, 3), (2, 2)), 'DRIBBLE_LEFT'): 0.0, (263, ((0, 2), (2, 2)), 'KICK'): 0.0, (539, ((1, 3), (2, 2)), 'DRIBBLE_DOWN'): 0.0, (132, ((0, 2), (2, 2)), 'DRIBBLE_LEFT'): 0.0, (118, ((1, 5), (2, 2)), 'DRIBBLE_RIGHT'): 0.0, (116, ((1, 5), (2, 2)), 'DRIBBLE_UP'): 0.0, (356, ((0, 2), (2, 2)), 'DRIBBLE_UP'): 0.0, (5, ((1, 2), (2, 2)), 'DRIBBLE_UP'): 0.0, (354, ((0, 2), (2, 2)), 'KICK'): 0.0, (194, ((0, 1), (2, 2)), 'KICK'): 0.0, (37, ((0, 3), (2, 2)), 'DRIBBLE_UP'): 0.0, (484, ((1, 4), (2, 2)), 'DRIBBLE_UP'): 0.0, (148, ((0, 3), (2, 2)), 'DRIBBLE_UP'): 0.0, (506, ((3, 2), (2, 2)), 'DRIBBLE_DOWN'): 0.0, (64, ((0, 2), (2, 2)), 'DRIBBLE_RIGHT'): 0.0, (542, ((0, 5), (2, 2)), 'DRIBBLE_DOWN'): 0.0, (304, ((0, 2), (2, 2)), 'DRIBBLE_LEFT'): 0.0, (555, ((1, 2), (2, 2)), 'KICK'): 0.0, (40, ((0, 4), (2, 2)), 'DRIBBLE_UP'): 0.0, (139, ((0, 2), (2, 2)), 'DRIBBLE_RIGHT'): 0.0, (170, ((1, 2), (2, 2)), 'DRIBBLE_RIGHT'): 0.0, (323, ((0, 2), (2, 2)), 'KICK'): 0.0, (206, ((0, 1), (2, 2)), 'DRIBBLE_DOWN'): 0.0, (495, ((1, 2), (2, 2)), 'DRIBBLE_DOWN'): 0.0, (13, ((0, 3), (2, 2)), 'DRIBBLE_RIGHT'): 0.0, (190, ((0, 2), (2, 2)), 'KICK'): 0.0, (183, ((1, 3), (2, 2)), 'DRIBBLE_UP'): 0.0, (150, ((0, 2), (2, 2)), 'DRIBBLE_LEFT'): 0.0, (461, ((0, 1), (2, 2)), 'KICK'): 0.0, (112, ((0, 3), (2, 2)), 'DRIBBLE_DOWN'): 0.0, (456, ((0, 2), (2, 2)), 'DRIBBLE_LEFT'): 0.0, (50, ((0, 2), (2, 2)), 'DRIBBLE_LEFT'): 0.0, (16, ((0, 2), (2, 2)), 'DRIBBLE_UP'): 0.0, (241, ((2, 4), (2, 2)), 'DRIBBLE_LEFT'): 0.0, (395, ((1, 4), (2, 2)), 'DRIBBLE_UP'): 0.0, (393, ((1, 4), (2, 2)), 'DRIBBLE_UP'): 0.0, (309, ((0, 2), (2, 2)), 'KICK'): 0.0, (145, ((0, 3), (2, 2)), 'DRIBBLE_UP'): 0.0, (502, ((0, 3), (2, 2)), 'KICK'): 0.0, (334, ((0, 0), (2, 2)), 'DRIBBLE_DOWN'): 0.0, (307, ((1, 1), (2, 2)), 'DRIBBLE_UP'): 0.0, (52, ((0, 2), (2, 2)), 'KICK'): 0.0, (368, ((0, 2), (2, 2)), 'DRIBBLE_DOWN'): 0.0, (119, ((2, 5), (2, 2)), 'KICK'): 0.0, (125, ((1, 2), (2, 2)), 'DRIBBLE_UP'): 0.0, (490, ((0, 0), (2, 2)), 'DRIBBLE_RIGHT'): 0.0, (449, ((0, 1), (2, 2)), 'DRIBBLE_DOWN'): 0.0, (346, ((0, 2), (2, 2)), 'DRIBBLE_UP'): 0.0, (128, ((0, 2), (2, 2)), 'DRIBBLE_RIGHT'): 0.0, (182, ((0, 3), (2, 2)), 'DRIBBLE_RIGHT'): 0.0, (228, ((1, 1), (2, 2)), 'DRIBBLE_RIGHT'): 0.0, (33, ((1, 2), (2, 2)), 'DRIBBLE_RIGHT'): -0.4, (238, ((0, 3), (2, 2)), 'DRIBBLE_DOWN'): 0.0, (254, ((1, 5), (2, 2)), 'DRIBBLE_UP'): 0.0, (290, ((0, 2), (2, 2)), 'DRIBBLE_UP'): 0.0, (218, ((1, 3), (2, 2)), 'DRIBBLE_RIGHT'): 0.0, (3, ((0, 2), (2, 2)), 'KICK'): 0.0, (211, ((0, 1), (2, 2)), 'KICK'): 0.0, (275, ((0, 2), (2, 2)), 'KICK'): 0.0, (101, ((1, 1), (2, 2)), 'DRIBBLE_UP'): 0.0, (501, ((0, 2), (2, 2)), 'DRIBBLE_DOWN'): 0.0, (333, ((0, 0), (2, 2)), 'DRIBBLE_UP'): 0.0, (389, ((0, 2), (2, 2)), 'KICK'): 0.0, (551, ((0, 3), (2, 2)), 'DRIBBLE_UP'): 0.0, (55, ((0, 1), (2, 2)), 'DRIBBLE_LEFT'): 0.0, (413, ((0, 0), (2, 2)), 'DRIBBLE_LEFT'): 0.0, (485, ((1, 3), (2, 2)), 'DRIBBLE_LEFT'): 0.0, (491, ((0, 1), (2, 2)), 'DRIBBLE_RIGHT'): 0.0, (142, ((0, 1), (2, 2)), 'DRIBBLE_RIGHT'): 0.0, (95, ((0, 2), (2, 2)), 'DRIBBLE_UP'): 0.0, (291, ((0, 1), (2, 2)), 'DRIBBLE_UP'): 0.0, (203, ((0, 2), (2, 2)), 'DRIBBLE_UP'): 0.0, (418, ((0, 0), (2, 2)), 'DRIBBLE_LEFT'): 0.0, (226, ((0, 2), (2, 2)), 'DRIBBLE_RIGHT'): 0.0, (498, ((1, 5), (2, 2)), 'KICK'): 0.0, (296, ((1, 0), (2, 2)), 'KICK'): 0.0, (388, ((0, 1), (2, 2)), 'DRIBBLE_DOWN'): 0.0, (200, ((0, 3), (2, 2)), 'DRIBBLE_DOWN'): 0.0, (262, ((0, 2), (2, 2)), 'KICK'): 0.0, (541, ((0, 4), (2, 2)), 'DRIBBLE_DOWN'): 0.0, (294, ((0, 0), (2, 2)), 'DRIBBLE_RIGHT'): 0.0, (445, ((0, 2), (2, 2)), 'KICK'): 0.0, (475, ((0, 3), (2, 2)), 'KICK'): 0.0, (271, ((2, 2), (2, 2)), 'DRIBBLE_DOWN'): 0.0, (394, ((1, 3), (2, 2)), 'DRIBBLE_DOWN'): 0.0, (168, ((1, 2), (2, 2)), 'DRIBBLE_RIGHT'): -0.4, (558, ((0, 3), (2, 2)), 'KICK'): 0.0, (56, ((0, 1), (2, 2)), 'DRIBBLE_LEFT'): 0.0, (255, ((1, 4), (2, 2)), 'KICK'): 0.0, (108, ((0, 1), (2, 2)), 'KICK'): 0.0, (17, ((0, 1), (2, 2)), 'DRIBBLE_UP'): 0.0, (11, ((0, 2), (2, 2)), 'DRIBBLE_DOWN'): 0.0, (301, ((1, 2), (2, 2)), 'DRIBBLE_DOWN'): 0.0, (282, ((1, 3), (2, 2)), 'DRIBBLE_LEFT'): 0.0, (166, ((1, 2), (2, 2)), 'DRIBBLE_UP'): 0.0, (181, ((0, 2), (2, 2)), 'DRIBBLE_DOWN'): 0.0, (482, ((2, 3), (2, 2)), 'DRIBBLE_DOWN'): 0.0, (94, ((0, 3), (2, 2)), 'DRIBBLE_UP'): 0.0, (293, ((0, 0), (2, 2)), 'DRIBBLE_DOWN'): 0.0, (457, ((0, 2), (2, 2)), 'DRIBBLE_LEFT'): 0.0, (141, ((1, 1), (2, 2)), 'DRIBBLE_DOWN'): 0.0, (414, ((0, 0), (2, 2)), 'DRIBBLE_RIGHT'): 0.0, (441, ((2, 3), (2, 2)), 'DRIBBLE_LEFT'): 0.0, (46, ((2, 0), (2, 2)), 'DRIBBLE_LEFT'): 0.0, (140, ((1, 2), (2, 2)), 'DRIBBLE_UP'): 0.0, (338, ((0, 2), (2, 2)), 'DRIBBLE_DOWN'): 0.0, (326, ((0, 2), (2, 2)), 'DRIBBLE_LEFT'): 0.0, (448, ((0, 2), (2, 2)), 'DRIBBLE_DOWN'): 0.0, (188, ((0, 3), (2, 2)), 'DRIBBLE_LEFT'): 0.0, (531, ((3, 5), (2, 2)), 'KICK'): 0.0, (176, ((1, 3), (2, 2)), 'DRIBBLE_LEFT'): 0.0, (225, ((0, 2), (2, 2)), 'KICK'): 0.0, (231, ((3, 2), (2, 2)), 'KICK'): 0.0, (77, ((0, 1), (2, 2)), 'DRIBBLE_DOWN'): 0.0, (528, ((2, 5), (2, 2)), 'DRIBBLE_RIGHT'): 0.0, (499, ((0, 2), (2, 2)), 'DRIBBLE_UP'): 0.0, (259, ((1, 1), (2, 2)), 'KICK'): 0.0, (281, ((1, 2), (2, 2)), 'DRIBBLE_DOWN'): 0.0, (387, ((0, 2), (2, 2)), 'DRIBBLE_DOWN'): 0.0, (98, ((1, 2), (2, 2)), 'DRIBBLE_DOWN'): 0.0, (365, ((0, 2), (2, 2)), 'DRIBBLE_UP'): 0.0, (219, ((2, 3), (2, 2)), 'DRIBBLE_UP'): -0.4, (79, ((1, 2), (2, 2)), 'DRIBBLE_RIGHT'): 0.0, (120, ((0, 2), (2, 2)), 'DRIBBLE_LEFT'): 0.0, (419, ((0, 0), (2, 2)), 'DRIBBLE_RIGHT'): 0.0, (438, ((2, 2), (2, 2)), 'DRIBBLE_RIGHT'): 0.0, (513, ((0, 2), (2, 2)), 'KICK'): 0.0, (298, ((0, 1), (2, 2)), 'DRIBBLE_LEFT'): 0.0, (75, ((0, 2), (2, 2)), 'DRIBBLE_RIGHT'): 0.0, (232, ((0, 2), (2, 2)), 'KICK'): 0.0, (533, ((0, 2), (2, 2)), 'KICK'): 1.0, (91, ((0, 2), (2, 2)), 'DRIBBLE_LEFT'): 0.0, (230, ((2, 2), (2, 2)), 'DRIBBLE_RIGHT'): 0.0, (240, ((1, 4), (2, 2)), 'DRIBBLE_UP'): 0.0, (269, ((0, 2), (2, 2)), 'DRIBBLE_RIGHT'): 0.0, (204, ((0, 1), (2, 2)), 'DRIBBLE_LEFT'): 0.0, (493, ((0, 2), (2, 2)), 'KICK'): 1.0, (48, ((1, 1), (2, 2)), 'KICK'): 0.0, (59, ((1, 1), (2, 2)), 'DRIBBLE_UP'): 0.0, (247, ((0, 4), (2, 2)), 'DRIBBLE_LEFT'): 0.0, (76, ((0, 2), (2, 2)), 'DRIBBLE_LEFT'): 0.0, (177, ((0, 3), (2, 2)), 'DRIBBLE_LEFT'): 0.0, (512, ((0, 1), (2, 2)), 'DRIBBLE_DOWN'): 0.0, (406, ((0, 4), (2, 2)), 'DRIBBLE_UP'): 0.0, (223, ((0, 2), (2, 2)), 'DRIBBLE_UP'): 0.0, (227, ((1, 2), (2, 2)), 'DRIBBLE_UP'): 0.0, (417, ((0, 0), (2, 2)), 'DRIBBLE_LEFT'): 0.0, (518, ((0, 2), (2, 2)), 'KICK'): 0.0, (222, ((3, 3), (2, 2)), 'KICK'): 1.0, (525, ((0, 5), (2, 2)), 'DRIBBLE_RIGHT'): 0.0, (92, ((0, 2), (2, 2)), 'KICK'): 0.0, (126, ((1, 1), (2, 2)), 'DRIBBLE_DOWN'): 0.0, (162, ((1, 2), (2, 2)), 'DRIBBLE_RIGHT'): -0.4, (400, ((0, 3), (2, 2)), 'DRIBBLE_LEFT'): 0.0, (217, ((1, 2), (2, 2)), 'DRIBBLE_DOWN'): 0.0, (372, ((0, 2), (2, 2)), 'KICK'): 0.0, (344, ((0, 2), (2, 2)), 'DRIBBLE_RIGHT'): 0.0, (266, ((0, 1), (2, 2)), 'DRIBBLE_UP'): 0.0, (245, ((0, 5), (2, 2)), 'DRIBBLE_LEFT'): 0.0, (467, ((0, 1), (2, 2)), 'DRIBBLE_RIGHT'): 0.0, (404, ((0, 3), (2, 2)), 'DRIBBLE_UP'): 0.0, (297, ((0, 2), (2, 2)), 'DRIBBLE_UP'): 0.0, (267, ((0, 0), (2, 2)), 'DRIBBLE_DOWN'): 0.0, (189, ((0, 2), (2, 2)), 'KICK'): 0.0, (96, ((0, 1), (2, 2)), 'DRIBBLE_DOWN'): 0.0, (246, ((0, 5), (2, 2)), 'DRIBBLE_LEFT'): 0.0, (322, ((0, 3), (2, 2)), 'DRIBBLE_UP'): 0.0, (100, ((0, 1), (2, 2)), 'DRIBBLE_RIGHT'): 0.0, (257, ((0, 2), (2, 2)), 'DRIBBLE_UP'): 0.0, (474, ((0, 4), (2, 2)), 'DRIBBLE_UP'): 0.0, (444, ((0, 2), (2, 2)), 'KICK'): 0.0, (167, ((1, 1), (2, 2)), 'DRIBBLE_UP'): 0.0, (277, ((1, 2), (2, 2)), 'DRIBBLE_RIGHT'): 0.0, (186, ((1, 2), (2, 2)), 'DRIBBLE_DOWN'): 0.0, (385, ((1, 3), (2, 2)), 'DRIBBLE_LEFT'): 0.0, (172, ((0, 2), (2, 2)), 'DRIBBLE_DOWN'): 0.0, (261, ((0, 2), (2, 2)), 'KICK'): 0.0, (371, ((0, 2), (2, 2)), 'KICK'): 1.0, (552, ((0, 2), (2, 2)), 'DRIBBLE_DOWN'): 0.0, (25, ((1, 1), (2, 2)), 'DRIBBLE_RIGHT'): 0.0, (496, ((1, 3), (2, 2)), 'DRIBBLE_DOWN'): 0.0, (4, ((0, 2), (2, 2)), 'DRIBBLE_RIGHT'): 0.0, (0, ((0, 2), (2, 2)), 'DRIBBLE_LEFT'): 0.0, (104, ((0, 1), (2, 2)), 'KICK'): 0.0, (305, ((0, 2), (2, 2)), 'DRIBBLE_RIGHT'): 0.0, (44, ((1, 1), (2, 2)), 'DRIBBLE_RIGHT'): 0.0, (437, ((1, 2), (2, 2)), 'DRIBBLE_RIGHT'): -0.4, (310, ((0, 2), (2, 2)), 'DRIBBLE_UP'): 0.0, (191, ((0, 2), (2, 2)), 'DRIBBLE_LEFT'): 0.0, (450, ((1, 1), (2, 2)), 'DRIBBLE_DOWN'): 0.0, (22, ((0, 1), (2, 2)), 'DRIBBLE_DOWN'): 0.0, (229, ((2, 1), (2, 2)), 'DRIBBLE_DOWN'): -0.4, (88, ((0, 5), (2, 2)), 'DRIBBLE_DOWN'): 0.0, (12, ((0, 3), (2, 2)), 'DRIBBLE_LEFT'): 0.0, (504, ((1, 2), (2, 2)), 'DRIBBLE_RIGHT'): -0.4, (158, ((0, 4), (2, 2)), 'DRIBBLE_RIGHT'): 0.0, (93, ((0, 2), (2, 2)), 'DRIBBLE_DOWN'): 0.0, (39, ((0, 3), (2, 2)), 'DRIBBLE_DOWN'): 0.0, (65, ((1, 2), (2, 2)), 'DRIBBLE_UP'): 0.0, (171, ((0, 2), (2, 2)), 'DRIBBLE_LEFT'): 0.0, (82, ((0, 4), (2, 2)), 'DRIBBLE_LEFT'): 0.0, (381, ((0, 2), (2, 2)), 'KICK'): 0.0, (361, ((1, 2), (2, 2)), 'DRIBBLE_DOWN'): 0.0, (426, ((1, 0), (2, 2)), 'DRIBBLE_RIGHT'): 0.0, (233, ((0, 2), (2, 2)), 'DRIBBLE_DOWN'): 0.0, (184, ((1, 2), (2, 2)), 'DRIBBLE_LEFT'): 0.0, (386, ((0, 3), (2, 2)), 'DRIBBLE_RIGHT'): 0.0, (540, ((1, 4), (2, 2)), 'DRIBBLE_LEFT'): 0.0, (422, ((0, 1), (2, 2)), 'DRIBBLE_RIGHT'): 0.0, (410, ((0, 3), (2, 2)), 'DRIBBLE_UP'): 0.0, (192, ((0, 3), (2, 2)), 'DRIBBLE_UP'): 0.0, (153, ((0, 1), (2, 2)), 'DRIBBLE_LEFT'): 0.0, (554, ((0, 2), (2, 2)), 'DRIBBLE_RIGHT'): 0.0, (377, ((2, 0), (2, 2)), 'DRIBBLE_DOWN'): 0.0, (135, ((0, 2), (2, 2)), 'DRIBBLE_LEFT'): 0.0, (45, ((2, 1), (2, 2)), 'DRIBBLE_UP'): 0.0, (216, ((2, 2), (2, 2)), 'DRIBBLE_LEFT'): 0.0, (473, ((0, 3), (2, 2)), 'DRIBBLE_DOWN'): 0.0, (41, ((0, 3), (2, 2)), 'DRIBBLE_UP'): 0.0, (146, ((0, 2), (2, 2)), 'DRIBBLE_UP'): 0.0, (143, ((1, 1), (2, 2)), 'KICK'): 0.0, (355, ((0, 2), (2, 2)), 'KICK'): 0.0, (31, ((2, 1), (2, 2)), 'KICK'): 0.0, (402, ((0, 4), (2, 2)), 'DRIBBLE_RIGHT'): 0.0, (105, ((0, 2), (2, 2)), 'DRIBBLE_UP'): 0.0, (508, ((2, 1), (2, 2)), 'DRIBBLE_RIGHT'): 0.0, (84, ((0, 5), (2, 2)), 'DRIBBLE_LEFT'): 0.0, (288, ((0, 0), (2, 2)), 'KICK'): 0.0, (460, ((0, 0), (2, 2)), 'DRIBBLE_UP'): 0.0, (455, ((2, 1), (2, 2)), 'KICK'): 1.0, (522, ((1, 4), (2, 2)), 'DRIBBLE_DOWN'): 0.0, (169, ((2, 2), (2, 2)), 'DRIBBLE_DOWN'): 0.0, (367, ((0, 0), (2, 2)), 'DRIBBLE_DOWN'): 0.0, (337, ((0, 2), (2, 2)), 'KICK'): 1.0, (110, ((0, 2), (2, 2)), 'DRIBBLE_DOWN'): 0.0, (74, ((0, 1), (2, 2)), 'DRIBBLE_DOWN'): 0.0, (548, ((0, 5), (2, 2)), 'DRIBBLE_LEFT'): 0.0, (224, ((0, 1), (2, 2)), 'DRIBBLE_DOWN'): 0.0, (154, ((0, 2), (2, 2)), 'DRIBBLE_RIGHT'): 0.0, (347, ((1, 2), (2, 2)), 'DRIBBLE_UP'): 0.0, (34, ((2, 2), (2, 2)), 'DRIBBLE_RIGHT'): 0.0, (390, ((0, 2), (2, 2)), 'DRIBBLE_DOWN'): 0.0, (320, ((0, 5), (2, 2)), 'DRIBBLE_UP'): 0.0, (429, ((2, 2), (2, 2)), 'DRIBBLE_UP'): 0.0, (137, ((0, 2), (2, 2)), 'DRIBBLE_LEFT'): 0.0, (234, ((0, 3), (2, 2)), 'DRIBBLE_LEFT'): 0.0, (313, ((1, 0), (2, 2)), 'DRIBBLE_DOWN'): 0.0, (492, ((1, 1), (2, 2)), 'KICK'): 0.0, (523, ((1, 5), (2, 2)), 'DRIBBLE_LEFT'): 0.0, (319, ((0, 5), (2, 2)), 'DRIBBLE_LEFT'): 0.0, (221, ((2, 3), (2, 2)), 'DRIBBLE_RIGHT'): 0.0, (280, ((0, 2), (2, 2)), 'DRIBBLE_LEFT'): 0.0, (424, ((2, 1), (2, 2)), 'DRIBBLE_LEFT'): 0.0, (328, ((0, 2), (2, 2)), 'KICK'): 0.0, (121, ((0, 1), (2, 2)), 'DRIBBLE_UP'): 0.0, (557, ((0, 2), (2, 2)), 'DRIBBLE_DOWN'): 0.0, (107, ((0, 2), (2, 2)), 'DRIBBLE_UP'): 0.0, (58, ((1, 2), (2, 2)), 'DRIBBLE_UP'): 0.0, (115, ((1, 5), (2, 2)), 'DRIBBLE_DOWN'): 0.0, (196, ((0, 2), (2, 2)), 'DRIBBLE_LEFT'): 0.0, (180, ((1, 3), (2, 2)), 'KICK'): 1.0, (70, ((2, 1), (2, 2)), 'KICK'): 0.0, (122, ((0, 0), (2, 2)), 'DRIBBLE_LEFT'): 0.0, (133, ((0, 2), (2, 2)), 'DRIBBLE_UP'): 0.0, (454, ((2, 0), (2, 2)), 'DRIBBLE_UP'): 0.0, (14, ((1, 3), (2, 2)), 'DRIBBLE_LEFT'): 0.0, (534, ((0, 2), (2, 2)), 'DRIBBLE_DOWN'): 0.0, (515, ((0, 3), (2, 2)), 'DRIBBLE_DOWN'): 0.0, (205, ((0, 0), (2, 2)), 'DRIBBLE_DOWN'): 0.0, (62, ((0, 2), (2, 2)), 'DRIBBLE_LEFT'): 0.0, (351, ((0, 3), (2, 2)), 'KICK'): 0.0, (159, ((1, 4), (2, 2)), 'DRIBBLE_RIGHT'): 0.0, (24, ((1, 0), (2, 2)), 'DRIBBLE_DOWN'): 0.0, (459, ((0, 1), (2, 2)), 'DRIBBLE_RIGHT'): 0.0, (236, ((0, 3), (2, 2)), 'DRIBBLE_UP'): 0.0, (412, ((0, 1), (2, 2)), 'DRIBBLE_RIGHT'): 0.0, (321, ((0, 4), (2, 2)), 'DRIBBLE_UP'): 0.0, (549, ((0, 5), (2, 2)), 'KICK'): 0.0, (193, ((0, 2), (2, 2)), 'DRIBBLE_UP'): 0.0, (415, ((1, 0), (2, 2)), 'DRIBBLE_UP'): 0.0, (155, ((1, 2), (2, 2)), 'DRIBBLE_DOWN'): 0.0, (80, ((1, 3), (2, 2)), 'DRIBBLE_LEFT'): 0.0, (468, ((1, 1), (2, 2)), 'DRIBBLE_RIGHT'): 0.0, (213, ((1, 2), (2, 2)), 'DRIBBLE_RIGHT'): -0.4, (439, ((3, 2), (2, 2)), 'DRIBBLE_LEFT'): -0.4, (335, ((0, 1), (2, 2)), 'DRIBBLE_LEFT'): 0.0, (302, ((1, 3), (2, 2)), 'DRIBBLE_LEFT'): 0.0, (283, ((0, 3), (2, 2)), 'DRIBBLE_RIGHT'): 0.0, (10, ((0, 2), (2, 2)), 'DRIBBLE_LEFT'): 0.0, (325, ((0, 2), (2, 2)), 'KICK'): 1.0, (401, ((0, 3), (2, 2)), 'DRIBBLE_DOWN'): 0.0, (435, ((0, 2), (2, 2)), 'KICK'): 0.0, (243, ((0, 4), (2, 2)), 'DRIBBLE_DOWN'): 0.0, (538, ((1, 2), (2, 2)), 'DRIBBLE_DOWN'): 0.0, (358, ((0, 2), (2, 2)), 'DRIBBLE_RIGHT'): 0.0, (526, ((1, 5), (2, 2)), 'DRIBBLE_RIGHT'): 0.0, (324, ((0, 2), (2, 2)), 'KICK'): 0.0, (90, ((0, 2), (2, 2)), 'KICK'): 0.0, (97, ((0, 2), (2, 2)), 'DRIBBLE_UP'): 0.0, (160, ((2, 4), (2, 2)), 'KICK'): 0.0, (174, ((0, 4), (2, 2)), 'DRIBBLE_RIGHT'): 0.0, (330, ((0, 2), (2, 2)), 'DRIBBLE_UP'): 0.0, (430, ((2, 1), (2, 2)), 'DRIBBLE_LEFT'): 0.0, (311, ((0, 1), (2, 2)), 'DRIBBLE_RIGHT'): 0.0, (138, ((0, 2), (2, 2)), 'KICK'): 0.0, (151, ((0, 2), (2, 2)), 'DRIBBLE_UP'): 0.0, (214, ((2, 2), (2, 2)), 'DRIBBLE_UP'): 0.0, (530, ((2, 5), (2, 2)), 'DRIBBLE_RIGHT'): 0.0, (443, ((1, 2), (2, 2)), 'DRIBBLE_LEFT'): 0.0, (19, ((0, 0), (2, 2)), 'DRIBBLE_DOWN'): 0.0, (69, ((1, 1), (2, 2)), 'DRIBBLE_DOWN'): 0.0, (494, ((0, 2), (2, 2)), 'DRIBBLE_RIGHT'): 0.0, (425, ((1, 1), (2, 2)), 'DRIBBLE_UP'): 0.0, (278, ((1, 3), (2, 2)), 'DRIBBLE_UP'): 0.0, (103, ((0, 2), (2, 2)), 'DRIBBLE_UP'): 0.0, (480, ((1, 4), (2, 2)), 'DRIBBLE_UP'): 0.0, (465, ((0, 1), (2, 2)), 'DRIBBLE_LEFT'): 0.0, (102, ((1, 0), (2, 2)), 'KICK'): 0.0, (210, ((0, 2), (2, 2)), 'DRIBBLE_UP'): 0.0, (509, ((3, 1), (2, 2)), 'KICK'): 0.0, (432, ((0, 2), (2, 2)), 'KICK'): 0.0, (28, ((0, 2), (2, 2)), 'DRIBBLE_RIGHT'): 0.0, (89, ((0, 5), (2, 2)), 'KICK'): 0.0, (49, ((0, 2), (2, 2)), 'KICK'): 0.0, (8, ((1, 1), (2, 2)), 'KICK'): 1.0, (342, ((0, 5), (2, 2)), 'DRIBBLE_LEFT'): 0.0, (260, ((0, 2), (2, 2)), 'KICK'): 0.0, (117, ((1, 4), (2, 2)), 'DRIBBLE_DOWN'): 0.0, (68, ((1, 2), (2, 2)), 'DRIBBLE_UP'): 0.0, (517, ((1, 2), (2, 2)), 'KICK'): 0.0, (15, ((0, 3), (2, 2)), 'KICK'): 0.0, (109, ((0, 2), (2, 2)), 'DRIBBLE_LEFT'): 0.0, (442, ((1, 3), (2, 2)), 'DRIBBLE_LEFT'): 0.0, (514, ((0, 2), (2, 2)), 'DRIBBLE_DOWN'): 0.0, (251, ((0, 5), (2, 2)), 'DRIBBLE_DOWN'): 0.0, (113, ((0, 4), (2, 2)), 'DRIBBLE_LEFT'): 0.0, (53, ((0, 2), (2, 2)), 'DRIBBLE_LEFT'): 0.0, (165, ((0, 2), (2, 2)), 'DRIBBLE_RIGHT'): 0.0, (299, ((0, 1), (2, 2)), 'DRIBBLE_DOWN'): 0.0, (237, ((0, 2), (2, 2)), 'DRIBBLE_UP'): 0.0, (175, ((1, 4), (2, 2)), 'DRIBBLE_UP'): 0.0, (476, ((0, 2), (2, 2)), 'DRIBBLE_LEFT'): 0.0, (352, ((0, 2), (2, 2)), 'DRIBBLE_LEFT'): 0.0, (545, ((1, 5), (2, 2)), 'DRIBBLE_DOWN'): 0.0, (306, ((1, 2), (2, 2)), 'DRIBBLE_UP'): 0.0, (36, ((1, 3), (2, 2)), 'DRIBBLE_LEFT'): 0.0, (99, ((1, 1), (2, 2)), 'DRIBBLE_LEFT'): 0.0, (61, ((3, 1), (2, 2)), 'KICK'): 0.0, (258, ((0, 1), (2, 2)), 'DRIBBLE_DOWN'): 0.0, (503, ((0, 2), (2, 2)), 'DRIBBLE_RIGHT'): 0.0, (81, ((0, 3), (2, 2)), 'DRIBBLE_DOWN'): 0.0, (524, ((0, 5), (2, 2)), 'DRIBBLE_DOWN'): 0.0, (179, ((0, 3), (2, 2)), 'DRIBBLE_RIGHT'): 0.0, (73, ((0, 1), (2, 2)), 'DRIBBLE_LEFT'): 0.0, (272, ((1, 2), (2, 2)), 'DRIBBLE_UP'): 0.0, (536, ((0, 2), (2, 2)), 'KICK'): 0.0, (86, ((0, 5), (2, 2)), 'DRIBBLE_RIGHT'): 0.0, (173, ((0, 3), (2, 2)), 'DRIBBLE_DOWN'): 0.0, (458, ((0, 2), (2, 2)), 'DRIBBLE_UP'): 0.0, (20, ((0, 1), (2, 2)), 'DRIBBLE_LEFT'): 0.0, (362, ((0, 2), (2, 2)), 'DRIBBLE_DOWN'): 0.0, (409, ((0, 3), (2, 2)), 'DRIBBLE_LEFT'): 0.0, (471, ((3, 0), (2, 2)), 'KICK'): 0.0, (411, ((0, 2), (2, 2)), 'DRIBBLE_UP'): 0.0, (106, ((0, 1), (2, 2)), 'DRIBBLE_UP'): 0.0, (129, ((1, 2), (2, 2)), 'DRIBBLE_UP'): 0.0, (215, ((2, 1), (2, 2)), 'DRIBBLE_DOWN'): -0.4, (511, ((0, 1), (2, 2)), 'DRIBBLE_UP'): 0.0, (21, ((0, 2), (2, 2)), 'DRIBBLE_UP'): 0.0, (9, ((0, 2), (2, 2)), 'KICK'): 0.0, (250, ((0, 5), (2, 2)), 'DRIBBLE_LEFT'): 0.0, (510, ((0, 2), (2, 2)), 'DRIBBLE_UP'): 0.0, (472, ((0, 2), (2, 2)), 'DRIBBLE_UP'): 0.0, (195, ((0, 2), (2, 2)), 'KICK'): 1.0, (235, ((0, 3), (2, 2)), 'DRIBBLE_LEFT'): 0.0, (292, ((0, 0), (2, 2)), 'DRIBBLE_LEFT'): 0.0, (396, ((1, 3), (2, 2)), 'DRIBBLE_UP'): 0.0, (144, ((0, 2), (2, 2)), 'DRIBBLE_DOWN'): 0.0, (26, ((2, 1), (2, 2)), 'DRIBBLE_RIGHT'): 0.0, (520, ((0, 3), (2, 2)), 'DRIBBLE_RIGHT'): 0.0, (18, ((0, 0), (2, 2)), 'DRIBBLE_LEFT'): 0.0, (353, ((0, 1), (2, 2)), 'DRIBBLE_DOWN'): 0.0, (374, ((1, 2), (2, 2)), 'DRIBBLE_RIGHT'): -0.4, (350, ((0, 3), (2, 2)), 'DRIBBLE_LEFT'): 0.0, (248, ((0, 4), (2, 2)), 'DRIBBLE_DOWN'): 0.0, (270, ((1, 2), (2, 2)), 'DRIBBLE_RIGHT'): -0.4, (427, ((2, 0), (2, 2)), 'DRIBBLE_DOWN'): 0.0, (486, ((2, 3), (2, 2)), 'DRIBBLE_RIGHT'): 0.0, (397, ((1, 4), (2, 2)), 'KICK'): 0.0, (308, ((1, 0), (2, 2)), 'KICK'): 0.0, (553, ((0, 3), (2, 2)), 'DRIBBLE_UP'): 0.0, (481, ((1, 3), (2, 2)), 'DRIBBLE_DOWN'): 0.0, (284, ((1, 3), (2, 2)), 'KICK'): 0.0, (452, ((2, 2), (2, 2)), 'DRIBBLE_DOWN'): 0.0, (72, ((0, 2), (2, 2)), 'DRIBBLE_UP'): 0.0, (416, ((1, 0), (2, 2)), 'DRIBBLE_LEFT'): 0.0, (23, ((1, 1), (2, 2)), 'DRIBBLE_UP'): 0.0, (279, ((1, 2), (2, 2)), 'DRIBBLE_LEFT'): 0.0, (434, ((0, 3), (2, 2)), 'KICK'): 0.0, (433, ((0, 2), (2, 2)), 'DRIBBLE_DOWN'): 0.0, (331, ((0, 1), (2, 2)), 'DRIBBLE_UP'): 0.0, (428, ((2, 1), (2, 2)), 'DRIBBLE_DOWN'): -0.4, (466, ((0, 1), (2, 2)), 'DRIBBLE_LEFT'): 0.0, (357, ((0, 1), (2, 2)), 'KICK'): 0.0, (341, ((0, 5), (2, 2)), 'DRIBBLE_DOWN'): 0.0, (349, ((0, 2), (2, 2)), 'DRIBBLE_DOWN'): 0.0, (87, ((1, 5), (2, 2)), 'DRIBBLE_LEFT'): 0.0, (123, ((0, 0), (2, 2)), 'KICK'): 0.0, (38, ((0, 2), (2, 2)), 'DRIBBLE_UP'): 0.0, (489, ((0, 1), (2, 2)), 'DRIBBLE_UP'): 0.0, (124, ((0, 2), (2, 2)), 'DRIBBLE_UP'): 0.0, (343, ((0, 5), (2, 2)), 'KICK'): 0.0, (550, ((0, 2), (2, 2)), 'DRIBBLE_DOWN'): 0.0, (7, ((2, 1), (2, 2)), 'DRIBBLE_LEFT'): 0.0, (130, ((1, 1), (2, 2)), 'KICK'): 1.0, (253, ((0, 5), (2, 2)), 'DRIBBLE_LEFT'): 0.0, (403, ((0, 3), (2, 2)), 'DRIBBLE_LEFT'): 0.0, (78, ((0, 2), (2, 2)), 'DRIBBLE_RIGHT'): 0.0, (315, ((0, 1), (2, 2)), 'DRIBBLE_DOWN'): 0.0, (6, ((1, 1), (2, 2)), 'DRIBBLE_RIGHT'): 0.0, (446, ((0, 2), (2, 2)), 'DRIBBLE_DOWN'): 0.0, (57, ((0, 2), (2, 2)), 'DRIBBLE_RIGHT'): 0.0, (163, ((2, 2), (2, 2)), 'DRIBBLE_UP'): 0.0, (507, ((3, 1), (2, 2)), 'DRIBBLE_LEFT'): 0.0, (131, ((0, 2), (2, 2)), 'DRIBBLE_LEFT'): 0.0, (447, ((1, 2), (2, 2)), 'DRIBBLE_LEFT'): 0.0, (286, ((0, 2), (2, 2)), 'DRIBBLE_RIGHT'): 0.0, (289, ((0, 2), (2, 2)), 'KICK'): 0.0, (111, ((0, 3), (2, 2)), 'DRIBBLE_LEFT'): 0.0, (360, ((2, 2), (2, 2)), 'DRIBBLE_LEFT'): 0.0, (157, ((0, 3), (2, 2)), 'DRIBBLE_DOWN'): 0.0, (340, ((0, 4), (2, 2)), 'DRIBBLE_DOWN'): 0.0, (421, ((0, 1), (2, 2)), 'DRIBBLE_LEFT'): 0.0, (27, ((3, 1), (2, 2)), 'KICK'): 1.0, (375, ((2, 2), (2, 2)), 'DRIBBLE_UP'): 0.0, (2, ((0, 2), (2, 2)), 'DRIBBLE_LEFT'): 0.0, (391, ((0, 3), (2, 2)), 'DRIBBLE_DOWN'): 0.0, (544, ((0, 5), (2, 2)), 'DRIBBLE_RIGHT'): 0.0, (30, ((2, 2), (2, 2)), 'DRIBBLE_UP'): 0.0, (85, ((0, 5), (2, 2)), 'DRIBBLE_LEFT'): 0.0, (134, ((0, 1), (2, 2)), 'KICK'): 0.0, (532, ((0, 2), (2, 2)), 'DRIBBLE_LEFT'): 0.0, (329, ((0, 2), (2, 2)), 'DRIBBLE_LEFT'): 0.0}"
   ]
  },
  {
   "cell_type": "code",
   "execution_count": 837,
   "metadata": {},
   "outputs": [
    {
     "data": {
      "text/plain": [
       "((27, ((3, 1), (2, 2)), 'KICK'), 1.0)"
      ]
     },
     "execution_count": 837,
     "metadata": {},
     "output_type": "execute_result"
    }
   ],
   "source": [
    "max(Q.items(), key=operator.itemgetter(1))"
   ]
  },
  {
   "cell_type": "code",
   "execution_count": 827,
   "metadata": {},
   "outputs": [],
   "source": []
  },
  {
   "cell_type": "code",
   "execution_count": 834,
   "metadata": {},
   "outputs": [
    {
     "data": {
      "text/plain": [
       "{1: 1.2, 2: 0}"
      ]
     },
     "execution_count": 834,
     "metadata": {},
     "output_type": "execute_result"
    }
   ],
   "source": [
    "hello = {1:1, 2:0}\n",
    "hello[1] += 0.2\n",
    "hello"
   ]
  },
  {
   "cell_type": "code",
   "execution_count": 830,
   "metadata": {},
   "outputs": [
    {
     "data": {
      "text/plain": [
       "{1: 0.1}"
      ]
     },
     "execution_count": 830,
     "metadata": {},
     "output_type": "execute_result"
    }
   ],
   "source": [
    "hello"
   ]
  },
  {
   "cell_type": "code",
   "execution_count": null,
   "metadata": {},
   "outputs": [],
   "source": []
  }
 ],
 "metadata": {
  "kernelspec": {
   "display_name": "Python 3",
   "language": "python",
   "name": "python3"
  },
  "language_info": {
   "codemirror_mode": {
    "name": "ipython",
    "version": 3
   },
   "file_extension": ".py",
   "mimetype": "text/x-python",
   "name": "python",
   "nbconvert_exporter": "python",
   "pygments_lexer": "ipython3",
   "version": "3.5.4"
  }
 },
 "nbformat": 4,
 "nbformat_minor": 2
}
