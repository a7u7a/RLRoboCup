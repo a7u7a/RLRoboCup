{
 "cells": [
  {
   "cell_type": "markdown",
   "metadata": {},
   "source": [
    "### Notebook with test implementations for Exercise 2 SARSA"
   ]
  },
  {
   "cell_type": "markdown",
   "metadata": {},
   "source": [
    "Repo: https://github.com/a7u7a/RLRoboCup\n",
    "Most of these are code snippets used in assignment, usually simulating a step in the episode"
   ]
  },
  {
   "cell_type": "code",
   "execution_count": 115,
   "metadata": {},
   "outputs": [],
   "source": [
    "from collections import defaultdict\n",
    "import numpy as np\n",
    "import operator"
   ]
  },
  {
   "cell_type": "markdown",
   "metadata": {},
   "source": [
    "### learn()"
   ]
  },
  {
   "cell_type": "code",
   "execution_count": 89,
   "metadata": {},
   "outputs": [],
   "source": [
    "Q = defaultdict(float)\n",
    "learningRate = 0.1\n",
    "discountFactor = 0.9\n",
    "epsilon= 0.5\n",
    "numTakenActions = 3\n",
    "# state, action, reward, nextState\n",
    "exp = [[(1,1), 'DRIBBLE_UP',1 , (2,2)],[(2,2), 'DRIBBLE_DOWN',0 , (3,3)],[(3,3), 'DRIBBLE_RIGHT',0 , (4,4)],[(4,4), 'DRIBBLE_LEFT',0 , ('O', 'U', 'T', '_', 'O', 'F', '_', 'B', 'O', 'U', 'N', 'D', 'S')]]"
   ]
  },
  {
   "cell_type": "code",
   "execution_count": 92,
   "metadata": {},
   "outputs": [
    {
     "ename": "IndexError",
     "evalue": "list index out of range",
     "output_type": "error",
     "traceback": [
      "\u001b[0;31m---------------------------------------------------------------------------\u001b[0m",
      "\u001b[0;31mIndexError\u001b[0m                                Traceback (most recent call last)",
      "\u001b[0;32m<ipython-input-92-f33b04f0a114>\u001b[0m in \u001b[0;36m<module>\u001b[0;34m()\u001b[0m\n\u001b[1;32m     10\u001b[0m \u001b[0;34m\u001b[0m\u001b[0m\n\u001b[1;32m     11\u001b[0m         \u001b[0maction\u001b[0m \u001b[0;34m=\u001b[0m \u001b[0mexp\u001b[0m\u001b[0;34m[\u001b[0m\u001b[0mitem\u001b[0m\u001b[0;34m]\u001b[0m\u001b[0;34m[\u001b[0m\u001b[0;36m1\u001b[0m\u001b[0;34m]\u001b[0m\u001b[0;34m\u001b[0m\u001b[0m\n\u001b[0;32m---> 12\u001b[0;31m         \u001b[0mnextAction\u001b[0m \u001b[0;34m=\u001b[0m \u001b[0mexp\u001b[0m\u001b[0;34m[\u001b[0m\u001b[0mitem\u001b[0m\u001b[0;34m+\u001b[0m\u001b[0;36m1\u001b[0m\u001b[0;34m]\u001b[0m\u001b[0;34m[\u001b[0m\u001b[0;36m1\u001b[0m\u001b[0;34m]\u001b[0m\u001b[0;34m\u001b[0m\u001b[0m\n\u001b[0m\u001b[1;32m     13\u001b[0m \u001b[0;34m\u001b[0m\u001b[0m\n\u001b[1;32m     14\u001b[0m         \u001b[0mreward\u001b[0m \u001b[0;34m=\u001b[0m \u001b[0mexp\u001b[0m\u001b[0;34m[\u001b[0m\u001b[0mitem\u001b[0m\u001b[0;34m]\u001b[0m\u001b[0;34m[\u001b[0m\u001b[0;36m2\u001b[0m\u001b[0;34m]\u001b[0m\u001b[0;34m\u001b[0m\u001b[0m\n",
      "\u001b[0;31mIndexError\u001b[0m: list index out of range"
     ]
    }
   ],
   "source": [
    "for item in range(numTakenActions+1):\n",
    "    if item + 1 > numTakenActions+1 :\n",
    "        break\n",
    "    else:\n",
    "        timeStep = item\n",
    "        nextTimeStep = item + 1\n",
    "        \n",
    "        state = exp[item][0]\n",
    "        nextState = exp[item][3]\n",
    "        \n",
    "        action = exp[item][1]\n",
    "        nextAction = exp[item+1][1]\n",
    "        \n",
    "        reward = exp[item][2]\n",
    "        \n",
    "        value = Q[(timeStep,state,action)]\n",
    "        nextvalue = Q[(nextTimeStep, nextState, nextAction)]\n",
    "        \n",
    "        Q[(timeStep,state,action)] = value + learningRate*(reward + discountFactor*value - value)\n",
    "Q"
   ]
  },
  {
   "cell_type": "code",
   "execution_count": 88,
   "metadata": {},
   "outputs": [
    {
     "name": "stdout",
     "output_type": "stream",
     "text": [
      "0\n",
      "1\n",
      "2\n"
     ]
    }
   ],
   "source": [
    "for item in range(numTakenActions):\n",
    "    if item + 1 > numTakenActions :\n",
    "        break\n",
    "    else:\n",
    "        print(item)"
   ]
  },
  {
   "cell_type": "code",
   "execution_count": 79,
   "metadata": {},
   "outputs": [],
   "source": [
    "hello = []"
   ]
  },
  {
   "cell_type": "code",
   "execution_count": 80,
   "metadata": {},
   "outputs": [],
   "source": [
    "hello += [[1]]"
   ]
  },
  {
   "cell_type": "code",
   "execution_count": 81,
   "metadata": {},
   "outputs": [
    {
     "data": {
      "text/plain": [
       "[[1]]"
      ]
     },
     "execution_count": 81,
     "metadata": {},
     "output_type": "execute_result"
    }
   ],
   "source": [
    "hello"
   ]
  },
  {
   "cell_type": "code",
   "execution_count": 82,
   "metadata": {},
   "outputs": [
    {
     "data": {
      "text/plain": [
       "[((0, 2), (2, 2)),\n",
       " 'KICK',\n",
       " 0,\n",
       " ('O', 'U', 'T', '_', 'O', 'F', '_', 'B', 'O', 'U', 'N', 'D', 'S')]"
      ]
     },
     "execution_count": 82,
     "metadata": {},
     "output_type": "execute_result"
    }
   ],
   "source": [
    "[((0, 2), (2, 2)), 'KICK', 0, ('O', 'U', 'T', '_', 'O', 'F', '_', 'B', 'O', 'U', 'N', 'D', 'S')]"
   ]
  },
  {
   "cell_type": "code",
   "execution_count": 93,
   "metadata": {},
   "outputs": [],
   "source": [
    "hello = [((0, 3), (2, 2)), 'DRIBBLE_DOWN', 0, ((0, 4), (2, 2))]"
   ]
  },
  {
   "cell_type": "code",
   "execution_count": 84,
   "metadata": {},
   "outputs": [
    {
     "data": {
      "text/plain": [
       "'KICK'"
      ]
     },
     "execution_count": 84,
     "metadata": {},
     "output_type": "execute_result"
    }
   ],
   "source": [
    "hello[1]"
   ]
  },
  {
   "cell_type": "code",
   "execution_count": 99,
   "metadata": {},
   "outputs": [],
   "source": [
    "hello = True"
   ]
  },
  {
   "cell_type": "code",
   "execution_count": 100,
   "metadata": {},
   "outputs": [],
   "source": [
    "if not hello:\n",
    "    print('fu')\n",
    "else: hello = False"
   ]
  },
  {
   "cell_type": "code",
   "execution_count": 101,
   "metadata": {},
   "outputs": [
    {
     "data": {
      "text/plain": [
       "False"
      ]
     },
     "execution_count": 101,
     "metadata": {},
     "output_type": "execute_result"
    }
   ],
   "source": [
    "hello"
   ]
  },
  {
   "cell_type": "code",
   "execution_count": 102,
   "metadata": {},
   "outputs": [],
   "source": [
    "exp = defaultdict(list)"
   ]
  },
  {
   "cell_type": "code",
   "execution_count": 105,
   "metadata": {},
   "outputs": [],
   "source": [
    "exp[2] = [3,4,5,6]"
   ]
  },
  {
   "cell_type": "code",
   "execution_count": null,
   "metadata": {},
   "outputs": [],
   "source": []
  },
  {
   "cell_type": "code",
   "execution_count": 106,
   "metadata": {},
   "outputs": [
    {
     "data": {
      "text/plain": [
       "defaultdict(list, {1: [0, 1, 2, 3], 2: [3, 4, 5, 6]})"
      ]
     },
     "execution_count": 106,
     "metadata": {},
     "output_type": "execute_result"
    }
   ],
   "source": [
    "exp"
   ]
  },
  {
   "cell_type": "code",
   "execution_count": 107,
   "metadata": {},
   "outputs": [],
   "source": [
    "Q = {(0,((3, 5), (2, 2)), 'DRIBBLE_UP'): 0.03221830985915493, (1,((1, 0), (2, 2)), 'DRIBBLE_LEFT'): 0.024875621890547265, (2,((1, 1), (2, 2)), 'DRIBBLE_RIGHT'): 0.032416208104052026, (3,((3, 1), (2, 2)), 'KICK'): 0.03391203703703704, (4,((4, 3), (2, 2)), 'KICK'): 1.0, (5,((3, 5), (2, 2)), 'DRIBBLE_SOUTH'): 0.04221830985915493,(5,((3, 5), (2, 2)), 'DRIBBLE_east'): 0.07721830985915493}"
   ]
  },
  {
   "cell_type": "code",
   "execution_count": 108,
   "metadata": {},
   "outputs": [
    {
     "data": {
      "text/plain": [
       "{(0, ((3, 5), (2, 2)), 'DRIBBLE_UP'): 0.03221830985915493,\n",
       " (1, ((1, 0), (2, 2)), 'DRIBBLE_LEFT'): 0.024875621890547265,\n",
       " (2, ((1, 1), (2, 2)), 'DRIBBLE_RIGHT'): 0.032416208104052026,\n",
       " (3, ((3, 1), (2, 2)), 'KICK'): 0.03391203703703704,\n",
       " (4, ((4, 3), (2, 2)), 'KICK'): 1.0,\n",
       " (5, ((3, 5), (2, 2)), 'DRIBBLE_SOUTH'): 0.04221830985915493,\n",
       " (5, ((3, 5), (2, 2)), 'DRIBBLE_east'): 0.07721830985915493}"
      ]
     },
     "execution_count": 108,
     "metadata": {},
     "output_type": "execute_result"
    }
   ],
   "source": [
    "Q"
   ]
  },
  {
   "cell_type": "code",
   "execution_count": 111,
   "metadata": {},
   "outputs": [
    {
     "data": {
      "text/plain": [
       "(1, ((1, 0), (2, 2)))"
      ]
     },
     "execution_count": 111,
     "metadata": {},
     "output_type": "execute_result"
    }
   ],
   "source": [
    "timeStepEpisode = 0\n",
    "nextState = ((1, 0), (2, 2))\n",
    "nextTimeState = (timeStepEpisode + 1 ,nextState)\n",
    "nextTimeState"
   ]
  },
  {
   "cell_type": "code",
   "execution_count": 113,
   "metadata": {},
   "outputs": [
    {
     "data": {
      "text/plain": [
       "defaultdict(float,\n",
       "            {(1, ((1, 0), (2, 2)), 'DRIBBLE_LEFT'): 0.024875621890547265})"
      ]
     },
     "execution_count": 113,
     "metadata": {},
     "output_type": "execute_result"
    }
   ],
   "source": [
    "S = defaultdict(float)\n",
    "\n",
    "for item in Q:\n",
    "    if item[0:2] == nextTimeState:\n",
    "        S[item] = Q[item]\n",
    "S"
   ]
  },
  {
   "cell_type": "code",
   "execution_count": 116,
   "metadata": {},
   "outputs": [
    {
     "data": {
      "text/plain": [
       "'DRIBBLE_LEFT'"
      ]
     },
     "execution_count": 116,
     "metadata": {},
     "output_type": "execute_result"
    }
   ],
   "source": [
    "optimalAction = max(S.items(), key=operator.itemgetter(1))[0][2]\n",
    "optimalAction"
   ]
  },
  {
   "cell_type": "code",
   "execution_count": 122,
   "metadata": {},
   "outputs": [],
   "source": [
    "Q = {(0,((3, 5), (2, 2)), 'DRIBBLE_UP'): 0.03221830985915493,(0,((3, 5), (2, 2)), 'DRIBBLE_down'): 0.03221830985915493, (1,((1, 0), (2, 2)), 'DRIBBLE_LEFT'): 0.024875621890547265, (2,((1, 1), (2, 2)), 'DRIBBLE_RIGHT'): 0.032416208104052026, (3,((3, 1), (2, 2)), 'KICK'): 0.03391203703703704, (4,((4, 3), (2, 2)), 'KICK'): 1.0, (5,((3, 5), (2, 2)), 'DRIBBLE_SOUTH'): 0.04221830985915493,(5,((3, 5), (2, 2)), 'DRIBBLE_east'): 0.07721830985915493}"
   ]
  },
  {
   "cell_type": "code",
   "execution_count": 123,
   "metadata": {},
   "outputs": [],
   "source": [
    "timeState = (0, ((3, 5), (2, 2)))\n",
    "S = defaultdict(float)"
   ]
  },
  {
   "cell_type": "code",
   "execution_count": 132,
   "metadata": {},
   "outputs": [
    {
     "data": {
      "text/plain": [
       "defaultdict(float,\n",
       "            {(0, ((3, 5), (2, 2)), 'DRIBBLE_UP'): 0.03221830985915493,\n",
       "             (0, ((3, 5), (2, 2)), 'DRIBBLE_down'): 0.03221830985915493})"
      ]
     },
     "execution_count": 132,
     "metadata": {},
     "output_type": "execute_result"
    }
   ],
   "source": [
    "for item in Q:\n",
    "    if item[0:2] == timeState:\n",
    "        S[item] = Q[item]\n",
    "S"
   ]
  },
  {
   "cell_type": "code",
   "execution_count": 125,
   "metadata": {},
   "outputs": [
    {
     "data": {
      "text/plain": [
       "defaultdict(float,\n",
       "            {(0, ((3, 5), (2, 2)), 'DRIBBLE_UP'): 0.03221830985915493,\n",
       "             (0, ((3, 5), (2, 2)), 'DRIBBLE_down'): 0.03221830985915493})"
      ]
     },
     "execution_count": 125,
     "metadata": {},
     "output_type": "execute_result"
    }
   ],
   "source": [
    "S"
   ]
  },
  {
   "cell_type": "code",
   "execution_count": 121,
   "metadata": {},
   "outputs": [
    {
     "data": {
      "text/plain": [
       "(0, ((3, 5), (2, 2)))"
      ]
     },
     "execution_count": 121,
     "metadata": {},
     "output_type": "execute_result"
    }
   ],
   "source": [
    "timeState"
   ]
  },
  {
   "cell_type": "code",
   "execution_count": 126,
   "metadata": {},
   "outputs": [],
   "source": [
    "hello = 'pickle'"
   ]
  },
  {
   "cell_type": "code",
   "execution_count": 127,
   "metadata": {},
   "outputs": [
    {
     "data": {
      "text/plain": [
       "'pickle'"
      ]
     },
     "execution_count": 127,
     "metadata": {},
     "output_type": "execute_result"
    }
   ],
   "source": [
    "hello = (hello)\n",
    "hello"
   ]
  },
  {
   "cell_type": "code",
   "execution_count": 129,
   "metadata": {},
   "outputs": [
    {
     "name": "stdout",
     "output_type": "stream",
     "text": [
      "caca\n"
     ]
    }
   ],
   "source": [
    "if type(hello ) == str:\n",
    "    print('caca')"
   ]
  },
  {
   "cell_type": "code",
   "execution_count": 136,
   "metadata": {},
   "outputs": [],
   "source": [
    "Q = defaultdict(float)\n",
    "Q = {(8, ((1, 1), (2, 2)), 'DRIBBLE_LEFT'): 0.027577341, (8, ((4, 1), (2, 2)), 'DRIBBLE_RIGHT'): 0.0, (10, ((0, 2), (2, 2)), 'DRIBBLE_RIGHT'): 0.0, (15, 'OUT_OF_BOUNDS', 'DRIBBLE_DOWN'): 0.0, (5, ((0, 2), (2, 2)), 'DRIBBLE_LEFT'): 0.0, (4, ((2, 1), (2, 2)), 'DRIBBLE_DOWN'): -0.07296002922610408, (12, 'OUT_OF_BOUNDS', 'DRIBBLE_RIGHT'): 0.0, (8, ((1, 1), (2, 2)), 'KICK'): 0.19, (15, ((1, 0), (2, 2)), 'DRIBBLE_UP'): 0.0, (10, ((0, 3), (2, 2)), 'DRIBBLE_UP'): 0.0, (6, ((3, 2), (2, 2)), 'DRIBBLE_RIGHT'): 0.01881, (5, ((1, 3), (2, 2)), 'DRIBBLE_DOWN'): 0.03745261399891854, (8, ((3, 0), (2, 2)), 'DRIBBLE_RIGHT'): 0.0, (10, ((4, 0), (2, 2)), 'DRIBBLE_UP'): 0.0, (16, 'GOAL', 'KICK'): 0.0, (12, ((0, 3), (2, 2)), 'DRIBBLE_LEFT'): 0.0, (6, ((2, 5), (2, 2)), 'DRIBBLE_RIGHT'): 0.0018621900000000001, (10, ((1, 2), (2, 2)), 'DRIBBLE_UP'): 0.0, (10, 'OUT_OF_BOUNDS', 'DRIBBLE_UP'): 0.0, (2, 'OUT_OF_BOUNDS', 'DRIBBLE_LEFT'): 0.0, (6, ((0, 0), (2, 2)), 'DRIBBLE_UP'): 0.0, (13, 'GOAL', 'DRIBBLE_UP'): 0.0, (7, ((1, 1), (2, 2)), 'KICK'): 0.0, (14, ((3, 1), (2, 2)), 'KICK'): 0.19, (6, ((1, 5), (2, 2)), 'DRIBBLE_LEFT'): 0.0, (15, ((3, 2), (2, 2)), 'KICK'): 0.0, (5, ((4, 2), (2, 2)), 'DRIBBLE_DOWN'): 0.01881, (3, ((0, 0), (2, 2)), 'DRIBBLE_UP'): 0.19517492321557275, (6, ((2, 1), (2, 2)), 'DRIBBLE_UP'): 0.012409705367301526, (7, ((3, 4), (2, 2)), 'DRIBBLE_LEFT'): 0.0, (8, ((0, 3), (2, 2)), 'DRIBBLE_LEFT'): 0.0, (8, ((3, 5), (2, 2)), 'DRIBBLE_LEFT'): 0.0, (4, ((0, 3), (2, 2)), 'DRIBBLE_LEFT'): 0.10875701400068682, (10, ((2, 1), (2, 2)), 'DRIBBLE_RIGHT'): 0.0, (10, ((2, 5), (2, 2)), 'DRIBBLE_DOWN'): 0.0, (13, ((0, 4), (2, 2)), 'DRIBBLE_UP'): 0.0, (10, ((3, 2), (2, 2)), 'DRIBBLE_LEFT'): -0.04000000000000001, (9, ((2, 5), (2, 2)), 'DRIBBLE_UP'): 0.0, (14, ((1, 3), (2, 2)), 'DRIBBLE_RIGHT'): 0.0, (9, ((0, 1), (2, 2)), 'DRIBBLE_UP'): 0.0, (3, ((0, 3), (2, 2)), 'DRIBBLE_LEFT'): 0.1521905099922466, (5, ((0, 5), (2, 2)), 'DRIBBLE_RIGHT'): 0.0, (2, 'GOAL', 'DRIBBLE_RIGHT'): 0.0, (10, ((1, 4), (2, 2)), 'DRIBBLE_DOWN'): 0.0, (9, ((0, 2), (2, 2)), 'DRIBBLE_DOWN'): 0.0, (5, ((1, 5), (2, 2)), 'DRIBBLE_UP'): 0.04218796385754529, (13, ((2, 0), (2, 2)), 'DRIBBLE_DOWN'): 0.0, (11, ((4, 0), (2, 2)), 'KICK'): 0.0, (5, 'OUT_OF_BOUNDS', 'DRIBBLE_LEFT'): 0.0, (14, ((0, 2), (2, 2)), 'DRIBBLE_UP'): 0.0, (7, ((2, 4), (2, 2)), 'KICK'): 0.22258147453245536, (20, ((1, 1), (2, 2)), 'DRIBBLE_LEFT'): 0.0, (14, ((1, 5), (2, 2)), 'DRIBBLE_UP'): 0.0, (10, ((1, 4), (2, 2)), 'DRIBBLE_LEFT'): 0.0, (5, ((0, 0), (2, 2)), 'DRIBBLE_DOWN'): 0.16077966216928002, (6, ((0, 3), (2, 2)), 'DRIBBLE_UP'): 0.0, (3, ((1, 1), (2, 2)), 'DRIBBLE_DOWN'): 0.2086699091292297, (11, ((2, 2), (2, 2)), 'DRIBBLE_LEFT'): 0.0, (9, ((3, 1), (2, 2)), 'DRIBBLE_LEFT'): 0.0, (14, ((2, 5), (2, 2)), 'DRIBBLE_UP'): 0.0, (7, 'OUT_OF_BOUNDS', 'DRIBBLE_DOWN'): 0.0, (11, 'GOAL', 'DRIBBLE_LEFT'): 0.0, (4, ((0, 1), (2, 2)), 'DRIBBLE_RIGHT'): 0.1449607369652514, (13, ((2, 5), (2, 2)), 'DRIBBLE_UP'): 0.0, (8, ((1, 3), (2, 2)), 'DRIBBLE_RIGHT'): 0.0557366995152, (6, ((3, 1), (2, 2)), 'KICK'): 0.0, (4, 'OUT_OF_BOUNDS', 'DRIBBLE_UP'): 0.0, (3, ((2, 2), (2, 2)), 'DRIBBLE_LEFT'): 0.2020796557582364, (9, ((1, 0), (2, 2)), 'DRIBBLE_LEFT'): 0.0, (4, ((0, 4), (2, 2)), 'KICK'): 0.1824179807064298, (9, ((4, 4), (2, 2)), 'DRIBBLE_DOWN'): 0.0, (12, ((3, 4), (2, 2)), 'DRIBBLE_RIGHT'): 0.0, (11, ((0, 2), (2, 2)), 'DRIBBLE_UP'): 0.0, (8, ((4, 5), (2, 2)), 'DRIBBLE_DOWN'): 0.0, (9, ((0, 5), (2, 2)), 'DRIBBLE_RIGHT'): 0.0, (8, ((0, 1), (2, 2)), 'KICK'): 0.19, (7, ((4, 3), (2, 2)), 'DRIBBLE_UP'): 0.01881, (10, ((0, 5), (2, 2)), 'DRIBBLE_UP'): 0.0, (6, ((0, 1), (2, 2)), 'DRIBBLE_LEFT'): 0.01881, (7, ((3, 5), (2, 2)), 'KICK'): 0.0, (4, ((0, 5), (2, 2)), 'KICK'): 0.0, (7, ((2, 4), (2, 2)), 'DRIBBLE_LEFT'): 0.0, (8, ((2, 0), (2, 2)), 'KICK'): 0.0, (6, ((3, 4), (2, 2)), 'KICK'): 0.27855900000000006, (8, ((0, 5), (2, 2)), 'DRIBBLE_RIGHT'): 0.0, (17, ((2, 1), (2, 2)), 'DRIBBLE_LEFT'): 0.0, (9, ((4, 4), (2, 2)), 'DRIBBLE_LEFT'): 0.0, (5, ((1, 4), (2, 2)), 'DRIBBLE_LEFT'): 0.0, (13, ((3, 0), (2, 2)), 'DRIBBLE_LEFT'): 0.0, (19, ((1, 0), (2, 2)), 'KICK'): 0.0, (9, 'GOAL', 'KICK'): 0.0, (5, ((0, 4), (2, 2)), 'DRIBBLE_RIGHT'): 0.0, (12, ((0, 0), (2, 2)), 'DRIBBLE_UP'): 0.0, (8, ((1, 4), (2, 2)), 'DRIBBLE_RIGHT'): 0.18248734071810002, (9, ((1, 0), (2, 2)), 'KICK'): 0.0, (13, ((0, 0), (2, 2)), 'DRIBBLE_LEFT'): 0.0, (7, ((1, 0), (2, 2)), 'KICK'): 0.19, (6, ((2, 5), (2, 2)), 'DRIBBLE_LEFT'): 0.0, (13, ((0, 0), (2, 2)), 'DRIBBLE_DOWN'): 0.0, (12, ((1, 4), (2, 2)), 'DRIBBLE_LEFT'): 0.0, (9, ((0, 5), (2, 2)), 'DRIBBLE_UP'): 0.0, (5, ((0, 0), (2, 2)), 'DRIBBLE_UP'): 0.0015083738999999998, (2, ((0, 1), (2, 2)), 'KICK'): 0.041827814697421015, (7, ((4, 0), (2, 2)), 'KICK'): 0.19, (14, ((3, 2), (2, 2)), 'DRIBBLE_UP'): 0.0, (8, ((4, 3), (2, 2)), 'DRIBBLE_DOWN'): 0.0, (11, ((2, 4), (2, 2)), 'KICK'): 0.0, (8, ((0, 2), (2, 2)), 'DRIBBLE_RIGHT'): 0.015236099999999997, (10, ((4, 2), (2, 2)), 'DRIBBLE_UP'): 0.0, (4, ((1, 1), (2, 2)), 'DRIBBLE_RIGHT'): 0.29714728395039025, (11, ((1, 5), (2, 2)), 'DRIBBLE_UP'): 0.0, (9, ((0, 0), (2, 2)), 'DRIBBLE_RIGHT'): 0.0, (8, ((2, 4), (2, 2)), 'DRIBBLE_RIGHT'): 0.0, (10, 'GOAL', 'DRIBBLE_RIGHT'): 0.0, (16, ((3, 3), (2, 2)), 'DRIBBLE_DOWN'): 0.0, (9, 'GOAL', 'DRIBBLE_DOWN'): 0.0, (3, 'OUT_OF_BOUNDS', 'DRIBBLE_UP'): 0.0, (10, ((4, 3), (2, 2)), 'DRIBBLE_RIGHT'): 0.0, (4, 'OUT_OF_BOUNDS', 'DRIBBLE_DOWN'): 0.0, (8, ((1, 5), (2, 2)), 'KICK'): 0.0, (7, ((0, 4), (2, 2)), 'DRIBBLE_UP'): 0.015236099999999997, (8, ((0, 0), (2, 2)), 'KICK'): 0.0, (12, ((2, 4), (2, 2)), 'DRIBBLE_DOWN'): 0.0, (17, ((1, 3), (2, 2)), 'DRIBBLE_RIGHT'): 0.0, (9, 'OUT_OF_BOUNDS', 'DRIBBLE_RIGHT'): 0.0, (11, 'OUT_OF_BOUNDS', 'DRIBBLE_UP'): 0.0, (5, 'OUT_OF_BOUNDS', 'DRIBBLE_DOWN'): 0.0, (22, 'OUT_OF_BOUNDS', 'DRIBBLE_RIGHT'): 0.0, (4, ((3, 2), (2, 2)), 'DRIBBLE_DOWN'): 0.12138692042666678, (7, ((4, 2), (2, 2)), 'DRIBBLE_UP'): 0.0, (14, ((4, 5), (2, 2)), 'DRIBBLE_LEFT'): 0.0, (10, ((1, 0), (2, 2)), 'DRIBBLE_RIGHT'): 0.0, (7, ((0, 1), (2, 2)), 'DRIBBLE_UP'): 0.0, (6, ((3, 2), (2, 2)), 'DRIBBLE_LEFT'): -0.06076390000000001, (12, ((2, 3), (2, 2)), 'KICK'): 0.0, (8, ((0, 5), (2, 2)), 'DRIBBLE_UP'): 0.0, (15, ((2, 1), (2, 2)), 'DRIBBLE_DOWN'): 0.0, (3, ((1, 1), (2, 2)), 'KICK'): 0.003125928101668868, (5, ((1, 4), (2, 2)), 'DRIBBLE_RIGHT'): 0.23769430324235064, (14, 'GOAL', 'KICK'): 0.0, (6, ((1, 4), (2, 2)), 'DRIBBLE_DOWN'): 0.0, (7, ((3, 1), (2, 2)), 'DRIBBLE_LEFT'): 0.0715285989, (4, ((0, 3), (2, 2)), 'DRIBBLE_DOWN'): 0.0606855423333389, (3, ((0, 4), (2, 2)), 'DRIBBLE_UP'): 0.2682732597873703, (17, ((3, 4), (2, 2)), 'DRIBBLE_RIGHT'): 0.0, (9, ((1, 3), (2, 2)), 'DRIBBLE_RIGHT'): 0.001675971, (8, ((1, 1), (2, 2)), 'DRIBBLE_RIGHT'): 0.0, (6, ((2, 2), (2, 2)), 'DRIBBLE_UP'): 0.0, (9, ((2, 5), (2, 2)), 'DRIBBLE_DOWN'): 0.015236099999999997, (18, 'OUT_OF_BOUNDS', 'DRIBBLE_DOWN'): 0.0, (15, ((1, 0), (2, 2)), 'DRIBBLE_LEFT'): 0.0, (5, ((3, 1), (2, 2)), 'DRIBBLE_UP'): 0.013853037161510911, (11, ((2, 3), (2, 2)), 'DRIBBLE_LEFT'): 0.0, (6, ((0, 5), (2, 2)), 'DRIBBLE_UP'): 0.0, (5, ((1, 2), (2, 2)), 'DRIBBLE_LEFT'): 0.006396483132694294, (11, ((0, 4), (2, 2)), 'DRIBBLE_LEFT'): 0.0, (4, ((0, 2), (2, 2)), 'KICK'): 0.019955388092956862, (19, ((3, 4), (2, 2)), 'DRIBBLE_LEFT'): 0.0, (11, ((2, 2), (2, 2)), 'DRIBBLE_UP'): 0.0, (3, 'GOAL', 'KICK'): 0.0, (19, ((2, 1), (2, 2)), 'KICK'): 0.0, (8, ((1, 3), (2, 2)), 'DRIBBLE_UP'): 0.0, (11, ((1, 4), (2, 2)), 'DRIBBLE_DOWN'): 0.0, (11, ((0, 1), (2, 2)), 'KICK'): 0.0, (10, ((0, 3), (2, 2)), 'DRIBBLE_RIGHT'): 0.031151241000000003, (11, ((4, 1), (2, 2)), 'DRIBBLE_LEFT'): 0.0, (16, 'OUT_OF_BOUNDS', 'DRIBBLE_RIGHT'): 0.0, (7, ((1, 2), (2, 2)), 'DRIBBLE_RIGHT'): 0.018959329016100004, (3, ((1, 1), (2, 2)), 'DRIBBLE_UP'): 0.16519945832406205, (8, ((0, 3), (2, 2)), 'DRIBBLE_RIGHT'): 0.00018435681, (15, 'OUT_OF_BOUNDS', 'KICK'): 0.0, (5, ((2, 4), (2, 2)), 'KICK'): 0.377798718666823, (8, ((3, 2), (2, 2)), 'DRIBBLE_LEFT'): -0.04000000000000001, (9, ((2, 3), (2, 2)), 'DRIBBLE_UP'): 0.0, (26, ((2, 2), (2, 2)), 'DRIBBLE_LEFT'): 0.0, (10, ((4, 5), (2, 2)), 'KICK'): 0.0, (5, ((0, 5), (2, 2)), 'KICK'): 0.19, (9, ((1, 2), (2, 2)), 'DRIBBLE_RIGHT'): -0.04000000000000001, (16, 'GOAL', 'DRIBBLE_DOWN'): 0.0, (6, ((2, 0), (2, 2)), 'DRIBBLE_UP'): 0.0397276046011517, (10, ((2, 3), (2, 2)), 'DRIBBLE_DOWN'): -0.04000000000000001, (14, 'OUT_OF_BOUNDS', 'DRIBBLE_RIGHT'): 0.0, (6, ((3, 0), (2, 2)), 'DRIBBLE_DOWN'): 0.0018621900000000001, (17, ((4, 4), (2, 2)), 'KICK'): 0.0, (15, ((1, 4), (2, 2)), 'DRIBBLE_DOWN'): 0.0, (6, ((4, 3), (2, 2)), 'DRIBBLE_LEFT'): 0.1364114732898568, (9, ((2, 4), (2, 2)), 'KICK'): 0.527570463519, (8, ((0, 0), (2, 2)), 'DRIBBLE_UP'): 0.0, (10, ((4, 2), (2, 2)), 'DRIBBLE_DOWN'): 0.0, (6, ((2, 5), (2, 2)), 'KICK'): 0.27855900000000006, (27, ((1, 2), (2, 2)), 'KICK'): 0.0, (11, ((4, 3), (2, 2)), 'DRIBBLE_UP'): 0.0, (13, ((0, 0), (2, 2)), 'KICK'): 0.0, (8, ((0, 2), (2, 2)), 'KICK'): 0.10097379, (11, ((2, 5), (2, 2)), 'DRIBBLE_UP'): 0.0, (14, ((0, 1), (2, 2)), 'DRIBBLE_LEFT'): 0.0, (6, ((1, 3), (2, 2)), 'DRIBBLE_LEFT'): 0.011949959785121825, (6, ((0, 5), (2, 2)), 'DRIBBLE_DOWN'): 0.0, (15, ((4, 5), (2, 2)), 'DRIBBLE_RIGHT'): 0.0, (13, 'OUT_OF_BOUNDS', 'DRIBBLE_UP'): 0.0, (7, ((3, 3), (2, 2)), 'KICK'): 0.7117353920382122, (6, ((0, 0), (2, 2)), 'DRIBBLE_DOWN'): 0.0703163341311439, (7, 'GOAL', 'DRIBBLE_LEFT'): 0.0, (5, ((3, 1), (2, 2)), 'DRIBBLE_DOWN'): 0.14162039354946782, (10, ((2, 1), (2, 2)), 'KICK'): 0.0, (8, ((1, 2), (2, 2)), 'DRIBBLE_DOWN'): -0.04000000000000001, (13, ((4, 3), (2, 2)), 'DRIBBLE_DOWN'): 0.0, (18, ((1, 1), (2, 2)), 'DRIBBLE_LEFT'): 0.0, (5, ((0, 3), (2, 2)), 'KICK'): 0.159866383588185, (10, ((1, 0), (2, 2)), 'DRIBBLE_DOWN'): 0.0, (6, ((1, 0), (2, 2)), 'DRIBBLE_LEFT'): 0.020056531176000002, (9, ((1, 1), (2, 2)), 'DRIBBLE_LEFT'): 0.0, (8, ((0, 1), (2, 2)), 'DRIBBLE_LEFT'): 0.0, (11, ((1, 2), (2, 2)), 'KICK'): 0.19, (16, ((1, 0), (2, 2)), 'DRIBBLE_RIGHT'): 0.0, (10, 'OUT_OF_BOUNDS', 'DRIBBLE_DOWN'): 0.0, (2, 'GOAL', 'DRIBBLE_LEFT'): 0.0, (6, ((3, 1), (2, 2)), 'DRIBBLE_LEFT'): 0.0, (7, ((4, 1), (2, 2)), 'DRIBBLE_DOWN'): 0.0, (6, ((3, 4), (2, 2)), 'DRIBBLE_LEFT'): 0.0, (10, ((2, 0), (2, 2)), 'DRIBBLE_DOWN'): 0.0, (8, 'GOAL', 'KICK'): 0.0, (3, ((0, 4), (2, 2)), 'DRIBBLE_LEFT'): 0.19375106962920816, (11, ((2, 1), (2, 2)), 'DRIBBLE_UP'): 0.0, (4, ((3, 2), (2, 2)), 'KICK'): 0.8478612978502488, (7, ((1, 3), (2, 2)), 'DRIBBLE_UP'): 0.0, (8, ((1, 2), (2, 2)), 'KICK'): 0.31505940118994585, (28, 'OUT_OF_BOUNDS', 'DRIBBLE_RIGHT'): 0.0, (16, ((0, 0), (2, 2)), 'KICK'): 0.0, (7, ((2, 2), (2, 2)), 'KICK'): 0.36034776990000006, (9, ((2, 0), (2, 2)), 'DRIBBLE_UP'): 0.0, (15, ((0, 4), (2, 2)), 'DRIBBLE_UP'): 0.0, (6, ((1, 3), (2, 2)), 'DRIBBLE_DOWN'): 0.0, (3, ((2, 2), (2, 2)), 'KICK'): 0.17287638559262047, (14, ((2, 5), (2, 2)), 'KICK'): 0.0, (14, ((3, 1), (2, 2)), 'DRIBBLE_DOWN'): 0.0, (11, ((2, 1), (2, 2)), 'KICK'): 0.0, (4, 'GOAL', 'DRIBBLE_DOWN'): 0.0, (4, ((0, 4), (2, 2)), 'DRIBBLE_UP'): 0.28545557120139053, (7, ((3, 5), (2, 2)), 'DRIBBLE_DOWN'): 0.0, (9, ((0, 1), (2, 2)), 'KICK'): 0.12465899999999999, (6, 'GOAL', 'DRIBBLE_LEFT'): 0.0, (8, ((1, 2), (2, 2)), 'DRIBBLE_LEFT'): 0.0, (19, ((0, 1), (2, 2)), 'DRIBBLE_LEFT'): 0.0, (11, ((1, 1), (2, 2)), 'DRIBBLE_RIGHT'): 0.0, (14, ((2, 0), (2, 2)), 'DRIBBLE_DOWN'): 0.0, (8, ((3, 1), (2, 2)), 'DRIBBLE_LEFT'): 0.0018621900000000001, (9, ((1, 2), (2, 2)), 'KICK'): 0.314659, (7, ((1, 3), (2, 2)), 'DRIBBLE_DOWN'): 0.0050465349, (5, 'OUT_OF_BOUNDS', 'DRIBBLE_UP'): 0.0, (15, ((0, 1), (2, 2)), 'DRIBBLE_UP'): 0.0, (5, ((0, 4), (2, 2)), 'DRIBBLE_LEFT'): 0.0, (7, ((2, 0), (2, 2)), 'DRIBBLE_DOWN'): 0.0, (7, ((1, 1), (2, 2)), 'DRIBBLE_UP'): 0.0, (4, ((2, 3), (2, 2)), 'DRIBBLE_RIGHT'): 0.194960433050257, (7, ((0, 2), (2, 2)), 'DRIBBLE_DOWN'): 0.0, (6, ((1, 4), (2, 2)), 'DRIBBLE_UP'): 0.0, (4, ((1, 4), (2, 2)), 'DRIBBLE_DOWN'): 0.07715835304986671, (10, ((2, 3), (2, 2)), 'DRIBBLE_RIGHT'): 0.048080241, (6, ((4, 3), (2, 2)), 'KICK'): 0.19, (10, ((1, 1), (2, 2)), 'DRIBBLE_LEFT'): 0.0, (4, ((1, 2), (2, 2)), 'DRIBBLE_RIGHT'): -0.2074474478602783, (5, ((0, 5), (2, 2)), 'DRIBBLE_DOWN'): 0.0, (3, ((0, 4), (2, 2)), 'DRIBBLE_RIGHT'): 0.17676779225719508, (16, ((1, 4), (2, 2)), 'DRIBBLE_UP'): 0.0, (7, ((3, 0), (2, 2)), 'DRIBBLE_UP'): 0.0, (3, ((1, 1), (2, 2)), 'DRIBBLE_LEFT'): 0.2396025740361085, (7, ((1, 0), (2, 2)), 'DRIBBLE_RIGHT'): 0.00043471335798, (8, 'OUT_OF_BOUNDS', 'DRIBBLE_RIGHT'): 0.0, (2, ((0, 1), (2, 2)), 'DRIBBLE_RIGHT'): 0.3429381912664177, (13, ((0, 3), (2, 2)), 'DRIBBLE_UP'): 0.0, (3, ((1, 3), (2, 2)), 'DRIBBLE_RIGHT'): 0.4133777249018844, (9, 'OUT_OF_BOUNDS', 'DRIBBLE_LEFT'): 0.0, (4, ((2, 3), (2, 2)), 'DRIBBLE_DOWN'): 0.2876393506505568, (3, ((2, 2), (2, 2)), 'DRIBBLE_RIGHT'): 0.624419592949941, (9, ((2, 2), (2, 2)), 'DRIBBLE_DOWN'): 0.0, (8, ((2, 3), (2, 2)), 'DRIBBLE_UP'): -0.04000000000000001, (12, ((3, 5), (2, 2)), 'DRIBBLE_UP'): 0.0, (8, ((0, 0), (2, 2)), 'DRIBBLE_DOWN'): 0.0, (2, ((0, 2), (2, 2)), 'DRIBBLE_LEFT'): 0.13816957359855978, (9, ((2, 1), (2, 2)), 'DRIBBLE_LEFT'): 0.01881, (12, 'GOAL', 'DRIBBLE_DOWN'): 0.0, (7, ((0, 2), (2, 2)), 'DRIBBLE_UP'): 0.0, (10, 'OUT_OF_BOUNDS', 'KICK'): 0.0, (7, ((0, 4), (2, 2)), 'DRIBBLE_RIGHT'): 0.0, (11, ((4, 0), (2, 2)), 'DRIBBLE_LEFT'): 0.0, (9, ((1, 3), (2, 2)), 'DRIBBLE_LEFT'): 0.0, (11, 'GOAL', 'KICK'): 0.0, (6, ((1, 5), (2, 2)), 'DRIBBLE_UP'): 0.0, (17, ((1, 3), (2, 2)), 'KICK'): 0.0, (4, ((2, 2), (2, 2)), 'DRIBBLE_RIGHT'): 0.0, (4, ((0, 0), (2, 2)), 'DRIBBLE_UP'): 0.16655348794753705, (3, 'GOAL', 'DRIBBLE_RIGHT'): 0.0, (8, ((1, 0), (2, 2)), 'KICK'): 0.0, (11, 'OUT_OF_BOUNDS', 'DRIBBLE_RIGHT'): 0.0, (5, ((3, 3), (2, 2)), 'DRIBBLE_UP'): 0.2717714033745056, (8, ((1, 1), (2, 2)), 'DRIBBLE_UP'): 0.00489569751, (5, ((0, 3), (2, 2)), 'DRIBBLE_RIGHT'): 0.27928525672047094, (3, ((0, 0), (2, 2)), 'DRIBBLE_DOWN'): 0.1827825812857856, (22, ((2, 2), (2, 2)), 'DRIBBLE_UP'): 0.0, (5, ((0, 2), (2, 2)), 'DRIBBLE_UP'): 0.0357895989, (14, 'GOAL', 'DRIBBLE_DOWN'): 0.0, (15, ((2, 1), (2, 2)), 'DRIBBLE_LEFT'): 0.0, (10, ((1, 5), (2, 2)), 'KICK'): 0.0, (11, ((0, 0), (2, 2)), 'DRIBBLE_RIGHT'): 0.0, (8, ((1, 4), (2, 2)), 'DRIBBLE_LEFT'): 0.0, (5, ((2, 2), (2, 2)), 'DRIBBLE_RIGHT'): 0.14169641423801488, (14, 'OUT_OF_BOUNDS', 'DRIBBLE_UP'): 0.0, (12, ((0, 3), (2, 2)), 'DRIBBLE_UP'): 0.0, (9, ((3, 4), (2, 2)), 'DRIBBLE_RIGHT'): 0.044042505210000006, (7, ((4, 2), (2, 2)), 'DRIBBLE_RIGHT'): 0.0, (6, ((0, 3), (2, 2)), 'DRIBBLE_LEFT'): 0.009565848188377265, (10, ((2, 4), (2, 2)), 'DRIBBLE_RIGHT'): 0.0, (17, ((3, 4), (2, 2)), 'DRIBBLE_UP'): 0.0, (7, ((2, 2), (2, 2)), 'DRIBBLE_DOWN'): 0.0, (12, ((1, 3), (2, 2)), 'KICK'): 0.0, (10, ((3, 3), (2, 2)), 'DRIBBLE_RIGHT'): 0.0, (17, ((1, 2), (2, 2)), 'DRIBBLE_UP'): -0.04000000000000001, (1, ((0, 2), (2, 2)), 'DRIBBLE_DOWN'): 0.36081217123583426, (14, ((1, 0), (2, 2)), 'DRIBBLE_UP'): 0.0, (13, ((4, 1), (2, 2)), 'DRIBBLE_RIGHT'): 0.0, (4, ((1, 0), (2, 2)), 'DRIBBLE_DOWN'): 0.1067718578490178, (17, 'GOAL', 'KICK'): 0.0, (8, ((3, 4), (2, 2)), 'DRIBBLE_RIGHT'): 0.0, (8, ((4, 0), (2, 2)), 'DRIBBLE_UP'): 0.0, (16, ((1, 4), (2, 2)), 'KICK'): 0.0, (7, ((4, 0), (2, 2)), 'DRIBBLE_RIGHT'): 0.01881, (9, ((0, 1), (2, 2)), 'DRIBBLE_LEFT'): 0.0, (11, 'GOAL', 'DRIBBLE_RIGHT'): 0.0, (7, ((0, 1), (2, 2)), 'DRIBBLE_DOWN'): 0.0, (24, ((3, 1), (2, 2)), 'KICK'): 0.0, (14, ((2, 0), (2, 2)), 'KICK'): 0.0, (3, ((0, 2), (2, 2)), 'DRIBBLE_UP'): 0.05336178384397625, (12, ((1, 1), (2, 2)), 'DRIBBLE_RIGHT'): 0.0, (3, ((0, 1), (2, 2)), 'KICK'): 0.024084494247516623, (5, ((2, 4), (2, 2)), 'DRIBBLE_RIGHT'): 0.11828683359900002, (15, ((1, 2), (2, 2)), 'DRIBBLE_RIGHT'): -0.04000000000000001, (2, ((0, 3), (2, 2)), 'DRIBBLE_DOWN'): 0.2644963504090261, (11, ((0, 1), (2, 2)), 'DRIBBLE_DOWN'): 0.0, (9, ((0, 1), (2, 2)), 'DRIBBLE_DOWN'): 0.0, (14, ((1, 5), (2, 2)), 'DRIBBLE_LEFT'): 0.0, (8, ((0, 4), (2, 2)), 'DRIBBLE_LEFT'): 0.0, (9, ((2, 3), (2, 2)), 'KICK'): 0.27855900000000006, (3, 'OUT_OF_BOUNDS', 'DRIBBLE_RIGHT'): 0.0, (6, ((0, 3), (2, 2)), 'DRIBBLE_DOWN'): 0.0, (15, ((1, 4), (2, 2)), 'DRIBBLE_RIGHT'): 0.0, (4, ((1, 4), (2, 2)), 'KICK'): 0.06852368150368678, (11, ((0, 5), (2, 2)), 'DRIBBLE_DOWN'): 0.0, (15, ((0, 0), (2, 2)), 'DRIBBLE_UP'): 0.0, (22, ((2, 2), (2, 2)), 'DRIBBLE_DOWN'): 0.0, (14, ((1, 5), (2, 2)), 'DRIBBLE_DOWN'): 0.0, (5, 'GOAL', 'DRIBBLE_RIGHT'): 0.0, (5, ((1, 3), (2, 2)), 'KICK'): 0.22821514017347877, (15, ((4, 1), (2, 2)), 'KICK'): 0.19, (4, ((3, 2), (2, 2)), 'DRIBBLE_RIGHT'): 0.04945149, (15, ((2, 3), (2, 2)), 'DRIBBLE_LEFT'): 0.0, (3, ((2, 2), (2, 2)), 'DRIBBLE_UP'): 0.35101723498763315, (3, ((0, 3), (2, 2)), 'DRIBBLE_DOWN'): 0.08608641495990847, (11, ((1, 4), (2, 2)), 'DRIBBLE_UP'): 0.0, (12, ((1, 4), (2, 2)), 'DRIBBLE_UP'): 0.0, (16, ((0, 2), (2, 2)), 'DRIBBLE_RIGHT'): 0.0, (9, ((4, 0), (2, 2)), 'DRIBBLE_UP'): 0.0, (13, 'OUT_OF_BOUNDS', 'KICK'): 0.0, (8, ((4, 5), (2, 2)), 'KICK'): 0.19, (9, ((2, 1), (2, 2)), 'DRIBBLE_DOWN'): 0.0, (8, ((3, 4), (2, 2)), 'DRIBBLE_DOWN'): 0.0, (5, ((2, 1), (2, 2)), 'DRIBBLE_RIGHT'): 0.008696504430718939, (7, 'OUT_OF_BOUNDS', 'DRIBBLE_RIGHT'): 0.0, (6, ((0, 1), (2, 2)), 'DRIBBLE_UP'): 0.0, (12, ((1, 1), (2, 2)), 'DRIBBLE_DOWN'): 0.0, (8, ((2, 3), (2, 2)), 'DRIBBLE_RIGHT'): 0.0, (11, ((4, 3), (2, 2)), 'KICK'): 0.0, (4, ((1, 0), (2, 2)), 'DRIBBLE_LEFT'): 0.15513914410891907, (6, ((4, 3), (2, 2)), 'DRIBBLE_RIGHT'): 0.03757374621000001, (11, ((1, 2), (2, 2)), 'DRIBBLE_RIGHT'): 0.0, (14, ((0, 4), (2, 2)), 'DRIBBLE_RIGHT'): 0.0, (17, ((0, 1), (2, 2)), 'DRIBBLE_DOWN'): 0.0, (13, ((0, 2), (2, 2)), 'DRIBBLE_RIGHT'): 0.0, (6, ((3, 2), (2, 2)), 'DRIBBLE_UP'): 0.01881, (5, ((0, 1), (2, 2)), 'KICK'): 0.15389999999999998, (3, ((0, 0), (2, 2)), 'DRIBBLE_RIGHT'): 0.12567586960577984, (8, 'GOAL', 'DRIBBLE_LEFT'): 0.0, (6, ((2, 0), (2, 2)), 'KICK'): 0.15389999999999998, (9, ((0, 2), (2, 2)), 'DRIBBLE_LEFT'): 0.0, (6, ((0, 4), (2, 2)), 'DRIBBLE_LEFT'): 0.0, (13, ((2, 4), (2, 2)), 'DRIBBLE_UP'): 0.0, (5, ((3, 2), (2, 2)), 'DRIBBLE_DOWN'): 0.0, (7, ((1, 5), (2, 2)), 'DRIBBLE_RIGHT'): 0.0, (7, ((0, 3), (2, 2)), 'DRIBBLE_DOWN'): 0.0, (10, ((0, 3), (2, 2)), 'DRIBBLE_DOWN'): 0.0, (16, ((2, 2), (2, 2)), 'DRIBBLE_LEFT'): -0.003960000000000001, (9, ((1, 5), (2, 2)), 'DRIBBLE_LEFT'): 0.0, (7, ((0, 0), (2, 2)), 'DRIBBLE_LEFT'): 0.0, (4, ((0, 0), (2, 2)), 'DRIBBLE_DOWN'): 0.04872616818713532, (18, ((2, 2), (2, 2)), 'KICK'): 0.0, (5, ((0, 0), (2, 2)), 'DRIBBLE_LEFT'): 0.0, (6, ((0, 4), (2, 2)), 'DRIBBLE_DOWN'): 0.0, (6, 'GOAL', 'DRIBBLE_DOWN'): 0.0, (13, ((3, 1), (2, 2)), 'KICK'): 0.0, (9, ((3, 4), (2, 2)), 'DRIBBLE_UP'): 0.0, (12, 'GOAL', 'DRIBBLE_UP'): 0.0, (8, ((3, 0), (2, 2)), 'KICK'): 0.0, (20, ((2, 2), (2, 2)), 'KICK'): 0.0, (17, ((2, 0), (2, 2)), 'DRIBBLE_DOWN'): 0.0, (11, ((1, 5), (2, 2)), 'DRIBBLE_LEFT'): 0.0, (15, ((4, 5), (2, 2)), 'DRIBBLE_UP'): 0.0, (5, ((1, 1), (2, 2)), 'DRIBBLE_RIGHT'): 0.1617330948724222, (7, ((0, 5), (2, 2)), 'KICK'): 0.0, (5, ((0, 4), (2, 2)), 'KICK'): 0.004446337979356963, (4, ((2, 3), (2, 2)), 'DRIBBLE_UP'): -0.01622689885481873, (1, ((0, 2), (2, 2)), 'KICK'): 0.3093681181469061, (17, ((4, 4), (2, 2)), 'DRIBBLE_UP'): 0.0, (11, ((1, 1), (2, 2)), 'KICK'): 0.0, (4, 'GOAL', 'DRIBBLE_UP'): 0.0, (8, ((3, 2), (2, 2)), 'KICK'): 0.27855900000000006, (12, ((0, 4), (2, 2)), 'DRIBBLE_LEFT'): 0.0, (4, ((2, 1), (2, 2)), 'DRIBBLE_LEFT'): 0.13089837918310368, (15, ((2, 4), (2, 2)), 'DRIBBLE_LEFT'): 0.0, (7, ((2, 3), (2, 2)), 'DRIBBLE_DOWN'): 0.05218640106516687, (11, 'OUT_OF_BOUNDS', 'DRIBBLE_LEFT'): 0.0, (8, ((4, 1), (2, 2)), 'KICK'): 0.19, (16, ((1, 1), (2, 2)), 'DRIBBLE_RIGHT'): 0.0, (6, ((0, 2), (2, 2)), 'DRIBBLE_UP'): 0.06574920311491343, (10, ((1, 0), (2, 2)), 'DRIBBLE_LEFT'): 0.0, (10, ((2, 3), (2, 2)), 'DRIBBLE_LEFT'): 0.0, (12, 'OUT_OF_BOUNDS', 'DRIBBLE_LEFT'): 0.0, (4, ((1, 3), (2, 2)), 'DRIBBLE_DOWN'): 0.03635890124341397, (7, ((2, 0), (2, 2)), 'DRIBBLE_UP'): 0.001459958449752, (4, ((0, 2), (2, 2)), 'DRIBBLE_LEFT'): 0.035649467463030125, (7, ((1, 4), (2, 2)), 'DRIBBLE_DOWN'): 0.0, (6, ((3, 2), (2, 2)), 'KICK'): 0.445781693619, (6, ((1, 2), (2, 2)), 'DRIBBLE_UP'): 0.0031843449000000003, (10, ((2, 4), (2, 2)), 'DRIBBLE_UP'): 0.0, (8, ((3, 2), (2, 2)), 'DRIBBLE_UP'): 0.0, (11, 'OUT_OF_BOUNDS', 'KICK'): 0.0, (2, ((0, 2), (2, 2)), 'DRIBBLE_RIGHT'): 0.13362438034731627, (7, 'GOAL', 'DRIBBLE_DOWN'): 0.0, (13, ((1, 5), (2, 2)), 'DRIBBLE_RIGHT'): 0.0, (5, ((1, 0), (2, 2)), 'DRIBBLE_DOWN'): 0.0492690331589923, (5, ((4, 2), (2, 2)), 'KICK'): 0.19, (7, ((3, 2), (2, 2)), 'KICK'): 0.19, (6, ((1, 2), (2, 2)), 'DRIBBLE_RIGHT'): -0.024763900000000005, (9, ((0, 0), (2, 2)), 'DRIBBLE_DOWN'): 0.0, (15, ((0, 5), (2, 2)), 'KICK'): 0.0, (14, ((1, 0), (2, 2)), 'DRIBBLE_LEFT'): 0.0, (3, ((1, 3), (2, 2)), 'DRIBBLE_LEFT'): 0.3265835296239824, (5, ((3, 1), (2, 2)), 'DRIBBLE_LEFT'): 0.09031568063728479, (11, ((2, 3), (2, 2)), 'DRIBBLE_UP'): 0.0, (14, ((0, 4), (2, 2)), 'DRIBBLE_DOWN'): 0.0, (12, ((2, 0), (2, 2)), 'DRIBBLE_LEFT'): 0.0, (8, ((0, 0), (2, 2)), 'DRIBBLE_LEFT'): 0.0, (4, ((0, 1), (2, 2)), 'DRIBBLE_UP'): 0.06216344177264191, (11, ((3, 0), (2, 2)), 'DRIBBLE_UP'): 0.0, (3, ((1, 2), (2, 2)), 'DRIBBLE_RIGHT'): -0.144994, (11, ((2, 5), (2, 2)), 'DRIBBLE_LEFT'): 0.0, (11, ((3, 3), (2, 2)), 'DRIBBLE_DOWN'): 0.0, (10, ((0, 0), (2, 2)), 'DRIBBLE_DOWN'): 0.0, (6, 'OUT_OF_BOUNDS', 'DRIBBLE_DOWN'): 0.0, (5, ((2, 4), (2, 2)), 'DRIBBLE_LEFT'): 0.030610993405311003, (13, ((4, 4), (2, 2)), 'DRIBBLE_DOWN'): 0.0, (5, ((0, 0), (2, 2)), 'KICK'): 0.11882227502593465, (18, ((4, 3), (2, 2)), 'KICK'): 0.0, (13, ((0, 1), (2, 2)), 'DRIBBLE_DOWN'): 0.0, (7, ((2, 5), (2, 2)), 'DRIBBLE_DOWN'): 0.0, (7, 'GOAL', 'DRIBBLE_UP'): 0.0, (8, ((2, 5), (2, 2)), 'DRIBBLE_LEFT'): 0.0, (25, ((2, 1), (2, 2)), 'DRIBBLE_DOWN'): -0.04000000000000001, (4, ((0, 1), (2, 2)), 'DRIBBLE_DOWN'): 0.2802937213940306, (15, ((0, 4), (2, 2)), 'DRIBBLE_RIGHT'): 0.0, (12, ((1, 1), (2, 2)), 'KICK'): 0.0, (9, 'OUT_OF_BOUNDS', 'DRIBBLE_DOWN'): 0.0, (8, ((1, 3), (2, 2)), 'DRIBBLE_DOWN'): 0.0, (9, ((1, 1), (2, 2)), 'DRIBBLE_UP'): 0.0, (19, 'GOAL', 'DRIBBLE_UP'): 0.0, (6, ((2, 0), (2, 2)), 'DRIBBLE_LEFT'): 0.01881, (11, ((3, 1), (2, 2)), 'KICK'): 0.19, (14, ((2, 2), (2, 2)), 'KICK'): 0.0, (8, ((1, 2), (2, 2)), 'DRIBBLE_RIGHT'): -0.12956073685706052, (8, ((4, 3), (2, 2)), 'DRIBBLE_LEFT'): 0.0, (5, ((2, 2), (2, 2)), 'KICK'): 0.3610607410623228, (23, ((2, 1), (2, 2)), 'DRIBBLE_DOWN'): 0.0, (8, ((3, 0), (2, 2)), 'DRIBBLE_UP'): 0.0, (6, ((3, 4), (2, 2)), 'DRIBBLE_UP'): 0.2004679185955136, (7, ((0, 0), (2, 2)), 'KICK'): 0.0, (12, ((1, 4), (2, 2)), 'DRIBBLE_RIGHT'): 0.0, (7, ((4, 2), (2, 2)), 'KICK'): 0.46132155990000007, (4, ((0, 5), (2, 2)), 'DRIBBLE_UP'): 0.02663253414178166, (6, 'OUT_OF_BOUNDS', 'DRIBBLE_UP'): 0.0, (8, ((0, 4), (2, 2)), 'DRIBBLE_DOWN'): 0.0, (2, ((0, 1), (2, 2)), 'DRIBBLE_LEFT'): 0.24294289076019046, (6, ((3, 0), (2, 2)), 'DRIBBLE_RIGHT'): 0.0509751, (6, ((2, 1), (2, 2)), 'DRIBBLE_DOWN'): -0.07600000000000001, (6, ((1, 3), (2, 2)), 'DRIBBLE_UP'): 0.042788431845373204, (6, ((0, 4), (2, 2)), 'KICK'): 0.0, (12, ((1, 4), (2, 2)), 'KICK'): 0.0, (6, ((1, 4), (2, 2)), 'DRIBBLE_RIGHT'): 0.22530100361835445, (8, ((0, 5), (2, 2)), 'DRIBBLE_DOWN'): 0.0, (2, 'OUT_OF_BOUNDS', 'DRIBBLE_RIGHT'): 0.0, (9, ((3, 3), (2, 2)), 'DRIBBLE_DOWN'): 0.0, (12, ((3, 1), (2, 2)), 'KICK'): 0.0, (10, ((1, 1), (2, 2)), 'DRIBBLE_RIGHT'): 0.0, (13, ((2, 4), (2, 2)), 'KICK'): 0.0, (11, ((2, 5), (2, 2)), 'DRIBBLE_DOWN'): 0.0, (6, ((3, 0), (2, 2)), 'DRIBBLE_LEFT'): 0.025826002523509726, (6, ((4, 1), (2, 2)), 'DRIBBLE_DOWN'): 0.01881, (10, ((3, 3), (2, 2)), 'DRIBBLE_DOWN'): 0.0, (7, ((3, 5), (2, 2)), 'DRIBBLE_RIGHT'): 0.0, (3, ((0, 1), (2, 2)), 'DRIBBLE_DOWN'): 0.237688220130415, (4, ((0, 4), (2, 2)), 'DRIBBLE_LEFT'): 0.0, (8, ((2, 0), (2, 2)), 'DRIBBLE_LEFT'): 0.00776160792, (8, ((2, 0), (2, 2)), 'DRIBBLE_RIGHT'): 0.0, (6, ((3, 4), (2, 2)), 'DRIBBLE_RIGHT'): 0.035739, (7, ((3, 3), (2, 2)), 'DRIBBLE_LEFT'): 0.0, (8, ((4, 0), (2, 2)), 'KICK'): 0.15389999999999998, (12, ((3, 0), (2, 2)), 'DRIBBLE_UP'): 0.0, (8, ((1, 4), (2, 2)), 'KICK'): 0.0, (13, ((0, 0), (2, 2)), 'DRIBBLE_UP'): 0.0, (8, 'OUT_OF_BOUNDS', 'DRIBBLE_DOWN'): 0.0, (12, ((0, 0), (2, 2)), 'DRIBBLE_DOWN'): 0.0, (7, ((1, 4), (2, 2)), 'DRIBBLE_LEFT'): 0.0, (7, ((4, 0), (2, 2)), 'DRIBBLE_LEFT'): 0.0, (8, ((4, 3), (2, 2)), 'KICK'): 0.19, (15, ((1, 4), (2, 2)), 'KICK'): 0.0, (4, ((1, 4), (2, 2)), 'DRIBBLE_RIGHT'): 0.2013909512506621, (11, ((3, 1), (2, 2)), 'DRIBBLE_UP'): 0.0, (5, ((1, 1), (2, 2)), 'KICK'): 0.0, (5, ((0, 1), (2, 2)), 'DRIBBLE_DOWN'): 0.0973700300838963, (5, ((1, 5), (2, 2)), 'KICK'): 0.0, (11, ((0, 3), (2, 2)), 'DRIBBLE_LEFT'): 0.0, (2, ((1, 2), (2, 2)), 'DRIBBLE_LEFT'): 0.33038700593844705, (6, ((1, 0), (2, 2)), 'DRIBBLE_DOWN'): 0.02958436973298693, (5, ((1, 0), (2, 2)), 'KICK'): 0.0, (7, ((4, 3), (2, 2)), 'KICK'): 0.0, (4, 'OUT_OF_BOUNDS', 'KICK'): 0.0, (7, 'GOAL', 'KICK'): 0.0, (21, ((3, 2), (2, 2)), 'DRIBBLE_LEFT'): -0.04000000000000001, (7, ((0, 4), (2, 2)), 'DRIBBLE_DOWN'): 0.0, (20, 'OUT_OF_BOUNDS', 'DRIBBLE_RIGHT'): 0.0, (12, 'OUT_OF_BOUNDS', 'DRIBBLE_DOWN'): 0.0, (9, ((2, 1), (2, 2)), 'KICK'): 0.0, (14, ((0, 0), (2, 2)), 'DRIBBLE_LEFT'): 0.0, (6, ((4, 1), (2, 2)), 'DRIBBLE_LEFT'): 0.037313242758000006, (3, ((0, 4), (2, 2)), 'DRIBBLE_DOWN'): 0.08842212661600592, (8, ((1, 5), (2, 2)), 'DRIBBLE_RIGHT'): 0.0, (7, ((1, 1), (2, 2)), 'DRIBBLE_DOWN'): 0.09734524373964372, (4, ((1, 0), (2, 2)), 'DRIBBLE_UP'): 0.05265915648002583, (5, 'OUT_OF_BOUNDS', 'KICK'): 0.0, (13, 'GOAL', 'KICK'): 0.0, (6, ((2, 4), (2, 2)), 'DRIBBLE_RIGHT'): 0.0, (6, ((0, 2), (2, 2)), 'DRIBBLE_DOWN'): 0.06274828056662901, (8, ((2, 3), (2, 2)), 'KICK'): 0.3837151217421557, (6, ((1, 2), (2, 2)), 'DRIBBLE_LEFT'): 0.0, (6, ((1, 5), (2, 2)), 'DRIBBLE_RIGHT'): 0.0, (9, ((3, 2), (2, 2)), 'KICK'): 0.19, (7, ((4, 4), (2, 2)), 'KICK'): 0.15389999999999998, (7, ((1, 1), (2, 2)), 'DRIBBLE_LEFT'): 0.016929, (11, ((0, 0), (2, 2)), 'DRIBBLE_DOWN'): 0.0, (12, ((4, 3), (2, 2)), 'KICK'): 0.0, (3, 'OUT_OF_BOUNDS', 'DRIBBLE_LEFT'): 0.0, (16, ((0, 2), (2, 2)), 'DRIBBLE_DOWN'): 0.0, (16, ((0, 1), (2, 2)), 'DRIBBLE_LEFT'): 0.0, (6, ((1, 4), (2, 2)), 'DRIBBLE_LEFT'): 0.0, (4, ((0, 4), (2, 2)), 'DRIBBLE_DOWN'): 0.0, (11, ((4, 3), (2, 2)), 'DRIBBLE_DOWN'): 0.0, (16, 'GOAL', 'DRIBBLE_LEFT'): 0.0, (4, ((0, 3), (2, 2)), 'KICK'): 0.00024353449767138682, (7, ((1, 5), (2, 2)), 'KICK'): 0.0, (5, ((2, 0), (2, 2)), 'KICK'): 0.15389999999999998, (5, ((2, 0), (2, 2)), 'DRIBBLE_LEFT'): 0.014472475200937373, (13, ((3, 1), (2, 2)), 'DRIBBLE_DOWN'): 0.0, (9, ((2, 5), (2, 2)), 'KICK'): 0.0, (6, ((1, 1), (2, 2)), 'KICK'): 0.0, (12, ((1, 2), (2, 2)), 'DRIBBLE_RIGHT'): 0.0, (12, ((4, 3), (2, 2)), 'DRIBBLE_UP'): 0.0, (9, ((2, 2), (2, 2)), 'DRIBBLE_RIGHT'): 0.0, (17, ((2, 0), (2, 2)), 'DRIBBLE_UP'): 0.0, (9, ((1, 3), (2, 2)), 'KICK'): 0.0, (7, ((2, 0), (2, 2)), 'DRIBBLE_RIGHT'): 0.0, (18, ((0, 2), (2, 2)), 'DRIBBLE_RIGHT'): 0.0, (3, 'GOAL', 'DRIBBLE_DOWN'): 0.0, (9, 'GOAL', 'DRIBBLE_UP'): 0.0, (9, 'OUT_OF_BOUNDS', 'DRIBBLE_UP'): 0.0, (7, ((4, 2), (2, 2)), 'DRIBBLE_DOWN'): 0.0, (10, ((4, 3), (2, 2)), 'DRIBBLE_LEFT'): 0.0, (2, ((0, 2), (2, 2)), 'KICK'): 0.0706919222624425, (3, 'OUT_OF_BOUNDS', 'DRIBBLE_DOWN'): 0.0, (9, ((3, 0), (2, 2)), 'DRIBBLE_RIGHT'): 0.0, (4, ((0, 2), (2, 2)), 'DRIBBLE_RIGHT'): 0.18410169460535566, (9, ((3, 4), (2, 2)), 'KICK'): 0.0, (5, ((2, 0), (2, 2)), 'DRIBBLE_UP'): 0.060754848020755696, (11, ((3, 0), (2, 2)), 'DRIBBLE_LEFT'): 0.0, (5, ((1, 2), (2, 2)), 'DRIBBLE_DOWN'): 0.2021941374782797, (1, ((0, 2), (2, 2)), 'DRIBBLE_RIGHT'): 0.3630751339243112, (18, ((0, 2), (2, 2)), 'DRIBBLE_LEFT'): 0.0, (4, 'GOAL', 'DRIBBLE_RIGHT'): 0.0, (11, ((1, 0), (2, 2)), 'DRIBBLE_DOWN'): 0.0, (2, ((0, 1), (2, 2)), 'DRIBBLE_DOWN'): 0.3057554767926356, (5, ((2, 1), (2, 2)), 'DRIBBLE_LEFT'): 0.0, (18, ((2, 0), (2, 2)), 'DRIBBLE_UP'): 0.0, (4, ((0, 0), (2, 2)), 'DRIBBLE_LEFT'): 0.003431796614562877, (9, ((1, 0), (2, 2)), 'DRIBBLE_RIGHT'): 0.0, (3, ((1, 3), (2, 2)), 'DRIBBLE_DOWN'): 0.2143176516112548, (8, 'OUT_OF_BOUNDS', 'KICK'): 0.0, (4, ((1, 2), (2, 2)), 'DRIBBLE_DOWN'): 0.2069426929363543, (18, ((2, 0), (2, 2)), 'KICK'): 0.19, (5, ((2, 4), (2, 2)), 'DRIBBLE_UP'): 0.1270377662098714, (19, ((2, 1), (2, 2)), 'DRIBBLE_RIGHT'): -0.04000000000000001, (2, ((0, 3), (2, 2)), 'DRIBBLE_UP'): 0.33376168602173734, (7, ((2, 1), (2, 2)), 'KICK'): 0.0, (8, ((0, 2), (2, 2)), 'DRIBBLE_DOWN'): 0.0, (7, ((0, 2), (2, 2)), 'DRIBBLE_RIGHT'): 0.18513077286145835, (16, ((1, 3), (2, 2)), 'KICK'): 0.15389999999999998, (14, ((0, 1), (2, 2)), 'DRIBBLE_UP'): 0.0, (11, ((1, 3), (2, 2)), 'KICK'): 0.314659, (6, ((4, 3), (2, 2)), 'DRIBBLE_DOWN'): 0.0, (12, ((3, 1), (2, 2)), 'DRIBBLE_RIGHT'): 0.0, (6, ((1, 1), (2, 2)), 'DRIBBLE_UP'): 0.0, (20, 'OUT_OF_BOUNDS', 'DRIBBLE_UP'): 0.0, (4, ((1, 1), (2, 2)), 'KICK'): 0.0, (13, ((0, 4), (2, 2)), 'DRIBBLE_LEFT'): 0.0, (8, ((2, 5), (2, 2)), 'DRIBBLE_DOWN'): 0.0, (16, ((2, 2), (2, 2)), 'KICK'): 0.0, (8, ((2, 1), (2, 2)), 'DRIBBLE_LEFT'): -0.04000000000000001, (4, ((1, 1), (2, 2)), 'DRIBBLE_LEFT'): 0.0, (8, ((2, 4), (2, 2)), 'DRIBBLE_LEFT'): 0.0, (7, ((2, 4), (2, 2)), 'DRIBBLE_DOWN'): 0.0, (16, ((0, 0), (2, 2)), 'DRIBBLE_RIGHT'): 0.0, (5, ((0, 3), (2, 2)), 'DRIBBLE_DOWN'): 0.0, (5, ((3, 3), (2, 2)), 'KICK'): 0.08178876989999999, (5, ((0, 4), (2, 2)), 'DRIBBLE_UP'): 0.23496691274838066, (9, ((4, 2), (2, 2)), 'KICK'): 0.19, (10, 'GOAL', 'DRIBBLE_UP'): 0.0, (2, ((1, 2), (2, 2)), 'DRIBBLE_DOWN'): 0.41441547738546874, (7, ((2, 2), (2, 2)), 'DRIBBLE_UP'): 0.01881, (4, ((1, 0), (2, 2)), 'DRIBBLE_RIGHT'): 0.08895710342737914, (13, ((1, 5), (2, 2)), 'DRIBBLE_LEFT'): 0.0, (14, ((0, 4), (2, 2)), 'DRIBBLE_LEFT'): 0.0, (22, 'OUT_OF_BOUNDS', 'DRIBBLE_LEFT'): 0.0, (8, ((2, 2), (2, 2)), 'KICK'): 0.0, (6, ((2, 3), (2, 2)), 'KICK'): 0.36941310489175916, (8, 'GOAL', 'DRIBBLE_DOWN'): 0.0, (6, 'GOAL', 'KICK'): 0.0, (9, ((0, 3), (2, 2)), 'KICK'): 0.0, (5, ((1, 0), (2, 2)), 'DRIBBLE_LEFT'): 0.06299390207328036, (14, ((2, 2), (2, 2)), 'DRIBBLE_RIGHT'): 0.0, (8, ((2, 3), (2, 2)), 'DRIBBLE_DOWN'): 0.0, (5, ((2, 2), (2, 2)), 'DRIBBLE_DOWN'): 0.051386009654337976, (5, ((1, 3), (2, 2)), 'DRIBBLE_UP'): 0.13052888119107456, (7, 'OUT_OF_BOUNDS', 'DRIBBLE_LEFT'): 0.0, (9, ((0, 4), (2, 2)), 'DRIBBLE_DOWN'): 0.0, (3, ((1, 2), (2, 2)), 'DRIBBLE_LEFT'): 0.05850719547319373, (9, ((1, 4), (2, 2)), 'KICK'): 0.0, (7, ((2, 2), (2, 2)), 'DRIBBLE_RIGHT'): 0.0, (6, ((2, 1), (2, 2)), 'DRIBBLE_LEFT'): 0.03515258845992207, (6, ((0, 4), (2, 2)), 'DRIBBLE_UP'): 0.030594643768587844, (21, ((1, 4), (2, 2)), 'KICK'): 0.0, (9, ((2, 0), (2, 2)), 'KICK'): 0.0, (4, ((3, 2), (2, 2)), 'DRIBBLE_LEFT'): 0.019064381236449133, (5, 'GOAL', 'DRIBBLE_DOWN'): 0.0, (9, ((3, 2), (2, 2)), 'DRIBBLE_RIGHT'): 0.0, (17, ((0, 1), (2, 2)), 'DRIBBLE_RIGHT'): 0.0, (6, ((0, 4), (2, 2)), 'DRIBBLE_RIGHT'): 0.0, (11, ((1, 4), (2, 2)), 'DRIBBLE_LEFT'): 0.0, (7, ((0, 3), (2, 2)), 'DRIBBLE_UP'): 0.012341241, (16, ((1, 0), (2, 2)), 'DRIBBLE_UP'): 0.0, (19, ((0, 1), (2, 2)), 'DRIBBLE_RIGHT'): 0.0, (12, ((0, 1), (2, 2)), 'DRIBBLE_UP'): 0.0, (7, ((1, 3), (2, 2)), 'KICK'): 0.0, (2, 'OUT_OF_BOUNDS', 'KICK'): 0.0, (2, ((0, 2), (2, 2)), 'DRIBBLE_DOWN'): 0.32810739704699315, (9, ((3, 4), (2, 2)), 'DRIBBLE_LEFT'): 0.0, (7, ((0, 3), (2, 2)), 'DRIBBLE_RIGHT'): 0.012525597809999997, (6, ((3, 0), (2, 2)), 'KICK'): 0.0, (20, ((2, 4), (2, 2)), 'KICK'): 0.0, (10, ((4, 0), (2, 2)), 'DRIBBLE_LEFT'): 0.0, (5, ((0, 3), (2, 2)), 'DRIBBLE_LEFT'): 0.0, (5, ((0, 1), (2, 2)), 'DRIBBLE_UP'): 0.0, (11, ((2, 2), (2, 2)), 'DRIBBLE_RIGHT'): 0.0, (3, ((0, 3), (2, 2)), 'DRIBBLE_RIGHT'): 0.3765144404823167, (16, 'OUT_OF_BOUNDS', 'KICK'): 0.0, (13, ((0, 1), (2, 2)), 'DRIBBLE_LEFT'): 0.0, (15, ((2, 3), (2, 2)), 'DRIBBLE_DOWN'): 0.0, (5, ((0, 5), (2, 2)), 'DRIBBLE_UP'): 0.0, (5, ((2, 3), (2, 2)), 'KICK'): 0.48882843399916265, (13, ((4, 3), (2, 2)), 'KICK'): 0.19, (5, ((2, 1), (2, 2)), 'KICK'): 0.4529849168089394, (9, ((3, 1), (2, 2)), 'DRIBBLE_DOWN'): 0.0, (5, 'GOAL', 'DRIBBLE_UP'): 0.0, (4, ((2, 1), (2, 2)), 'DRIBBLE_UP'): 0.047249738140609225, (10, ((2, 1), (2, 2)), 'DRIBBLE_UP'): 0.0, (4, ((1, 2), (2, 2)), 'KICK'): 0.10550369804788406, (8, ((0, 2), (2, 2)), 'DRIBBLE_LEFT'): 0.0, (10, ((0, 2), (2, 2)), 'DRIBBLE_DOWN'): 0.0, (5, ((0, 1), (2, 2)), 'DRIBBLE_RIGHT'): 0.03604867917375335, (2, ((0, 3), (2, 2)), 'DRIBBLE_RIGHT'): 0.43063166396027097, (7, ((0, 0), (2, 2)), 'DRIBBLE_UP'): 0.0, (5, ((1, 1), (2, 2)), 'DRIBBLE_LEFT'): 0.052344645568281, (3, ((0, 2), (2, 2)), 'DRIBBLE_RIGHT'): 0.07162988238617295, (6, ((0, 2), (2, 2)), 'DRIBBLE_LEFT'): 0.0, (5, ((2, 2), (2, 2)), 'DRIBBLE_UP'): 0.019689466041362853, (5, ((1, 5), (2, 2)), 'DRIBBLE_RIGHT'): 0.08483640923434477, (9, ((0, 4), (2, 2)), 'DRIBBLE_UP'): 0.0, (7, ((2, 0), (2, 2)), 'DRIBBLE_LEFT'): 0.0, (4, ((0, 2), (2, 2)), 'DRIBBLE_UP'): 0.08000607845870185, (5, ((2, 3), (2, 2)), 'DRIBBLE_LEFT'): 0.04908512796120642, (13, ((1, 4), (2, 2)), 'DRIBBLE_UP'): 0.0, (4, ((1, 4), (2, 2)), 'DRIBBLE_UP'): 0.19662356206014017, (6, ((0, 5), (2, 2)), 'KICK'): 0.018710647141488606, (5, ((1, 1), (2, 2)), 'DRIBBLE_DOWN'): 0.15176541634714472, (5, ((3, 3), (2, 2)), 'DRIBBLE_RIGHT'): 0.11522620601910001, (11, ((1, 2), (2, 2)), 'DRIBBLE_DOWN'): -0.00039204000000000013, (13, ((3, 2), (2, 2)), 'DRIBBLE_RIGHT'): 0.0, (10, ((2, 4), (2, 2)), 'KICK'): 0.36034776990000006, (4, ((1, 3), (2, 2)), 'DRIBBLE_RIGHT'): 0.44454995961589105, (6, ((0, 1), (2, 2)), 'DRIBBLE_DOWN'): 0.0, (9, ((2, 1), (2, 2)), 'DRIBBLE_RIGHT'): 0.0, (7, ((4, 4), (2, 2)), 'DRIBBLE_DOWN'): 0.0, (15, ((0, 4), (2, 2)), 'DRIBBLE_DOWN'): 0.0, (3, ((1, 3), (2, 2)), 'DRIBBLE_UP'): 0.1986939496071733, (8, ((3, 4), (2, 2)), 'DRIBBLE_UP'): 0.0, (4, 'GOAL', 'DRIBBLE_LEFT'): 0.0, (5, ((3, 1), (2, 2)), 'DRIBBLE_RIGHT'): 0.014986966590891902, (4, ((0, 1), (2, 2)), 'DRIBBLE_LEFT'): 0.0028518341157900006, (15, 'OUT_OF_BOUNDS', 'DRIBBLE_UP'): 0.0, (4, ((2, 2), (2, 2)), 'KICK'): 0.19, (8, ((2, 3), (2, 2)), 'DRIBBLE_LEFT'): 0.0, (3, 'GOAL', 'DRIBBLE_LEFT'): 0.0, (9, ((4, 0), (2, 2)), 'DRIBBLE_LEFT'): 0.0, (10, ((3, 3), (2, 2)), 'KICK'): 0.46855900000000006, (6, ((2, 4), (2, 2)), 'DRIBBLE_LEFT'): 0.0, (8, ((3, 0), (2, 2)), 'DRIBBLE_DOWN'): 0.0, (7, ((2, 3), (2, 2)), 'KICK'): 0.39304436206163235, (5, ((1, 0), (2, 2)), 'DRIBBLE_RIGHT'): 0.0003336858261, (10, ((1, 1), (2, 2)), 'DRIBBLE_DOWN'): 0.0, (4, 'GOAL', 'KICK'): 0.0, (11, ((2, 3), (2, 2)), 'KICK'): 0.19, (10, ((2, 3), (2, 2)), 'DRIBBLE_UP'): 0.0, (14, ((1, 3), (2, 2)), 'DRIBBLE_UP'): 0.0, (6, 'GOAL', 'DRIBBLE_UP'): 0.0, (8, ((2, 5), (2, 2)), 'DRIBBLE_UP'): 0.0, (15, ((2, 4), (2, 2)), 'KICK'): 0.19, (13, ((0, 2), (2, 2)), 'DRIBBLE_DOWN'): 0.0, (7, ((0, 2), (2, 2)), 'DRIBBLE_LEFT'): 0.0, (10, ((2, 4), (2, 2)), 'DRIBBLE_LEFT'): 0.0, (8, ((0, 3), (2, 2)), 'KICK'): 0.10097379, (15, ((0, 1), (2, 2)), 'DRIBBLE_DOWN'): 0.0, (12, ((2, 4), (2, 2)), 'DRIBBLE_LEFT'): 0.0, (12, ((1, 2), (2, 2)), 'KICK'): 0.0, (2, 'OUT_OF_BOUNDS', 'DRIBBLE_UP'): 0.0, (3, 'OUT_OF_BOUNDS', 'KICK'): 0.0, (7, ((2, 5), (2, 2)), 'DRIBBLE_RIGHT'): 0.0, (5, ((3, 1), (2, 2)), 'KICK'): 0.40291146351900003, (7, ((2, 0), (2, 2)), 'KICK'): 0.2051556241846058, (11, ((0, 3), (2, 2)), 'DRIBBLE_RIGHT'): 0.0, (8, ((0, 1), (2, 2)), 'DRIBBLE_DOWN'): 0.0, (4, ((0, 0), (2, 2)), 'DRIBBLE_RIGHT'): 0.026106830362481438, (9, ((1, 5), (2, 2)), 'DRIBBLE_DOWN'): 0.0, (12, ((3, 4), (2, 2)), 'DRIBBLE_LEFT'): 0.0, (14, 'OUT_OF_BOUNDS', 'KICK'): 0.0, (4, ((2, 1), (2, 2)), 'KICK'): 0.45603333865013496, (5, 'GOAL', 'KICK'): 0.0, (7, ((0, 1), (2, 2)), 'KICK'): 0.01069005616329394, (11, ((3, 5), (2, 2)), 'DRIBBLE_DOWN'): 0.0, (8, ((3, 4), (2, 2)), 'KICK'): 0.0, (7, ((1, 4), (2, 2)), 'DRIBBLE_RIGHT'): 0.08119458496024853, (2, ((0, 1), (2, 2)), 'DRIBBLE_UP'): 0.21322671822159717, (19, ((3, 4), (2, 2)), 'KICK'): 0.0, (2, 'OUT_OF_BOUNDS', 'DRIBBLE_DOWN'): 0.0, (8, ((0, 3), (2, 2)), 'DRIBBLE_UP'): 0.0, (2, ((1, 2), (2, 2)), 'DRIBBLE_RIGHT'): 0.17959674403803189, (2, ((0, 3), (2, 2)), 'DRIBBLE_LEFT'): 0.3591931171811579, (10, ((2, 2), (2, 2)), 'DRIBBLE_DOWN'): 0.0, (14, ((4, 2), (2, 2)), 'DRIBBLE_UP'): 0.0, (3, ((0, 1), (2, 2)), 'DRIBBLE_RIGHT'): 0.26599750460298655, (8, ((0, 5), (2, 2)), 'KICK'): 0.0, (10, ((3, 4), (2, 2)), 'DRIBBLE_LEFT'): 0.0, (8, ((2, 2), (2, 2)), 'DRIBBLE_RIGHT'): 0.0, (12, ((2, 1), (2, 2)), 'DRIBBLE_RIGHT'): 0.0, (7, ((1, 0), (2, 2)), 'DRIBBLE_UP'): 0.0, (5, ((2, 3), (2, 2)), 'DRIBBLE_DOWN'): 0.18678402872842548, (8, ((2, 0), (2, 2)), 'DRIBBLE_UP'): 0.0, (8, ((4, 5), (2, 2)), 'DRIBBLE_UP'): 0.0, (6, ((1, 0), (2, 2)), 'DRIBBLE_RIGHT'): 0.0, (5, ((2, 4), (2, 2)), 'DRIBBLE_DOWN'): 0.14422539491910003, (4, ((1, 0), (2, 2)), 'KICK'): 0.15389999999999998, (4, ((1, 2), (2, 2)), 'DRIBBLE_UP'): 0.04766440288475666, (8, 'OUT_OF_BOUNDS', 'DRIBBLE_LEFT'): 0.0, (11, ((1, 3), (2, 2)), 'DRIBBLE_RIGHT'): 0.0, (11, ((0, 4), (2, 2)), 'DRIBBLE_UP'): 0.0, (9, ((0, 2), (2, 2)), 'KICK'): 0.0, (10, ((0, 2), (2, 2)), 'KICK'): 0.0, (11, ((4, 1), (2, 2)), 'DRIBBLE_DOWN'): 0.0, (5, ((0, 2), (2, 2)), 'DRIBBLE_DOWN'): 0.3087067224636361, (4, ((0, 5), (2, 2)), 'DRIBBLE_LEFT'): 0.08813594790000001, (6, 'OUT_OF_BOUNDS', 'DRIBBLE_LEFT'): 0.0, (10, ((2, 2), (2, 2)), 'DRIBBLE_LEFT'): 0.0, (3, ((2, 2), (2, 2)), 'DRIBBLE_DOWN'): 0.45310092518923767, (12, ((0, 2), (2, 2)), 'DRIBBLE_UP'): 0.0, (7, ((1, 1), (2, 2)), 'DRIBBLE_RIGHT'): 0.0, (8, ((1, 5), (2, 2)), 'DRIBBLE_DOWN'): 0.0, (2, ((1, 2), (2, 2)), 'KICK'): 0.3779417064976498, (5, ((1, 4), (2, 2)), 'KICK'): 0.0, (18, ((4, 4), (2, 2)), 'DRIBBLE_LEFT'): 0.0, (10, ((0, 0), (2, 2)), 'DRIBBLE_RIGHT'): 0.0, (13, 'OUT_OF_BOUNDS', 'DRIBBLE_RIGHT'): 0.0, (8, ((4, 2), (2, 2)), 'DRIBBLE_DOWN'): 0.0, (21, ((1, 4), (2, 2)), 'DRIBBLE_RIGHT'): 0.0, (6, ((2, 2), (2, 2)), 'DRIBBLE_DOWN'): 0.0, (6, ((3, 0), (2, 2)), 'DRIBBLE_UP'): 0.0, (7, 'OUT_OF_BOUNDS', 'KICK'): 0.0, (17, 'OUT_OF_BOUNDS', 'DRIBBLE_LEFT'): 0.0, (13, ((2, 1), (2, 2)), 'DRIBBLE_RIGHT'): 0.0, (7, ((3, 5), (2, 2)), 'DRIBBLE_LEFT'): 0.0, (6, ((0, 1), (2, 2)), 'KICK'): 0.050589904542643484, (11, ((0, 5), (2, 2)), 'DRIBBLE_UP'): 0.0, (6, ((2, 3), (2, 2)), 'DRIBBLE_RIGHT'): 0.06256160670026678, (4, ((0, 4), (2, 2)), 'DRIBBLE_RIGHT'): 0.007683883637173164, (18, ((4, 3), (2, 2)), 'DRIBBLE_RIGHT'): 0.0, (5, ((3, 3), (2, 2)), 'DRIBBLE_DOWN'): 0.05821883100000001, (13, ((1, 3), (2, 2)), 'KICK'): 0.0, (12, ((2, 5), (2, 2)), 'DRIBBLE_LEFT'): 0.0, (6, 'GOAL', 'DRIBBLE_RIGHT'): 0.0, (6, ((4, 1), (2, 2)), 'DRIBBLE_UP'): 0.0, (12, ((2, 3), (2, 2)), 'DRIBBLE_DOWN'): 0.0, (6, 'OUT_OF_BOUNDS', 'DRIBBLE_RIGHT'): 0.0, (9, ((4, 1), (2, 2)), 'KICK'): 0.0, (3, ((1, 2), (2, 2)), 'KICK'): 0.2609686274306143, (9, ((1, 5), (2, 2)), 'KICK'): 0.0, (12, ((3, 3), (2, 2)), 'DRIBBLE_LEFT'): 0.0, (13, ((1, 2), (2, 2)), 'DRIBBLE_DOWN'): 0.0, (11, ((3, 3), (2, 2)), 'KICK'): 0.34390000000000004, (14, ((0, 2), (2, 2)), 'DRIBBLE_RIGHT'): 0.0, (13, ((1, 0), (2, 2)), 'DRIBBLE_UP'): 0.0, (4, ((1, 4), (2, 2)), 'DRIBBLE_LEFT'): 0.13171385494166685, (9, ((1, 4), (2, 2)), 'DRIBBLE_RIGHT'): 0.048080241, (9, ((3, 0), (2, 2)), 'KICK'): 0.19, (8, ((0, 4), (2, 2)), 'DRIBBLE_UP'): 0.0, (16, ((3, 3), (2, 2)), 'KICK'): 0.0, (7, ((1, 2), (2, 2)), 'DRIBBLE_UP'): 0.01881, (12, ((1, 3), (2, 2)), 'DRIBBLE_UP'): -0.003960000000000001, (6, ((2, 4), (2, 2)), 'KICK'): 0.1468613425812849, (11, ((0, 1), (2, 2)), 'DRIBBLE_UP'): 0.0, (6, ((2, 3), (2, 2)), 'DRIBBLE_LEFT'): 0.0, (3, ((0, 1), (2, 2)), 'DRIBBLE_LEFT'): 0.09136026313670392, (11, ((0, 1), (2, 2)), 'DRIBBLE_RIGHT'): 0.0, (5, ((1, 2), (2, 2)), 'DRIBBLE_RIGHT'): -0.10840000000000002, (2, ((0, 3), (2, 2)), 'KICK'): 0.004282152784399805, (3, ((1, 2), (2, 2)), 'DRIBBLE_UP'): 0.0, (9, ((2, 4), (2, 2)), 'DRIBBLE_DOWN'): 0.0, (7, ((1, 2), (2, 2)), 'DRIBBLE_LEFT'): 0.0, (17, ((1, 2), (2, 2)), 'DRIBBLE_RIGHT'): -0.04000000000000001, (7, ((0, 5), (2, 2)), 'DRIBBLE_LEFT'): 0.0, (10, ((1, 2), (2, 2)), 'KICK'): 0.0, (9, 'GOAL', 'DRIBBLE_LEFT'): 0.0, (12, ((2, 4), (2, 2)), 'KICK'): 0.0, (11, ((3, 5), (2, 2)), 'KICK'): 0.0, (11, 'OUT_OF_BOUNDS', 'DRIBBLE_DOWN'): 0.0, (14, ((2, 4), (2, 2)), 'KICK'): 0.19, (15, ((1, 2), (2, 2)), 'KICK'): 0.0, (4, ((0, 5), (2, 2)), 'DRIBBLE_RIGHT'): 0.037600097064515725, (9, ((1, 5), (2, 2)), 'DRIBBLE_UP'): 0.0, (8, ((2, 2), (2, 2)), 'DRIBBLE_DOWN'): 0.0, (8, ((3, 4), (2, 2)), 'DRIBBLE_LEFT'): 0.0, (22, 'GOAL', 'DRIBBLE_LEFT'): 0.0, (4, ((1, 3), (2, 2)), 'DRIBBLE_LEFT'): 0.028777628684712005, (7, 'GOAL', 'DRIBBLE_RIGHT'): 0.0, (6, ((3, 2), (2, 2)), 'DRIBBLE_DOWN'): 0.35435264599080013, (6, ((0, 0), (2, 2)), 'KICK'): 0.0, (6, ((2, 5), (2, 2)), 'DRIBBLE_DOWN'): 0.0, (6, ((3, 3), (2, 2)), 'DRIBBLE_UP'): 0.0, (7, ((4, 1), (2, 2)), 'DRIBBLE_LEFT'): 0.01881, (10, ((3, 1), (2, 2)), 'KICK'): 0.15389999999999998, (10, ((4, 5), (2, 2)), 'DRIBBLE_LEFT'): 0.0, (13, 'OUT_OF_BOUNDS', 'DRIBBLE_DOWN'): 0.0, (21, ((1, 2), (2, 2)), 'DRIBBLE_DOWN'): 0.0, (8, ((1, 0), (2, 2)), 'DRIBBLE_LEFT'): 0.0, (7, ((1, 5), (2, 2)), 'DRIBBLE_DOWN'): 0.0, (9, ((2, 2), (2, 2)), 'DRIBBLE_LEFT'): 0.0, (6, ((0, 2), (2, 2)), 'DRIBBLE_RIGHT'): 0.07776343247830692, (9, ((1, 2), (2, 2)), 'DRIBBLE_UP'): -0.036000000000000004, (13, ((0, 5), (2, 2)), 'DRIBBLE_DOWN'): 0.0, (14, ((0, 3), (2, 2)), 'DRIBBLE_UP'): 0.0, (4, ((0, 3), (2, 2)), 'DRIBBLE_UP'): 0.27658784360731337, (13, ((0, 3), (2, 2)), 'KICK'): 0.0, (9, ((1, 1), (2, 2)), 'DRIBBLE_DOWN'): 0.0, (5, ((0, 2), (2, 2)), 'KICK'): 0.0, (8, ((4, 1), (2, 2)), 'DRIBBLE_LEFT'): 0.0, (3, ((1, 1), (2, 2)), 'DRIBBLE_RIGHT'): 0.3465282283283855, (9, ((4, 2), (2, 2)), 'DRIBBLE_DOWN'): 0.0, (6, ((1, 1), (2, 2)), 'DRIBBLE_LEFT'): 4.781846937780001e-05, (20, ((1, 1), (2, 2)), 'DRIBBLE_UP'): 0.0, (12, ((3, 0), (2, 2)), 'DRIBBLE_LEFT'): 0.0, (6, ((0, 0), (2, 2)), 'DRIBBLE_LEFT'): 0.0, (9, ((3, 0), (2, 2)), 'DRIBBLE_DOWN'): 0.0, (4, ((1, 1), (2, 2)), 'DRIBBLE_UP'): 0.0, (12, ((2, 0), (2, 2)), 'DRIBBLE_DOWN'): 0.0, (17, ((2, 1), (2, 2)), 'DRIBBLE_DOWN'): 0.0, (6, ((1, 4), (2, 2)), 'KICK'): 0.0, (14, ((0, 1), (2, 2)), 'DRIBBLE_DOWN'): 0.0, (9, ((4, 1), (2, 2)), 'DRIBBLE_LEFT'): 0.01881, (6, ((1, 1), (2, 2)), 'DRIBBLE_DOWN'): 0.09760386566463454, (8, ((3, 5), (2, 2)), 'DRIBBLE_UP'): 0.0, (10, ((1, 1), (2, 2)), 'KICK'): 0.19, (7, ((0, 5), (2, 2)), 'DRIBBLE_DOWN'): 0.0, (9, 'OUT_OF_BOUNDS', 'KICK'): 0.0, (12, 'OUT_OF_BOUNDS', 'DRIBBLE_UP'): 0.0, (6, ((1, 3), (2, 2)), 'DRIBBLE_RIGHT'): 0.20839093395050318, (11, ((0, 4), (2, 2)), 'DRIBBLE_RIGHT'): 0.0, (25, ((2, 1), (2, 2)), 'DRIBBLE_UP'): 0.0, (4, ((0, 2), (2, 2)), 'DRIBBLE_DOWN'): 0.27866290398499405, (10, ((0, 1), (2, 2)), 'KICK'): 0.19, (8, ((3, 3), (2, 2)), 'DRIBBLE_DOWN'): 0.0, (15, ((3, 1), (2, 2)), 'KICK'): 0.0, (9, ((4, 1), (2, 2)), 'DRIBBLE_DOWN'): 0.0, (3, ((1, 2), (2, 2)), 'DRIBBLE_DOWN'): 0.2797326131674198, (26, ((2, 2), (2, 2)), 'KICK'): 0.0, (3, ((0, 2), (2, 2)), 'DRIBBLE_LEFT'): 0.11563461832079444, (5, ((1, 0), (2, 2)), 'DRIBBLE_UP'): 0.00048467405349, (7, ((1, 5), (2, 2)), 'DRIBBLE_UP'): 0.0, (5, ((0, 0), (2, 2)), 'DRIBBLE_RIGHT'): 0.00066857753009421, (8, ((3, 1), (2, 2)), 'KICK'): 0.0, (11, ((0, 2), (2, 2)), 'DRIBBLE_DOWN'): 0.0, (3, ((0, 3), (2, 2)), 'KICK'): 0.059576940140421, (10, ((1, 5), (2, 2)), 'DRIBBLE_LEFT'): 0.0, (9, ((0, 0), (2, 2)), 'DRIBBLE_LEFT'): 0.0, (9, ((4, 4), (2, 2)), 'DRIBBLE_UP'): 0.0, (6, ((1, 2), (2, 2)), 'KICK'): 0.09041058536603937, (9, ((0, 3), (2, 2)), 'DRIBBLE_UP'): 0.0, (4, 'OUT_OF_BOUNDS', 'DRIBBLE_RIGHT'): 0.0, (4, ((1, 3), (2, 2)), 'DRIBBLE_UP'): 0.07385689906905052, (10, ((0, 5), (2, 2)), 'DRIBBLE_RIGHT'): 0.0, (12, ((4, 2), (2, 2)), 'DRIBBLE_DOWN'): 0.0, (10, 'OUT_OF_BOUNDS', 'DRIBBLE_LEFT'): 0.0, (11, ((2, 1), (2, 2)), 'DRIBBLE_LEFT'): 0.0, (6, ((1, 1), (2, 2)), 'DRIBBLE_RIGHT'): 0.01640773788370035, (3, ((0, 0), (2, 2)), 'KICK'): 0.0028083677588725707, (3, ((0, 0), (2, 2)), 'DRIBBLE_LEFT'): 0.19099449480480052, (5, ((2, 0), (2, 2)), 'DRIBBLE_RIGHT'): 0.00844072277761491, (4, ((2, 1), (2, 2)), 'DRIBBLE_RIGHT'): 0.3467166225401922, (7, ((1, 4), (2, 2)), 'KICK'): 0.0, (11, ((1, 0), (2, 2)), 'DRIBBLE_RIGHT'): 0.0, (4, 'OUT_OF_BOUNDS', 'DRIBBLE_LEFT'): 0.0, (8, ((3, 5), (2, 2)), 'DRIBBLE_DOWN'): 0.0, (5, ((2, 3), (2, 2)), 'DRIBBLE_RIGHT'): -0.024763900000000005, (3, ((0, 3), (2, 2)), 'DRIBBLE_UP'): 0.2567057793033743, (7, ((1, 2), (2, 2)), 'KICK'): 0.007945048483489547, (8, ((1, 0), (2, 2)), 'DRIBBLE_DOWN'): 0.0, (4, ((1, 1), (2, 2)), 'DRIBBLE_DOWN'): 0.04693146760580934, (10, ((1, 4), (2, 2)), 'DRIBBLE_RIGHT'): 0.0, (2, ((1, 2), (2, 2)), 'DRIBBLE_UP'): 0.34834955654306593, (15, ((1, 2), (2, 2)), 'DRIBBLE_UP'): 0.0, (10, ((0, 5), (2, 2)), 'DRIBBLE_LEFT'): 0.0, (6, ((0, 1), (2, 2)), 'DRIBBLE_RIGHT'): 0.0087254588421, (10, ((1, 4), (2, 2)), 'DRIBBLE_UP'): 0.015236099999999997, (5, ((1, 3), (2, 2)), 'DRIBBLE_RIGHT'): 0.36390453979423754, (5, ((1, 3), (2, 2)), 'DRIBBLE_LEFT'): 0.0, (10, ((2, 1), (2, 2)), 'DRIBBLE_DOWN'): 0.0, (7, ((2, 4), (2, 2)), 'DRIBBLE_UP'): 0.0, (11, ((1, 5), (2, 2)), 'DRIBBLE_DOWN'): 0.0, (5, ((1, 5), (2, 2)), 'DRIBBLE_LEFT'): 0.023114151373320308, (15, ((1, 4), (2, 2)), 'DRIBBLE_UP'): 0.01881, (6, ((1, 0), (2, 2)), 'KICK'): 0.0, (24, ((3, 1), (2, 2)), 'DRIBBLE_DOWN'): 0.0, (6, 'OUT_OF_BOUNDS', 'KICK'): 0.0, (7, ((3, 1), (2, 2)), 'KICK'): 0.0, (7, ((4, 1), (2, 2)), 'DRIBBLE_UP'): 0.0, (8, 'GOAL', 'DRIBBLE_RIGHT'): 0.0, (10, ((2, 1), (2, 2)), 'DRIBBLE_LEFT'): 0.0, (4, ((0, 3), (2, 2)), 'DRIBBLE_RIGHT'): 0.3846523029916815, (5, ((1, 4), (2, 2)), 'DRIBBLE_DOWN'): 0.0, (2, 'GOAL', 'KICK'): 0.0, (4, ((3, 2), (2, 2)), 'DRIBBLE_UP'): 0.1390960262508769, (3, ((0, 2), (2, 2)), 'DRIBBLE_DOWN'): 0.34342425957831035, (18, ((4, 4), (2, 2)), 'KICK'): 0.0, (8, 'GOAL', 'DRIBBLE_UP'): 0.0, (7, ((2, 3), (2, 2)), 'DRIBBLE_UP'): -0.026809843289457104, (7, ((0, 3), (2, 2)), 'DRIBBLE_LEFT'): 0.0, (9, ((1, 1), (2, 2)), 'KICK'): 0.0, (5, ((2, 2), (2, 2)), 'DRIBBLE_LEFT'): 0.006929389744933988, (7, ((3, 3), (2, 2)), 'DRIBBLE_RIGHT'): 0.01881, (6, ((0, 3), (2, 2)), 'KICK'): 0.34390000000000004, (8, ((2, 4), (2, 2)), 'DRIBBLE_DOWN'): 0.0, (8, ((2, 1), (2, 2)), 'KICK'): 0.15389999999999998, (5, 'OUT_OF_BOUNDS', 'DRIBBLE_RIGHT'): 0.0, (6, ((3, 3), (2, 2)), 'KICK'): 0.15389999999999998, (18, 'OUT_OF_BOUNDS', 'DRIBBLE_RIGHT'): 0.0, (6, ((1, 3), (2, 2)), 'KICK'): 0.15534068443375143, (14, ((0, 1), (2, 2)), 'KICK'): 0.0, (5, ((0, 5), (2, 2)), 'DRIBBLE_LEFT'): 0.035942931380379274, (23, ((2, 1), (2, 2)), 'DRIBBLE_RIGHT'): 0.0, (5, ((2, 0), (2, 2)), 'DRIBBLE_DOWN'): 0.05543276404970267, (13, ((1, 2), (2, 2)), 'KICK'): 0.0, (8, ((2, 4), (2, 2)), 'KICK'): 0.3713316797741365, (5, 'GOAL', 'DRIBBLE_LEFT'): 0.0, (9, ((3, 3), (2, 2)), 'KICK'): 0.34390000000000004, (9, ((1, 2), (2, 2)), 'DRIBBLE_DOWN'): 0.0, (12, ((0, 2), (2, 2)), 'KICK'): 0.19, (12, ((3, 5), (2, 2)), 'KICK'): 0.0, (8, ((0, 2), (2, 2)), 'DRIBBLE_UP'): 0.0, (14, ((4, 4), (2, 2)), 'DRIBBLE_RIGHT'): 0.0, (15, ((0, 5), (2, 2)), 'DRIBBLE_UP'): 0.0, (8, ((3, 3), (2, 2)), 'KICK'): 0.34390000000000004, (15, ((4, 4), (2, 2)), 'DRIBBLE_DOWN'): 0.0, (5, ((1, 1), (2, 2)), 'DRIBBLE_UP'): 0.044172082970814715, (6, ((4, 3), (2, 2)), 'DRIBBLE_UP'): 0.16952247090900002, (6, ((2, 1), (2, 2)), 'DRIBBLE_RIGHT'): 0.0, (7, ((4, 0), (2, 2)), 'DRIBBLE_DOWN'): 0.0, (5, ((0, 3), (2, 2)), 'DRIBBLE_UP'): 0.07618634182900255, (14, ((1, 0), (2, 2)), 'KICK'): 0.0, (6, ((2, 2), (2, 2)), 'KICK'): 0.3964477699000001, (7, ((0, 1), (2, 2)), 'DRIBBLE_LEFT'): 0.0, (7, ((0, 2), (2, 2)), 'KICK'): 0.0, (19, 'GOAL', 'KICK'): 0.0, (5, ((1, 2), (2, 2)), 'KICK'): 0.023607277904578408, (7, ((2, 5), (2, 2)), 'KICK'): 0.0, (13, ((3, 2), (2, 2)), 'DRIBBLE_UP'): 0.0, (11, ((2, 1), (2, 2)), 'DRIBBLE_RIGHT'): 0.0, (10, ((0, 3), (2, 2)), 'KICK'): 0.0, (5, ((0, 4), (2, 2)), 'DRIBBLE_DOWN'): 0.0, (15, ((2, 3), (2, 2)), 'DRIBBLE_RIGHT'): 0.0, (11, ((2, 4), (2, 2)), 'DRIBBLE_RIGHT'): 0.0, (6, ((0, 0), (2, 2)), 'DRIBBLE_RIGHT'): 0.01881, (9, ((0, 1), (2, 2)), 'DRIBBLE_RIGHT'): 0.0, (9, 'GOAL', 'DRIBBLE_RIGHT'): 0.0, (3, ((1, 3), (2, 2)), 'KICK'): 0.18748896194612594, (5, ((0, 2), (2, 2)), 'DRIBBLE_RIGHT'): 0.20469183984685824, (7, ((0, 4), (2, 2)), 'DRIBBLE_LEFT'): 0.0, (4, ((0, 1), (2, 2)), 'KICK'): 0.004580751052669958, (4, ((2, 2), (2, 2)), 'DRIBBLE_DOWN'): 0.0, (5, ((1, 5), (2, 2)), 'DRIBBLE_DOWN'): 0.0, (9, ((2, 4), (2, 2)), 'DRIBBLE_UP'): 0.0, (19, ((3, 2), (2, 2)), 'DRIBBLE_LEFT'): -0.04000000000000001, (9, ((2, 4), (2, 2)), 'DRIBBLE_LEFT'): 0.0, (3, 'GOAL', 'DRIBBLE_UP'): 0.0, (19, 'OUT_OF_BOUNDS', 'DRIBBLE_UP'): 0.0, (1, ((0, 2), (2, 2)), 'DRIBBLE_UP'): 0.295925055923409, (4, ((2, 3), (2, 2)), 'KICK'): 0.46468772039765743, (7, ((1, 2), (2, 2)), 'DRIBBLE_DOWN'): 0.005234169723057, (8, ((1, 4), (2, 2)), 'DRIBBLE_DOWN'): 0.0, (16, ((0, 1), (2, 2)), 'DRIBBLE_DOWN'): 0.0, (10, 'OUT_OF_BOUNDS', 'DRIBBLE_RIGHT'): 0.0, (7, ((0, 4), (2, 2)), 'KICK'): 0.0, (12, 'OUT_OF_BOUNDS', 'KICK'): 0.0, (10, ((2, 3), (2, 2)), 'KICK'): 0.0, (12, ((3, 0), (2, 2)), 'KICK'): 0.0, (9, ((0, 3), (2, 2)), 'DRIBBLE_RIGHT'): 0.0, (12, 'GOAL', 'KICK'): 0.0, (11, ((0, 0), (2, 2)), 'DRIBBLE_LEFT'): 0.0, (3, ((0, 4), (2, 2)), 'KICK'): 0.0020022685868880206, (14, ((4, 5), (2, 2)), 'DRIBBLE_RIGHT'): 0.0, (13, ((4, 4), (2, 2)), 'DRIBBLE_RIGHT'): 0.0, (14, ((2, 4), (2, 2)), 'DRIBBLE_LEFT'): 0.0, (6, ((3, 4), (2, 2)), 'DRIBBLE_DOWN'): 0.0, (13, ((2, 0), (2, 2)), 'DRIBBLE_LEFT'): 0.0, (6, ((0, 2), (2, 2)), 'KICK'): 0.0, (6, ((1, 2), (2, 2)), 'DRIBBLE_DOWN'): 0.18673832637457455, (11, ((0, 1), (2, 2)), 'DRIBBLE_LEFT'): 0.0, (15, ((3, 1), (2, 2)), 'DRIBBLE_RIGHT'): 0.0, (8, ((4, 1), (2, 2)), 'DRIBBLE_UP'): 0.0, (6, ((2, 2), (2, 2)), 'DRIBBLE_LEFT'): 0.0, (8, ((1, 4), (2, 2)), 'DRIBBLE_UP'): 0.0, (5, ((2, 3), (2, 2)), 'DRIBBLE_UP'): -0.041248759, (4, ((1, 2), (2, 2)), 'DRIBBLE_LEFT'): 0.0064090807011, (8, 'OUT_OF_BOUNDS', 'DRIBBLE_UP'): 0.0, (6, ((0, 5), (2, 2)), 'DRIBBLE_LEFT'): 0.0, (5, ((1, 2), (2, 2)), 'DRIBBLE_UP'): 0.013213033349318592, (7, ((0, 5), (2, 2)), 'DRIBBLE_RIGHT'): 0.0, (7, ((3, 2), (2, 2)), 'DRIBBLE_LEFT'): 0.0, (16, 'OUT_OF_BOUNDS', 'DRIBBLE_DOWN'): 0.0, (9, ((1, 5), (2, 2)), 'DRIBBLE_RIGHT'): 0.0, (9, ((3, 1), (2, 2)), 'KICK'): 0.0, (9, ((1, 0), (2, 2)), 'DRIBBLE_DOWN'): 0.063316341, (4, ((2, 3), (2, 2)), 'DRIBBLE_LEFT'): 0.20358419296997265, (7, ((2, 3), (2, 2)), 'DRIBBLE_LEFT'): 0.0, (6, ((2, 4), (2, 2)), 'DRIBBLE_DOWN'): 0.0, (13, ((2, 5), (2, 2)), 'DRIBBLE_LEFT'): 0.0, (7, ((1, 3), (2, 2)), 'DRIBBLE_RIGHT'): 0.36595524807505797, (13, ((1, 4), (2, 2)), 'KICK'): 0.19, (9, ((2, 2), (2, 2)), 'DRIBBLE_UP'): 0.0, (7, ((0, 3), (2, 2)), 'KICK'): 0.010156490313476279, (6, ((2, 5), (2, 2)), 'DRIBBLE_UP'): 0.0080970882201, (12, ((0, 1), (2, 2)), 'KICK'): 0.0, (7, ((3, 5), (2, 2)), 'DRIBBLE_UP'): 0.01881, (8, ((1, 3), (2, 2)), 'DRIBBLE_LEFT'): 0.0, (7, ((1, 0), (2, 2)), 'DRIBBLE_LEFT'): 0.0, (8, ((0, 1), (2, 2)), 'DRIBBLE_UP'): 0.0, (14, ((4, 4), (2, 2)), 'DRIBBLE_DOWN'): 0.0, (1, ((0, 2), (2, 2)), 'DRIBBLE_LEFT'): 0.314183671230008, (4, ((0, 5), (2, 2)), 'DRIBBLE_DOWN'): 0.08751433338772927, (8, ((1, 1), (2, 2)), 'DRIBBLE_DOWN'): 0.021532260618000003, (20, ((2, 4), (2, 2)), 'DRIBBLE_LEFT'): 0.0, (10, ((1, 0), (2, 2)), 'KICK'): 0.0, (14, 'OUT_OF_BOUNDS', 'DRIBBLE_DOWN'): 0.0, (7, ((1, 0), (2, 2)), 'DRIBBLE_DOWN'): 0.061792731000000004, (12, ((3, 3), (2, 2)), 'DRIBBLE_UP'): 0.0, (15, ((4, 4), (2, 2)), 'KICK'): 0.19, (6, ((4, 1), (2, 2)), 'DRIBBLE_RIGHT'): 0.0, (9, ((1, 0), (2, 2)), 'DRIBBLE_UP'): 0.0, (6, ((1, 5), (2, 2)), 'KICK'): 0.0, (13, ((4, 3), (2, 2)), 'DRIBBLE_RIGHT'): 0.0, (12, ((0, 0), (2, 2)), 'DRIBBLE_LEFT'): 0.0, (8, ((1, 3), (2, 2)), 'KICK'): 0.0, (7, ((3, 1), (2, 2)), 'DRIBBLE_RIGHT'): 0.01881, (13, 'OUT_OF_BOUNDS', 'DRIBBLE_LEFT'): 0.0, (10, ((0, 0), (2, 2)), 'DRIBBLE_LEFT'): 0.0, (6, ((2, 3), (2, 2)), 'DRIBBLE_UP'): -0.04000000000000001, (3, ((0, 1), (2, 2)), 'DRIBBLE_UP'): 0.08869401272381584, (14, ((2, 2), (2, 2)), 'DRIBBLE_DOWN'): 0.0, (8, ((0, 1), (2, 2)), 'DRIBBLE_RIGHT'): 0.0, (13, ((2, 1), (2, 2)), 'DRIBBLE_UP'): 0.0, (15, ((2, 3), (2, 2)), 'KICK'): 0.0, (11, ((1, 3), (2, 2)), 'DRIBBLE_DOWN'): 0.0, (6, ((0, 3), (2, 2)), 'DRIBBLE_RIGHT'): 0.3143991804197327, (21, 'OUT_OF_BOUNDS', 'DRIBBLE_UP'): 0.0, (6, ((1, 0), (2, 2)), 'DRIBBLE_UP'): 0.0, (9, ((2, 2), (2, 2)), 'KICK'): 0.2862349011840009, (7, ((4, 2), (2, 2)), 'DRIBBLE_LEFT'): 0.0509751, (16, ((1, 1), (2, 2)), 'DRIBBLE_LEFT'): 0.0, (4, ((1, 3), (2, 2)), 'KICK'): 0.27439655034196686, (7, ((0, 5), (2, 2)), 'DRIBBLE_UP'): 0.0, (7, ((3, 3), (2, 2)), 'DRIBBLE_UP'): 0.0, (10, ((1, 4), (2, 2)), 'KICK'): 0.0, (8, ((1, 2), (2, 2)), 'DRIBBLE_UP'): 0.0, (7, 'OUT_OF_BOUNDS', 'DRIBBLE_UP'): 0.0, (12, ((0, 2), (2, 2)), 'DRIBBLE_RIGHT'): 0.0, (8, ((0, 0), (2, 2)), 'DRIBBLE_RIGHT'): 0.0, (15, ((0, 1), (2, 2)), 'DRIBBLE_LEFT'): 0.0, (17, ((0, 4), (2, 2)), 'KICK'): 0.0, (15, ((0, 0), (2, 2)), 'KICK'): 0.0, (20, ((2, 2), (2, 2)), 'DRIBBLE_RIGHT'): 0.0, (10, ((2, 0), (2, 2)), 'DRIBBLE_RIGHT'): 0.0, (13, ((0, 5), (2, 2)), 'DRIBBLE_UP'): 0.0, (2, 'GOAL', 'DRIBBLE_DOWN'): 0.0, (7, ((2, 3), (2, 2)), 'DRIBBLE_RIGHT'): -0.04000000000000001, (3, ((0, 2), (2, 2)), 'KICK'): 0.003092824539193788, (6, ((2, 3), (2, 2)), 'DRIBBLE_DOWN'): 0.13380576170505756, (13, ((1, 3), (2, 2)), 'DRIBBLE_UP'): 0.0, (16, ((4, 5), (2, 2)), 'DRIBBLE_RIGHT'): 0.0, (5, ((0, 1), (2, 2)), 'DRIBBLE_LEFT'): 0.012341241, (14, 'OUT_OF_BOUNDS', 'DRIBBLE_LEFT'): 0.0, (21, ((1, 2), (2, 2)), 'KICK'): 0.19, (10, ((1, 1), (2, 2)), 'DRIBBLE_UP'): 0.0, (12, ((2, 1), (2, 2)), 'DRIBBLE_UP'): 0.0, (16, ((1, 3), (2, 2)), 'DRIBBLE_LEFT'): 0.0, (19, ((3, 2), (2, 2)), 'KICK'): 0.0, (10, ((0, 1), (2, 2)), 'DRIBBLE_RIGHT'): 0.0, (16, ((1, 4), (2, 2)), 'DRIBBLE_LEFT'): 0.0, (8, ((1, 0), (2, 2)), 'DRIBBLE_UP'): 0.0, (13, ((4, 2), (2, 2)), 'DRIBBLE_LEFT'): 0.0, (10, 'GOAL', 'KICK'): 0.0, (14, ((0, 0), (2, 2)), 'DRIBBLE_DOWN'): 0.0, (13, ((1, 2), (2, 2)), 'DRIBBLE_RIGHT'): -0.07600000000000001, (13, ((4, 1), (2, 2)), 'DRIBBLE_DOWN'): 0.0, (15, ((2, 1), (2, 2)), 'KICK'): 0.0, (8, ((2, 1), (2, 2)), 'DRIBBLE_UP'): 0.0, (4, ((0, 0), (2, 2)), 'KICK'): 0.20730951069194578, (6, ((2, 1), (2, 2)), 'KICK'): 0.3886028836618074, (11, ((1, 3), (2, 2)), 'DRIBBLE_LEFT'): 0.0, (15, 'GOAL', 'DRIBBLE_UP'): 0.0, (12, ((0, 4), (2, 2)), 'DRIBBLE_RIGHT'): 0.0, (7, ((0, 1), (2, 2)), 'DRIBBLE_RIGHT'): 0.035739, (11, ((4, 3), (2, 2)), 'DRIBBLE_RIGHT'): 0.0, (9, ((2, 0), (2, 2)), 'DRIBBLE_DOWN'): 0.0, (18, 'OUT_OF_BOUNDS', 'KICK'): 0.0, (13, ((0, 4), (2, 2)), 'KICK'): 0.0, (2, ((0, 2), (2, 2)), 'DRIBBLE_UP'): 0.10859688735105238, (12, ((1, 5), (2, 2)), 'DRIBBLE_RIGHT'): 0.0, (7, ((2, 1), (2, 2)), 'DRIBBLE_LEFT'): 0.0, (6, ((2, 0), (2, 2)), 'DRIBBLE_RIGHT'): 0.0, (7, ((0, 0), (2, 2)), 'DRIBBLE_DOWN'): 0.08813594790000001, (18, ((2, 2), (2, 2)), 'DRIBBLE_RIGHT'): 0.0, (8, ((4, 2), (2, 2)), 'KICK'): 0.34390000000000004, (5, ((3, 3), (2, 2)), 'DRIBBLE_LEFT'): 0.11553108515401336, (14, ((1, 0), (2, 2)), 'DRIBBLE_DOWN'): 0.0, (9, ((2, 3), (2, 2)), 'DRIBBLE_RIGHT'): 0.0509751}"
   ]
  },
  {
   "cell_type": "code",
   "execution_count": 146,
   "metadata": {},
   "outputs": [
    {
     "data": {
      "text/plain": [
       "{(5, ((3, 3), (2, 2)), 'KICK'): 0.08178876989999999,\n",
       " (8, ((0, 1), (2, 2)), 'DRIBBLE_UP'): 0.0,\n",
       " (7, ((1, 2), (2, 2)), 'DRIBBLE_DOWN'): 0.005234169723057,\n",
       " (12, ((4, 3), (2, 2)), 'KICK'): 0.0,\n",
       " (18, 'OUT_OF_BOUNDS', 'DRIBBLE_DOWN'): 0.0,\n",
       " (5, ((1, 5), (2, 2)), 'DRIBBLE_RIGHT'): 0.08483640923434477,\n",
       " (4, ((2, 3), (2, 2)), 'DRIBBLE_LEFT'): 0.20358419296997265,\n",
       " (5, ((0, 1), (2, 2)), 'DRIBBLE_LEFT'): 0.012341241,\n",
       " (13, ((1, 2), (2, 2)), 'DRIBBLE_DOWN'): 0.0,\n",
       " (6, ((4, 3), (2, 2)), 'DRIBBLE_LEFT'): 0.1364114732898568,\n",
       " (8, ((1, 0), (2, 2)), 'DRIBBLE_DOWN'): 0.0,\n",
       " (13, ((1, 4), (2, 2)), 'KICK'): 0.19,\n",
       " (10, ((2, 1), (2, 2)), 'KICK'): 0.0,\n",
       " (15, ((1, 4), (2, 2)), 'DRIBBLE_UP'): 0.01881,\n",
       " (9, ((0, 0), (2, 2)), 'DRIBBLE_RIGHT'): 0.0,\n",
       " (13, ((0, 0), (2, 2)), 'DRIBBLE_LEFT'): 0.0,\n",
       " (17, ((0, 1), (2, 2)), 'DRIBBLE_DOWN'): 0.0,\n",
       " (8, ((1, 2), (2, 2)), 'DRIBBLE_LEFT'): 0.0,\n",
       " (15, ((1, 2), (2, 2)), 'DRIBBLE_UP'): 0.0,\n",
       " (13, ((0, 5), (2, 2)), 'DRIBBLE_UP'): 0.0,\n",
       " (5, ((0, 1), (2, 2)), 'DRIBBLE_UP'): 0.0,\n",
       " (16, ((1, 1), (2, 2)), 'DRIBBLE_LEFT'): 0.0,\n",
       " (9, ((3, 4), (2, 2)), 'KICK'): 0.0,\n",
       " (16, ((0, 1), (2, 2)), 'DRIBBLE_DOWN'): 0.0,\n",
       " (4, ((2, 2), (2, 2)), 'DRIBBLE_DOWN'): 0.0,\n",
       " (5, ((1, 5), (2, 2)), 'DRIBBLE_DOWN'): 0.0,\n",
       " (17, ((4, 4), (2, 2)), 'KICK'): 0.0,\n",
       " (6, ((4, 1), (2, 2)), 'DRIBBLE_LEFT'): 0.037313242758000006,\n",
       " (2, 'OUT_OF_BOUNDS', 'DRIBBLE_RIGHT'): 0.0,\n",
       " (21, ((1, 2), (2, 2)), 'KICK'): 0.19,\n",
       " (16, ((1, 4), (2, 2)), 'KICK'): 0.0,\n",
       " (10, ((0, 2), (2, 2)), 'DRIBBLE_RIGHT'): 0.0,\n",
       " (10, ((0, 3), (2, 2)), 'DRIBBLE_RIGHT'): 0.031151241000000003,\n",
       " (15, 'GOAL', 'DRIBBLE_UP'): 0.0,\n",
       " (8, 'GOAL', 'DRIBBLE_RIGHT'): 0.0,\n",
       " (4, ((0, 2), (2, 2)), 'DRIBBLE_RIGHT'): 0.18410169460535566,\n",
       " (7, ((1, 1), (2, 2)), 'DRIBBLE_LEFT'): 0.016929,\n",
       " (9, ((3, 3), (2, 2)), 'DRIBBLE_DOWN'): 0.0,\n",
       " (16, ((3, 3), (2, 2)), 'DRIBBLE_DOWN'): 0.0,\n",
       " (6, ((1, 4), (2, 2)), 'KICK'): 0.0,\n",
       " (11, ((1, 2), (2, 2)), 'DRIBBLE_DOWN'): -0.00039204000000000013,\n",
       " (5, ((2, 0), (2, 2)), 'DRIBBLE_RIGHT'): 0.00844072277761491,\n",
       " (8, ((1, 0), (2, 2)), 'DRIBBLE_LEFT'): 0.0,\n",
       " (5, 'GOAL', 'DRIBBLE_RIGHT'): 0.0,\n",
       " (9, ((3, 0), (2, 2)), 'DRIBBLE_DOWN'): 0.0,\n",
       " (8, ((0, 2), (2, 2)), 'DRIBBLE_LEFT'): 0.0,\n",
       " (2, ((1, 2), (2, 2)), 'DRIBBLE_RIGHT'): 0.17959674403803189,\n",
       " (9, ((1, 3), (2, 2)), 'DRIBBLE_RIGHT'): 0.001675971,\n",
       " (1, ((0, 2), (2, 2)), 'DRIBBLE_UP'): 0.295925055923409,\n",
       " (5, ((0, 0), (2, 2)), 'DRIBBLE_DOWN'): 0.16077966216928002,\n",
       " (6, ((4, 3), (2, 2)), 'DRIBBLE_RIGHT'): 0.03757374621000001,\n",
       " (7, ((1, 5), (2, 2)), 'DRIBBLE_UP'): 0.0,\n",
       " (9, ((2, 4), (2, 2)), 'DRIBBLE_UP'): 0.0,\n",
       " (14, ((4, 4), (2, 2)), 'DRIBBLE_RIGHT'): 0.0,\n",
       " (4, ((1, 1), (2, 2)), 'DRIBBLE_DOWN'): 0.04693146760580934,\n",
       " (2, ((0, 2), (2, 2)), 'DRIBBLE_LEFT'): 0.13816957359855978,\n",
       " (6, ((1, 5), (2, 2)), 'DRIBBLE_UP'): 0.0,\n",
       " (12, ((2, 4), (2, 2)), 'DRIBBLE_LEFT'): 0.0,\n",
       " (8, ((4, 0), (2, 2)), 'KICK'): 0.15389999999999998,\n",
       " (9, ((4, 4), (2, 2)), 'DRIBBLE_DOWN'): 0.0,\n",
       " (3, ((2, 2), (2, 2)), 'KICK'): 0.17287638559262047,\n",
       " (11, ((0, 0), (2, 2)), 'DRIBBLE_LEFT'): 0.0,\n",
       " (9, 'GOAL', 'KICK'): 0.0,\n",
       " (5, ((2, 2), (2, 2)), 'DRIBBLE_RIGHT'): 0.14169641423801488,\n",
       " (6, ((0, 1), (2, 2)), 'DRIBBLE_DOWN'): 0.0,\n",
       " (15, ((1, 0), (2, 2)), 'DRIBBLE_LEFT'): 0.0,\n",
       " (13, ((2, 0), (2, 2)), 'DRIBBLE_LEFT'): 0.0,\n",
       " (5, ((1, 4), (2, 2)), 'DRIBBLE_DOWN'): 0.0,\n",
       " (7, ((2, 2), (2, 2)), 'KICK'): 0.36034776990000006,\n",
       " (9, ((3, 4), (2, 2)), 'DRIBBLE_LEFT'): 0.0,\n",
       " (8, ((2, 3), (2, 2)), 'DRIBBLE_RIGHT'): 0.0,\n",
       " (6, ((1, 5), (2, 2)), 'KICK'): 0.0,\n",
       " (11, ((2, 1), (2, 2)), 'DRIBBLE_LEFT'): 0.0,\n",
       " (7, ((3, 4), (2, 2)), 'DRIBBLE_LEFT'): 0.0,\n",
       " (8, 'OUT_OF_BOUNDS', 'KICK'): 0.0,\n",
       " (6, ((3, 2), (2, 2)), 'DRIBBLE_DOWN'): 0.35435264599080013,\n",
       " (7, ((3, 3), (2, 2)), 'KICK'): 0.7117353920382122,\n",
       " (5, ((3, 1), (2, 2)), 'DRIBBLE_LEFT'): 0.09031568063728479,\n",
       " (4, ((0, 0), (2, 2)), 'DRIBBLE_LEFT'): 0.003431796614562877,\n",
       " (10, 'OUT_OF_BOUNDS', 'KICK'): 0.0,\n",
       " (7, ((4, 1), (2, 2)), 'DRIBBLE_DOWN'): 0.0,\n",
       " (3, ((0, 2), (2, 2)), 'DRIBBLE_DOWN'): 0.34342425957831035,\n",
       " (9, ((2, 1), (2, 2)), 'DRIBBLE_RIGHT'): 0.0,\n",
       " (13, ((4, 3), (2, 2)), 'DRIBBLE_RIGHT'): 0.0,\n",
       " (3, 'OUT_OF_BOUNDS', 'DRIBBLE_UP'): 0.0,\n",
       " (3, ((1, 2), (2, 2)), 'KICK'): 0.2609686274306143,\n",
       " (9, ((1, 2), (2, 2)), 'DRIBBLE_DOWN'): 0.0,\n",
       " (13, ((0, 0), (2, 2)), 'KICK'): 0.0,\n",
       " (12, ((0, 4), (2, 2)), 'DRIBBLE_RIGHT'): 0.0,\n",
       " (4, ((1, 0), (2, 2)), 'DRIBBLE_RIGHT'): 0.08895710342737914,\n",
       " (5, ((1, 3), (2, 2)), 'DRIBBLE_DOWN'): 0.03745261399891854,\n",
       " (7, ((0, 5), (2, 2)), 'DRIBBLE_DOWN'): 0.0,\n",
       " (6, ((4, 3), (2, 2)), 'KICK'): 0.19,\n",
       " (3, ((1, 2), (2, 2)), 'DRIBBLE_DOWN'): 0.2797326131674198,\n",
       " (18, ((4, 4), (2, 2)), 'DRIBBLE_LEFT'): 0.0,\n",
       " (6, ((1, 1), (2, 2)), 'DRIBBLE_DOWN'): 0.09760386566463454,\n",
       " (10, 'GOAL', 'KICK'): 0.0,\n",
       " (3, ((1, 1), (2, 2)), 'DRIBBLE_LEFT'): 0.2396025740361085,\n",
       " (23, ((2, 1), (2, 2)), 'DRIBBLE_DOWN'): 0.0,\n",
       " (10, ((1, 4), (2, 2)), 'DRIBBLE_DOWN'): 0.0,\n",
       " (4, ((0, 2), (2, 2)), 'DRIBBLE_DOWN'): 0.27866290398499405,\n",
       " (4, ((1, 0), (2, 2)), 'DRIBBLE_UP'): 0.05265915648002583,\n",
       " (9, ((1, 3), (2, 2)), 'DRIBBLE_LEFT'): 0.0,\n",
       " (11, ((0, 1), (2, 2)), 'DRIBBLE_UP'): 0.0,\n",
       " (3, ((1, 3), (2, 2)), 'DRIBBLE_DOWN'): 0.2143176516112548,\n",
       " (13, ((0, 4), (2, 2)), 'DRIBBLE_LEFT'): 0.0,\n",
       " (14, 'OUT_OF_BOUNDS', 'KICK'): 0.0,\n",
       " (4, 'GOAL', 'DRIBBLE_LEFT'): 0.0,\n",
       " (12, ((0, 3), (2, 2)), 'DRIBBLE_UP'): 0.0,\n",
       " (5, 'GOAL', 'KICK'): 0.0,\n",
       " (4, ((0, 3), (2, 2)), 'DRIBBLE_LEFT'): 0.10875701400068682,\n",
       " (15, 'OUT_OF_BOUNDS', 'DRIBBLE_UP'): 0.0,\n",
       " (9, ((3, 2), (2, 2)), 'KICK'): 0.19,\n",
       " (5, ((1, 5), (2, 2)), 'DRIBBLE_LEFT'): 0.023114151373320308,\n",
       " (8, ((3, 0), (2, 2)), 'DRIBBLE_DOWN'): 0.0,\n",
       " (15, ((1, 2), (2, 2)), 'DRIBBLE_RIGHT'): -0.04000000000000001,\n",
       " (15, ((2, 1), (2, 2)), 'DRIBBLE_LEFT'): 0.0,\n",
       " (6, ((2, 5), (2, 2)), 'DRIBBLE_UP'): 0.0080970882201,\n",
       " (8, ((3, 3), (2, 2)), 'KICK'): 0.34390000000000004,\n",
       " (10, ((2, 3), (2, 2)), 'DRIBBLE_DOWN'): -0.04000000000000001,\n",
       " (5, ((0, 3), (2, 2)), 'DRIBBLE_DOWN'): 0.0,\n",
       " (1, ((0, 2), (2, 2)), 'DRIBBLE_DOWN'): 0.36081217123583426,\n",
       " (7, ((4, 0), (2, 2)), 'DRIBBLE_DOWN'): 0.0,\n",
       " (7, ((2, 0), (2, 2)), 'KICK'): 0.2051556241846058,\n",
       " (3, ((2, 2), (2, 2)), 'DRIBBLE_DOWN'): 0.45310092518923767,\n",
       " (6, ((2, 0), (2, 2)), 'KICK'): 0.15389999999999998,\n",
       " (13, ((1, 3), (2, 2)), 'KICK'): 0.0,\n",
       " (6, ((0, 2), (2, 2)), 'KICK'): 0.0,\n",
       " (14, 'OUT_OF_BOUNDS', 'DRIBBLE_DOWN'): 0.0,\n",
       " (18, ((0, 2), (2, 2)), 'DRIBBLE_LEFT'): 0.0,\n",
       " (8, 'GOAL', 'DRIBBLE_LEFT'): 0.0,\n",
       " (16, ((1, 0), (2, 2)), 'DRIBBLE_UP'): 0.0,\n",
       " (7, ((2, 4), (2, 2)), 'DRIBBLE_UP'): 0.0,\n",
       " (9, ((4, 4), (2, 2)), 'DRIBBLE_UP'): 0.0,\n",
       " (11, ((4, 3), (2, 2)), 'KICK'): 0.0,\n",
       " (11, ((1, 1), (2, 2)), 'DRIBBLE_RIGHT'): 0.0,\n",
       " (11, ((0, 4), (2, 2)), 'DRIBBLE_RIGHT'): 0.0,\n",
       " (5, ((0, 5), (2, 2)), 'DRIBBLE_DOWN'): 0.0,\n",
       " (3, ((1, 1), (2, 2)), 'KICK'): 0.003125928101668868,\n",
       " (7, ((1, 2), (2, 2)), 'DRIBBLE_UP'): 0.01881,\n",
       " (7, ((4, 2), (2, 2)), 'DRIBBLE_RIGHT'): 0.0,\n",
       " (6, 'OUT_OF_BOUNDS', 'KICK'): 0.0,\n",
       " (2, ((1, 2), (2, 2)), 'DRIBBLE_UP'): 0.34834955654306593,\n",
       " (12, ((0, 0), (2, 2)), 'DRIBBLE_UP'): 0.0,\n",
       " (8, ((2, 3), (2, 2)), 'DRIBBLE_LEFT'): 0.0,\n",
       " (9, ((1, 0), (2, 2)), 'DRIBBLE_LEFT'): 0.0,\n",
       " (14, ((0, 4), (2, 2)), 'DRIBBLE_DOWN'): 0.0,\n",
       " (10, ((1, 0), (2, 2)), 'DRIBBLE_RIGHT'): 0.0,\n",
       " (12, ((2, 0), (2, 2)), 'DRIBBLE_DOWN'): 0.0,\n",
       " (8, ((0, 0), (2, 2)), 'DRIBBLE_DOWN'): 0.0,\n",
       " (11, ((1, 4), (2, 2)), 'DRIBBLE_LEFT'): 0.0,\n",
       " (16, ((0, 0), (2, 2)), 'KICK'): 0.0,\n",
       " (4, ((2, 3), (2, 2)), 'DRIBBLE_RIGHT'): 0.194960433050257,\n",
       " (4, ((3, 2), (2, 2)), 'DRIBBLE_UP'): 0.1390960262508769,\n",
       " (5, ((3, 1), (2, 2)), 'KICK'): 0.40291146351900003,\n",
       " (8, ((0, 3), (2, 2)), 'DRIBBLE_LEFT'): 0.0,\n",
       " (8, ((4, 5), (2, 2)), 'DRIBBLE_UP'): 0.0,\n",
       " (6, ((2, 2), (2, 2)), 'DRIBBLE_LEFT'): 0.0,\n",
       " (20, ((2, 4), (2, 2)), 'KICK'): 0.0,\n",
       " (7, ((1, 0), (2, 2)), 'DRIBBLE_UP'): 0.0,\n",
       " (18, ((4, 4), (2, 2)), 'KICK'): 0.0,\n",
       " (8, ((1, 3), (2, 2)), 'DRIBBLE_UP'): 0.0,\n",
       " (3, ((1, 2), (2, 2)), 'DRIBBLE_UP'): 0.0,\n",
       " (5, 'OUT_OF_BOUNDS', 'DRIBBLE_UP'): 0.0,\n",
       " (4, ((1, 3), (2, 2)), 'DRIBBLE_UP'): 0.07385689906905052,\n",
       " (8, ((0, 5), (2, 2)), 'KICK'): 0.0,\n",
       " (5, ((1, 1), (2, 2)), 'DRIBBLE_RIGHT'): 0.1617330948724222,\n",
       " (10, ((1, 4), (2, 2)), 'DRIBBLE_UP'): 0.015236099999999997,\n",
       " (6, ((0, 0), (2, 2)), 'DRIBBLE_RIGHT'): 0.01881,\n",
       " (11, 'OUT_OF_BOUNDS', 'DRIBBLE_DOWN'): 0.0,\n",
       " (15, ((4, 5), (2, 2)), 'DRIBBLE_RIGHT'): 0.0,\n",
       " (4, ((0, 4), (2, 2)), 'DRIBBLE_LEFT'): 0.0,\n",
       " (19, ((2, 1), (2, 2)), 'KICK'): 0.0,\n",
       " (14, ((3, 2), (2, 2)), 'DRIBBLE_UP'): 0.0,\n",
       " (5, ((1, 0), (2, 2)), 'DRIBBLE_UP'): 0.00048467405349,\n",
       " (7, ((0, 2), (2, 2)), 'DRIBBLE_RIGHT'): 0.18513077286145835,\n",
       " (8, ((2, 0), (2, 2)), 'KICK'): 0.0,\n",
       " (2, ((0, 1), (2, 2)), 'DRIBBLE_UP'): 0.21322671822159717,\n",
       " (10, ((3, 3), (2, 2)), 'DRIBBLE_RIGHT'): 0.0,\n",
       " (6, ((1, 3), (2, 2)), 'DRIBBLE_LEFT'): 0.011949959785121825,\n",
       " (6, ((1, 3), (2, 2)), 'KICK'): 0.15534068443375143,\n",
       " (6, ((1, 2), (2, 2)), 'KICK'): 0.09041058536603937,\n",
       " (12, ((1, 5), (2, 2)), 'DRIBBLE_RIGHT'): 0.0,\n",
       " (6, ((1, 0), (2, 2)), 'DRIBBLE_RIGHT'): 0.0,\n",
       " (12, ((2, 4), (2, 2)), 'DRIBBLE_DOWN'): 0.0,\n",
       " (4, ((1, 4), (2, 2)), 'DRIBBLE_DOWN'): 0.07715835304986671,\n",
       " (8, ((3, 5), (2, 2)), 'DRIBBLE_UP'): 0.0,\n",
       " (19, 'OUT_OF_BOUNDS', 'DRIBBLE_UP'): 0.0,\n",
       " (9, ((0, 3), (2, 2)), 'DRIBBLE_RIGHT'): 0.0,\n",
       " (3, ((0, 4), (2, 2)), 'DRIBBLE_DOWN'): 0.08842212661600592,\n",
       " (4, ((0, 1), (2, 2)), 'DRIBBLE_RIGHT'): 0.1449607369652514,\n",
       " (7, ((1, 1), (2, 2)), 'KICK'): 0.0,\n",
       " (4, ((1, 1), (2, 2)), 'DRIBBLE_UP'): 0.0,\n",
       " (7, ((2, 1), (2, 2)), 'KICK'): 0.0,\n",
       " (12, ((2, 5), (2, 2)), 'DRIBBLE_LEFT'): 0.0,\n",
       " (15, ((2, 4), (2, 2)), 'KICK'): 0.19,\n",
       " (10, ((0, 2), (2, 2)), 'DRIBBLE_DOWN'): 0.0,\n",
       " (6, ((4, 1), (2, 2)), 'DRIBBLE_DOWN'): 0.01881,\n",
       " (11, ((1, 3), (2, 2)), 'KICK'): 0.314659,\n",
       " (4, ((2, 2), (2, 2)), 'DRIBBLE_RIGHT'): 0.0,\n",
       " (6, ((0, 3), (2, 2)), 'DRIBBLE_RIGHT'): 0.3143991804197327,\n",
       " (8, ((4, 2), (2, 2)), 'DRIBBLE_DOWN'): 0.0,\n",
       " (5, ((2, 4), (2, 2)), 'DRIBBLE_RIGHT'): 0.11828683359900002,\n",
       " (5, 'OUT_OF_BOUNDS', 'DRIBBLE_DOWN'): 0.0,\n",
       " (13, ((2, 1), (2, 2)), 'DRIBBLE_RIGHT'): 0.0,\n",
       " (12, ((4, 2), (2, 2)), 'DRIBBLE_DOWN'): 0.0,\n",
       " (8, ((1, 5), (2, 2)), 'DRIBBLE_DOWN'): 0.0,\n",
       " (7, ((1, 3), (2, 2)), 'KICK'): 0.0,\n",
       " (5, ((2, 3), (2, 2)), 'DRIBBLE_RIGHT'): -0.024763900000000005,\n",
       " (7, ((0, 5), (2, 2)), 'DRIBBLE_RIGHT'): 0.0,\n",
       " (10, ((2, 0), (2, 2)), 'DRIBBLE_DOWN'): 0.0,\n",
       " (6, ((1, 2), (2, 2)), 'DRIBBLE_LEFT'): 0.0,\n",
       " (9, ((2, 0), (2, 2)), 'KICK'): 0.0,\n",
       " (3, 'OUT_OF_BOUNDS', 'DRIBBLE_RIGHT'): 0.0,\n",
       " (16, ((1, 1), (2, 2)), 'DRIBBLE_RIGHT'): 0.0,\n",
       " (6, ((3, 4), (2, 2)), 'KICK'): 0.27855900000000006,\n",
       " (3, ((0, 4), (2, 2)), 'DRIBBLE_LEFT'): 0.19375106962920816,\n",
       " (8, ((3, 2), (2, 2)), 'DRIBBLE_LEFT'): -0.04000000000000001,\n",
       " (8, ((4, 5), (2, 2)), 'DRIBBLE_DOWN'): 0.0,\n",
       " (21, 'OUT_OF_BOUNDS', 'DRIBBLE_UP'): 0.0,\n",
       " (11, ((3, 0), (2, 2)), 'DRIBBLE_UP'): 0.0,\n",
       " (7, ((1, 0), (2, 2)), 'DRIBBLE_DOWN'): 0.061792731000000004,\n",
       " (17, 'GOAL', 'KICK'): 0.0,\n",
       " (6, ((4, 3), (2, 2)), 'DRIBBLE_UP'): 0.16952247090900002,\n",
       " (7, 'GOAL', 'DRIBBLE_UP'): 0.0,\n",
       " (8, ((1, 1), (2, 2)), 'DRIBBLE_LEFT'): 0.027577341,\n",
       " (4, ((0, 2), (2, 2)), 'DRIBBLE_UP'): 0.08000607845870185,\n",
       " (4, 'GOAL', 'DRIBBLE_RIGHT'): 0.0,\n",
       " (9, ((0, 4), (2, 2)), 'DRIBBLE_UP'): 0.0,\n",
       " (14, ((1, 3), (2, 2)), 'DRIBBLE_UP'): 0.0,\n",
       " (9, 'GOAL', 'DRIBBLE_RIGHT'): 0.0,\n",
       " (8, ((3, 4), (2, 2)), 'KICK'): 0.0,\n",
       " (12, ((3, 4), (2, 2)), 'DRIBBLE_LEFT'): 0.0,\n",
       " (7, ((4, 0), (2, 2)), 'DRIBBLE_LEFT'): 0.0,\n",
       " (14, ((2, 0), (2, 2)), 'KICK'): 0.0,\n",
       " (2, ((0, 2), (2, 2)), 'DRIBBLE_UP'): 0.10859688735105238,\n",
       " (3, ((0, 4), (2, 2)), 'KICK'): 0.0020022685868880206,\n",
       " (15, ((4, 1), (2, 2)), 'KICK'): 0.19,\n",
       " (6, ((2, 3), (2, 2)), 'KICK'): 0.36941310489175916,\n",
       " (6, ((2, 0), (2, 2)), 'DRIBBLE_RIGHT'): 0.0,\n",
       " (4, ((2, 1), (2, 2)), 'DRIBBLE_UP'): 0.047249738140609225,\n",
       " (3, ((0, 0), (2, 2)), 'DRIBBLE_LEFT'): 0.19099449480480052,\n",
       " (10, ((4, 2), (2, 2)), 'DRIBBLE_DOWN'): 0.0,\n",
       " (12, ((3, 0), (2, 2)), 'DRIBBLE_UP'): 0.0,\n",
       " (4, ((0, 3), (2, 2)), 'KICK'): 0.00024353449767138682,\n",
       " (12, ((1, 3), (2, 2)), 'DRIBBLE_UP'): -0.003960000000000001,\n",
       " (10, ((1, 4), (2, 2)), 'KICK'): 0.0,\n",
       " (9, ((1, 0), (2, 2)), 'DRIBBLE_DOWN'): 0.063316341,\n",
       " (5, ((2, 1), (2, 2)), 'DRIBBLE_RIGHT'): 0.008696504430718939,\n",
       " (13, ((1, 0), (2, 2)), 'DRIBBLE_UP'): 0.0,\n",
       " (7, ((4, 4), (2, 2)), 'KICK'): 0.15389999999999998,\n",
       " (9, ((1, 1), (2, 2)), 'DRIBBLE_LEFT'): 0.0,\n",
       " (5, 'GOAL', 'DRIBBLE_DOWN'): 0.0,\n",
       " (8, ((2, 0), (2, 2)), 'DRIBBLE_UP'): 0.0,\n",
       " (11, ((3, 1), (2, 2)), 'DRIBBLE_UP'): 0.0,\n",
       " (7, ((2, 5), (2, 2)), 'DRIBBLE_RIGHT'): 0.0,\n",
       " (11, ((3, 3), (2, 2)), 'KICK'): 0.34390000000000004,\n",
       " (13, ((1, 4), (2, 2)), 'DRIBBLE_UP'): 0.0,\n",
       " (5, ((2, 2), (2, 2)), 'DRIBBLE_UP'): 0.019689466041362853,\n",
       " (18, ((2, 2), (2, 2)), 'KICK'): 0.0,\n",
       " (14, ((1, 5), (2, 2)), 'DRIBBLE_LEFT'): 0.0,\n",
       " (10, ((1, 5), (2, 2)), 'KICK'): 0.0,\n",
       " (6, ((0, 3), (2, 2)), 'DRIBBLE_LEFT'): 0.009565848188377265,\n",
       " (7, ((3, 1), (2, 2)), 'DRIBBLE_RIGHT'): 0.01881,\n",
       " (9, ((0, 1), (2, 2)), 'KICK'): 0.12465899999999999,\n",
       " (12, ((0, 1), (2, 2)), 'DRIBBLE_UP'): 0.0,\n",
       " (8, ((0, 3), (2, 2)), 'KICK'): 0.10097379,\n",
       " (5, ((0, 2), (2, 2)), 'DRIBBLE_RIGHT'): 0.20469183984685824,\n",
       " (14, ((0, 1), (2, 2)), 'DRIBBLE_LEFT'): 0.0,\n",
       " (6, ((0, 4), (2, 2)), 'DRIBBLE_UP'): 0.030594643768587844,\n",
       " (8, ((1, 1), (2, 2)), 'DRIBBLE_RIGHT'): 0.0,\n",
       " (11, ((2, 2), (2, 2)), 'DRIBBLE_LEFT'): 0.0,\n",
       " (16, ((2, 2), (2, 2)), 'DRIBBLE_LEFT'): -0.003960000000000001,\n",
       " (3, 'GOAL', 'DRIBBLE_UP'): 0.0,\n",
       " (8, 'OUT_OF_BOUNDS', 'DRIBBLE_UP'): 0.0,\n",
       " (16, 'GOAL', 'DRIBBLE_DOWN'): 0.0,\n",
       " (4, ((0, 2), (2, 2)), 'DRIBBLE_LEFT'): 0.035649467463030125,\n",
       " (6, ((1, 4), (2, 2)), 'DRIBBLE_RIGHT'): 0.22530100361835445,\n",
       " (8, ((1, 4), (2, 2)), 'DRIBBLE_RIGHT'): 0.18248734071810002,\n",
       " (10, ((4, 3), (2, 2)), 'DRIBBLE_RIGHT'): 0.0,\n",
       " (5, ((0, 4), (2, 2)), 'DRIBBLE_DOWN'): 0.0,\n",
       " (4, 'OUT_OF_BOUNDS', 'KICK'): 0.0,\n",
       " (7, ((0, 4), (2, 2)), 'KICK'): 0.0,\n",
       " (12, ((2, 1), (2, 2)), 'DRIBBLE_UP'): 0.0,\n",
       " (7, ((2, 1), (2, 2)), 'DRIBBLE_LEFT'): 0.0,\n",
       " (15, ((2, 1), (2, 2)), 'DRIBBLE_DOWN'): 0.0,\n",
       " (9, ((2, 1), (2, 2)), 'DRIBBLE_DOWN'): 0.0,\n",
       " (12, ((1, 4), (2, 2)), 'DRIBBLE_LEFT'): 0.0,\n",
       " (9, ((1, 3), (2, 2)), 'KICK'): 0.0,\n",
       " (8, ((4, 1), (2, 2)), 'DRIBBLE_LEFT'): 0.0,\n",
       " (8, ((4, 3), (2, 2)), 'DRIBBLE_LEFT'): 0.0,\n",
       " (7, ((0, 1), (2, 2)), 'DRIBBLE_DOWN'): 0.0,\n",
       " (11, ((4, 3), (2, 2)), 'DRIBBLE_DOWN'): 0.0,\n",
       " (16, 'OUT_OF_BOUNDS', 'KICK'): 0.0,\n",
       " (7, ((1, 0), (2, 2)), 'DRIBBLE_LEFT'): 0.0,\n",
       " (2, ((0, 3), (2, 2)), 'DRIBBLE_RIGHT'): 0.43063166396027097,\n",
       " (5, ((1, 0), (2, 2)), 'DRIBBLE_DOWN'): 0.0492690331589923,\n",
       " (7, ((1, 4), (2, 2)), 'KICK'): 0.0,\n",
       " (8, ((3, 4), (2, 2)), 'DRIBBLE_UP'): 0.0,\n",
       " (13, 'OUT_OF_BOUNDS', 'DRIBBLE_DOWN'): 0.0,\n",
       " (8, ((1, 3), (2, 2)), 'DRIBBLE_LEFT'): 0.0,\n",
       " (10, ((3, 1), (2, 2)), 'KICK'): 0.15389999999999998,\n",
       " (6, ((1, 2), (2, 2)), 'DRIBBLE_RIGHT'): -0.024763900000000005,\n",
       " (3, ((0, 3), (2, 2)), 'DRIBBLE_RIGHT'): 0.3765144404823167,\n",
       " (10, ((0, 3), (2, 2)), 'KICK'): 0.0,\n",
       " (13, ((2, 4), (2, 2)), 'KICK'): 0.0,\n",
       " (2, ((0, 2), (2, 2)), 'DRIBBLE_RIGHT'): 0.13362438034731627,\n",
       " (10, 'OUT_OF_BOUNDS', 'DRIBBLE_LEFT'): 0.0,\n",
       " (10, ((4, 2), (2, 2)), 'DRIBBLE_UP'): 0.0,\n",
       " (15, ((2, 3), (2, 2)), 'DRIBBLE_DOWN'): 0.0,\n",
       " (4, ((1, 0), (2, 2)), 'KICK'): 0.15389999999999998,\n",
       " (9, ((4, 0), (2, 2)), 'DRIBBLE_LEFT'): 0.0,\n",
       " (12, 'OUT_OF_BOUNDS', 'KICK'): 0.0,\n",
       " (8, ((4, 1), (2, 2)), 'DRIBBLE_UP'): 0.0,\n",
       " (5, ((0, 0), (2, 2)), 'DRIBBLE_LEFT'): 0.0,\n",
       " (8, ((3, 1), (2, 2)), 'KICK'): 0.0,\n",
       " (15, ((3, 1), (2, 2)), 'DRIBBLE_RIGHT'): 0.0,\n",
       " (17, ((2, 0), (2, 2)), 'DRIBBLE_DOWN'): 0.0,\n",
       " (11, ((1, 4), (2, 2)), 'DRIBBLE_DOWN'): 0.0,\n",
       " (8, 'OUT_OF_BOUNDS', 'DRIBBLE_LEFT'): 0.0,\n",
       " (4, ((0, 5), (2, 2)), 'DRIBBLE_UP'): 0.02663253414178166,\n",
       " (5, ((0, 0), (2, 2)), 'KICK'): 0.11882227502593465,\n",
       " (2, 'GOAL', 'DRIBBLE_DOWN'): 0.0,\n",
       " (1, ((0, 2), (2, 2)), 'DRIBBLE_LEFT'): 0.314183671230008,\n",
       " (4, ((0, 0), (2, 2)), 'DRIBBLE_RIGHT'): 0.026106830362481438,\n",
       " (6, 'GOAL', 'DRIBBLE_RIGHT'): 0.0,\n",
       " (7, ((4, 2), (2, 2)), 'DRIBBLE_LEFT'): 0.0509751,\n",
       " (9, 'OUT_OF_BOUNDS', 'DRIBBLE_RIGHT'): 0.0,\n",
       " (10, ((0, 1), (2, 2)), 'KICK'): 0.19,\n",
       " (20, ((2, 4), (2, 2)), 'DRIBBLE_LEFT'): 0.0,\n",
       " (7, ((0, 3), (2, 2)), 'DRIBBLE_RIGHT'): 0.012525597809999997,\n",
       " (11, ((0, 3), (2, 2)), 'DRIBBLE_LEFT'): 0.0,\n",
       " (10, ((1, 1), (2, 2)), 'KICK'): 0.19,\n",
       " (13, ((2, 1), (2, 2)), 'DRIBBLE_UP'): 0.0,\n",
       " (2, 'OUT_OF_BOUNDS', 'KICK'): 0.0,\n",
       " (17, ((2, 1), (2, 2)), 'DRIBBLE_LEFT'): 0.0,\n",
       " (14, ((2, 2), (2, 2)), 'KICK'): 0.0,\n",
       " (5, ((3, 3), (2, 2)), 'DRIBBLE_DOWN'): 0.05821883100000001,\n",
       " (6, ((0, 4), (2, 2)), 'DRIBBLE_DOWN'): 0.0,\n",
       " (16, ((1, 0), (2, 2)), 'DRIBBLE_RIGHT'): 0.0,\n",
       " (9, ((2, 3), (2, 2)), 'DRIBBLE_RIGHT'): 0.0509751,\n",
       " (18, ((2, 2), (2, 2)), 'DRIBBLE_RIGHT'): 0.0,\n",
       " (14, ((2, 2), (2, 2)), 'DRIBBLE_RIGHT'): 0.0,\n",
       " (4, ((3, 2), (2, 2)), 'DRIBBLE_DOWN'): 0.12138692042666678,\n",
       " (21, ((1, 2), (2, 2)), 'DRIBBLE_DOWN'): 0.0,\n",
       " (16, ((3, 3), (2, 2)), 'KICK'): 0.0,\n",
       " (15, ((0, 0), (2, 2)), 'KICK'): 0.0,\n",
       " (3, 'GOAL', 'DRIBBLE_RIGHT'): 0.0,\n",
       " (8, ((1, 0), (2, 2)), 'KICK'): 0.0,\n",
       " (6, ((1, 1), (2, 2)), 'DRIBBLE_UP'): 0.0,\n",
       " (10, ((2, 1), (2, 2)), 'DRIBBLE_DOWN'): 0.0,\n",
       " (8, ((4, 3), (2, 2)), 'KICK'): 0.19,\n",
       " (7, ((4, 3), (2, 2)), 'KICK'): 0.0,\n",
       " (22, ((2, 2), (2, 2)), 'DRIBBLE_DOWN'): 0.0,\n",
       " (8, ((1, 4), (2, 2)), 'DRIBBLE_UP'): 0.0,\n",
       " (5, 'OUT_OF_BOUNDS', 'DRIBBLE_RIGHT'): 0.0,\n",
       " (6, ((0, 2), (2, 2)), 'DRIBBLE_LEFT'): 0.0,\n",
       " (4, 'OUT_OF_BOUNDS', 'DRIBBLE_LEFT'): 0.0,\n",
       " (9, ((1, 2), (2, 2)), 'DRIBBLE_UP'): -0.036000000000000004,\n",
       " (3, ((1, 3), (2, 2)), 'DRIBBLE_UP'): 0.1986939496071733,\n",
       " (9, ((0, 4), (2, 2)), 'DRIBBLE_DOWN'): 0.0,\n",
       " (9, ((1, 4), (2, 2)), 'DRIBBLE_RIGHT'): 0.048080241,\n",
       " (11, ((1, 5), (2, 2)), 'DRIBBLE_DOWN'): 0.0,\n",
       " (9, ((4, 1), (2, 2)), 'DRIBBLE_LEFT'): 0.01881,\n",
       " (12, ((1, 1), (2, 2)), 'DRIBBLE_DOWN'): 0.0,\n",
       " (12, ((3, 0), (2, 2)), 'DRIBBLE_LEFT'): 0.0,\n",
       " (18, ((2, 0), (2, 2)), 'DRIBBLE_UP'): 0.0,\n",
       " (16, ((1, 3), (2, 2)), 'DRIBBLE_LEFT'): 0.0,\n",
       " (8, ((2, 2), (2, 2)), 'DRIBBLE_DOWN'): 0.0,\n",
       " (8, 'OUT_OF_BOUNDS', 'DRIBBLE_RIGHT'): 0.0,\n",
       " (13, 'OUT_OF_BOUNDS', 'DRIBBLE_UP'): 0.0,\n",
       " (14, ((1, 0), (2, 2)), 'KICK'): 0.0,\n",
       " (10, ((2, 3), (2, 2)), 'DRIBBLE_UP'): 0.0,\n",
       " (7, ((0, 1), (2, 2)), 'DRIBBLE_LEFT'): 0.0,\n",
       " (8, ((3, 4), (2, 2)), 'DRIBBLE_DOWN'): 0.0,\n",
       " (22, 'GOAL', 'DRIBBLE_LEFT'): 0.0,\n",
       " (7, ((2, 2), (2, 2)), 'DRIBBLE_DOWN'): 0.0,\n",
       " (8, ((2, 3), (2, 2)), 'KICK'): 0.3837151217421557,\n",
       " (4, ((0, 1), (2, 2)), 'DRIBBLE_LEFT'): 0.0028518341157900006,\n",
       " (7, ((3, 2), (2, 2)), 'DRIBBLE_LEFT'): 0.0,\n",
       " (12, 'OUT_OF_BOUNDS', 'DRIBBLE_LEFT'): 0.0,\n",
       " (3, ((0, 0), (2, 2)), 'DRIBBLE_DOWN'): 0.1827825812857856,\n",
       " (8, ((2, 4), (2, 2)), 'DRIBBLE_RIGHT'): 0.0,\n",
       " (12, ((0, 3), (2, 2)), 'DRIBBLE_LEFT'): 0.0,\n",
       " (11, ((0, 2), (2, 2)), 'DRIBBLE_DOWN'): 0.0,\n",
       " (2, ((0, 3), (2, 2)), 'DRIBBLE_LEFT'): 0.3591931171811579,\n",
       " (8, ((0, 0), (2, 2)), 'KICK'): 0.0,\n",
       " (7, ((2, 4), (2, 2)), 'DRIBBLE_DOWN'): 0.0,\n",
       " (17, ((2, 0), (2, 2)), 'DRIBBLE_UP'): 0.0,\n",
       " (12, ((1, 2), (2, 2)), 'DRIBBLE_RIGHT'): 0.0,\n",
       " (5, ((0, 5), (2, 2)), 'DRIBBLE_UP'): 0.0,\n",
       " (5, ((3, 1), (2, 2)), 'DRIBBLE_RIGHT'): 0.014986966590891902,\n",
       " (5, ((0, 3), (2, 2)), 'KICK'): 0.159866383588185,\n",
       " (11, ((0, 4), (2, 2)), 'DRIBBLE_UP'): 0.0,\n",
       " (11, ((0, 2), (2, 2)), 'DRIBBLE_UP'): 0.0,\n",
       " (6, ((2, 0), (2, 2)), 'DRIBBLE_LEFT'): 0.01881,\n",
       " (6, ((4, 3), (2, 2)), 'DRIBBLE_DOWN'): 0.0,\n",
       " (14, ((1, 0), (2, 2)), 'DRIBBLE_LEFT'): 0.0,\n",
       " (18, 'OUT_OF_BOUNDS', 'DRIBBLE_RIGHT'): 0.0,\n",
       " (15, ((1, 4), (2, 2)), 'DRIBBLE_DOWN'): 0.0,\n",
       " (13, ((2, 0), (2, 2)), 'DRIBBLE_DOWN'): 0.0,\n",
       " (7, ((3, 5), (2, 2)), 'DRIBBLE_RIGHT'): 0.0,\n",
       " (10, ((2, 2), (2, 2)), 'DRIBBLE_DOWN'): 0.0,\n",
       " (4, ((1, 0), (2, 2)), 'DRIBBLE_DOWN'): 0.1067718578490178,\n",
       " (9, ((0, 2), (2, 2)), 'DRIBBLE_DOWN'): 0.0,\n",
       " (10, ((2, 1), (2, 2)), 'DRIBBLE_LEFT'): 0.0,\n",
       " (5, ((0, 4), (2, 2)), 'DRIBBLE_LEFT'): 0.0,\n",
       " (11, ((2, 5), (2, 2)), 'DRIBBLE_LEFT'): 0.0,\n",
       " (8, ((1, 4), (2, 2)), 'DRIBBLE_DOWN'): 0.0,\n",
       " (3, ((1, 1), (2, 2)), 'DRIBBLE_RIGHT'): 0.3465282283283855,\n",
       " (6, ((0, 5), (2, 2)), 'DRIBBLE_DOWN'): 0.0,\n",
       " (5, ((2, 4), (2, 2)), 'KICK'): 0.377798718666823,\n",
       " (7, ((2, 3), (2, 2)), 'KICK'): 0.39304436206163235,\n",
       " (7, ((0, 0), (2, 2)), 'DRIBBLE_UP'): 0.0,\n",
       " (11, ((2, 1), (2, 2)), 'DRIBBLE_RIGHT'): 0.0,\n",
       " (5, ((2, 0), (2, 2)), 'DRIBBLE_DOWN'): 0.05543276404970267,\n",
       " (10, ((0, 0), (2, 2)), 'DRIBBLE_LEFT'): 0.0,\n",
       " (9, ((2, 2), (2, 2)), 'DRIBBLE_LEFT'): 0.0,\n",
       " (10, 'OUT_OF_BOUNDS', 'DRIBBLE_RIGHT'): 0.0,\n",
       " (7, 'OUT_OF_BOUNDS', 'DRIBBLE_DOWN'): 0.0,\n",
       " (7, ((0, 1), (2, 2)), 'KICK'): 0.01069005616329394,\n",
       " (6, ((4, 1), (2, 2)), 'DRIBBLE_UP'): 0.0,\n",
       " (7, ((2, 0), (2, 2)), 'DRIBBLE_LEFT'): 0.0,\n",
       " (4, ((0, 4), (2, 2)), 'DRIBBLE_RIGHT'): 0.007683883637173164,\n",
       " (7, ((2, 0), (2, 2)), 'DRIBBLE_RIGHT'): 0.0,\n",
       " (15, ((3, 1), (2, 2)), 'KICK'): 0.0,\n",
       " (7, ((0, 3), (2, 2)), 'DRIBBLE_UP'): 0.012341241,\n",
       " (13, ((4, 1), (2, 2)), 'DRIBBLE_DOWN'): 0.0,\n",
       " (11, 'OUT_OF_BOUNDS', 'DRIBBLE_UP'): 0.0,\n",
       " (5, ((1, 2), (2, 2)), 'DRIBBLE_RIGHT'): -0.10840000000000002,\n",
       " (14, ((4, 4), (2, 2)), 'DRIBBLE_DOWN'): 0.0,\n",
       " (6, 'OUT_OF_BOUNDS', 'DRIBBLE_LEFT'): 0.0,\n",
       " (7, ((0, 0), (2, 2)), 'KICK'): 0.0,\n",
       " (6, ((3, 2), (2, 2)), 'KICK'): 0.445781693619,\n",
       " (20, 'OUT_OF_BOUNDS', 'DRIBBLE_UP'): 0.0,\n",
       " (5, ((4, 2), (2, 2)), 'KICK'): 0.19,\n",
       " (8, ((2, 3), (2, 2)), 'DRIBBLE_DOWN'): 0.0,\n",
       " (11, 'OUT_OF_BOUNDS', 'DRIBBLE_LEFT'): 0.0,\n",
       " (2, ((0, 1), (2, 2)), 'DRIBBLE_RIGHT'): 0.3429381912664177,\n",
       " (5, ((1, 3), (2, 2)), 'DRIBBLE_UP'): 0.13052888119107456,\n",
       " (7, ((0, 2), (2, 2)), 'DRIBBLE_LEFT'): 0.0,\n",
       " (2, 'OUT_OF_BOUNDS', 'DRIBBLE_LEFT'): 0.0,\n",
       " (8, ((0, 5), (2, 2)), 'DRIBBLE_RIGHT'): 0.0,\n",
       " (4, ((2, 1), (2, 2)), 'DRIBBLE_DOWN'): -0.07296002922610408,\n",
       " (8, ((4, 0), (2, 2)), 'DRIBBLE_UP'): 0.0,\n",
       " (8, ((4, 1), (2, 2)), 'KICK'): 0.19,\n",
       " (11, ((0, 5), (2, 2)), 'DRIBBLE_UP'): 0.0,\n",
       " (7, ((4, 2), (2, 2)), 'DRIBBLE_UP'): 0.0,\n",
       " (4, ((1, 2), (2, 2)), 'DRIBBLE_DOWN'): 0.2069426929363543,\n",
       " (7, ((3, 3), (2, 2)), 'DRIBBLE_LEFT'): 0.0,\n",
       " (4, ((2, 2), (2, 2)), 'KICK'): 0.19,\n",
       " (7, ((4, 2), (2, 2)), 'KICK'): 0.46132155990000007,\n",
       " (7, 'OUT_OF_BOUNDS', 'DRIBBLE_UP'): 0.0,\n",
       " (7, ((2, 2), (2, 2)), 'DRIBBLE_UP'): 0.01881,\n",
       " (8, ((1, 0), (2, 2)), 'DRIBBLE_UP'): 0.0,\n",
       " (8, ((0, 0), (2, 2)), 'DRIBBLE_RIGHT'): 0.0,\n",
       " (6, ((0, 1), (2, 2)), 'DRIBBLE_LEFT'): 0.01881,\n",
       " (12, ((3, 5), (2, 2)), 'KICK'): 0.0,\n",
       " (12, ((1, 2), (2, 2)), 'KICK'): 0.0,\n",
       " (12, ((2, 3), (2, 2)), 'DRIBBLE_DOWN'): 0.0,\n",
       " (4, ((1, 3), (2, 2)), 'DRIBBLE_LEFT'): 0.028777628684712005,\n",
       " (6, ((1, 3), (2, 2)), 'DRIBBLE_RIGHT'): 0.20839093395050318,\n",
       " (7, ((3, 5), (2, 2)), 'DRIBBLE_DOWN'): 0.0,\n",
       " (11, ((2, 1), (2, 2)), 'DRIBBLE_UP'): 0.0,\n",
       " (12, ((2, 4), (2, 2)), 'KICK'): 0.0,\n",
       " (1, ((0, 2), (2, 2)), 'KICK'): 0.3093681181469061,\n",
       " (7, ((0, 4), (2, 2)), 'DRIBBLE_DOWN'): 0.0,\n",
       " (5, ((1, 4), (2, 2)), 'DRIBBLE_LEFT'): 0.0,\n",
       " (5, ((2, 3), (2, 2)), 'DRIBBLE_UP'): -0.041248759,\n",
       " (6, 'OUT_OF_BOUNDS', 'DRIBBLE_DOWN'): 0.0,\n",
       " (16, ((0, 1), (2, 2)), 'DRIBBLE_LEFT'): 0.0,\n",
       " (9, ((2, 4), (2, 2)), 'KICK'): 0.527570463519,\n",
       " (6, ((0, 2), (2, 2)), 'DRIBBLE_RIGHT'): 0.07776343247830692,\n",
       " (4, ((0, 4), (2, 2)), 'DRIBBLE_DOWN'): 0.0,\n",
       " (8, 'GOAL', 'DRIBBLE_DOWN'): 0.0,\n",
       " (5, 'GOAL', 'DRIBBLE_UP'): 0.0,\n",
       " (3, ((0, 2), (2, 2)), 'DRIBBLE_UP'): 0.05336178384397625,\n",
       " (9, ((0, 3), (2, 2)), 'KICK'): 0.0,\n",
       " (11, ((0, 0), (2, 2)), 'DRIBBLE_RIGHT'): 0.0,\n",
       " (2, ((0, 3), (2, 2)), 'DRIBBLE_UP'): 0.33376168602173734,\n",
       " (6, ((1, 3), (2, 2)), 'DRIBBLE_UP'): 0.042788431845373204,\n",
       " (7, ((1, 4), (2, 2)), 'DRIBBLE_LEFT'): 0.0,\n",
       " (6, ((1, 2), (2, 2)), 'DRIBBLE_DOWN'): 0.18673832637457455,\n",
       " (8, ((0, 2), (2, 2)), 'KICK'): 0.10097379,\n",
       " (19, 'GOAL', 'KICK'): 0.0,\n",
       " (19, ((2, 1), (2, 2)), 'DRIBBLE_RIGHT'): -0.04000000000000001,\n",
       " (15, ((0, 1), (2, 2)), 'DRIBBLE_LEFT'): 0.0,\n",
       " (6, ((1, 4), (2, 2)), 'DRIBBLE_LEFT'): 0.0,\n",
       " (9, ((2, 2), (2, 2)), 'DRIBBLE_RIGHT'): 0.0,\n",
       " (14, 'OUT_OF_BOUNDS', 'DRIBBLE_UP'): 0.0,\n",
       " (8, ((1, 2), (2, 2)), 'DRIBBLE_RIGHT'): -0.12956073685706052,\n",
       " (7, ((1, 3), (2, 2)), 'DRIBBLE_DOWN'): 0.0050465349,\n",
       " (5, ((0, 4), (2, 2)), 'DRIBBLE_UP'): 0.23496691274838066,\n",
       " (8, ((1, 1), (2, 2)), 'DRIBBLE_DOWN'): 0.021532260618000003,\n",
       " (6, ((2, 3), (2, 2)), 'DRIBBLE_DOWN'): 0.13380576170505756,\n",
       " (5, ((1, 1), (2, 2)), 'KICK'): 0.0,\n",
       " (7, ((0, 5), (2, 2)), 'KICK'): 0.0,\n",
       " (10, ((3, 3), (2, 2)), 'KICK'): 0.46855900000000006,\n",
       " (3, ((0, 2), (2, 2)), 'DRIBBLE_RIGHT'): 0.07162988238617295,\n",
       " (5, ((1, 2), (2, 2)), 'KICK'): 0.023607277904578408,\n",
       " (10, ((0, 1), (2, 2)), 'DRIBBLE_RIGHT'): 0.0,\n",
       " (6, ((1, 0), (2, 2)), 'KICK'): 0.0,\n",
       " (14, ((1, 3), (2, 2)), 'DRIBBLE_RIGHT'): 0.0,\n",
       " (9, ((2, 0), (2, 2)), 'DRIBBLE_DOWN'): 0.0,\n",
       " (3, 'OUT_OF_BOUNDS', 'KICK'): 0.0,\n",
       " (3, ((0, 1), (2, 2)), 'DRIBBLE_DOWN'): 0.237688220130415,\n",
       " (5, ((2, 0), (2, 2)), 'DRIBBLE_UP'): 0.060754848020755696,\n",
       " (10, ((2, 4), (2, 2)), 'DRIBBLE_UP'): 0.0,\n",
       " (7, ((0, 2), (2, 2)), 'DRIBBLE_UP'): 0.0,\n",
       " (16, ((0, 2), (2, 2)), 'DRIBBLE_DOWN'): 0.0,\n",
       " (11, ((0, 4), (2, 2)), 'DRIBBLE_LEFT'): 0.0,\n",
       " (7, ((1, 1), (2, 2)), 'DRIBBLE_RIGHT'): 0.0,\n",
       " (6, ((1, 0), (2, 2)), 'DRIBBLE_UP'): 0.0,\n",
       " (9, ((1, 0), (2, 2)), 'KICK'): 0.0,\n",
       " (12, ((4, 3), (2, 2)), 'DRIBBLE_UP'): 0.0,\n",
       " (12, 'OUT_OF_BOUNDS', 'DRIBBLE_UP'): 0.0,\n",
       " (10, ((1, 5), (2, 2)), 'DRIBBLE_LEFT'): 0.0,\n",
       " (4, ((0, 1), (2, 2)), 'DRIBBLE_UP'): 0.06216344177264191,\n",
       " (5, ((0, 5), (2, 2)), 'DRIBBLE_LEFT'): 0.035942931380379274,\n",
       " (13, ((1, 5), (2, 2)), 'DRIBBLE_RIGHT'): 0.0,\n",
       " (4, ((0, 5), (2, 2)), 'DRIBBLE_RIGHT'): 0.037600097064515725,\n",
       " (6, 'GOAL', 'KICK'): 0.0,\n",
       " (3, ((0, 2), (2, 2)), 'DRIBBLE_LEFT'): 0.11563461832079444,\n",
       " (8, ((2, 5), (2, 2)), 'DRIBBLE_LEFT'): 0.0,\n",
       " (8, ((0, 1), (2, 2)), 'DRIBBLE_DOWN'): 0.0,\n",
       " (5, ((3, 3), (2, 2)), 'DRIBBLE_LEFT'): 0.11553108515401336,\n",
       " (8, ((2, 1), (2, 2)), 'DRIBBLE_LEFT'): -0.04000000000000001,\n",
       " (4, ((1, 4), (2, 2)), 'KICK'): 0.06852368150368678,\n",
       " (5, ((0, 2), (2, 2)), 'DRIBBLE_LEFT'): 0.0,\n",
       " (11, ((2, 3), (2, 2)), 'DRIBBLE_LEFT'): 0.0,\n",
       " (14, ((4, 2), (2, 2)), 'DRIBBLE_UP'): 0.0,\n",
       " (6, ((0, 0), (2, 2)), 'KICK'): 0.0,\n",
       " (19, ((1, 0), (2, 2)), 'KICK'): 0.0,\n",
       " (14, ((0, 0), (2, 2)), 'DRIBBLE_DOWN'): 0.0,\n",
       " (5, ((1, 3), (2, 2)), 'DRIBBLE_RIGHT'): 0.36390453979423754,\n",
       " (5, ((0, 1), (2, 2)), 'KICK'): 0.15389999999999998,\n",
       " (10, ((1, 0), (2, 2)), 'KICK'): 0.0,\n",
       " (4, ((1, 2), (2, 2)), 'DRIBBLE_LEFT'): 0.0064090807011,\n",
       " (6, ((0, 2), (2, 2)), 'DRIBBLE_UP'): 0.06574920311491343,\n",
       " (15, ((2, 1), (2, 2)), 'KICK'): 0.0,\n",
       " (8, ((1, 4), (2, 2)), 'DRIBBLE_LEFT'): 0.0,\n",
       " (10, ((0, 0), (2, 2)), 'DRIBBLE_DOWN'): 0.0,\n",
       " (6, ((2, 1), (2, 2)), 'DRIBBLE_RIGHT'): 0.0,\n",
       " (6, ((1, 3), (2, 2)), 'DRIBBLE_DOWN'): 0.0,\n",
       " (7, ((4, 0), (2, 2)), 'KICK'): 0.19,\n",
       " (14, ((0, 3), (2, 2)), 'DRIBBLE_UP'): 0.0,\n",
       " (16, 'OUT_OF_BOUNDS', 'DRIBBLE_RIGHT'): 0.0,\n",
       " (6, ((2, 4), (2, 2)), 'DRIBBLE_LEFT'): 0.0,\n",
       " (8, ((1, 5), (2, 2)), 'KICK'): 0.0,\n",
       " (8, ((1, 3), (2, 2)), 'DRIBBLE_DOWN'): 0.0,\n",
       " (12, ((0, 2), (2, 2)), 'DRIBBLE_RIGHT'): 0.0,\n",
       " (6, ((3, 0), (2, 2)), 'DRIBBLE_DOWN'): 0.0018621900000000001,\n",
       " (7, 'GOAL', 'DRIBBLE_RIGHT'): 0.0,\n",
       " (4, ((0, 0), (2, 2)), 'KICK'): 0.20730951069194578,\n",
       " (3, ((0, 3), (2, 2)), 'KICK'): 0.059576940140421,\n",
       " (15, ((4, 5), (2, 2)), 'DRIBBLE_UP'): 0.0,\n",
       " (14, 'GOAL', 'KICK'): 0.0,\n",
       " (6, ((3, 4), (2, 2)), 'DRIBBLE_LEFT'): 0.0,\n",
       " (8, ((2, 0), (2, 2)), 'DRIBBLE_LEFT'): 0.00776160792,\n",
       " (9, ((3, 4), (2, 2)), 'DRIBBLE_UP'): 0.0,\n",
       " (8, ((4, 5), (2, 2)), 'KICK'): 0.19,\n",
       " (4, ((1, 4), (2, 2)), 'DRIBBLE_LEFT'): 0.13171385494166685,\n",
       " (7, ((1, 0), (2, 2)), 'KICK'): 0.19,\n",
       " (23, ((2, 1), (2, 2)), 'DRIBBLE_RIGHT'): 0.0,\n",
       " (12, ((1, 4), (2, 2)), 'DRIBBLE_UP'): 0.0,\n",
       " (6, ((2, 3), (2, 2)), 'DRIBBLE_RIGHT'): 0.06256160670026678,\n",
       " (9, ((2, 1), (2, 2)), 'KICK'): 0.0,\n",
       " (5, 'OUT_OF_BOUNDS', 'KICK'): 0.0,\n",
       " (2, ((0, 3), (2, 2)), 'KICK'): 0.004282152784399805,\n",
       " (5, ((2, 1), (2, 2)), 'DRIBBLE_LEFT'): 0.0,\n",
       " (13, 'OUT_OF_BOUNDS', 'DRIBBLE_LEFT'): 0.0,\n",
       " (14, ((0, 2), (2, 2)), 'DRIBBLE_RIGHT'): 0.0,\n",
       " (17, ((1, 2), (2, 2)), 'DRIBBLE_RIGHT'): -0.04000000000000001,\n",
       " (13, ((4, 3), (2, 2)), 'DRIBBLE_DOWN'): 0.0,\n",
       " (10, ((2, 1), (2, 2)), 'DRIBBLE_UP'): 0.0,\n",
       " (8, 'GOAL', 'KICK'): 0.0,\n",
       " (11, ((1, 5), (2, 2)), 'DRIBBLE_LEFT'): 0.0,\n",
       " (12, 'OUT_OF_BOUNDS', 'DRIBBLE_RIGHT'): 0.0,\n",
       " (13, ((0, 2), (2, 2)), 'DRIBBLE_RIGHT'): 0.0,\n",
       " (7, ((1, 4), (2, 2)), 'DRIBBLE_RIGHT'): 0.08119458496024853,\n",
       " (9, ((3, 0), (2, 2)), 'DRIBBLE_RIGHT'): 0.0,\n",
       " (10, ((1, 1), (2, 2)), 'DRIBBLE_DOWN'): 0.0,\n",
       " (14, ((0, 4), (2, 2)), 'DRIBBLE_RIGHT'): 0.0,\n",
       " (12, 'GOAL', 'KICK'): 0.0,\n",
       " (3, ((2, 2), (2, 2)), 'DRIBBLE_LEFT'): 0.2020796557582364,\n",
       " (13, ((0, 1), (2, 2)), 'DRIBBLE_DOWN'): 0.0,\n",
       " (9, ((0, 2), (2, 2)), 'DRIBBLE_LEFT'): 0.0,\n",
       " (7, ((1, 2), (2, 2)), 'DRIBBLE_RIGHT'): 0.018959329016100004,\n",
       " (4, ((0, 3), (2, 2)), 'DRIBBLE_DOWN'): 0.0606855423333389,\n",
       " (2, ((0, 2), (2, 2)), 'KICK'): 0.0706919222624425,\n",
       " (4, ((1, 3), (2, 2)), 'DRIBBLE_RIGHT'): 0.44454995961589105,\n",
       " (16, 'GOAL', 'KICK'): 0.0,\n",
       " (11, ((2, 2), (2, 2)), 'DRIBBLE_RIGHT'): 0.0,\n",
       " (27, ((1, 2), (2, 2)), 'KICK'): 0.0,\n",
       " (6, ((3, 4), (2, 2)), 'DRIBBLE_UP'): 0.2004679185955136,\n",
       " (7, ((4, 4), (2, 2)), 'DRIBBLE_DOWN'): 0.0,\n",
       " (9, ((1, 2), (2, 2)), 'KICK'): 0.314659,\n",
       " (9, ((0, 0), (2, 2)), 'DRIBBLE_DOWN'): 0.0,\n",
       " (17, ((0, 1), (2, 2)), 'DRIBBLE_RIGHT'): 0.0,\n",
       " (3, ((2, 2), (2, 2)), 'DRIBBLE_UP'): 0.35101723498763315,\n",
       " (7, ((2, 5), (2, 2)), 'KICK'): 0.0,\n",
       " (10, ((0, 5), (2, 2)), 'DRIBBLE_LEFT'): 0.0,\n",
       " (9, ((1, 1), (2, 2)), 'DRIBBLE_UP'): 0.0,\n",
       " (5, ((2, 3), (2, 2)), 'DRIBBLE_LEFT'): 0.04908512796120642,\n",
       " (14, ((2, 4), (2, 2)), 'KICK'): 0.19,\n",
       " (2, 'GOAL', 'DRIBBLE_LEFT'): 0.0,\n",
       " (6, ((2, 1), (2, 2)), 'KICK'): 0.3886028836618074,\n",
       " (11, ((2, 4), (2, 2)), 'DRIBBLE_RIGHT'): 0.0,\n",
       " (5, ((3, 2), (2, 2)), 'DRIBBLE_DOWN'): 0.0,\n",
       " (11, ((0, 1), (2, 2)), 'DRIBBLE_RIGHT'): 0.0,\n",
       " (9, ((3, 1), (2, 2)), 'DRIBBLE_DOWN'): 0.0,\n",
       " (9, ((1, 5), (2, 2)), 'DRIBBLE_UP'): 0.0,\n",
       " (15, 'OUT_OF_BOUNDS', 'KICK'): 0.0,\n",
       " (11, ((2, 2), (2, 2)), 'DRIBBLE_UP'): 0.0,\n",
       " (2, 'OUT_OF_BOUNDS', 'DRIBBLE_DOWN'): 0.0,\n",
       " (9, ((1, 5), (2, 2)), 'KICK'): 0.0,\n",
       " (4, ((2, 1), (2, 2)), 'DRIBBLE_LEFT'): 0.13089837918310368,\n",
       " (10, ((0, 3), (2, 2)), 'DRIBBLE_DOWN'): 0.0,\n",
       " (20, ((2, 2), (2, 2)), 'DRIBBLE_RIGHT'): 0.0,\n",
       " (14, ((0, 1), (2, 2)), 'DRIBBLE_UP'): 0.0,\n",
       " (13, ((1, 3), (2, 2)), 'DRIBBLE_UP'): 0.0,\n",
       " (5, ((2, 4), (2, 2)), 'DRIBBLE_DOWN'): 0.14422539491910003,\n",
       " (16, ((1, 3), (2, 2)), 'KICK'): 0.15389999999999998,\n",
       " (5, ((0, 1), (2, 2)), 'DRIBBLE_RIGHT'): 0.03604867917375335,\n",
       " (13, ((0, 3), (2, 2)), 'KICK'): 0.0,\n",
       " (3, 'GOAL', 'KICK'): 0.0,\n",
       " (11, ((1, 2), (2, 2)), 'DRIBBLE_RIGHT'): 0.0,\n",
       " (11, ((3, 0), (2, 2)), 'DRIBBLE_LEFT'): 0.0,\n",
       " (8, ((3, 0), (2, 2)), 'DRIBBLE_UP'): 0.0,\n",
       " (4, 'OUT_OF_BOUNDS', 'DRIBBLE_DOWN'): 0.0,\n",
       " (8, ((4, 3), (2, 2)), 'DRIBBLE_DOWN'): 0.0,\n",
       " (10, 'GOAL', 'DRIBBLE_UP'): 0.0,\n",
       " (14, ((2, 5), (2, 2)), 'KICK'): 0.0,\n",
       " (10, ((2, 4), (2, 2)), 'DRIBBLE_RIGHT'): 0.0,\n",
       " (8, ((3, 5), (2, 2)), 'DRIBBLE_DOWN'): 0.0,\n",
       " (5, ((0, 0), (2, 2)), 'DRIBBLE_RIGHT'): 0.00066857753009421,\n",
       " (11, ((0, 1), (2, 2)), 'KICK'): 0.0,\n",
       " (10, ((4, 5), (2, 2)), 'KICK'): 0.0,\n",
       " (6, ((0, 1), (2, 2)), 'DRIBBLE_RIGHT'): 0.0087254588421,\n",
       " (5, ((1, 2), (2, 2)), 'DRIBBLE_UP'): 0.013213033349318592,\n",
       " (8, ((3, 2), (2, 2)), 'DRIBBLE_UP'): 0.0,\n",
       " (12, ((1, 1), (2, 2)), 'KICK'): 0.0,\n",
       " (19, ((3, 4), (2, 2)), 'DRIBBLE_LEFT'): 0.0,\n",
       " (4, ((1, 1), (2, 2)), 'DRIBBLE_RIGHT'): 0.29714728395039025,\n",
       " (15, ((1, 4), (2, 2)), 'KICK'): 0.0,\n",
       " (8, ((3, 4), (2, 2)), 'DRIBBLE_LEFT'): 0.0,\n",
       " (15, ((4, 4), (2, 2)), 'DRIBBLE_DOWN'): 0.0,\n",
       " (13, ((4, 2), (2, 2)), 'DRIBBLE_LEFT'): 0.0,\n",
       " (9, ((4, 1), (2, 2)), 'DRIBBLE_DOWN'): 0.0,\n",
       " (3, ((0, 0), (2, 2)), 'DRIBBLE_RIGHT'): 0.12567586960577984,\n",
       " (14, ((4, 5), (2, 2)), 'DRIBBLE_LEFT'): 0.0,\n",
       " (5, ((2, 2), (2, 2)), 'DRIBBLE_DOWN'): 0.051386009654337976,\n",
       " (15, ((1, 2), (2, 2)), 'KICK'): 0.0,\n",
       " (4, ((3, 2), (2, 2)), 'KICK'): 0.8478612978502488,\n",
       " (11, ((3, 5), (2, 2)), 'DRIBBLE_DOWN'): 0.0,\n",
       " (5, ((1, 4), (2, 2)), 'DRIBBLE_RIGHT'): 0.23769430324235064,\n",
       " (24, ((3, 1), (2, 2)), 'DRIBBLE_DOWN'): 0.0,\n",
       " (6, ((0, 3), (2, 2)), 'DRIBBLE_DOWN'): 0.0,\n",
       " (6, ((2, 4), (2, 2)), 'KICK'): 0.1468613425812849,\n",
       " (10, ((2, 4), (2, 2)), 'DRIBBLE_LEFT'): 0.0,\n",
       " (5, ((2, 0), (2, 2)), 'DRIBBLE_LEFT'): 0.014472475200937373,\n",
       " (11, ((2, 3), (2, 2)), 'DRIBBLE_UP'): 0.0,\n",
       " (5, ((0, 2), (2, 2)), 'DRIBBLE_UP'): 0.0357895989,\n",
       " (4, 'OUT_OF_BOUNDS', 'DRIBBLE_RIGHT'): 0.0,\n",
       " (4, ((2, 3), (2, 2)), 'DRIBBLE_UP'): -0.01622689885481873,\n",
       " (8, ((1, 1), (2, 2)), 'DRIBBLE_UP'): 0.00489569751,\n",
       " (5, ((3, 3), (2, 2)), 'DRIBBLE_UP'): 0.2717714033745056,\n",
       " (12, ((3, 4), (2, 2)), 'DRIBBLE_RIGHT'): 0.0,\n",
       " (7, ((2, 4), (2, 2)), 'KICK'): 0.22258147453245536,\n",
       " (13, 'OUT_OF_BOUNDS', 'DRIBBLE_RIGHT'): 0.0,\n",
       " (7, ((3, 0), (2, 2)), 'DRIBBLE_UP'): 0.0,\n",
       " (12, ((3, 1), (2, 2)), 'KICK'): 0.0,\n",
       " (18, ((4, 3), (2, 2)), 'DRIBBLE_RIGHT'): 0.0,\n",
       " (18, ((4, 3), (2, 2)), 'KICK'): 0.0,\n",
       " (6, ((1, 2), (2, 2)), 'DRIBBLE_UP'): 0.0031843449000000003,\n",
       " (6, ((1, 4), (2, 2)), 'DRIBBLE_UP'): 0.0,\n",
       " (2, ((1, 2), (2, 2)), 'KICK'): 0.3779417064976498,\n",
       " (7, ((0, 3), (2, 2)), 'KICK'): 0.010156490313476279,\n",
       " (3, ((1, 2), (2, 2)), 'DRIBBLE_RIGHT'): -0.144994,\n",
       " (5, ((4, 2), (2, 2)), 'DRIBBLE_DOWN'): 0.01881,\n",
       " (9, 'GOAL', 'DRIBBLE_LEFT'): 0.0,\n",
       " (12, ((3, 5), (2, 2)), 'DRIBBLE_UP'): 0.0,\n",
       " (12, ((2, 0), (2, 2)), 'DRIBBLE_LEFT'): 0.0,\n",
       " (10, ((3, 2), (2, 2)), 'DRIBBLE_LEFT'): -0.04000000000000001,\n",
       " (9, ((1, 5), (2, 2)), 'DRIBBLE_DOWN'): 0.0,\n",
       " (6, ((0, 4), (2, 2)), 'KICK'): 0.0,\n",
       " (9, ((2, 3), (2, 2)), 'KICK'): 0.27855900000000006,\n",
       " (10, ((3, 4), (2, 2)), 'DRIBBLE_LEFT'): 0.0,\n",
       " (3, ((1, 3), (2, 2)), 'DRIBBLE_RIGHT'): 0.4133777249018844,\n",
       " (12, ((1, 4), (2, 2)), 'DRIBBLE_RIGHT'): 0.0,\n",
       " (4, ((1, 2), (2, 2)), 'KICK'): 0.10550369804788406,\n",
       " (10, ((1, 2), (2, 2)), 'KICK'): 0.0,\n",
       " (5, ((1, 0), (2, 2)), 'DRIBBLE_LEFT'): 0.06299390207328036,\n",
       " (7, ((1, 2), (2, 2)), 'KICK'): 0.007945048483489547,\n",
       " (5, ((1, 5), (2, 2)), 'KICK'): 0.0,\n",
       " (17, ((4, 4), (2, 2)), 'DRIBBLE_UP'): 0.0,\n",
       " (8, ((2, 4), (2, 2)), 'KICK'): 0.3713316797741365,\n",
       " (8, ((3, 0), (2, 2)), 'DRIBBLE_RIGHT'): 0.0,\n",
       " (9, ((4, 4), (2, 2)), 'DRIBBLE_LEFT'): 0.0,\n",
       " (16, ((1, 4), (2, 2)), 'DRIBBLE_UP'): 0.0,\n",
       " (14, ((2, 4), (2, 2)), 'DRIBBLE_LEFT'): 0.0,\n",
       " (8, ((0, 5), (2, 2)), 'DRIBBLE_UP'): 0.0,\n",
       " (2, ((0, 2), (2, 2)), 'DRIBBLE_DOWN'): 0.32810739704699315,\n",
       " (15, ((0, 4), (2, 2)), 'DRIBBLE_UP'): 0.0,\n",
       " (13, ((3, 1), (2, 2)), 'DRIBBLE_DOWN'): 0.0,\n",
       " (10, ((2, 3), (2, 2)), 'DRIBBLE_RIGHT'): 0.048080241,\n",
       " (8, ((2, 4), (2, 2)), 'DRIBBLE_LEFT'): 0.0,\n",
       " (5, ((0, 3), (2, 2)), 'DRIBBLE_RIGHT'): 0.27928525672047094,\n",
       " (1, ((0, 2), (2, 2)), 'DRIBBLE_RIGHT'): 0.3630751339243112,\n",
       " (11, ((1, 3), (2, 2)), 'DRIBBLE_DOWN'): 0.0,\n",
       " (15, ((2, 3), (2, 2)), 'DRIBBLE_LEFT'): 0.0,\n",
       " (11, ((4, 1), (2, 2)), 'DRIBBLE_DOWN'): 0.0,\n",
       " (4, ((0, 5), (2, 2)), 'DRIBBLE_LEFT'): 0.08813594790000001,\n",
       " (13, 'GOAL', 'KICK'): 0.0,\n",
       " (9, ((4, 0), (2, 2)), 'DRIBBLE_UP'): 0.0,\n",
       " (19, ((0, 1), (2, 2)), 'DRIBBLE_RIGHT'): 0.0,\n",
       " (2, ((0, 1), (2, 2)), 'KICK'): 0.041827814697421015,\n",
       " (11, ((1, 4), (2, 2)), 'DRIBBLE_UP'): 0.0,\n",
       " (13, 'GOAL', 'DRIBBLE_UP'): 0.0,\n",
       " (3, ((0, 3), (2, 2)), 'DRIBBLE_LEFT'): 0.1521905099922466,\n",
       " (13, ((4, 4), (2, 2)), 'DRIBBLE_RIGHT'): 0.0,\n",
       " (5, ((2, 4), (2, 2)), 'DRIBBLE_UP'): 0.1270377662098714,\n",
       " (5, ((0, 5), (2, 2)), 'DRIBBLE_RIGHT'): 0.0,\n",
       " (5, ((1, 4), (2, 2)), 'KICK'): 0.0,\n",
       " (13, ((2, 4), (2, 2)), 'DRIBBLE_UP'): 0.0,\n",
       " (7, ((4, 2), (2, 2)), 'DRIBBLE_DOWN'): 0.0,\n",
       " (7, ((2, 3), (2, 2)), 'DRIBBLE_DOWN'): 0.05218640106516687,\n",
       " (6, 'OUT_OF_BOUNDS', 'DRIBBLE_UP'): 0.0,\n",
       " (7, ((4, 1), (2, 2)), 'DRIBBLE_LEFT'): 0.01881,\n",
       " (4, ((0, 4), (2, 2)), 'DRIBBLE_UP'): 0.28545557120139053,\n",
       " (10, ((1, 0), (2, 2)), 'DRIBBLE_DOWN'): 0.0,\n",
       " (10, ((1, 4), (2, 2)), 'DRIBBLE_LEFT'): 0.0,\n",
       " (6, ((3, 0), (2, 2)), 'DRIBBLE_LEFT'): 0.025826002523509726,\n",
       " (12, ((2, 3), (2, 2)), 'KICK'): 0.0,\n",
       " (7, ((3, 1), (2, 2)), 'KICK'): 0.0,\n",
       " (4, ((2, 3), (2, 2)), 'DRIBBLE_DOWN'): 0.2876393506505568,\n",
       " (9, ((3, 1), (2, 2)), 'DRIBBLE_LEFT'): 0.0,\n",
       " (6, ((0, 1), (2, 2)), 'DRIBBLE_UP'): 0.0,\n",
       " (11, ((1, 3), (2, 2)), 'DRIBBLE_LEFT'): 0.0,\n",
       " (26, ((2, 2), (2, 2)), 'KICK'): 0.0,\n",
       " (9, ((1, 1), (2, 2)), 'DRIBBLE_DOWN'): 0.0,\n",
       " (10, ((4, 3), (2, 2)), 'DRIBBLE_LEFT'): 0.0,\n",
       " (13, ((4, 4), (2, 2)), 'DRIBBLE_DOWN'): 0.0,\n",
       " (7, ((0, 0), (2, 2)), 'DRIBBLE_DOWN'): 0.08813594790000001,\n",
       " (14, ((0, 1), (2, 2)), 'KICK'): 0.0,\n",
       " (14, ((3, 1), (2, 2)), 'DRIBBLE_DOWN'): 0.0,\n",
       " (7, ((1, 3), (2, 2)), 'DRIBBLE_UP'): 0.0,\n",
       " (7, ((0, 4), (2, 2)), 'DRIBBLE_RIGHT'): 0.0,\n",
       " (6, ((2, 5), (2, 2)), 'KICK'): 0.27855900000000006,\n",
       " (5, ((1, 1), (2, 2)), 'DRIBBLE_DOWN'): 0.15176541634714472,\n",
       " (16, ((2, 2), (2, 2)), 'KICK'): 0.0,\n",
       " (11, ((2, 5), (2, 2)), 'DRIBBLE_DOWN'): 0.0,\n",
       " (13, ((0, 4), (2, 2)), 'KICK'): 0.0,\n",
       " (11, 'OUT_OF_BOUNDS', 'DRIBBLE_RIGHT'): 0.0,\n",
       " (8, ((0, 2), (2, 2)), 'DRIBBLE_RIGHT'): 0.015236099999999997,\n",
       " (14, ((0, 1), (2, 2)), 'DRIBBLE_DOWN'): 0.0,\n",
       " (8, ((2, 0), (2, 2)), 'DRIBBLE_RIGHT'): 0.0,\n",
       " (6, ((2, 0), (2, 2)), 'DRIBBLE_UP'): 0.0397276046011517,\n",
       " (7, ((0, 2), (2, 2)), 'DRIBBLE_DOWN'): 0.0,\n",
       " (15, ((0, 0), (2, 2)), 'DRIBBLE_UP'): 0.0,\n",
       " (8, ((1, 2), (2, 2)), 'KICK'): 0.31505940118994585,\n",
       " (10, ((3, 3), (2, 2)), 'DRIBBLE_DOWN'): 0.0,\n",
       " (11, ((0, 1), (2, 2)), 'DRIBBLE_LEFT'): 0.0,\n",
       " (6, ((0, 5), (2, 2)), 'DRIBBLE_LEFT'): 0.0,\n",
       " (6, ((1, 0), (2, 2)), 'DRIBBLE_DOWN'): 0.02958436973298693,\n",
       " (13, ((3, 2), (2, 2)), 'DRIBBLE_RIGHT'): 0.0,\n",
       " (4, ((1, 4), (2, 2)), 'DRIBBLE_RIGHT'): 0.2013909512506621,\n",
       " (3, ((0, 1), (2, 2)), 'KICK'): 0.024084494247516623,\n",
       " (3, ((0, 4), (2, 2)), 'DRIBBLE_RIGHT'): 0.17676779225719508,\n",
       " (7, ((0, 0), (2, 2)), 'DRIBBLE_LEFT'): 0.0,\n",
       " (6, ((3, 2), (2, 2)), 'DRIBBLE_RIGHT'): 0.01881,\n",
       " (8, ((2, 2), (2, 2)), 'DRIBBLE_RIGHT'): 0.0,\n",
       " (9, ((2, 4), (2, 2)), 'DRIBBLE_DOWN'): 0.0,\n",
       " (14, ((0, 0), (2, 2)), 'DRIBBLE_LEFT'): 0.0,\n",
       " (14, ((0, 2), (2, 2)), 'DRIBBLE_UP'): 0.0,\n",
       " (22, ((2, 2), (2, 2)), 'DRIBBLE_UP'): 0.0,\n",
       " (11, 'GOAL', 'DRIBBLE_LEFT'): 0.0,\n",
       " (15, ((0, 1), (2, 2)), 'DRIBBLE_UP'): 0.0,\n",
       " (4, ((2, 1), (2, 2)), 'KICK'): 0.45603333865013496,\n",
       " (8, ((4, 1), (2, 2)), 'DRIBBLE_RIGHT'): 0.0,\n",
       " (6, ((4, 1), (2, 2)), 'DRIBBLE_RIGHT'): 0.0,\n",
       " (4, ((0, 0), (2, 2)), 'DRIBBLE_UP'): 0.16655348794753705,\n",
       " (5, ((3, 1), (2, 2)), 'DRIBBLE_UP'): 0.013853037161510911,\n",
       " (4, ((0, 3), (2, 2)), 'DRIBBLE_UP'): 0.27658784360731337,\n",
       " (11, 'GOAL', 'KICK'): 0.0,\n",
       " (14, ((1, 0), (2, 2)), 'DRIBBLE_UP'): 0.0,\n",
       " (7, ((4, 0), (2, 2)), 'DRIBBLE_RIGHT'): 0.01881,\n",
       " (7, ((3, 3), (2, 2)), 'DRIBBLE_UP'): 0.0,\n",
       " (7, 'OUT_OF_BOUNDS', 'KICK'): 0.0,\n",
       " (14, ((1, 0), (2, 2)), 'DRIBBLE_DOWN'): 0.0,\n",
       " (8, ((1, 5), (2, 2)), 'DRIBBLE_RIGHT'): 0.0,\n",
       " (3, ((1, 3), (2, 2)), 'DRIBBLE_LEFT'): 0.3265835296239824,\n",
       " (2, 'GOAL', 'KICK'): 0.0,\n",
       " (17, ((3, 4), (2, 2)), 'DRIBBLE_UP'): 0.0,\n",
       " (8, ((0, 1), (2, 2)), 'KICK'): 0.19,\n",
       " (25, ((2, 1), (2, 2)), 'DRIBBLE_DOWN'): -0.04000000000000001,\n",
       " (6, ((3, 0), (2, 2)), 'KICK'): 0.0,\n",
       " (7, ((3, 5), (2, 2)), 'KICK'): 0.0,\n",
       " (10, ((2, 0), (2, 2)), 'DRIBBLE_RIGHT'): 0.0,\n",
       " (3, ((1, 1), (2, 2)), 'DRIBBLE_UP'): 0.16519945832406205,\n",
       " (19, 'GOAL', 'DRIBBLE_UP'): 0.0,\n",
       " (6, ((1, 5), (2, 2)), 'DRIBBLE_LEFT'): 0.0,\n",
       " (9, ((4, 2), (2, 2)), 'DRIBBLE_DOWN'): 0.0,\n",
       " (3, 'OUT_OF_BOUNDS', 'DRIBBLE_DOWN'): 0.0,\n",
       " (6, ((2, 5), (2, 2)), 'DRIBBLE_DOWN'): 0.0,\n",
       " (13, ((0, 3), (2, 2)), 'DRIBBLE_UP'): 0.0,\n",
       " (9, ((2, 4), (2, 2)), 'DRIBBLE_LEFT'): 0.0,\n",
       " (20, ((1, 1), (2, 2)), 'DRIBBLE_LEFT'): 0.0,\n",
       " (9, ((0, 0), (2, 2)), 'DRIBBLE_LEFT'): 0.0,\n",
       " (10, ((2, 3), (2, 2)), 'DRIBBLE_LEFT'): 0.0,\n",
       " (7, ((1, 0), (2, 2)), 'DRIBBLE_RIGHT'): 0.00043471335798,\n",
       " (11, ((4, 0), (2, 2)), 'DRIBBLE_LEFT'): 0.0,\n",
       " (7, ((0, 4), (2, 2)), 'DRIBBLE_UP'): 0.015236099999999997,\n",
       " (6, ((3, 4), (2, 2)), 'DRIBBLE_DOWN'): 0.0,\n",
       " (7, ((1, 5), (2, 2)), 'KICK'): 0.0,\n",
       " (20, ((2, 2), (2, 2)), 'KICK'): 0.0,\n",
       " (9, 'OUT_OF_BOUNDS', 'DRIBBLE_DOWN'): 0.0,\n",
       " (7, ((2, 3), (2, 2)), 'DRIBBLE_RIGHT'): -0.04000000000000001,\n",
       " (6, ((3, 3), (2, 2)), 'DRIBBLE_UP'): 0.0,\n",
       " (11, ((1, 0), (2, 2)), 'DRIBBLE_RIGHT'): 0.0,\n",
       " (7, ((1, 1), (2, 2)), 'DRIBBLE_UP'): 0.0,\n",
       " (4, 'OUT_OF_BOUNDS', 'DRIBBLE_UP'): 0.0,\n",
       " (9, ((1, 5), (2, 2)), 'DRIBBLE_RIGHT'): 0.0,\n",
       " (8, ((2, 3), (2, 2)), 'DRIBBLE_UP'): -0.04000000000000001,\n",
       " (9, 'GOAL', 'DRIBBLE_UP'): 0.0,\n",
       " (21, ((3, 2), (2, 2)), 'DRIBBLE_LEFT'): -0.04000000000000001,\n",
       " (8, 'GOAL', 'DRIBBLE_UP'): 0.0,\n",
       " (9, ((2, 1), (2, 2)), 'DRIBBLE_LEFT'): 0.01881,\n",
       " (7, ((0, 1), (2, 2)), 'DRIBBLE_UP'): 0.0,\n",
       " (19, ((3, 2), (2, 2)), 'DRIBBLE_LEFT'): -0.04000000000000001,\n",
       " (5, ((1, 1), (2, 2)), 'DRIBBLE_LEFT'): 0.052344645568281,\n",
       " (13, ((1, 2), (2, 2)), 'KICK'): 0.0,\n",
       " (5, ((0, 0), (2, 2)), 'DRIBBLE_UP'): 0.0015083738999999998,\n",
       " (6, ((1, 1), (2, 2)), 'DRIBBLE_LEFT'): 4.781846937780001e-05,\n",
       " (7, ((2, 0), (2, 2)), 'DRIBBLE_UP'): 0.001459958449752,\n",
       " (8, ((0, 4), (2, 2)), 'DRIBBLE_UP'): 0.0,\n",
       " (7, ((4, 1), (2, 2)), 'DRIBBLE_UP'): 0.0,\n",
       " (11, ((0, 3), (2, 2)), 'DRIBBLE_RIGHT'): 0.0,\n",
       " (15, ((3, 2), (2, 2)), 'KICK'): 0.0,\n",
       " (17, ((1, 3), (2, 2)), 'DRIBBLE_RIGHT'): 0.0,\n",
       " (7, ((3, 2), (2, 2)), 'KICK'): 0.19,\n",
       " (22, 'OUT_OF_BOUNDS', 'DRIBBLE_LEFT'): 0.0,\n",
       " (6, ((1, 5), (2, 2)), 'DRIBBLE_RIGHT'): 0.0,\n",
       " (5, ((2, 2), (2, 2)), 'DRIBBLE_LEFT'): 0.006929389744933988,\n",
       " (10, ((2, 2), (2, 2)), 'DRIBBLE_LEFT'): 0.0,\n",
       " (7, ((2, 5), (2, 2)), 'DRIBBLE_DOWN'): 0.0,\n",
       " (13, ((0, 0), (2, 2)), 'DRIBBLE_UP'): 0.0,\n",
       " (9, ((1, 0), (2, 2)), 'DRIBBLE_RIGHT'): 0.0,\n",
       " (10, ((1, 0), (2, 2)), 'DRIBBLE_LEFT'): 0.0,\n",
       " (11, ((2, 4), (2, 2)), 'KICK'): 0.0,\n",
       " (9, ((1, 4), (2, 2)), 'KICK'): 0.0,\n",
       " (4, ((0, 5), (2, 2)), 'KICK'): 0.0,\n",
       " (18, ((1, 1), (2, 2)), 'DRIBBLE_LEFT'): 0.0,\n",
       " (5, ((0, 2), (2, 2)), 'DRIBBLE_DOWN'): 0.3087067224636361,\n",
       " (9, ((2, 2), (2, 2)), 'DRIBBLE_DOWN'): 0.0,\n",
       " (7, 'GOAL', 'KICK'): 0.0,\n",
       " (15, ((0, 5), (2, 2)), 'KICK'): 0.0,\n",
       " (6, ((2, 1), (2, 2)), 'DRIBBLE_LEFT'): 0.03515258845992207,\n",
       " (17, ((3, 4), (2, 2)), 'DRIBBLE_RIGHT'): 0.0,\n",
       " (18, ((0, 2), (2, 2)), 'DRIBBLE_RIGHT'): 0.0,\n",
       " (14, 'GOAL', 'DRIBBLE_DOWN'): 0.0,\n",
       " (21, ((1, 4), (2, 2)), 'DRIBBLE_RIGHT'): 0.0,\n",
       " (9, ((0, 5), (2, 2)), 'DRIBBLE_UP'): 0.0,\n",
       " (5, ((1, 3), (2, 2)), 'DRIBBLE_LEFT'): 0.0,\n",
       " (6, ((1, 4), (2, 2)), 'DRIBBLE_DOWN'): 0.0,\n",
       " (6, 'GOAL', 'DRIBBLE_DOWN'): 0.0,\n",
       " (10, 'OUT_OF_BOUNDS', 'DRIBBLE_UP'): 0.0,\n",
       " (5, ((0, 4), (2, 2)), 'DRIBBLE_RIGHT'): 0.0,\n",
       " (18, ((2, 0), (2, 2)), 'KICK'): 0.19,\n",
       " (14, ((2, 2), (2, 2)), 'DRIBBLE_DOWN'): 0.0,\n",
       " (13, ((2, 5), (2, 2)), 'DRIBBLE_UP'): 0.0,\n",
       " (11, ((4, 0), (2, 2)), 'KICK'): 0.0,\n",
       " (4, ((1, 3), (2, 2)), 'DRIBBLE_DOWN'): 0.03635890124341397,\n",
       " (6, ((0, 4), (2, 2)), 'DRIBBLE_LEFT'): 0.0,\n",
       " (9, ((2, 0), (2, 2)), 'DRIBBLE_UP'): 0.0,\n",
       " (6, ((2, 4), (2, 2)), 'DRIBBLE_DOWN'): 0.0,\n",
       " (11, ((0, 1), (2, 2)), 'DRIBBLE_DOWN'): 0.0,\n",
       " (3, ((0, 1), (2, 2)), 'DRIBBLE_LEFT'): 0.09136026313670392,\n",
       " (9, ((2, 5), (2, 2)), 'DRIBBLE_DOWN'): 0.015236099999999997,\n",
       " (7, ((3, 1), (2, 2)), 'DRIBBLE_LEFT'): 0.0715285989,\n",
       " (7, ((0, 5), (2, 2)), 'DRIBBLE_UP'): 0.0,\n",
       " (5, ((0, 1), (2, 2)), 'DRIBBLE_DOWN'): 0.0973700300838963,\n",
       " (7, ((0, 3), (2, 2)), 'DRIBBLE_LEFT'): 0.0,\n",
       " (14, ((1, 5), (2, 2)), 'DRIBBLE_UP'): 0.0,\n",
       " (10, ((0, 5), (2, 2)), 'DRIBBLE_UP'): 0.0,\n",
       " (7, ((4, 3), (2, 2)), 'DRIBBLE_UP'): 0.01881,\n",
       " (7, ((0, 4), (2, 2)), 'DRIBBLE_LEFT'): 0.0,\n",
       " (12, 'GOAL', 'DRIBBLE_DOWN'): 0.0,\n",
       " (11, ((4, 3), (2, 2)), 'DRIBBLE_UP'): 0.0,\n",
       " (13, ((0, 1), (2, 2)), 'DRIBBLE_LEFT'): 0.0,\n",
       " (3, ((0, 3), (2, 2)), 'DRIBBLE_DOWN'): 0.08608641495990847,\n",
       " (14, ((0, 4), (2, 2)), 'DRIBBLE_LEFT'): 0.0,\n",
       " (24, ((3, 1), (2, 2)), 'KICK'): 0.0,\n",
       " (5, ((2, 2), (2, 2)), 'KICK'): 0.3610607410623228,\n",
       " (17, 'OUT_OF_BOUNDS', 'DRIBBLE_LEFT'): 0.0,\n",
       " (15, ((2, 3), (2, 2)), 'DRIBBLE_RIGHT'): 0.0,\n",
       " (3, 'GOAL', 'DRIBBLE_LEFT'): 0.0,\n",
       " (9, ((0, 1), (2, 2)), 'DRIBBLE_UP'): 0.0,\n",
       " (5, ((2, 0), (2, 2)), 'KICK'): 0.15389999999999998,\n",
       " (10, ((0, 5), (2, 2)), 'DRIBBLE_RIGHT'): 0.0,\n",
       " (10, ((4, 0), (2, 2)), 'DRIBBLE_LEFT'): 0.0,\n",
       " (9, ((1, 2), (2, 2)), 'DRIBBLE_RIGHT'): -0.04000000000000001,\n",
       " (7, ((3, 3), (2, 2)), 'DRIBBLE_RIGHT'): 0.01881,\n",
       " (7, 'OUT_OF_BOUNDS', 'DRIBBLE_LEFT'): 0.0,\n",
       " (9, ((0, 2), (2, 2)), 'KICK'): 0.0,\n",
       " (6, ((2, 3), (2, 2)), 'DRIBBLE_LEFT'): 0.0,\n",
       " (3, ((0, 0), (2, 2)), 'DRIBBLE_UP'): 0.19517492321557275,\n",
       " (9, ((3, 3), (2, 2)), 'KICK'): 0.34390000000000004,\n",
       " (20, ((1, 1), (2, 2)), 'DRIBBLE_UP'): 0.0,\n",
       " (12, ((1, 3), (2, 2)), 'KICK'): 0.0,\n",
       " (4, ((0, 3), (2, 2)), 'DRIBBLE_RIGHT'): 0.3846523029916815,\n",
       " (16, ((1, 4), (2, 2)), 'DRIBBLE_LEFT'): 0.0,\n",
       " (4, ((0, 0), (2, 2)), 'DRIBBLE_DOWN'): 0.04872616818713532,\n",
       " (13, ((0, 0), (2, 2)), 'DRIBBLE_DOWN'): 0.0,\n",
       " (13, ((3, 0), (2, 2)), 'DRIBBLE_LEFT'): 0.0,\n",
       " (11, ((1, 0), (2, 2)), 'DRIBBLE_DOWN'): 0.0,\n",
       " (6, ((0, 3), (2, 2)), 'DRIBBLE_UP'): 0.0,\n",
       " (7, ((2, 3), (2, 2)), 'DRIBBLE_UP'): -0.026809843289457104,\n",
       " (7, ((0, 3), (2, 2)), 'DRIBBLE_DOWN'): 0.0,\n",
       " (9, ((3, 1), (2, 2)), 'KICK'): 0.0,\n",
       " (9, ((2, 5), (2, 2)), 'KICK'): 0.0,\n",
       " (8, ((0, 5), (2, 2)), 'DRIBBLE_DOWN'): 0.0,\n",
       " (9, ((2, 2), (2, 2)), 'KICK'): 0.2862349011840009,\n",
       " (9, ((0, 1), (2, 2)), 'DRIBBLE_LEFT'): 0.0,\n",
       " (2, ((0, 3), (2, 2)), 'DRIBBLE_DOWN'): 0.2644963504090261,\n",
       " (2, ((0, 1), (2, 2)), 'DRIBBLE_LEFT'): 0.24294289076019046,\n",
       " (5, ((3, 3), (2, 2)), 'DRIBBLE_RIGHT'): 0.11522620601910001,\n",
       " (8, ((0, 0), (2, 2)), 'DRIBBLE_UP'): 0.0,\n",
       " (6, ((0, 4), (2, 2)), 'DRIBBLE_RIGHT'): 0.0,\n",
       " (6, ((0, 5), (2, 2)), 'DRIBBLE_UP'): 0.0,\n",
       " (6, ((2, 1), (2, 2)), 'DRIBBLE_UP'): 0.012409705367301526,\n",
       " (4, ((3, 2), (2, 2)), 'DRIBBLE_RIGHT'): 0.04945149,\n",
       " (6, ((2, 2), (2, 2)), 'DRIBBLE_UP'): 0.0,\n",
       " (6, 'GOAL', 'DRIBBLE_UP'): 0.0,\n",
       " (3, 'GOAL', 'DRIBBLE_DOWN'): 0.0,\n",
       " (14, ((4, 5), (2, 2)), 'DRIBBLE_RIGHT'): 0.0,\n",
       " (9, ((0, 5), (2, 2)), 'DRIBBLE_RIGHT'): 0.0,\n",
       " (10, ((2, 1), (2, 2)), 'DRIBBLE_RIGHT'): 0.0,\n",
       " (6, ((3, 1), (2, 2)), 'KICK'): 0.0,\n",
       " (9, ((2, 3), (2, 2)), 'DRIBBLE_UP'): 0.0,\n",
       " (5, ((2, 3), (2, 2)), 'KICK'): 0.48882843399916265,\n",
       " (9, ((4, 1), (2, 2)), 'KICK'): 0.0,\n",
       " (9, 'OUT_OF_BOUNDS', 'DRIBBLE_LEFT'): 0.0,\n",
       " (5, ((1, 3), (2, 2)), 'KICK'): 0.22821514017347877,\n",
       " (12, ((1, 1), (2, 2)), 'DRIBBLE_RIGHT'): 0.0,\n",
       " (6, 'OUT_OF_BOUNDS', 'DRIBBLE_RIGHT'): 0.0,\n",
       " (12, ((0, 2), (2, 2)), 'KICK'): 0.19,\n",
       " (6, ((3, 3), (2, 2)), 'KICK'): 0.15389999999999998,\n",
       " (15, 'OUT_OF_BOUNDS', 'DRIBBLE_DOWN'): 0.0,\n",
       " (12, ((3, 3), (2, 2)), 'DRIBBLE_UP'): 0.0,\n",
       " (15, ((4, 4), (2, 2)), 'KICK'): 0.19,\n",
       " (14, ((1, 5), (2, 2)), 'DRIBBLE_DOWN'): 0.0,\n",
       " (7, 'GOAL', 'DRIBBLE_LEFT'): 0.0,\n",
       " (10, ((0, 2), (2, 2)), 'KICK'): 0.0,\n",
       " (6, ((0, 1), (2, 2)), 'KICK'): 0.050589904542643484,\n",
       " (9, 'GOAL', 'DRIBBLE_DOWN'): 0.0,\n",
       " (12, 'GOAL', 'DRIBBLE_UP'): 0.0,\n",
       " (4, 'GOAL', 'DRIBBLE_UP'): 0.0,\n",
       " (11, ((1, 1), (2, 2)), 'KICK'): 0.0,\n",
       " (8, ((3, 4), (2, 2)), 'DRIBBLE_RIGHT'): 0.0,\n",
       " (7, ((2, 2), (2, 2)), 'DRIBBLE_RIGHT'): 0.0,\n",
       " (6, ((3, 0), (2, 2)), 'DRIBBLE_RIGHT'): 0.0509751,\n",
       " (6, ((3, 2), (2, 2)), 'DRIBBLE_LEFT'): -0.06076390000000001,\n",
       " (3, ((0, 4), (2, 2)), 'DRIBBLE_UP'): 0.2682732597873703,\n",
       " (7, ((0, 5), (2, 2)), 'DRIBBLE_LEFT'): 0.0,\n",
       " (6, ((0, 0), (2, 2)), 'DRIBBLE_LEFT'): 0.0,\n",
       " (8, ((3, 5), (2, 2)), 'DRIBBLE_LEFT'): 0.0,\n",
       " (10, ((1, 1), (2, 2)), 'DRIBBLE_UP'): 0.0,\n",
       " (11, ((1, 5), (2, 2)), 'DRIBBLE_UP'): 0.0,\n",
       " (9, ((3, 2), (2, 2)), 'DRIBBLE_RIGHT'): 0.0,\n",
       " (16, 'GOAL', 'DRIBBLE_LEFT'): 0.0,\n",
       " (17, ((2, 1), (2, 2)), 'DRIBBLE_DOWN'): 0.0,\n",
       " (6, ((3, 0), (2, 2)), 'DRIBBLE_UP'): 0.0,\n",
       " (3, ((0, 2), (2, 2)), 'KICK'): 0.003092824539193788,\n",
       " (12, ((1, 4), (2, 2)), 'KICK'): 0.0,\n",
       " (13, ((3, 1), (2, 2)), 'KICK'): 0.0,\n",
       " (2, 'OUT_OF_BOUNDS', 'DRIBBLE_UP'): 0.0,\n",
       " (12, ((3, 1), (2, 2)), 'DRIBBLE_RIGHT'): 0.0,\n",
       " (5, ((3, 1), (2, 2)), 'DRIBBLE_DOWN'): 0.14162039354946782,\n",
       " (5, ((1, 2), (2, 2)), 'DRIBBLE_LEFT'): 0.006396483132694294,\n",
       " (18, 'OUT_OF_BOUNDS', 'KICK'): 0.0,\n",
       " (17, ((0, 4), (2, 2)), 'KICK'): 0.0,\n",
       " (2, ((1, 2), (2, 2)), 'DRIBBLE_DOWN'): 0.41441547738546874,\n",
       " (10, ((2, 5), (2, 2)), 'DRIBBLE_DOWN'): 0.0,\n",
       " (4, ((1, 1), (2, 2)), 'KICK'): 0.0,\n",
       " (13, ((0, 5), (2, 2)), 'DRIBBLE_DOWN'): 0.0,\n",
       " (15, ((1, 4), (2, 2)), 'DRIBBLE_RIGHT'): 0.0,\n",
       " (28, 'OUT_OF_BOUNDS', 'DRIBBLE_RIGHT'): 0.0,\n",
       " (3, ((2, 2), (2, 2)), 'DRIBBLE_RIGHT'): 0.624419592949941,\n",
       " (8, ((2, 2), (2, 2)), 'KICK'): 0.0,\n",
       " (4, ((1, 3), (2, 2)), 'KICK'): 0.27439655034196686,\n",
       " (25, ((2, 1), (2, 2)), 'DRIBBLE_UP'): 0.0,\n",
       " (5, 'OUT_OF_BOUNDS', 'DRIBBLE_LEFT'): 0.0,\n",
       " (3, ((1, 2), (2, 2)), 'DRIBBLE_LEFT'): 0.05850719547319373,\n",
       " (6, ((2, 3), (2, 2)), 'DRIBBLE_UP'): -0.04000000000000001,\n",
       " (11, ((2, 1), (2, 2)), 'KICK'): 0.0,\n",
       " (3, ((1, 1), (2, 2)), 'DRIBBLE_DOWN'): 0.2086699091292297,\n",
       " (8, ((2, 5), (2, 2)), 'DRIBBLE_DOWN'): 0.0,\n",
       " (14, 'OUT_OF_BOUNDS', 'DRIBBLE_RIGHT'): 0.0,\n",
       " (8, ((0, 2), (2, 2)), 'DRIBBLE_DOWN'): 0.0,\n",
       " ...}"
      ]
     },
     "execution_count": 146,
     "metadata": {},
     "output_type": "execute_result"
    }
   ],
   "source": [
    "Q"
   ]
  },
  {
   "cell_type": "code",
   "execution_count": 144,
   "metadata": {},
   "outputs": [
    {
     "data": {
      "text/plain": [
       "defaultdict(float,\n",
       "            {(3, ((1, 1), (2, 2)), 'DRIBBLE_DOWN'): 0.2086699091292297,\n",
       "             (3, ((1, 1), (2, 2)), 'DRIBBLE_LEFT'): 0.2396025740361085,\n",
       "             (3, ((1, 1), (2, 2)), 'DRIBBLE_RIGHT'): 0.3465282283283855,\n",
       "             (3, ((1, 1), (2, 2)), 'DRIBBLE_UP'): 0.16519945832406205,\n",
       "             (3, ((1, 1), (2, 2)), 'KICK'): 0.003125928101668868})"
      ]
     },
     "execution_count": 144,
     "metadata": {},
     "output_type": "execute_result"
    }
   ],
   "source": [
    "timeState = (3, ((1, 1), (2, 2)))\n",
    "S = defaultdict(float)\n",
    "for item in Q:\n",
    "    if item[0:2] == timeState:\n",
    "        S[item] = Q[item]\n",
    "S"
   ]
  },
  {
   "cell_type": "code",
   "execution_count": 145,
   "metadata": {},
   "outputs": [
    {
     "data": {
      "text/plain": [
       "'DRIBBLE_RIGHT'"
      ]
     },
     "execution_count": 145,
     "metadata": {},
     "output_type": "execute_result"
    }
   ],
   "source": [
    "optimalAction = max(S.items(), key=operator.itemgetter(1))[0][2]\n",
    "optimalAction"
   ]
  },
  {
   "cell_type": "code",
   "execution_count": 149,
   "metadata": {},
   "outputs": [],
   "source": [
    "hello = 'a'"
   ]
  },
  {
   "cell_type": "code",
   "execution_count": 150,
   "metadata": {},
   "outputs": [
    {
     "name": "stdout",
     "output_type": "stream",
     "text": [
      "c\n"
     ]
    }
   ],
   "source": [
    "if hello:\n",
    "    print('c')"
   ]
  },
  {
   "cell_type": "code",
   "execution_count": 173,
   "metadata": {},
   "outputs": [
    {
     "data": {
      "text/plain": [
       "{('OUT_OF_BOUNDS', 'DRIBBLE_DOWN'): 0.0,\n",
       " (((0, 2), (2, 2)), 'DRIBBLE_RIGHT'): 0.0,\n",
       " (((1, 1), (2, 2)), 'DRIBBLE_LEFT'): 0.027577341,\n",
       " (((4, 1), (2, 2)), 'DRIBBLE_RIGHT'): 0.0}"
      ]
     },
     "execution_count": 173,
     "metadata": {},
     "output_type": "execute_result"
    }
   ],
   "source": [
    "Q = {(((1, 1), (2, 2)), 'DRIBBLE_LEFT'): 0.027577341, (((4, 1), (2, 2)), 'DRIBBLE_RIGHT'): 0.0, (((0, 2), (2, 2)), 'DRIBBLE_RIGHT'): 0.0, ('OUT_OF_BOUNDS', 'DRIBBLE_DOWN'): 0.0}\n",
    "Q"
   ]
  },
  {
   "cell_type": "code",
   "execution_count": 193,
   "metadata": {},
   "outputs": [
    {
     "name": "stdout",
     "output_type": "stream",
     "text": [
      "(((4, 1), (2, 2)),)\n",
      "('OUT_OF_BOUNDS',)\n",
      "(((1, 1), (2, 2)),)\n",
      "(((0, 2), (2, 2)),)\n"
     ]
    },
    {
     "data": {
      "text/plain": [
       "defaultdict(float, {})"
      ]
     },
     "execution_count": 193,
     "metadata": {},
     "output_type": "execute_result"
    }
   ],
   "source": [
    "state = 'OUT_OF_BOUNDS'\n",
    "S = defaultdict(float)\n",
    "for item in Q:\n",
    "    print(item[:1])\n",
    "    if item[:1] == state:\n",
    "        print('hello')\n",
    "        S[item] = Q[item]\n",
    "S"
   ]
  },
  {
   "cell_type": "code",
   "execution_count": 171,
   "metadata": {},
   "outputs": [
    {
     "data": {
      "text/plain": [
       "defaultdict(float, {})"
      ]
     },
     "execution_count": 171,
     "metadata": {},
     "output_type": "execute_result"
    }
   ],
   "source": [
    "S"
   ]
  },
  {
   "cell_type": "code",
   "execution_count": 215,
   "metadata": {},
   "outputs": [
    {
     "data": {
      "text/plain": [
       "defaultdict(float, {(((1, 1), (2, 2)), 'DRIBBLE_LEFT'): 0.027577341})"
      ]
     },
     "execution_count": 215,
     "metadata": {},
     "output_type": "execute_result"
    }
   ],
   "source": [
    "Q = defaultdict(float)\n",
    "Q = {(((1, 1), (2, 2)), 'DRIBBLE_LEFT'): 0.027577341, (((4, 1), (2, 2)), 'DRIBBLE_RIGHT'): 0.0, (((0, 2), (2, 2)), 'DRIBBLE_RIGHT'): 0.0, ('OUT_OF_BOUNDS', 'DRIBBLE_DOWN'): 0.0}\n",
    "state = ((1, 1), (2, 2))\n",
    "S = defaultdict(float)\n",
    "for item in Q:\n",
    "    if item[0] == state:\n",
    "        S[item] = Q[item]\n",
    "S"
   ]
  },
  {
   "cell_type": "code",
   "execution_count": 227,
   "metadata": {},
   "outputs": [
    {
     "data": {
      "text/plain": [
       "0.027577341"
      ]
     },
     "execution_count": 227,
     "metadata": {},
     "output_type": "execute_result"
    }
   ],
   "source": [
    "max(S.items(), key=operator.itemgetter(1))[1]"
   ]
  },
  {
   "cell_type": "code",
   "execution_count": 229,
   "metadata": {},
   "outputs": [
    {
     "data": {
      "text/plain": [
       "('l', 'a', 'l', 'a', 'l', 'a')"
      ]
     },
     "execution_count": 229,
     "metadata": {},
     "output_type": "execute_result"
    }
   ],
   "source": [
    "hello = 'lalala'\n",
    "hello = tuple(hello)\n",
    "hello"
   ]
  },
  {
   "cell_type": "code",
   "execution_count": 213,
   "metadata": {},
   "outputs": [
    {
     "data": {
      "text/plain": [
       "(2, 2)"
      ]
     },
     "execution_count": 213,
     "metadata": {},
     "output_type": "execute_result"
    }
   ],
   "source": [
    "state[1]"
   ]
  },
  {
   "cell_type": "code",
   "execution_count": 185,
   "metadata": {},
   "outputs": [],
   "source": [
    "state = ((0, 2), (2, 2))\n",
    "state1 = ((0, 2), (2, 2))"
   ]
  },
  {
   "cell_type": "code",
   "execution_count": 189,
   "metadata": {},
   "outputs": [
    {
     "data": {
      "text/plain": [
       "True"
      ]
     },
     "execution_count": 189,
     "metadata": {},
     "output_type": "execute_result"
    }
   ],
   "source": [
    "state == state1"
   ]
  },
  {
   "cell_type": "code",
   "execution_count": null,
   "metadata": {},
   "outputs": [],
   "source": []
  }
 ],
 "metadata": {
  "kernelspec": {
   "display_name": "Python 3",
   "language": "python",
   "name": "python3"
  },
  "language_info": {
   "codemirror_mode": {
    "name": "ipython",
    "version": 3
   },
   "file_extension": ".py",
   "mimetype": "text/x-python",
   "name": "python",
   "nbconvert_exporter": "python",
   "pygments_lexer": "ipython3",
   "version": "3.5.4"
  }
 },
 "nbformat": 4,
 "nbformat_minor": 2
}
