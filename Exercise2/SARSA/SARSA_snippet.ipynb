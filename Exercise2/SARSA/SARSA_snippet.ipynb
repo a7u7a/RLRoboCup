{
 "cells": [
  {
   "cell_type": "markdown",
   "metadata": {},
   "source": [
    "### Notebook with test implementations for Exercise 2 SARSA"
   ]
  },
  {
   "cell_type": "markdown",
   "metadata": {},
   "source": [
    "Repo: https://github.com/a7u7a/RLRoboCup\n",
    "Most of these are code snippets used in assignment, usually simulating a step in the episode"
   ]
  },
  {
   "cell_type": "code",
   "execution_count": 15,
   "metadata": {},
   "outputs": [],
   "source": [
    "from collections import defaultdict\n",
    "import numpy as np"
   ]
  },
  {
   "cell_type": "code",
   "execution_count": 23,
   "metadata": {},
   "outputs": [],
   "source": [
    "Q = defaultdict(float)\n",
    "learningRate = 0.1\n",
    "discountFactor = 0.9\n",
    "epsilon= 0.5\n",
    "numTakenActions = 3\n",
    "# state, action, reward, nextState\n",
    "exp = [[(1,1), 'DRIBBLE_UP',1 , (2,2)],[(2,2), 'DRIBBLE_DOWN',0 , (3,3)],[(3,3), 'DRIBBLE_RIGHT',0 , (4,4)],[(4,4), 'DRIBBLE_LEFT',0 , (5,5)]]"
   ]
  },
  {
   "cell_type": "code",
   "execution_count": 25,
   "metadata": {},
   "outputs": [
    {
     "name": "stdout",
     "output_type": "stream",
     "text": [
      "0 1 (1, 1) (2, 2) DRIBBLE_UP DRIBBLE_DOWN 1\n",
      "1 2 (2, 2) (3, 3) DRIBBLE_DOWN DRIBBLE_RIGHT 0\n",
      "2 3 (3, 3) (4, 4) DRIBBLE_RIGHT DRIBBLE_LEFT 0\n"
     ]
    },
    {
     "data": {
      "text/plain": [
       "defaultdict(float,\n",
       "            {(0, (1, 1), 'DRIBBLE_UP'): 0.199,\n",
       "             (1, (2, 2), 'DRIBBLE_DOWN'): 0.0,\n",
       "             (2, (3, 3), 'DRIBBLE_RIGHT'): 0.0,\n",
       "             (3, (4, 4), 'DRIBBLE_LEFT'): 0.0})"
      ]
     },
     "execution_count": 25,
     "metadata": {},
     "output_type": "execute_result"
    }
   ],
   "source": [
    "for item in range(numTakenActions+1):\n",
    "    if item + 1 > numTakenActions :\n",
    "        break\n",
    "    else:\n",
    "        timeStep = item\n",
    "        nextTimeStep = item + 1\n",
    "        \n",
    "        state = exp[item][0]\n",
    "        nextState = exp[item][3]\n",
    "        \n",
    "        action = exp[item][1]\n",
    "        nextAction = exp[item+1][1]\n",
    "        \n",
    "        reward = exp[item][2]\n",
    "        \n",
    "        value = Q[(timeStep,state,action)]\n",
    "        nextvalue = Q[(nextTimeStep, nextState, nextAction)]\n",
    "        \n",
    "        Q[(timeStep,state,action)] = value + learningRate*(reward + discountFactor*value - value)\n",
    "Q"
   ]
  },
  {
   "cell_type": "code",
   "execution_count": 8,
   "metadata": {},
   "outputs": [],
   "source": [
    "Q = {(0,(2,1),'DRIBBLE_UP'): 0.4885}"
   ]
  },
  {
   "cell_type": "code",
   "execution_count": 9,
   "metadata": {},
   "outputs": [],
   "source": [
    "hello = Q[(0,(2,1),'DRIBBLE_UP')]"
   ]
  },
  {
   "cell_type": "code",
   "execution_count": 10,
   "metadata": {},
   "outputs": [
    {
     "data": {
      "text/plain": [
       "0.4885"
      ]
     },
     "execution_count": 10,
     "metadata": {},
     "output_type": "execute_result"
    }
   ],
   "source": [
    "hello"
   ]
  },
  {
   "cell_type": "code",
   "execution_count": null,
   "metadata": {},
   "outputs": [],
   "source": []
  }
 ],
 "metadata": {
  "kernelspec": {
   "display_name": "Python 3",
   "language": "python",
   "name": "python3"
  },
  "language_info": {
   "codemirror_mode": {
    "name": "ipython",
    "version": 3
   },
   "file_extension": ".py",
   "mimetype": "text/x-python",
   "name": "python",
   "nbconvert_exporter": "python",
   "pygments_lexer": "ipython3",
   "version": "3.5.4"
  }
 },
 "nbformat": 4,
 "nbformat_minor": 2
}
